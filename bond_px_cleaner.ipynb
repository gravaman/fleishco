{
 "cells": [
  {
   "cell_type": "code",
   "execution_count": 1,
   "metadata": {},
   "outputs": [],
   "source": [
    "# setup\n",
    "import pandas as pd\n",
    "import numpy as np\n",
    "\n",
    "%load_ext autoreload\n",
    "%autoreload 2"
   ]
  },
  {
   "cell_type": "code",
   "execution_count": 259,
   "metadata": {},
   "outputs": [],
   "source": [
    "# load master file\n",
    "input_mf_path = 'data/master_file.csv'\n",
    "mf_col_names = ['cusip_id', 'bond_sym_id', 'company_symbol', 'debt_type_cd',\n",
    "                'issuer_nm', 'scrty_ds', 'cpn_rt', 'cpn_type_cd',\n",
    "               'trd_rpt_efctv_dt', 'mtrty_dt', 'cnvrb_fl']\n",
    "mf_col_dtypes = dict(cusip_id=str, bond_sym_id=str, company_symbol=str,\n",
    "                  debt_type_cd=str,issuer_nm=str, scrty_ds=str,\n",
    "                  cpn_rt=np.float64, cpn_type_cd=str, cnvrb_fl=str)\n",
    "mf_col_dates = ['trd_rpt_efctv_dt', 'mtrty_dt']\n",
    "dfmf = pd.read_csv(input_mf_path, usecols=mf_col_names, dtype=mf_col_dtypes,\n",
    "                   parse_dates=mf_col_dates)"
   ]
  },
  {
   "cell_type": "code",
   "execution_count": 260,
   "metadata": {},
   "outputs": [],
   "source": [
    "# keep cpn_type_cd FXPV (plain vanilla fixed coupon) and OTH (other)\n",
    "dfmf = dfmf[(dfmf.cpn_type_cd == 'FXPV') | (dfmf.cpn_type_cd == 'OTH')]\n",
    "dfmf = dfmf.drop(['cpn_type_cd'], axis=1)\n",
    "\n",
    "# must have a cusip\n",
    "dfmf = dfmf[~dfmf.cusip_id.isna()]\n",
    "\n",
    "# no converts\n",
    "dfmf = dfmf[~(dfmf.cnvrb_fl == 'Y')].drop(['cnvrb_fl'], axis=1)\n",
    "\n",
    "# exclude specific debt types\n",
    "valid_debt_types = ['1LN-BND', '1LN-NT', '1M-BND', '1M-NT', '1STMTG', '1STMTGNT',\n",
    "                    '2LN-NT', 'B-BND', 'B-BNT', 'B-DEB', 'B-NT', 'BND', 'DEB', 'MTN',\n",
    "                    'NT', 'OTH', 'OTH-BND', 'OTH-NT', 'OTH-OTH', 'S-BND', 'S-BNT',\n",
    "                    'S-DEB', 'S-NT', 'S-OTH', 'SB-NT', 'SBN-NT', 'SC-BND', 'SC-NT',\n",
    "                    'SC-OTH', 'SECNT', 'SR', 'SRDEB', 'SRNT', 'SRSEC', 'SRSUBNT',\n",
    "                    'SSC-BND', 'SSC-COV', 'SSC-NT', 'SUBDEB', 'SUBNT', 'TGNT',\n",
    "                    'UN-BND', 'UN-DEB', 'UN-NT', 'UNNT'\n",
    "                   ]\n",
    "dfmf = dfmf[dfmf.debt_type_cd.isin(valid_debt_types)]\n",
    "\n",
    "# only positive coupon rates\n",
    "dfmf = dfmf[dfmf.cpn_rt > 0]\n",
    "\n",
    "# only credits with coupon rate between 0.25% and 15%\n",
    "dfmf = dfmf[(dfmf.cpn_rt <= 15) & (dfmf.cpn_rt >= 0.25)]\n",
    "\n",
    "# convert maturity date from object to date and drop na\n",
    "dfmf.mtrty_dt = pd.to_datetime(dfmf.mtrty_dt, format='%Y%m%d', errors='coerce')\n",
    "dfmf = dfmf.dropna(subset=['mtrty_dt'])\n",
    "\n",
    "# only credits maturing after 2011-12-31\n",
    "dfmf = dfmf[dfmf.mtrty_dt > '2011-12-31']\n",
    "\n",
    "# reorder columns\n",
    "ordered_mf_cols = ['bond_sym_id', 'cusip_id', 'company_symbol',\n",
    "                   'issuer_nm', 'debt_type_cd', 'scrty_ds',\n",
    "                   'cpn_rt', 'trd_rpt_efctv_dt', 'mtrty_dt']\n",
    "dfmf = dfmf[ordered_mf_cols]"
   ]
  },
  {
   "cell_type": "code",
   "execution_count": 261,
   "metadata": {},
   "outputs": [],
   "source": [
    "# load bond_prices data\n",
    "input_data_path = 'data/bond_prices.csv'\n",
    "\n",
    "# only load relevant columns\n",
    "col_names = ['trans_dt', 'cusip_id', 'sub_prd_type',\n",
    "             'close_pr', 'close_yld_sign_cd', 'close_yld']\n",
    "col_dtypes = dict(cusip_id=str, sub_prd_type=str,\n",
    "                  close_pr=np.float64, close_yld_sign_cd=str,\n",
    "                  close_yld=np.float64)\n",
    "col_dates = ['trans_dt']\n",
    "df = pd.read_csv(input_data_path, usecols=col_names,\n",
    "                 dtype=col_dtypes, parse_dates=col_dates)\n",
    "\n",
    "# only corporate notes\n",
    "df = df[df.sub_prd_type == 'CORP'].drop(columns=['sub_prd_type'])\n",
    "\n",
    "# must have close_yld\n",
    "df = df[df.close_yld > 0]\n",
    "\n",
    "# adjust close_yld for negative sign and must be greater than -5%, less than 200%\n",
    "mask = df.close_yld_sign_cd == '-'\n",
    "df.loc[mask, 'close_yld'] *= -1\n",
    "df = df[(df.close_yld >= -5) & (df.close_yld <= 200)]\n",
    "df = df.drop(columns='close_yld_sign_cd')\n",
    "\n",
    "# closing price must be less than 150\n",
    "df = df[df.close_pr <= 150]"
   ]
  },
  {
   "cell_type": "code",
   "execution_count": 262,
   "metadata": {},
   "outputs": [],
   "source": [
    "# merge two dfs\n",
    "dfout = pd.merge(left=df, right=dfmf, how='inner', left_on='cusip_id', right_on='cusip_id')\n",
    "dfout = dfout.drop_duplicates(subset=['trans_dt', 'cusip_id', 'close_pr'])\n",
    "\n",
    "# only trades with over 2 years remaining life\n",
    "dfout['days_left'] = dfout.mtrty_dt-dfout.trans_dt\n",
    "dfout = dfout[dfout.days_left.dt.days > 730]\n",
    "dfout = dfout.drop(columns=['days_left'])\n",
    "\n",
    "# rename and reorder columns\n",
    "final_col_names = [\n",
    "    'trans_dt', 'trd_rpt_efctv_dt', 'mtrty_dt', 'cusip_id',\n",
    "    'bond_sym_id', 'company_symbol', 'issuer_nm', 'debt_type_cd',\n",
    "    'scrty_ds', 'cpn_rt', 'close_pr', 'close_yld'\n",
    "]\n",
    "\n",
    "dfout = dfout[final_col_names]"
   ]
  },
  {
   "cell_type": "code",
   "execution_count": 267,
   "metadata": {},
   "outputs": [
    {
     "name": "stdout",
     "output_type": "stream",
     "text": [
      "dataframe saved successfully!\n"
     ]
    }
   ],
   "source": [
    "# save to csv\n",
    "out_path = 'data/clean_bond_close_pxs.csv'\n",
    "dfout.to_csv(out_path, index=False)\n",
    "print('dataframe saved successfully!')"
   ]
  }
 ],
 "metadata": {
  "kernelspec": {
   "display_name": "Python 3",
   "language": "python",
   "name": "python3"
  },
  "language_info": {
   "codemirror_mode": {
    "name": "ipython",
    "version": 3
   },
   "file_extension": ".py",
   "mimetype": "text/x-python",
   "name": "python",
   "nbconvert_exporter": "python",
   "pygments_lexer": "ipython3",
   "version": "3.7.6"
  }
 },
 "nbformat": 4,
 "nbformat_minor": 4
}
