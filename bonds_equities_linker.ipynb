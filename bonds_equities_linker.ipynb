{
 "cells": [
  {
   "cell_type": "code",
   "execution_count": 1,
   "metadata": {},
   "outputs": [],
   "source": [
    "# setup\n",
    "import pandas as pd\n",
    "import numpy as np\n",
    "from CalcBenchHandler import CalcBenchHandler as CBH\n",
    "\n",
    "%load_ext autoreload\n",
    "%autoreload 2"
   ]
  },
  {
   "cell_type": "code",
   "execution_count": 158,
   "metadata": {},
   "outputs": [],
   "source": [
    "# load bond trades file and get relevant columns\n",
    "bond_px_path = 'data/bonds/clean_bond_close_pxs.csv'\n",
    "df_pxs = pd.read_csv(bond_px_path)\n",
    "\n",
    "dfcusip = df_pxs[['cusip_id', 'bond_sym_id', 'issuer_nm']]\n",
    "dfcusip = dfcusip.drop_duplicates(subset=['cusip_id'])"
   ]
  },
  {
   "cell_type": "code",
   "execution_count": 159,
   "metadata": {},
   "outputs": [
    {
     "name": "stdout",
     "output_type": "stream",
     "text": [
      "dfcorps saved successfully!\n"
     ]
    }
   ],
   "source": [
    "# load calcbench list of companies\n",
    "corp_path = 'data/ciks/companies.csv'\n",
    "dfcorps = pd.read_csv(corp_path)\n",
    "\n",
    "# cvt to dates\n",
    "dfcorps.most_recent_filing = pd.to_datetime(dfcorps.most_recent_filing)\n",
    "dfcorps.first_filing = pd.to_datetime(dfcorps.first_filing)\n",
    "\n",
    "# filter most recent filing after 2009-12-31 and first filing before 2018-01-01\n",
    "dfcorps = dfcorps[(dfcorps.most_recent_filing > '2009-12-31') &(dfcorps.first_filing <= '2018-01-01')]\n",
    "\n",
    "# at least 2 years of filings available and full year end available\n",
    "dfcorps['filing_days'] = dfcorps.most_recent_filing-dfcorps.first_filing\n",
    "dfcorps = dfcorps[(dfcorps.filing_days.dt.days >= 730)]\n",
    "dfcorps = dfcorps.dropna(subset=['most_recent_full_year_end'])\n",
    "\n",
    "# drop filing date colums\n",
    "dfcorps_cols = ['ticker', 'entity_name', 'entity_id', 'entity_code',\n",
    "                'sic_code', 'naics', 'cik_code', 'naics_code',\n",
    "                'SICGroupMinorGroupTitle']\n",
    "dfcorps = dfcorps[dfcorps_cols]\n",
    "\n",
    "# drop non-focus sics\n",
    "bad_sics = r'glass|dealers|pulp|loan|concrete|gypsum|securities|optic|foundr|ferrous|dental|x-ray|investors|mining|bitum|lignite|coal|opthalm|alum|steel|paint|health|power|advice|chem|patent|patient|facil|plastic|insurance|bank|saving|credit|doctor|medic|surg|pharma|gas|natur|mine|commodity|crude|petroleum|oil|metal|ore|lab|bio|drug|diagnostic'\n",
    "dfcorps = dfcorps[~dfcorps.SICGroupMinorGroupTitle.str.contains(bad_sics, case=False, na=False)]\n",
    "dfcorps = dfcorps.dropna(subset=['SICGroupMinorGroupTitle'])\n",
    "\n",
    "# drop non-focus entities\n",
    "bad_entities = r'apex \\d|mining|liquidating|alternative investment|acquisition|holding|utilities|power|fund|activecare|health|advisor|oxygen|bio|medical|oil|gas|kid doc|mortgage|energy|1847'\n",
    "dfcorps = dfcorps[~dfcorps.entity_name.str.contains(bad_entities, case=False, na=False)]\n",
    "\n",
    "# drop bad tickers\n",
    "dfcorps = dfcorps[(dfcorps.ticker.str.len() > 0) & (dfcorps.ticker.str.len() < 5)]\n",
    "\n",
    "# save list of calcbench corps to drive\n",
    "dfcorps.to_csv('data/ciks/calcbench_companies.csv', index=False)\n",
    "\n",
    "print(f'dfcorps saved successfully!')"
   ]
  },
  {
   "cell_type": "code",
   "execution_count": 160,
   "metadata": {},
   "outputs": [],
   "source": [
    "# load linkers\n",
    "dfbcrsp = pd.read_csv('data/ciks/bondcrsp_link.csv')\n",
    "dftaq = pd.read_csv('data/ciks/taqcrsplink.csv', encoding=\"ISO-8859-1\")\n",
    "\n",
    "# combine taq and bond links\n",
    "dftaq = dftaq.rename(columns={'CUSIP': 'EQUITY_CUSIP'})\n",
    "dftaq = dftaq[['PERMNO', 'EQUITY_CUSIP', 'SYMBOL', 'comnam']]\n",
    "dfbond_taq = pd.merge(left=dfbcrsp, right=dftaq, how='inner', left_on='PERMNO', right_on='PERMNO')\n",
    "dfbond_taq = dfbond_taq.drop_duplicates(subset=['CUSIP', 'PERMNO'])\n",
    "\n",
    "dfcorp_bond_taq = pd.merge(left=dfcorps, right=dfbond_taq, how='inner', left_on='ticker', right_on='SYMBOL')\n",
    "dfcorp_bond_taq = dfcorp_bond_taq.drop_duplicates(subset=['CUSIP', 'PERMNO'])\n",
    "\n",
    "dfcusip2 = pd.merge(left=dfcusip, right=dfbond_taq, how='inner', left_on='cusip_id', right_on='CUSIP')\n",
    "dfcusip2 = dfcusip2.drop_duplicates(subset=['CUSIP', 'PERMNO'])"
   ]
  },
  {
   "cell_type": "code",
   "execution_count": 161,
   "metadata": {},
   "outputs": [
    {
     "name": "stdout",
     "output_type": "stream",
     "text": [
      "dfcusip2 saved successfully!\n"
     ]
    }
   ],
   "source": [
    "# clean up columns and save link\n",
    "colnames = ['cusip_id', 'EQUITY_CUSIP', 'bond_sym_id', 'issuer_nm', 'PERMNO', 'PERMCO', 'SYMBOL']\n",
    "dfout = dfcusip2[colnames]\n",
    "\n",
    "dfout.to_csv('data/ciks/bonds_to_equities_link.csv', index=False)\n",
    "\n",
    "print(f'dfcusip2 saved successfully!')"
   ]
  },
  {
   "cell_type": "code",
   "execution_count": 165,
   "metadata": {},
   "outputs": [
    {
     "data": {
      "text/plain": [
       "array(['A', 'AA', 'RTI', 'AMR', 'LCC'], dtype=object)"
      ]
     },
     "execution_count": 165,
     "metadata": {},
     "output_type": "execute_result"
    }
   ],
   "source": [
    "# get tickers\n",
    "tickers = dfout.SYMBOL.unique()"
   ]
  },
  {
   "cell_type": "code",
   "execution_count": 181,
   "metadata": {},
   "outputs": [
    {
     "name": "stdout",
     "output_type": "stream",
     "text": [
      "\tsave_dir: data/financials\n",
      "\tverbose: True\n"
     ]
    },
    {
     "name": "stderr",
     "output_type": "stream",
     "text": [
      "/home/carbine/miniconda3/envs/fleishco/lib/python3.7/site-packages/calcbench/api_client.py:269: UserWarning: Did not find metrics {'restrictedcashandinvestmentscurrent', 'paymentsofdividendsnoncontrollinginterest', 'secureddebt', 'termloan', 'totalinvestments', 'mediumtermnotes', 'convertibledebt', 'trustpreferredsecurities', 'unsecureddebt', 'longterminvestments', 'mortgagedebt', 'researchanddevelopment', 'subordinateddebt', 'lineofcreditfacilityamountoutstanding', 'paymentsofdividendspreferredstock', 'restructuring'}\n",
      "  warnings.warn(\"Did not find metrics {0}\".format(missing_metrics))\n"
     ]
    },
    {
     "name": "stdout",
     "output_type": "stream",
     "text": [
      "data saved to data/financials/HD.csv\n",
      "1002: HD complete\n"
     ]
    },
    {
     "name": "stderr",
     "output_type": "stream",
     "text": [
      "/home/carbine/miniconda3/envs/fleishco/lib/python3.7/site-packages/calcbench/api_client.py:269: UserWarning: Did not find metrics {'paymentsofdividendsnoncontrollinginterest', 'totalinvestments', 'mediumtermnotes', 'trustpreferredsecurities', 'assetimpairment', 'paymentsofdividendscommonstock', 'longterminvestments', 'mortgagedebt', 'researchanddevelopment', 'availableforsalesecurities', 'convertibledebt', 'commonstockdividendspershare', 'paymentsofdividendspreferredstock', 'paymentsofdividends', 'shortterminvestments'}\n",
      "  warnings.warn(\"Did not find metrics {0}\".format(missing_metrics))\n"
     ]
    },
    {
     "name": "stdout",
     "output_type": "stream",
     "text": [
      "data saved to data/financials/HDS.csv\n",
      "1004: HDS complete\n"
     ]
    },
    {
     "name": "stderr",
     "output_type": "stream",
     "text": [
      "/home/carbine/miniconda3/envs/fleishco/lib/python3.7/site-packages/calcbench/api_client.py:269: UserWarning: Did not find metrics {'restrictedcashandinvestmentscurrent', 'secureddebt', 'totalinvestments', 'sgaexpense', 'paymentsforrepurchaseofcommonstock', 'trustpreferredsecurities', 'depreciationandamortizationexpense', 'longterminvestments', 'stockrepurchasedduringperiodshares', 'researchanddevelopment', 'interestpaidnet', 'stockrepurchasedduringperiodvalue', 'restructuring', 'currentlongtermdebt', 'paymentsofdividendspreferredstock', 'convertibledebt', 'shortterminvestments'}\n",
      "  warnings.warn(\"Did not find metrics {0}\".format(missing_metrics))\n"
     ]
    },
    {
     "name": "stdout",
     "output_type": "stream",
     "text": [
      "data saved to data/financials/HE.csv\n",
      "1006: HE complete\n"
     ]
    },
    {
     "name": "stderr",
     "output_type": "stream",
     "text": [
      "/home/carbine/miniconda3/envs/fleishco/lib/python3.7/site-packages/calcbench/api_client.py:269: UserWarning: Did not find metrics {'secureddebt', 'trustpreferredsecurities', 'paymentsofdividendscommonstock', 'researchanddevelopment', 'availableforsalesecurities', 'currentlongtermdebt', 'paymentsofdividendspreferredstock', 'shortterminvestments', 'assetimpairment', 'mortgagedebt', 'restrictedcashandinvestmentscurrent', 'paymentsofdividendsnoncontrollinginterest', 'termloan', 'totalinvestments', 'mediumtermnotes', 'longterminvestments', 'subordinateddebt', 'restructuring', 'convertibledebt'}\n",
      "  warnings.warn(\"Did not find metrics {0}\".format(missing_metrics))\n"
     ]
    },
    {
     "name": "stdout",
     "output_type": "stream",
     "text": [
      "data saved to data/financials/HEES.csv\n",
      "1007: HEES complete\n"
     ]
    },
    {
     "name": "stderr",
     "output_type": "stream",
     "text": [
      "/home/carbine/miniconda3/envs/fleishco/lib/python3.7/site-packages/calcbench/api_client.py:269: UserWarning: Did not find metrics {'incometaxespaid', 'secureddebt', 'trustpreferredsecurities', 'paymentsofdividendscommonstock', 'researchanddevelopment', 'availableforsalesecurities', 'paymentsofdividendspreferredstock', 'shortterminvestments', 'assetimpairment', 'unsecureddebt', 'mortgagedebt', 'restrictedcashandinvestmentscurrent', 'paymentsofdividendsnoncontrollinginterest', 'termloan', 'totalinvestments', 'mediumtermnotes', 'subordinateddebt', 'operatingexpenseexitems', 'restructuring', 'commonstockdividendspershare', 'convertibledebt'}\n",
      "  warnings.warn(\"Did not find metrics {0}\".format(missing_metrics))\n"
     ]
    },
    {
     "name": "stdout",
     "output_type": "stream",
     "text": [
      "data saved to data/financials/HEP.csv\n",
      "1009: HEP complete\n"
     ]
    },
    {
     "name": "stderr",
     "output_type": "stream",
     "text": [
      "/home/carbine/miniconda3/envs/fleishco/lib/python3.7/site-packages/calcbench/api_client.py:269: UserWarning: Did not find metrics {'secureddebt', 'trustpreferredsecurities', 'paymentsofdividendscommonstock', 'researchanddevelopment', 'currentlongtermdebt', 'paymentsofdividendspreferredstock', 'shortterminvestments', 'seniornotes', 'unsecureddebt', 'mortgagedebt', 'restrictedcashandinvestmentscurrent', 'paymentsofdividendsnoncontrollinginterest', 'termloan', 'totalinvestments', 'mediumtermnotes', 'subordinateddebt', 'longtermdebt', 'totaldebt', 'restructuring', 'convertibledebt'}\n",
      "  warnings.warn(\"Did not find metrics {0}\".format(missing_metrics))\n"
     ]
    },
    {
     "name": "stdout",
     "output_type": "stream",
     "text": [
      "data saved to data/financials/AHC.csv\n",
      "1010: AHC complete\n"
     ]
    },
    {
     "name": "stderr",
     "output_type": "stream",
     "text": [
      "/home/carbine/miniconda3/envs/fleishco/lib/python3.7/site-packages/calcbench/api_client.py:269: UserWarning: Did not find metrics {'incometaxespaid', 'trustpreferredsecurities', 'paymentsofdividendscommonstock', 'researchanddevelopment', 'interestpaidnet', 'availableforsalesecurities', 'lineofcreditfacilityamountoutstanding', 'currentlongtermdebt', 'paymentsofdividendspreferredstock', 'seniornotes', 'acquisitiondivestitures', 'unsecureddebt', 'mortgagedebt', 'paymentsofdividendsnoncontrollinginterest', 'termloan', 'totalinvestments', 'mediumtermnotes', 'longterminvestments', 'subordinateddebt'}\n",
      "  warnings.warn(\"Did not find metrics {0}\".format(missing_metrics))\n"
     ]
    },
    {
     "name": "stdout",
     "output_type": "stream",
     "text": [
      "data saved to data/financials/HA.csv\n",
      "1013: HA complete\n"
     ]
    },
    {
     "name": "stderr",
     "output_type": "stream",
     "text": [
      "/home/carbine/miniconda3/envs/fleishco/lib/python3.7/site-packages/calcbench/api_client.py:269: UserWarning: Did not find metrics {'restrictedcashandinvestmentscurrent', 'paymentsofdividendsnoncontrollinginterest', 'secureddebt', 'termloan', 'sharebasedcompensation', 'totalinvestments', 'mediumtermnotes', 'sgaexpense', 'trustpreferredsecurities', 'unsecureddebt', 'mortgagedebt', 'researchanddevelopment', 'restructuring', 'currentlongtermdebt', 'convertibledebt', 'capitalassetsales'}\n",
      "  warnings.warn(\"Did not find metrics {0}\".format(missing_metrics))\n"
     ]
    },
    {
     "name": "stdout",
     "output_type": "stream",
     "text": [
      "data saved to data/financials/HIG.csv\n",
      "1014: HIG complete\n"
     ]
    },
    {
     "name": "stderr",
     "output_type": "stream",
     "text": [
      "/home/carbine/miniconda3/envs/fleishco/lib/python3.7/site-packages/calcbench/api_client.py:269: UserWarning: Did not find metrics {'restrictedcashandinvestmentscurrent', 'paymentsofdividendsnoncontrollinginterest', 'secureddebt', 'totalinvestments', 'mediumtermnotes', 'convertibledebt', 'trustpreferredsecurities', 'unsecureddebt', 'depreciationandamortizationexpense', 'mortgagedebt', 'longterminvestments', 'availableforsalesecurities', 'subordinateddebt', 'paymentsofdividendspreferredstock', 'restructuring', 'shortterminvestments'}\n",
      "  warnings.warn(\"Did not find metrics {0}\".format(missing_metrics))\n"
     ]
    },
    {
     "name": "stdout",
     "output_type": "stream",
     "text": [
      "data saved to data/financials/HII.csv\n",
      "1015: HII complete\n"
     ]
    },
    {
     "name": "stderr",
     "output_type": "stream",
     "text": [
      "/home/carbine/miniconda3/envs/fleishco/lib/python3.7/site-packages/calcbench/api_client.py:269: UserWarning: Did not find metrics {'incometaxespaid', 'seniornotes', 'totalinvestments', 'mediumtermnotes', 'convertibledebt', 'trustpreferredsecurities', 'mortgagedebt', 'stockrepurchasedduringperiodshares', 'researchanddevelopment', 'incometaxes', 'subordinateddebt', 'currentlongtermdebt', 'restructuring', 'capitalassetsales', 'shortterminvestments'}\n",
      "  warnings.warn(\"Did not find metrics {0}\".format(missing_metrics))\n"
     ]
    },
    {
     "name": "stdout",
     "output_type": "stream",
     "text": [
      "data saved to data/financials/HIW.csv\n",
      "1017: HIW complete\n"
     ]
    },
    {
     "name": "stderr",
     "output_type": "stream",
     "text": [
      "/home/carbine/miniconda3/envs/fleishco/lib/python3.7/site-packages/calcbench/api_client.py:269: UserWarning: Did not find metrics {'incometaxespaid', 'paymentsofdividendsnoncontrollinginterest', 'secureddebt', 'termloan', 'totalinvestments', 'mediumtermnotes', 'convertibledebt', 'trustpreferredsecurities', 'unsecureddebt', 'mortgagedebt', 'interestpaidnet', 'subordinateddebt', 'restructuring'}\n",
      "  warnings.warn(\"Did not find metrics {0}\".format(missing_metrics))\n"
     ]
    },
    {
     "name": "stdout",
     "output_type": "stream",
     "text": [
      "data saved to data/financials/HL.csv\n",
      "1018: HL complete\n"
     ]
    },
    {
     "name": "stderr",
     "output_type": "stream",
     "text": [
      "/home/carbine/miniconda3/envs/fleishco/lib/python3.7/site-packages/calcbench/api_client.py:269: UserWarning: Did not find metrics {'operatingexpenseexitems', 'restrictedcashandinvestmentscurrent', 'paymentsofdividendsnoncontrollinginterest', 'totalinvestments', 'mediumtermnotes', 'trustpreferredsecurities', 'assetimpairment', 'depreciationandamortizationexpense', 'longterminvestments', 'mortgagedebt', 'researchanddevelopment', 'availableforsalesecurities', 'subordinateddebt', 'paymentsofdividendspreferredstock', 'restructuring', 'shortterminvestments'}\n",
      "  warnings.warn(\"Did not find metrics {0}\".format(missing_metrics))\n"
     ]
    },
    {
     "name": "stdout",
     "output_type": "stream",
     "text": [
      "data saved to data/financials/HLF.csv\n",
      "1019: HLF complete\n"
     ]
    },
    {
     "name": "stderr",
     "output_type": "stream",
     "text": [
      "/home/carbine/miniconda3/envs/fleishco/lib/python3.7/site-packages/calcbench/api_client.py:269: UserWarning: Did not find metrics {'restrictedcashandinvestmentscurrent', 'paymentsofdividendsnoncontrollinginterest', 'seniornotes', 'termloan', 'totalinvestments', 'mediumtermnotes', 'trustpreferredsecurities', 'assetimpairment', 'paymentsofdividendscommonstock', 'unsecureddebt', 'mortgagedebt', 'longterminvestments', 'subordinateddebt', 'commonstockdividendspershare', 'paymentsofdividendspreferredstock', 'paymentsofdividends', 'capitalassetsales'}\n",
      "  warnings.warn(\"Did not find metrics {0}\".format(missing_metrics))\n"
     ]
    },
    {
     "name": "stdout",
     "output_type": "stream",
     "text": [
      "data saved to data/financials/HLIT.csv\n",
      "1020: HLIT complete\n"
     ]
    },
    {
     "name": "stderr",
     "output_type": "stream",
     "text": [
      "/home/carbine/miniconda3/envs/fleishco/lib/python3.7/site-packages/calcbench/api_client.py:269: UserWarning: Did not find metrics {'operatingexpenseexitems', 'totalinvestments', 'mediumtermnotes', 'trustpreferredsecurities', 'paymentsforrepurchaseofcommonstock', 'paymentsofdividendscommonstock', 'assetimpairment', 'mortgagedebt', 'longterminvestments', 'stockrepurchasedduringperiodshares', 'researchanddevelopment', 'stockrepurchasedduringperiodvalue', 'restructuring', 'commonstockdividendspershare', 'paymentsofdividendspreferredstock', 'paymentsofdividends'}\n",
      "  warnings.warn(\"Did not find metrics {0}\".format(missing_metrics))\n"
     ]
    },
    {
     "name": "stdout",
     "output_type": "stream",
     "text": [
      "data saved to data/financials/HMA.csv\n",
      "1021: HMA complete\n"
     ]
    },
    {
     "name": "stderr",
     "output_type": "stream",
     "text": [
      "/home/carbine/miniconda3/envs/fleishco/lib/python3.7/site-packages/calcbench/api_client.py:269: UserWarning: Did not find metrics {'capex', 'secureddebt', 'sgaexpense', 'trustpreferredsecurities', 'researchanddevelopment', 'currentlongtermdebt', 'paymentsofdividendspreferredstock', 'shortterminvestments', 'unsecureddebt', 'mortgagedebt', 'ppe', 'depreciationamortization', 'restrictedcashandinvestmentscurrent', 'paymentsofdividendsnoncontrollinginterest', 'termloan', 'capexgross', 'totalinvestments', 'mediumtermnotes', 'subordinateddebt', 'operatingexpenseexitems', 'sharebasedcompensation', 'restructuring', 'convertibledebt', 'capitalassetsales'}\n",
      "  warnings.warn(\"Did not find metrics {0}\".format(missing_metrics))\n"
     ]
    },
    {
     "name": "stdout",
     "output_type": "stream",
     "text": [
      "data saved to data/financials/HMN.csv\n",
      "1024: HMN complete\n"
     ]
    },
    {
     "name": "stderr",
     "output_type": "stream",
     "text": [
      "/home/carbine/miniconda3/envs/fleishco/lib/python3.7/site-packages/calcbench/api_client.py:269: UserWarning: Did not find metrics {'secureddebt', 'trustpreferredsecurities', 'paymentsofdividendscommonstock', 'researchanddevelopment', 'lineofcreditfacilityamountoutstanding', 'currentlongtermdebt', 'paymentsofdividendspreferredstock', 'shortterminvestments', 'assetimpairment', 'unsecureddebt', 'restrictedcashandinvestmentscurrent', 'paymentsofdividendsnoncontrollinginterest', 'termloan', 'totalinvestments', 'mediumtermnotes', 'longterminvestments', 'operatingexpenseexitems', 'restructuring', 'convertibledebt'}\n",
      "  warnings.warn(\"Did not find metrics {0}\".format(missing_metrics))\n"
     ]
    },
    {
     "name": "stdout",
     "output_type": "stream",
     "text": [
      "data saved to data/financials/HMST.csv\n",
      "1025: HMST complete\n"
     ]
    },
    {
     "name": "stderr",
     "output_type": "stream",
     "text": [
      "/home/carbine/miniconda3/envs/fleishco/lib/python3.7/site-packages/calcbench/api_client.py:269: UserWarning: Did not find metrics {'incometaxespaid', 'commonstockdividendspershare', 'paymentsofdividendsnoncontrollinginterest', 'totalinvestments', 'mediumtermnotes', 'trustpreferredsecurities', 'paymentsofdividendscommonstock', 'unsecureddebt', 'mortgagedebt', 'longterminvestments', 'interestpaidnet', 'stockrepurchasedduringperiodvalue', 'subordinateddebt', 'lineofcreditfacilityamountoutstanding', 'paymentsofdividendspreferredstock', 'paymentsofdividends'}\n",
      "  warnings.warn(\"Did not find metrics {0}\".format(missing_metrics))\n"
     ]
    },
    {
     "name": "stdout",
     "output_type": "stream",
     "text": [
      "data saved to data/financials/HOLX.csv\n",
      "1027: HOLX complete\n"
     ]
    },
    {
     "name": "stderr",
     "output_type": "stream",
     "text": [
      "/home/carbine/miniconda3/envs/fleishco/lib/python3.7/site-packages/calcbench/api_client.py:269: UserWarning: Did not find metrics {'secureddebt', 'trustpreferredsecurities', 'paymentsforrepurchaseofcommonstock', 'paymentsofdividendscommonstock', 'researchanddevelopment', 'availableforsalesecurities', 'paymentsofdividendspreferredstock', 'paymentsofdividends', 'shortterminvestments', 'acquisitiondivestitures', 'assetimpairment', 'unsecureddebt', 'mortgagedebt', 'stockrepurchasedduringperiodvalue', 'restrictedcashandinvestmentscurrent', 'paymentsofdividendsnoncontrollinginterest', 'termloan', 'totalinvestments', 'mediumtermnotes', 'longterminvestments', 'subordinateddebt', 'operatingexpenseexitems', 'stockrepurchasedduringperiodshares', 'restructuring', 'commonstockdividendspershare'}\n",
      "  warnings.warn(\"Did not find metrics {0}\".format(missing_metrics))\n"
     ]
    },
    {
     "name": "stdout",
     "output_type": "stream",
     "text": [
      "data saved to data/financials/HOS.csv\n",
      "1029: HOS complete\n"
     ]
    },
    {
     "name": "stderr",
     "output_type": "stream",
     "text": [
      "/home/carbine/miniconda3/envs/fleishco/lib/python3.7/site-packages/calcbench/api_client.py:269: UserWarning: Did not find metrics {'paymentsofdividendsnoncontrollinginterest', 'termloan', 'totalinvestments', 'mediumtermnotes', 'trustpreferredsecurities', 'assetimpairment', 'unsecureddebt', 'mortgagedebt', 'researchanddevelopment', 'subordinateddebt', 'paymentsofdividendspreferredstock', 'convertibledebt', 'capitalassetsales', 'shortterminvestments'}\n",
      "  warnings.warn(\"Did not find metrics {0}\".format(missing_metrics))\n"
     ]
    },
    {
     "name": "stdout",
     "output_type": "stream",
     "text": [
      "data saved to data/financials/HOT.csv\n",
      "1030: HOT complete\n"
     ]
    },
    {
     "name": "stderr",
     "output_type": "stream",
     "text": [
      "/home/carbine/miniconda3/envs/fleishco/lib/python3.7/site-packages/calcbench/api_client.py:269: UserWarning: Did not find metrics {'commonstockdividendspershare', 'paymentsofdividendsnoncontrollinginterest', 'termloan', 'totalinvestments', 'mediumtermnotes', 'trustpreferredsecurities', 'paymentsofdividendscommonstock', 'unsecureddebt', 'mortgagedebt', 'longterminvestments', 'stockrepurchasedduringperiodshares', 'researchanddevelopment', 'stockrepurchasedduringperiodvalue', 'subordinateddebt', 'lineofcreditfacilityamountoutstanding', 'paymentsofdividendspreferredstock', 'paymentsofdividends', 'restructuring'}\n",
      "  warnings.warn(\"Did not find metrics {0}\".format(missing_metrics))\n"
     ]
    },
    {
     "name": "stdout",
     "output_type": "stream",
     "text": [
      "data saved to data/financials/MARA.csv\n",
      "1031: MARA complete\n"
     ]
    },
    {
     "name": "stderr",
     "output_type": "stream",
     "text": [
      "/home/carbine/miniconda3/envs/fleishco/lib/python3.7/site-packages/calcbench/api_client.py:269: UserWarning: Did not find metrics {'incometaxespaid', 'paymentsofdividendsnoncontrollinginterest', 'totalinvestments', 'mediumtermnotes', 'trustpreferredsecurities', 'longterminvestments', 'mortgagedebt', 'researchanddevelopment', 'interestpaidnet', 'subordinateddebt', 'currentlongtermdebt', 'restructuring', 'capitalassetsales', 'shortterminvestments'}\n",
      "  warnings.warn(\"Did not find metrics {0}\".format(missing_metrics))\n"
     ]
    },
    {
     "name": "stdout",
     "output_type": "stream",
     "text": [
      "data saved to data/financials/STAR.csv\n",
      "1032: STAR complete\n"
     ]
    },
    {
     "name": "stderr",
     "output_type": "stream",
     "text": [
      "/home/carbine/miniconda3/envs/fleishco/lib/python3.7/site-packages/calcbench/api_client.py:269: UserWarning: Did not find metrics {'incometaxespaid', 'restrictedcashandinvestmentscurrent', 'paymentsofdividendsnoncontrollinginterest', 'secureddebt', 'totalinvestments', 'trustpreferredsecurities', 'paymentsofdividendscommonstock', 'unsecureddebt', 'mortgagedebt', 'longterminvestments', 'stockrepurchasedduringperiodshares', 'researchanddevelopment', 'availableforsalesecurities', 'subordinateddebt', 'paymentsofdividendspreferredstock', 'convertibledebt', 'shortterminvestments'}\n",
      "  warnings.warn(\"Did not find metrics {0}\".format(missing_metrics))\n"
     ]
    },
    {
     "name": "stdout",
     "output_type": "stream",
     "text": [
      "data saved to data/financials/SPLS.csv\n",
      "1033: SPLS complete\n"
     ]
    },
    {
     "name": "stderr",
     "output_type": "stream",
     "text": [
      "/home/carbine/miniconda3/envs/fleishco/lib/python3.7/site-packages/calcbench/api_client.py:269: UserWarning: Did not find metrics {'paymentsofdividendsnoncontrollinginterest', 'totalinvestments', 'mediumtermnotes', 'convertibledebt', 'trustpreferredsecurities', 'assetimpairment', 'paymentsofdividendscommonstock', 'depreciationandamortizationexpense', 'researchanddevelopment', 'restructuring', 'commonstockdividendspershare', 'currentlongtermdebt', 'paymentsofdividendspreferredstock', 'paymentsofdividends', 'shortterminvestments'}\n",
      "  warnings.warn(\"Did not find metrics {0}\".format(missing_metrics))\n"
     ]
    },
    {
     "name": "stdout",
     "output_type": "stream",
     "text": [
      "data saved to data/financials/HOV.csv\n",
      "1034: HOV complete\n"
     ]
    },
    {
     "name": "stderr",
     "output_type": "stream",
     "text": [
      "/home/carbine/miniconda3/envs/fleishco/lib/python3.7/site-packages/calcbench/api_client.py:269: UserWarning: Did not find metrics {'restrictedcashandinvestmentscurrent', 'paymentsofdividendsnoncontrollinginterest', 'secureddebt', 'termloan', 'totalinvestments', 'mediumtermnotes', 'convertibledebt', 'trustpreferredsecurities', 'mortgagedebt', 'subordinateddebt', 'paymentsofdividendspreferredstock', 'restructuring'}\n",
      "  warnings.warn(\"Did not find metrics {0}\".format(missing_metrics))\n"
     ]
    },
    {
     "name": "stdout",
     "output_type": "stream",
     "text": [
      "data saved to data/financials/HP.csv\n",
      "1035: HP complete\n"
     ]
    },
    {
     "name": "stderr",
     "output_type": "stream",
     "text": [
      "/home/carbine/miniconda3/envs/fleishco/lib/python3.7/site-packages/calcbench/api_client.py:269: UserWarning: Did not find metrics {'incometaxespaid', 'paymentsofdividendsnoncontrollinginterest', 'totalinvestments', 'mediumtermnotes', 'convertibledebt', 'trustpreferredsecurities', 'mortgagedebt', 'researchanddevelopment', 'incometaxes', 'subordinateddebt', 'currentlongtermdebt', 'restructuring', 'capitalassetsales', 'shortterminvestments'}\n",
      "  warnings.warn(\"Did not find metrics {0}\".format(missing_metrics))\n"
     ]
    },
    {
     "name": "stdout",
     "output_type": "stream",
     "text": [
      "data saved to data/financials/HPP.csv\n",
      "1036: HPP complete\n"
     ]
    },
    {
     "name": "stderr",
     "output_type": "stream",
     "text": [
      "/home/carbine/miniconda3/envs/fleishco/lib/python3.7/site-packages/calcbench/api_client.py:269: UserWarning: Did not find metrics {'totalinvestments', 'convertibledebt', 'trustpreferredsecurities', 'longterminvestments', 'stockrepurchasedduringperiodshares', 'researchanddevelopment', 'incometaxes', 'subordinateddebt', 'currentlongtermdebt', 'paymentsofdividendspreferredstock', 'restructuring', 'shortterminvestments'}\n",
      "  warnings.warn(\"Did not find metrics {0}\".format(missing_metrics))\n"
     ]
    },
    {
     "name": "stdout",
     "output_type": "stream",
     "text": [
      "data saved to data/financials/HR.csv\n",
      "1038: HR complete\n"
     ]
    },
    {
     "name": "stderr",
     "output_type": "stream",
     "text": [
      "/home/carbine/miniconda3/envs/fleishco/lib/python3.7/site-packages/calcbench/api_client.py:269: UserWarning: Did not find metrics {'paymentsofdividendsnoncontrollinginterest', 'secureddebt', 'totalinvestments', 'mediumtermnotes', 'convertibledebt', 'trustpreferredsecurities', 'paymentsofdividendscommonstock', 'unsecureddebt', 'mortgagedebt', 'researchanddevelopment', 'subordinateddebt', 'paymentsofdividendspreferredstock', 'restructuring', 'capitalassetsales'}\n",
      "  warnings.warn(\"Did not find metrics {0}\".format(missing_metrics))\n"
     ]
    },
    {
     "name": "stdout",
     "output_type": "stream",
     "text": [
      "data saved to data/financials/HRB.csv\n",
      "1039: HRB complete\n"
     ]
    },
    {
     "name": "stderr",
     "output_type": "stream",
     "text": [
      "/home/carbine/miniconda3/envs/fleishco/lib/python3.7/site-packages/calcbench/api_client.py:269: UserWarning: Did not find metrics {'incometaxespaid', 'restrictedcashandinvestmentscurrent', 'secureddebt', 'seniornotes', 'termloan', 'totalinvestments', 'mediumtermnotes', 'convertibledebt', 'trustpreferredsecurities', 'unsecureddebt', 'depreciationandamortizationexpense', 'mortgagedebt', 'interestpaidnet', 'subordinateddebt', 'paymentsofdividendspreferredstock', 'restructuring'}\n",
      "  warnings.warn(\"Did not find metrics {0}\".format(missing_metrics))\n"
     ]
    },
    {
     "name": "stdout",
     "output_type": "stream",
     "text": [
      "data saved to data/financials/HRL.csv\n",
      "1040: HRL complete\n"
     ]
    },
    {
     "name": "stderr",
     "output_type": "stream",
     "text": [
      "/home/carbine/miniconda3/envs/fleishco/lib/python3.7/site-packages/calcbench/api_client.py:269: UserWarning: Did not find metrics {'incometaxespaid', 'secureddebt', 'sharebasedcompensation', 'totalinvestments', 'mediumtermnotes', 'convertibledebt', 'trustpreferredsecurities', 'depreciationandamortizationexpense', 'mortgagedebt', 'interestpaidnet', 'subordinateddebt', 'paymentsofdividendspreferredstock', 'restructuring', 'shortterminvestments'}\n",
      "  warnings.warn(\"Did not find metrics {0}\".format(missing_metrics))\n"
     ]
    },
    {
     "name": "stdout",
     "output_type": "stream",
     "text": [
      "data saved to data/financials/HSC.csv\n",
      "1041: HSC complete\n"
     ]
    },
    {
     "name": "stderr",
     "output_type": "stream",
     "text": [
      "/home/carbine/miniconda3/envs/fleishco/lib/python3.7/site-packages/calcbench/api_client.py:269: UserWarning: Did not find metrics {'restrictedcashandinvestmentscurrent', 'paymentsofdividendsnoncontrollinginterest', 'secureddebt', 'seniornotes', 'termloan', 'totalinvestments', 'mediumtermnotes', 'trustpreferredsecurities', 'unsecureddebt', 'depreciationandamortizationexpense', 'mortgagedebt', 'longterminvestments', 'availableforsalesecurities', 'subordinateddebt', 'paymentsofdividendspreferredstock', 'convertibledebt'}\n",
      "  warnings.warn(\"Did not find metrics {0}\".format(missing_metrics))\n"
     ]
    },
    {
     "name": "stdout",
     "output_type": "stream",
     "text": [
      "data saved to data/financials/HSY.csv\n",
      "1042: HSY complete\n"
     ]
    },
    {
     "name": "stderr",
     "output_type": "stream",
     "text": [
      "/home/carbine/miniconda3/envs/fleishco/lib/python3.7/site-packages/calcbench/api_client.py:269: UserWarning: Did not find metrics {'totalinvestments', 'mediumtermnotes', 'convertibledebt', 'trustpreferredsecurities', 'researchanddevelopment', 'incometaxes', 'subordinateddebt', 'currentlongtermdebt', 'paymentsofdividendspreferredstock', 'restructuring', 'capitalassetsales', 'shortterminvestments'}\n",
      "  warnings.warn(\"Did not find metrics {0}\".format(missing_metrics))\n"
     ]
    },
    {
     "name": "stdout",
     "output_type": "stream",
     "text": [
      "data saved to data/financials/HTA.csv\n",
      "1043: HTA complete\n"
     ]
    },
    {
     "name": "stderr",
     "output_type": "stream",
     "text": [
      "/home/carbine/miniconda3/envs/fleishco/lib/python3.7/site-packages/calcbench/api_client.py:269: UserWarning: Did not find metrics {'paymentsofdividendsnoncontrollinginterest', 'totalinvestments', 'acquisitiondivestitures', 'mediumtermnotes', 'trustpreferredsecurities', 'paymentsforrepurchaseofcommonstock', 'paymentsofdividendscommonstock', 'unsecureddebt', 'mortgagedebt', 'depreciationandamortizationexpense', 'longterminvestments', 'stockrepurchasedduringperiodshares', 'stockrepurchasedduringperiodvalue', 'commonstockdividendspershare', 'paymentsofdividendspreferredstock', 'paymentsofdividends'}\n",
      "  warnings.warn(\"Did not find metrics {0}\".format(missing_metrics))\n"
     ]
    },
    {
     "name": "stdout",
     "output_type": "stream",
     "text": [
      "data saved to data/financials/HTCH.csv\n",
      "1044: HTCH complete\n"
     ]
    },
    {
     "name": "stderr",
     "output_type": "stream",
     "text": [
      "/home/carbine/miniconda3/envs/fleishco/lib/python3.7/site-packages/calcbench/api_client.py:269: UserWarning: Did not find metrics {'incometaxespaid', 'secureddebt', 'trustpreferredsecurities', 'paymentsofdividendscommonstock', 'interestpaidnet', 'availableforsalesecurities', 'paymentsofdividendspreferredstock', 'paymentsofdividends', 'shortterminvestments', 'seniornotes', 'unsecureddebt', 'mortgagedebt', 'restrictedcashandinvestmentscurrent', 'totalinvestments', 'mediumtermnotes', 'longterminvestments', 'subordinateddebt', 'convertibledebt', 'commonstockdividendspershare', 'capitalassetsales'}\n",
      "  warnings.warn(\"Did not find metrics {0}\".format(missing_metrics))\n"
     ]
    },
    {
     "name": "stdout",
     "output_type": "stream",
     "text": [
      "data saved to data/financials/ARC.csv\n",
      "1046: ARC complete\n"
     ]
    },
    {
     "name": "stderr",
     "output_type": "stream",
     "text": [
      "/home/carbine/miniconda3/envs/fleishco/lib/python3.7/site-packages/calcbench/api_client.py:269: UserWarning: Did not find metrics {'restrictedcashandinvestmentscurrent', 'paymentsofdividendsnoncontrollinginterest', 'secureddebt', 'termloan', 'totalinvestments', 'mediumtermnotes', 'paymentsofdividendscommonstock', 'unsecureddebt', 'mortgagedebt', 'longterminvestments', 'researchanddevelopment', 'subordinateddebt', 'currentlongtermdebt', 'paymentsofdividendspreferredstock', 'convertibledebt', 'shortterminvestments'}\n",
      "  warnings.warn(\"Did not find metrics {0}\".format(missing_metrics))\n"
     ]
    },
    {
     "name": "stdout",
     "output_type": "stream",
     "text": [
      "data saved to data/financials/HTLF.csv\n",
      "1047: HTLF complete\n"
     ]
    },
    {
     "name": "stderr",
     "output_type": "stream",
     "text": [
      "/home/carbine/miniconda3/envs/fleishco/lib/python3.7/site-packages/calcbench/api_client.py:269: UserWarning: Did not find metrics {'incometaxespaid', 'secureddebt', 'trustpreferredsecurities', 'paymentsforrepurchaseofcommonstock', 'paymentsofdividendscommonstock', 'interestpaidnet', 'lineofcreditfacilityamountoutstanding', 'paymentsofdividendspreferredstock', 'paymentsofdividends', 'unsecureddebt', 'mortgagedebt', 'stockrepurchasedduringperiodvalue', 'restrictedcashandinvestmentscurrent', 'paymentsofdividendsnoncontrollinginterest', 'termloan', 'totalinvestments', 'mediumtermnotes', 'depreciationandamortizationexpense', 'subordinateddebt', 'stockrepurchasedduringperiodshares', 'restructuring', 'commonstockdividendspershare', 'capitalassetsales'}\n",
      "  warnings.warn(\"Did not find metrics {0}\".format(missing_metrics))\n"
     ]
    },
    {
     "name": "stdout",
     "output_type": "stream",
     "text": [
      "data saved to data/financials/HTWR.csv\n",
      "1049: HTWR complete\n"
     ]
    },
    {
     "name": "stderr",
     "output_type": "stream",
     "text": [
      "/home/carbine/miniconda3/envs/fleishco/lib/python3.7/site-packages/calcbench/api_client.py:269: UserWarning: Did not find metrics {'paymentsofdividendsnoncontrollinginterest', 'totalinvestments', 'trustpreferredsecurities', 'paymentsofdividendscommonstock', 'unsecureddebt', 'mortgagedebt', 'longterminvestments', 'researchanddevelopment', 'subordinateddebt', 'commonstockdividendspershare', 'currentlongtermdebt', 'paymentsofdividendspreferredstock', 'restructuring', 'shortterminvestments'}\n",
      "  warnings.warn(\"Did not find metrics {0}\".format(missing_metrics))\n"
     ]
    },
    {
     "name": "stdout",
     "output_type": "stream",
     "text": [
      "data saved to data/financials/HTZ.csv\n",
      "1050: HTZ complete\n"
     ]
    },
    {
     "name": "stderr",
     "output_type": "stream",
     "text": [
      "/home/carbine/miniconda3/envs/fleishco/lib/python3.7/site-packages/calcbench/api_client.py:269: UserWarning: Did not find metrics {'incometaxespaid', 'secureddebt', 'trustpreferredsecurities', 'researchanddevelopment', 'interestpaidnet', 'currentlongtermdebt', 'paymentsofdividendspreferredstock', 'assetimpairment', 'unsecureddebt', 'mortgagedebt', 'restrictedcashandinvestmentscurrent', 'totalinvestments', 'mediumtermnotes', 'depreciationandamortizationexpense', 'subordinateddebt', 'restructuring', 'operatingexpenseexitems', 'stockrepurchasedduringperiodshares', 'convertibledebt'}\n",
      "  warnings.warn(\"Did not find metrics {0}\".format(missing_metrics))\n"
     ]
    },
    {
     "name": "stdout",
     "output_type": "stream",
     "text": [
      "data saved to data/financials/HUBB.csv\n",
      "1052: HUBB complete\n"
     ]
    },
    {
     "name": "stderr",
     "output_type": "stream",
     "text": [
      "/home/carbine/miniconda3/envs/fleishco/lib/python3.7/site-packages/calcbench/api_client.py:269: UserWarning: Did not find metrics {'operatingexpenseexitems', 'restrictedcashandinvestmentscurrent', 'paymentsofdividendsnoncontrollinginterest', 'secureddebt', 'termloan', 'totalinvestments', 'mediumtermnotes', 'convertibledebt', 'trustpreferredsecurities', 'assetimpairment', 'paymentsofdividendscommonstock', 'unsecureddebt', 'mortgagedebt', 'researchanddevelopment', 'subordinateddebt', 'paymentsofdividendspreferredstock', 'restructuring'}\n",
      "  warnings.warn(\"Did not find metrics {0}\".format(missing_metrics))\n"
     ]
    },
    {
     "name": "stdout",
     "output_type": "stream",
     "text": [
      "data saved to data/financials/HUM.csv\n",
      "1053: HUM complete\n"
     ]
    },
    {
     "name": "stderr",
     "output_type": "stream",
     "text": [
      "/home/carbine/miniconda3/envs/fleishco/lib/python3.7/site-packages/calcbench/api_client.py:269: UserWarning: Did not find metrics {'secureddebt', 'totalinvestments', 'mediumtermnotes', 'trustpreferredsecurities', 'assetimpairment', 'unsecureddebt', 'depreciationandamortizationexpense', 'mortgagedebt', 'availableforsalesecurities', 'convertibledebt', 'paymentsofdividendspreferredstock', 'shortterminvestments'}\n",
      "  warnings.warn(\"Did not find metrics {0}\".format(missing_metrics))\n"
     ]
    },
    {
     "name": "stdout",
     "output_type": "stream",
     "text": [
      "data saved to data/financials/HUN.csv\n",
      "1054: HUN complete\n"
     ]
    },
    {
     "name": "stderr",
     "output_type": "stream",
     "text": [
      "/home/carbine/miniconda3/envs/fleishco/lib/python3.7/site-packages/calcbench/api_client.py:269: UserWarning: Did not find metrics {'incometaxespaid', 'trustpreferredsecurities', 'paymentsforrepurchaseofcommonstock', 'paymentsofdividendscommonstock', 'researchanddevelopment', 'interestpaidnet', 'availableforsalesecurities', 'paymentsofdividendspreferredstock', 'paymentsofdividends', 'shortterminvestments', 'unsecureddebt', 'mortgagedebt', 'restrictedcashandinvestmentscurrent', 'paymentsofdividendsnoncontrollinginterest', 'termloan', 'totalinvestments', 'mediumtermnotes', 'subordinateddebt', 'commonstockdividendspershare', 'capitalassetsales'}\n",
      "  warnings.warn(\"Did not find metrics {0}\".format(missing_metrics))\n"
     ]
    },
    {
     "name": "stdout",
     "output_type": "stream",
     "text": [
      "data saved to data/financials/HURN.csv\n",
      "1055: HURN complete\n"
     ]
    },
    {
     "name": "stderr",
     "output_type": "stream",
     "text": [
      "/home/carbine/miniconda3/envs/fleishco/lib/python3.7/site-packages/calcbench/api_client.py:269: UserWarning: Did not find metrics {'incometaxespaid', 'operatingexpenseexitems', 'restrictedcashandinvestmentscurrent', 'paymentsofdividendsnoncontrollinginterest', 'totalinvestments', 'mediumtermnotes', 'trustpreferredsecurities', 'assetimpairment', 'depreciationandamortizationexpense', 'mortgagedebt', 'interestpaidnet', 'availableforsalesecurities', 'restructuring', 'paymentsofdividendspreferredstock', 'convertibledebt', 'capitalassetsales', 'shortterminvestments'}\n",
      "  warnings.warn(\"Did not find metrics {0}\".format(missing_metrics))\n"
     ]
    },
    {
     "name": "stdout",
     "output_type": "stream",
     "text": [
      "data saved to data/financials/HXL.csv\n",
      "1057: HXL complete\n"
     ]
    },
    {
     "name": "stderr",
     "output_type": "stream",
     "text": [
      "/home/carbine/miniconda3/envs/fleishco/lib/python3.7/site-packages/calcbench/api_client.py:269: UserWarning: Did not find metrics {'paymentsofdividendsnoncontrollinginterest', 'totalinvestments', 'stockrepurchasedduringperiodvalue', 'mediumtermnotes', 'trustpreferredsecurities', 'paymentsofdividendscommonstock', 'unsecureddebt', 'mortgagedebt', 'depreciationandamortizationexpense', 'stockrepurchasedduringperiodshares', 'availableforsalesecurities', 'subordinateddebt', 'commonstockdividendspershare', 'paymentsofdividendspreferredstock', 'paymentsofdividends', 'restructuring', 'shortterminvestments'}\n",
      "  warnings.warn(\"Did not find metrics {0}\".format(missing_metrics))\n"
     ]
    },
    {
     "name": "stdout",
     "output_type": "stream",
     "text": [
      "data saved to data/financials/HZNP.csv\n",
      "1060: HZNP complete\n"
     ]
    },
    {
     "name": "stderr",
     "output_type": "stream",
     "text": [
      "/home/carbine/miniconda3/envs/fleishco/lib/python3.7/site-packages/calcbench/api_client.py:269: UserWarning: Did not find metrics {'incometaxespaid', 'secureddebt', 'trustpreferredsecurities', 'paymentsforrepurchaseofcommonstock', 'paymentsofdividendscommonstock', 'sharesoutstandingendofperiod', 'avgdilutedsharesoutstanding', 'researchanddevelopment', 'interestpaidnet', 'availableforsalesecurities', 'lineofcreditfacilityamountoutstanding', 'currentlongtermdebt', 'paymentsofdividendspreferredstock', 'paymentsofdividends', 'shortterminvestments', 'seniornotes', 'acquisitiondivestitures', 'assetimpairment', 'unsecureddebt', 'mortgagedebt', 'stockrepurchasedduringperiodvalue', 'restrictedcashandinvestmentscurrent', 'termloan', 'totalinvestments', 'mediumtermnotes', 'longterminvestments', 'subordinateddebt', 'avgsharesoutstandingbasic', 'operatingexpenseexitems', 'earnings_release_date', 'ebitda', 'totaldebt', 'stockrepurchasedduringperiodshares', 'restructuring', 'commonstockdividendspershare', 'convertibledebt', 'capitalassetsales'}\n",
      "  warnings.warn(\"Did not find metrics {0}\".format(missing_metrics))\n"
     ]
    },
    {
     "name": "stdout",
     "output_type": "stream",
     "text": [
      "data saved to data/financials/I.csv\n",
      "1061: I complete\n"
     ]
    },
    {
     "name": "stderr",
     "output_type": "stream",
     "text": [
      "/home/carbine/miniconda3/envs/fleishco/lib/python3.7/site-packages/calcbench/api_client.py:269: UserWarning: Did not find metrics {'incometaxespaid', 'paymentsofdividendsnoncontrollinginterest', 'totalinvestments', 'mediumtermnotes', 'trustpreferredsecurities', 'paymentsofdividendscommonstock', 'unsecureddebt', 'mortgagedebt', 'longterminvestments', 'interestpaidnet', 'availableforsalesecurities', 'subordinateddebt', 'commonstockdividendspershare', 'paymentsofdividendspreferredstock', 'paymentsofdividends', 'restructuring'}\n",
      "  warnings.warn(\"Did not find metrics {0}\".format(missing_metrics))\n"
     ]
    },
    {
     "name": "stdout",
     "output_type": "stream",
     "text": [
      "data saved to data/financials/IART.csv\n",
      "1063: IART complete\n"
     ]
    },
    {
     "name": "stderr",
     "output_type": "stream",
     "text": [
      "/home/carbine/miniconda3/envs/fleishco/lib/python3.7/site-packages/calcbench/api_client.py:269: UserWarning: Did not find metrics {'incometaxespaid', 'secureddebt', 'trustpreferredsecurities', 'interestpaidnet', 'paymentsofdividendspreferredstock', 'seniornotes', 'assetimpairment', 'unsecureddebt', 'mortgagedebt', 'restrictedcashandinvestmentscurrent', 'paymentsofdividendsnoncontrollinginterest', 'termloan', 'totalinvestments', 'mediumtermnotes', 'depreciationandamortizationexpense', 'longterminvestments', 'subordinateddebt', 'operatingexpenseexitems', 'restructuring', 'convertibledebt'}\n",
      "  warnings.warn(\"Did not find metrics {0}\".format(missing_metrics))\n"
     ]
    },
    {
     "name": "stdout",
     "output_type": "stream",
     "text": [
      "data saved to data/financials/IBM.csv\n",
      "1065: IBM complete\n"
     ]
    },
    {
     "name": "stderr",
     "output_type": "stream",
     "text": [
      "/home/carbine/miniconda3/envs/fleishco/lib/python3.7/site-packages/calcbench/api_client.py:269: UserWarning: Did not find metrics {'restrictedcashandinvestmentscurrent', 'paymentsofdividendsnoncontrollinginterest', 'secureddebt', 'seniornotes', 'termloan', 'totalinvestments', 'mediumtermnotes', 'unsecureddebt', 'longterminvestments', 'mortgagedebt', 'researchanddevelopment', 'restructuring', 'currentlongtermdebt', 'paymentsofdividendspreferredstock', 'convertibledebt', 'shortterminvestments'}\n",
      "  warnings.warn(\"Did not find metrics {0}\".format(missing_metrics))\n"
     ]
    },
    {
     "name": "stdout",
     "output_type": "stream",
     "text": [
      "data saved to data/financials/IBTX.csv\n",
      "1067: IBTX complete\n"
     ]
    },
    {
     "name": "stderr",
     "output_type": "stream",
     "text": [
      "/home/carbine/miniconda3/envs/fleishco/lib/python3.7/site-packages/calcbench/api_client.py:269: UserWarning: Did not find metrics {'paymentsofdividendsnoncontrollinginterest', 'secureddebt', 'termloan', 'totalinvestments', 'mediumtermnotes', 'convertibledebt', 'trustpreferredsecurities', 'assetimpairment', 'mortgagedebt', 'researchanddevelopment', 'availableforsalesecurities', 'subordinateddebt', 'paymentsofdividendspreferredstock', 'restructuring', 'capitalassetsales'}\n",
      "  warnings.warn(\"Did not find metrics {0}\".format(missing_metrics))\n"
     ]
    },
    {
     "name": "stdout",
     "output_type": "stream",
     "text": [
      "data saved to data/financials/ICE.csv\n",
      "1068: ICE complete\n"
     ]
    },
    {
     "name": "stderr",
     "output_type": "stream",
     "text": [
      "/home/carbine/miniconda3/envs/fleishco/lib/python3.7/site-packages/calcbench/api_client.py:269: UserWarning: Did not find metrics {'incometaxespaid', 'secureddebt', 'trustpreferredsecurities', 'researchanddevelopment', 'interestpaidnet', 'lineofcreditfacilityamountoutstanding', 'paymentsofdividendspreferredstock', 'assetimpairment', 'mortgagedebt', 'stockrepurchasedduringperiodvalue', 'restrictedcashandinvestmentscurrent', 'paymentsofdividendsnoncontrollinginterest', 'termloan', 'totalinvestments', 'mediumtermnotes', 'longterminvestments', 'subordinateddebt', 'operatingexpenseexitems', 'stockrepurchasedduringperiodshares', 'restructuring', 'convertibledebt'}\n",
      "  warnings.warn(\"Did not find metrics {0}\".format(missing_metrics))\n"
     ]
    },
    {
     "name": "stdout",
     "output_type": "stream",
     "text": [
      "data saved to data/financials/NYX.csv\n",
      "1069: NYX complete\n"
     ]
    },
    {
     "name": "stderr",
     "output_type": "stream",
     "text": [
      "/home/carbine/miniconda3/envs/fleishco/lib/python3.7/site-packages/calcbench/api_client.py:269: UserWarning: Did not find metrics {'incometaxespaid', 'secureddebt', 'trustpreferredsecurities', 'paymentsforrepurchaseofcommonstock', 'paymentsofdividendscommonstock', 'lineofcreditfacilityamountoutstanding', 'paymentsofdividendspreferredstock', 'paymentsofdividends', 'acquisitiondivestitures', 'assetimpairment', 'unsecureddebt', 'mortgagedebt', 'stockrepurchasedduringperiodvalue', 'paymentsofdividendsnoncontrollinginterest', 'termloan', 'totalinvestments', 'mediumtermnotes', 'depreciationandamortizationexpense', 'longterminvestments', 'subordinateddebt', 'operatingexpenseexitems', 'stockrepurchasedduringperiodshares', 'incometaxes', 'restructuring', 'commonstockdividendspershare', 'capitalassetsales'}\n",
      "  warnings.warn(\"Did not find metrics {0}\".format(missing_metrics))\n"
     ]
    },
    {
     "name": "stdout",
     "output_type": "stream",
     "text": [
      "data saved to data/financials/ICPT.csv\n",
      "1071: ICPT complete\n"
     ]
    },
    {
     "name": "stderr",
     "output_type": "stream",
     "text": [
      "/home/carbine/miniconda3/envs/fleishco/lib/python3.7/site-packages/calcbench/api_client.py:269: UserWarning: Did not find metrics {'secureddebt', 'trustpreferredsecurities', 'researchanddevelopment', 'availableforsalesecurities', 'paymentsofdividendspreferredstock', 'shortterminvestments', 'seniornotes', 'assetimpairment', 'unsecureddebt', 'mortgagedebt', 'restrictedcashandinvestmentscurrent', 'paymentsofdividendsnoncontrollinginterest', 'termloan', 'totalinvestments', 'mediumtermnotes', 'subordinateddebt', 'operatingexpenseexitems', 'sharebasedcompensation', 'stockrepurchasedduringperiodshares', 'restructuring', 'convertibledebt'}\n",
      "  warnings.warn(\"Did not find metrics {0}\".format(missing_metrics))\n"
     ]
    },
    {
     "name": "stdout",
     "output_type": "stream",
     "text": [
      "data saved to data/financials/IDA.csv\n",
      "1073: IDA complete\n"
     ]
    },
    {
     "name": "stderr",
     "output_type": "stream",
     "text": [
      "/home/carbine/miniconda3/envs/fleishco/lib/python3.7/site-packages/calcbench/api_client.py:269: UserWarning: Did not find metrics {'incometaxespaid', 'secureddebt', 'trustpreferredsecurities', 'paymentsforrepurchaseofcommonstock', 'paymentsofdividendscommonstock', 'avgdilutedsharesoutstanding', 'researchanddevelopment', 'availableforsalesecurities', 'paymentsofdividendspreferredstock', 'assetimpairment', 'unsecureddebt', 'mortgagedebt', 'stockrepurchasedduringperiodvalue', 'restrictedcashandinvestmentscurrent', 'paymentsofdividendsnoncontrollinginterest', 'termloan', 'totalinvestments', 'mediumtermnotes', 'longterminvestments', 'subordinateddebt', 'avgsharesoutstandingbasic', 'operatingexpenseexitems', 'stockrepurchasedduringperiodshares', 'restructuring', 'commonstockdividendspershare', 'convertibledebt', 'capitalassetsales'}\n",
      "  warnings.warn(\"Did not find metrics {0}\".format(missing_metrics))\n"
     ]
    },
    {
     "name": "stdout",
     "output_type": "stream",
     "text": [
      "data saved to data/financials/IDC.csv\n",
      "1074: IDC complete\n"
     ]
    },
    {
     "name": "stderr",
     "output_type": "stream",
     "text": [
      "/home/carbine/miniconda3/envs/fleishco/lib/python3.7/site-packages/calcbench/api_client.py:269: UserWarning: Did not find metrics {'incometaxespaid', 'secureddebt', 'trustpreferredsecurities', 'paymentsofdividendscommonstock', 'lineofcreditfacilityamountoutstanding', 'paymentsofdividendspreferredstock', 'paymentsofdividends', 'unsecureddebt', 'mortgagedebt', 'restrictedcashandinvestmentscurrent', 'paymentsofdividendsnoncontrollinginterest', 'termloan', 'totalinvestments', 'mediumtermnotes', 'depreciationandamortizationexpense', 'longterminvestments', 'subordinateddebt', 'operatingexpenseexitems', 'restructuring', 'commonstockdividendspershare', 'capitalassetsales'}\n",
      "  warnings.warn(\"Did not find metrics {0}\".format(missing_metrics))\n"
     ]
    },
    {
     "name": "stdout",
     "output_type": "stream",
     "text": [
      "data saved to data/financials/IDTI.csv\n",
      "1075: IDTI complete\n"
     ]
    },
    {
     "name": "stderr",
     "output_type": "stream",
     "text": [
      "/home/carbine/miniconda3/envs/fleishco/lib/python3.7/site-packages/calcbench/api_client.py:269: UserWarning: Did not find metrics {'restrictedcashandinvestmentscurrent', 'paymentsofdividendsnoncontrollinginterest', 'secureddebt', 'totalinvestments', 'mediumtermnotes', 'trustpreferredsecurities', 'unsecureddebt', 'depreciationandamortizationexpense', 'mortgagedebt', 'longterminvestments', 'availableforsalesecurities', 'subordinateddebt', 'currentlongtermdebt', 'paymentsofdividendspreferredstock', 'convertibledebt', 'shortterminvestments'}\n",
      "  warnings.warn(\"Did not find metrics {0}\".format(missing_metrics))\n"
     ]
    },
    {
     "name": "stdout",
     "output_type": "stream",
     "text": [
      "data saved to data/financials/IEX.csv\n",
      "1077: IEX complete\n"
     ]
    },
    {
     "name": "stderr",
     "output_type": "stream",
     "text": [
      "/home/carbine/miniconda3/envs/fleishco/lib/python3.7/site-packages/calcbench/api_client.py:269: UserWarning: Did not find metrics {'restrictedcashandinvestmentscurrent', 'paymentsofdividendsnoncontrollinginterest', 'secureddebt', 'totalinvestments', 'mediumtermnotes', 'trustpreferredsecurities', 'assetimpairment', 'longterminvestments', 'mortgagedebt', 'availableforsalesecurities', 'subordinateddebt', 'currentlongtermdebt', 'paymentsofdividendspreferredstock', 'convertibledebt', 'shortterminvestments'}\n",
      "  warnings.warn(\"Did not find metrics {0}\".format(missing_metrics))\n"
     ]
    },
    {
     "name": "stdout",
     "output_type": "stream",
     "text": [
      "data saved to data/financials/IFF.csv\n",
      "1078: IFF complete\n"
     ]
    },
    {
     "name": "stderr",
     "output_type": "stream",
     "text": [
      "/home/carbine/miniconda3/envs/fleishco/lib/python3.7/site-packages/calcbench/api_client.py:269: UserWarning: Did not find metrics {'termloan', 'totalinvestments', 'mediumtermnotes', 'trustpreferredsecurities', 'unsecureddebt', 'mortgagedebt', 'stockrepurchasedduringperiodshares', 'availableforsalesecurities', 'subordinateddebt', 'stockrepurchasedduringperiodvalue', 'paymentsofdividendspreferredstock'}\n",
      "  warnings.warn(\"Did not find metrics {0}\".format(missing_metrics))\n"
     ]
    },
    {
     "name": "stdout",
     "output_type": "stream",
     "text": [
      "data saved to data/financials/IGT.csv\n",
      "1082: IGT complete\n"
     ]
    },
    {
     "name": "stderr",
     "output_type": "stream",
     "text": [
      "/home/carbine/miniconda3/envs/fleishco/lib/python3.7/site-packages/calcbench/api_client.py:269: UserWarning: Did not find metrics {'secureddebt', 'trustpreferredsecurities', 'paymentsforrepurchaseofcommonstock', 'paymentsofdividendscommonstock', 'researchanddevelopment', 'availableforsalesecurities', 'lineofcreditfacilityamountoutstanding', 'paymentsofdividendspreferredstock', 'shortterminvestments', 'seniornotes', 'acquisitiondivestitures', 'assetimpairment', 'unsecureddebt', 'mortgagedebt', 'stockrepurchasedduringperiodvalue', 'restrictedcashandinvestmentscurrent', 'paymentsofdividendsnoncontrollinginterest', 'termloan', 'totalinvestments', 'mediumtermnotes', 'depreciationandamortizationexpense', 'longterminvestments', 'subordinateddebt', 'operatingexpenseexitems', 'sharebasedcompensation', 'stockrepurchasedduringperiodshares', 'restructuring', 'commonstockdividendspershare', 'convertibledebt', 'capitalassetsales'}\n",
      "  warnings.warn(\"Did not find metrics {0}\".format(missing_metrics))\n"
     ]
    },
    {
     "name": "stdout",
     "output_type": "stream",
     "text": [
      "data saved to data/financials/MAST.csv\n",
      "1083: MAST complete\n"
     ]
    },
    {
     "name": "stderr",
     "output_type": "stream",
     "text": [
      "/home/carbine/miniconda3/envs/fleishco/lib/python3.7/site-packages/calcbench/api_client.py:269: UserWarning: Did not find metrics {'incometaxespaid', 'secureddebt', 'trustpreferredsecurities', 'paymentsofdividendscommonstock', 'interestpaidnet', 'availableforsalesecurities', 'paymentsofdividendspreferredstock', 'paymentsofdividends', 'assetimpairment', 'unsecureddebt', 'mortgagedebt', 'restrictedcashandinvestmentscurrent', 'paymentsofdividendsnoncontrollinginterest', 'termloan', 'totalinvestments', 'mediumtermnotes', 'longterminvestments', 'subordinateddebt', 'commonstockdividendspershare', 'capitalassetsales'}\n",
      "  warnings.warn(\"Did not find metrics {0}\".format(missing_metrics))\n"
     ]
    },
    {
     "name": "stdout",
     "output_type": "stream",
     "text": [
      "data saved to data/financials/ILMN.csv\n",
      "1087: ILMN complete\n"
     ]
    },
    {
     "name": "stderr",
     "output_type": "stream",
     "text": [
      "/home/carbine/miniconda3/envs/fleishco/lib/python3.7/site-packages/calcbench/api_client.py:269: UserWarning: Did not find metrics {'incometaxespaid', 'secureddebt', 'trustpreferredsecurities', 'paymentsofdividendscommonstock', 'researchanddevelopment', 'interestpaidnet', 'availableforsalesecurities', 'currentlongtermdebt', 'paymentsofdividendspreferredstock', 'shortterminvestments', 'mortgagedebt', 'stockrepurchasedduringperiodvalue', 'restrictedcashandinvestmentscurrent', 'paymentsofdividendsnoncontrollinginterest', 'totalinvestments', 'mediumtermnotes', 'longterminvestments', 'subordinateddebt', 'convertibledebt'}\n",
      "  warnings.warn(\"Did not find metrics {0}\".format(missing_metrics))\n"
     ]
    },
    {
     "name": "stdout",
     "output_type": "stream",
     "text": [
      "data saved to data/financials/IM.csv\n",
      "1088: IM complete\n"
     ]
    },
    {
     "name": "stderr",
     "output_type": "stream",
     "text": [
      "/home/carbine/miniconda3/envs/fleishco/lib/python3.7/site-packages/calcbench/api_client.py:269: UserWarning: Did not find metrics {'incometaxespaid', 'sgaexpense', 'trustpreferredsecurities', 'researchanddevelopment', 'interestpaidnet', 'availableforsalesecurities', 'paymentsofdividendspreferredstock', 'shortterminvestments', 'acquisitiondivestitures', 'assetimpairment', 'unsecureddebt', 'mortgagedebt', 'restrictedcashandinvestmentscurrent', 'paymentsofdividendsnoncontrollinginterest', 'termloan', 'totalinvestments', 'mediumtermnotes', 'depreciationandamortizationexpense', 'longterminvestments', 'subordinateddebt', 'operatingexpenseexitems', 'sharebasedcompensation', 'restructuring', 'commonstockdividendspershare', 'convertibledebt'}\n",
      "  warnings.warn(\"Did not find metrics {0}\".format(missing_metrics))\n"
     ]
    },
    {
     "name": "stdout",
     "output_type": "stream",
     "text": [
      "data saved to data/financials/IMKTA.csv\n",
      "1089: IMKTA complete\n"
     ]
    },
    {
     "name": "stderr",
     "output_type": "stream",
     "text": [
      "/home/carbine/miniconda3/envs/fleishco/lib/python3.7/site-packages/calcbench/api_client.py:269: UserWarning: Did not find metrics {'incometaxespaid', 'secureddebt', 'trustpreferredsecurities', 'paymentsofdividendscommonstock', 'lineofcreditfacilityamountoutstanding', 'paymentsofdividendspreferredstock', 'paymentsofdividends', 'acquisitiondivestitures', 'assetimpairment', 'unsecureddebt', 'mortgagedebt', 'stockrepurchasedduringperiodvalue', 'restrictedcashandinvestmentscurrent', 'paymentsofdividendsnoncontrollinginterest', 'termloan', 'totalinvestments', 'mediumtermnotes', 'depreciationandamortizationexpense', 'longterminvestments', 'subordinateddebt', 'operatingexpenseexitems', 'restructuring', 'commonstockdividendspershare', 'capitalassetsales'}\n",
      "  warnings.warn(\"Did not find metrics {0}\".format(missing_metrics))\n"
     ]
    },
    {
     "name": "stdout",
     "output_type": "stream",
     "text": [
      "data saved to data/financials/IMMU.csv\n",
      "1090: IMMU complete\n"
     ]
    },
    {
     "name": "stderr",
     "output_type": "stream",
     "text": [
      "/home/carbine/miniconda3/envs/fleishco/lib/python3.7/site-packages/calcbench/api_client.py:269: UserWarning: Did not find metrics {'paymentsofdividendsnoncontrollinginterest', 'secureddebt', 'termloan', 'totalinvestments', 'mediumtermnotes', 'trustpreferredsecurities', 'assetimpairment', 'paymentsofdividendscommonstock', 'unsecureddebt', 'availableforsalesecurities', 'subordinateddebt', 'commonstockdividendspershare', 'currentlongtermdebt', 'paymentsofdividendspreferredstock', 'paymentsofdividends'}\n",
      "  warnings.warn(\"Did not find metrics {0}\".format(missing_metrics))\n"
     ]
    },
    {
     "name": "stdout",
     "output_type": "stream",
     "text": [
      "data saved to data/financials/INFN.csv\n",
      "1091: INFN complete\n"
     ]
    },
    {
     "name": "stderr",
     "output_type": "stream",
     "text": [
      "/home/carbine/miniconda3/envs/fleishco/lib/python3.7/site-packages/calcbench/api_client.py:269: UserWarning: Did not find metrics {'incometaxespaid', 'restrictedcashandinvestmentscurrent', 'paymentsofdividendsnoncontrollinginterest', 'secureddebt', 'totalinvestments', 'mediumtermnotes', 'convertibledebt', 'trustpreferredsecurities', 'paymentsofdividendscommonstock', 'mortgagedebt', 'subordinateddebt', 'paymentsofdividendspreferredstock', 'restructuring', 'capitalassetsales'}\n",
      "  warnings.warn(\"Did not find metrics {0}\".format(missing_metrics))\n"
     ]
    },
    {
     "name": "stdout",
     "output_type": "stream",
     "text": [
      "data saved to data/financials/INTU.csv\n",
      "1094: INTU complete\n"
     ]
    },
    {
     "name": "stderr",
     "output_type": "stream",
     "text": [
      "/home/carbine/miniconda3/envs/fleishco/lib/python3.7/site-packages/calcbench/api_client.py:269: UserWarning: Did not find metrics {'secureddebt', 'trustpreferredsecurities', 'paymentsforrepurchaseofcommonstock', 'paymentsofdividendscommonstock', 'availableforsalesecurities', 'lineofcreditfacilityamountoutstanding', 'paymentsofdividendspreferredstock', 'paymentsofdividends', 'assetimpairment', 'unsecureddebt', 'mortgagedebt', 'stockrepurchasedduringperiodvalue', 'restrictedcashandinvestmentscurrent', 'paymentsofdividendsnoncontrollinginterest', 'termloan', 'totalinvestments', 'mediumtermnotes', 'depreciationandamortizationexpense', 'subordinateddebt', 'stockrepurchasedduringperiodshares', 'restructuring', 'commonstockdividendspershare'}\n",
      "  warnings.warn(\"Did not find metrics {0}\".format(missing_metrics))\n"
     ]
    },
    {
     "name": "stdout",
     "output_type": "stream",
     "text": [
      "data saved to data/financials/INVN.csv\n",
      "1097: INVN complete\n"
     ]
    },
    {
     "name": "stderr",
     "output_type": "stream",
     "text": [
      "/home/carbine/miniconda3/envs/fleishco/lib/python3.7/site-packages/calcbench/api_client.py:269: UserWarning: Did not find metrics {'restrictedcashandinvestmentscurrent', 'paymentsofdividendsnoncontrollinginterest', 'secureddebt', 'sharebasedcompensation', 'totalinvestments', 'mediumtermnotes', 'trustpreferredsecurities', 'paymentsofdividendscommonstock', 'mortgagedebt', 'stockrepurchasedduringperiodshares', 'researchanddevelopment', 'subordinateddebt', 'paymentsofdividendspreferredstock', 'convertibledebt', 'shortterminvestments'}\n",
      "  warnings.warn(\"Did not find metrics {0}\".format(missing_metrics))\n"
     ]
    },
    {
     "name": "stdout",
     "output_type": "stream",
     "text": [
      "data saved to data/financials/IP.csv\n",
      "1100: IP complete\n"
     ]
    },
    {
     "name": "stderr",
     "output_type": "stream",
     "text": [
      "/home/carbine/miniconda3/envs/fleishco/lib/python3.7/site-packages/calcbench/api_client.py:269: UserWarning: Did not find metrics {'secureddebt', 'trustpreferredsecurities', 'currentliabilities', 'researchanddevelopment', 'lineofcreditfacilityamountoutstanding', 'currentlongtermdebt', 'paymentsofdividendspreferredstock', 'assetimpairment', 'unsecureddebt', 'mortgagedebt', 'stockrepurchasedduringperiodvalue', 'paymentsofdividendsnoncontrollinginterest', 'termloan', 'totalinvestments', 'mediumtermnotes', 'depreciationandamortizationexpense', 'longterminvestments', 'subordinateddebt', 'stockrepurchasedduringperiodshares', 'convertibledebt'}\n",
      "  warnings.warn(\"Did not find metrics {0}\".format(missing_metrics))\n"
     ]
    },
    {
     "name": "stdout",
     "output_type": "stream",
     "text": [
      "data saved to data/financials/IPCC.csv\n",
      "1101: IPCC complete\n"
     ]
    },
    {
     "name": "stderr",
     "output_type": "stream",
     "text": [
      "/home/carbine/miniconda3/envs/fleishco/lib/python3.7/site-packages/calcbench/api_client.py:269: UserWarning: Did not find metrics {'incometaxespaid', 'paymentsofdividendsnoncontrollinginterest', 'secureddebt', 'totalinvestments', 'mediumtermnotes', 'trustpreferredsecurities', 'assetimpairment', 'longterminvestments', 'mortgagedebt', 'researchanddevelopment', 'subordinateddebt'}\n",
      "  warnings.warn(\"Did not find metrics {0}\".format(missing_metrics))\n"
     ]
    },
    {
     "name": "stdout",
     "output_type": "stream",
     "text": [
      "data saved to data/financials/IPG.csv\n",
      "1102: IPG complete\n"
     ]
    },
    {
     "name": "stderr",
     "output_type": "stream",
     "text": [
      "/home/carbine/miniconda3/envs/fleishco/lib/python3.7/site-packages/calcbench/api_client.py:269: UserWarning: Did not find metrics {'secureddebt', 'trustpreferredsecurities', 'paymentsforrepurchaseofcommonstock', 'paymentsofdividendscommonstock', 'lineofcreditfacilityamountoutstanding', 'paymentsofdividendspreferredstock', 'paymentsofdividends', 'seniornotes', 'assetimpairment', 'unsecureddebt', 'mortgagedebt', 'stockrepurchasedduringperiodvalue', 'restrictedcashandinvestmentscurrent', 'paymentsofdividendsnoncontrollinginterest', 'termloan', 'totalinvestments', 'mediumtermnotes', 'depreciationandamortizationexpense', 'longterminvestments', 'subordinateddebt', 'operatingexpenseexitems', 'stockrepurchasedduringperiodshares', 'restructuring', 'commonstockdividendspershare'}\n",
      "  warnings.warn(\"Did not find metrics {0}\".format(missing_metrics))\n"
     ]
    },
    {
     "name": "stdout",
     "output_type": "stream",
     "text": [
      "data saved to data/financials/IPHI.csv\n",
      "1103: IPHI complete\n"
     ]
    },
    {
     "name": "stderr",
     "output_type": "stream",
     "text": [
      "/home/carbine/miniconda3/envs/fleishco/lib/python3.7/site-packages/calcbench/api_client.py:269: UserWarning: Did not find metrics {'incometaxespaid', 'trustpreferredsecurities', 'paymentsforrepurchaseofcommonstock', 'paymentsofdividendscommonstock', 'researchanddevelopment', 'currentlongtermdebt', 'paymentsofdividendspreferredstock', 'shortterminvestments', 'seniornotes', 'stockrepurchasedduringperiodvalue', 'restrictedcashandinvestmentscurrent', 'paymentsofdividendsnoncontrollinginterest', 'totalinvestments', 'mediumtermnotes', 'subordinateddebt', 'sharebasedcompensation', 'stockrepurchasedduringperiodshares', 'restructuring', 'commonstockdividendspershare', 'capitalassetsales'}\n",
      "  warnings.warn(\"Did not find metrics {0}\".format(missing_metrics))\n"
     ]
    },
    {
     "name": "stdout",
     "output_type": "stream",
     "text": [
      "data saved to data/financials/IRC.csv\n",
      "1105: IRC complete\n"
     ]
    },
    {
     "name": "stderr",
     "output_type": "stream",
     "text": [
      "/home/carbine/miniconda3/envs/fleishco/lib/python3.7/site-packages/calcbench/api_client.py:269: UserWarning: Did not find metrics {'paymentsofdividendsnoncontrollinginterest', 'secureddebt', 'termloan', 'totalinvestments', 'mediumtermnotes', 'trustpreferredsecurities', 'paymentsforrepurchaseofcommonstock', 'paymentsofdividendscommonstock', 'unsecureddebt', 'mortgagedebt', 'longterminvestments', 'stockrepurchasedduringperiodshares', 'stockrepurchasedduringperiodvalue', 'subordinateddebt', 'commonstockdividendspershare', 'paymentsofdividendspreferredstock', 'paymentsofdividends'}\n",
      "  warnings.warn(\"Did not find metrics {0}\".format(missing_metrics))\n"
     ]
    },
    {
     "name": "stdout",
     "output_type": "stream",
     "text": [
      "data saved to data/financials/IRWD.csv\n",
      "1107: IRWD complete\n"
     ]
    },
    {
     "name": "stderr",
     "output_type": "stream",
     "text": [
      "/home/carbine/miniconda3/envs/fleishco/lib/python3.7/site-packages/calcbench/api_client.py:269: UserWarning: Did not find metrics {'incometaxespaid', 'secureddebt', 'trustpreferredsecurities', 'paymentsofdividendscommonstock', 'researchanddevelopment', 'interestpaidnet', 'lineofcreditfacilityamountoutstanding', 'currentlongtermdebt', 'paymentsofdividendspreferredstock', 'paymentsofdividends', 'seniornotes', 'assetimpairment', 'unsecureddebt', 'mortgagedebt', 'restrictedcashandinvestmentscurrent', 'paymentsofdividendsnoncontrollinginterest', 'termloan', 'totalinvestments', 'mediumtermnotes', 'subordinateddebt', 'operatingexpenseexitems', 'longtermdebt', 'totaldebt', 'restructuring', 'commonstockdividendspershare', 'convertibledebt'}\n",
      "  warnings.warn(\"Did not find metrics {0}\".format(missing_metrics))\n"
     ]
    },
    {
     "name": "stdout",
     "output_type": "stream",
     "text": [
      "data saved to data/financials/APT.csv\n",
      "1108: APT complete\n"
     ]
    },
    {
     "name": "stderr",
     "output_type": "stream",
     "text": [
      "/home/carbine/miniconda3/envs/fleishco/lib/python3.7/site-packages/calcbench/api_client.py:269: UserWarning: Did not find metrics {'incometaxespaid', 'secureddebt', 'trustpreferredsecurities', 'paymentsforrepurchaseofcommonstock', 'paymentsofdividendscommonstock', 'lineofcreditfacilityamountoutstanding', 'paymentsofdividendspreferredstock', 'paymentsofdividends', 'assetimpairment', 'unsecureddebt', 'mortgagedebt', 'stockrepurchasedduringperiodvalue', 'restrictedcashandinvestmentscurrent', 'paymentsofdividendsnoncontrollinginterest', 'termloan', 'totalinvestments', 'mediumtermnotes', 'depreciationandamortizationexpense', 'longterminvestments', 'subordinateddebt', 'stockrepurchasedduringperiodshares', 'commonstockdividendspershare', 'capitalassetsales'}\n",
      "  warnings.warn(\"Did not find metrics {0}\".format(missing_metrics))\n"
     ]
    },
    {
     "name": "stdout",
     "output_type": "stream",
     "text": [
      "data saved to data/financials/ITMN.csv\n",
      "1113: ITMN complete\n"
     ]
    },
    {
     "name": "stderr",
     "output_type": "stream",
     "text": [
      "/home/carbine/miniconda3/envs/fleishco/lib/python3.7/site-packages/calcbench/api_client.py:269: UserWarning: Did not find metrics {'paymentsofdividendsnoncontrollinginterest', 'seniornotes', 'termloan', 'totalinvestments', 'mediumtermnotes', 'convertibledebt', 'trustpreferredsecurities', 'paymentsforrepurchaseofcommonstock', 'depreciationandamortizationexpense', 'longterminvestments', 'mortgagedebt', 'stockrepurchasedduringperiodshares', 'stockrepurchasedduringperiodvalue', 'subordinateddebt', 'commonstockdividendspershare', 'paymentsofdividendspreferredstock', 'restructuring', 'shortterminvestments'}\n",
      "  warnings.warn(\"Did not find metrics {0}\".format(missing_metrics))\n"
     ]
    },
    {
     "name": "stdout",
     "output_type": "stream",
     "text": [
      "data saved to data/financials/ITP.csv\n",
      "1114: ITP complete\n"
     ]
    },
    {
     "name": "stderr",
     "output_type": "stream",
     "text": [
      "/home/carbine/miniconda3/envs/fleishco/lib/python3.7/site-packages/calcbench/api_client.py:269: UserWarning: Did not find metrics {'restrictedcashandinvestmentscurrent', 'paymentsofdividendsnoncontrollinginterest', 'secureddebt', 'termloan', 'totalinvestments', 'mediumtermnotes', 'trustpreferredsecurities', 'assetimpairment', 'unsecureddebt', 'depreciationandamortizationexpense', 'mortgagedebt', 'longterminvestments', 'subordinateddebt', 'currentlongtermdebt', 'paymentsofdividendspreferredstock', 'convertibledebt', 'capitalassetsales', 'shortterminvestments'}\n",
      "  warnings.warn(\"Did not find metrics {0}\".format(missing_metrics))\n"
     ]
    },
    {
     "name": "stdout",
     "output_type": "stream",
     "text": [
      "data saved to data/financials/ITT.csv\n",
      "1115: ITT complete\n"
     ]
    },
    {
     "name": "stderr",
     "output_type": "stream",
     "text": [
      "/home/carbine/miniconda3/envs/fleishco/lib/python3.7/site-packages/calcbench/api_client.py:269: UserWarning: Did not find metrics {'restrictedcashandinvestmentscurrent', 'paymentsofdividendsnoncontrollinginterest', 'secureddebt', 'seniornotes', 'termloan', 'totalinvestments', 'mediumtermnotes', 'convertibledebt', 'trustpreferredsecurities', 'mortgagedebt', 'stockrepurchasedduringperiodshares', 'subordinateddebt', 'paymentsofdividendspreferredstock', 'restructuring', 'shortterminvestments'}\n",
      "  warnings.warn(\"Did not find metrics {0}\".format(missing_metrics))\n"
     ]
    },
    {
     "name": "stdout",
     "output_type": "stream",
     "text": [
      "data saved to data/financials/ITW.csv\n",
      "1116: ITW complete\n"
     ]
    },
    {
     "name": "stderr",
     "output_type": "stream",
     "text": [
      "/home/carbine/miniconda3/envs/fleishco/lib/python3.7/site-packages/calcbench/api_client.py:269: UserWarning: Did not find metrics {'incometaxespaid', 'restrictedcashandinvestmentscurrent', 'paymentsofdividendsnoncontrollinginterest', 'termloan', 'totalinvestments', 'mediumtermnotes', 'trustpreferredsecurities', 'unsecureddebt', 'longterminvestments', 'mortgagedebt', 'stockrepurchasedduringperiodshares', 'interestpaidnet', 'stockrepurchasedduringperiodvalue', 'currentlongtermdebt', 'paymentsofdividendspreferredstock', 'shortterminvestments'}\n",
      "  warnings.warn(\"Did not find metrics {0}\".format(missing_metrics))\n"
     ]
    },
    {
     "name": "stdout",
     "output_type": "stream",
     "text": [
      "data saved to data/financials/IVC.csv\n",
      "1118: IVC complete\n"
     ]
    },
    {
     "name": "stderr",
     "output_type": "stream",
     "text": [
      "/home/carbine/miniconda3/envs/fleishco/lib/python3.7/site-packages/calcbench/api_client.py:269: UserWarning: Did not find metrics {'trustpreferredsecurities', 'paymentsforrepurchaseofcommonstock', 'paymentsofdividendscommonstock', 'researchanddevelopment', 'availableforsalesecurities', 'currentlongtermdebt', 'paymentsofdividendspreferredstock', 'paymentsofdividends', 'shortterminvestments', 'acquisitiondivestitures', 'mortgagedebt', 'restrictedcashandinvestmentscurrent', 'paymentsofdividendsnoncontrollinginterest', 'termloan', 'totalinvestments', 'mediumtermnotes', 'longterminvestments', 'subordinateddebt', 'stockrepurchasedduringperiodshares', 'restructuring', 'commonstockdividendspershare', 'convertibledebt'}\n",
      "  warnings.warn(\"Did not find metrics {0}\".format(missing_metrics))\n"
     ]
    },
    {
     "name": "stdout",
     "output_type": "stream",
     "text": [
      "data saved to data/financials/JAG.csv\n",
      "1119: JAG complete\n"
     ]
    },
    {
     "name": "stderr",
     "output_type": "stream",
     "text": [
      "/home/carbine/miniconda3/envs/fleishco/lib/python3.7/site-packages/calcbench/api_client.py:269: UserWarning: Did not find metrics {'incometaxespaid', 'restrictedcashandinvestmentscurrent', 'paymentsofdividendsnoncontrollinginterest', 'secureddebt', 'totalinvestments', 'mediumtermnotes', 'depreciationandamortizationexpense', 'longterminvestments', 'mortgagedebt', 'interestpaidnet', 'availableforsalesecurities', 'paymentsofdividendspreferredstock', 'shortterminvestments'}\n",
      "  warnings.warn(\"Did not find metrics {0}\".format(missing_metrics))\n"
     ]
    },
    {
     "name": "stdout",
     "output_type": "stream",
     "text": [
      "data saved to data/financials/NWL.csv\n",
      "1121: NWL complete\n"
     ]
    },
    {
     "name": "stderr",
     "output_type": "stream",
     "text": [
      "/home/carbine/miniconda3/envs/fleishco/lib/python3.7/site-packages/calcbench/api_client.py:269: UserWarning: Did not find metrics {'paymentsofdividendsnoncontrollinginterest', 'totalinvestments', 'mediumtermnotes', 'trustpreferredsecurities', 'unsecureddebt', 'paymentsofdividendscommonstock', 'mortgagedebt', 'depreciationandamortizationexpense', 'researchanddevelopment', 'subordinateddebt', 'paymentsofdividendspreferredstock'}\n",
      "  warnings.warn(\"Did not find metrics {0}\".format(missing_metrics))\n"
     ]
    },
    {
     "name": "stdout",
     "output_type": "stream",
     "text": [
      "data saved to data/financials/JAKK.csv\n",
      "1123: JAKK complete\n"
     ]
    },
    {
     "name": "stderr",
     "output_type": "stream",
     "text": [
      "/home/carbine/miniconda3/envs/fleishco/lib/python3.7/site-packages/calcbench/api_client.py:269: UserWarning: Did not find metrics {'incometaxespaid', 'paymentsofdividendsnoncontrollinginterest', 'secureddebt', 'totalinvestments', 'mediumtermnotes', 'trustpreferredsecurities', 'paymentsofdividendscommonstock', 'unsecureddebt', 'mortgagedebt', 'longterminvestments', 'interestpaidnet', 'subordinateddebt', 'commonstockdividendspershare', 'paymentsofdividendspreferredstock', 'paymentsofdividends', 'restructuring'}\n",
      "  warnings.warn(\"Did not find metrics {0}\".format(missing_metrics))\n"
     ]
    },
    {
     "name": "stdout",
     "output_type": "stream",
     "text": [
      "data saved to data/financials/JAZZ.csv\n",
      "1124: JAZZ complete\n"
     ]
    },
    {
     "name": "stderr",
     "output_type": "stream",
     "text": [
      "/home/carbine/miniconda3/envs/fleishco/lib/python3.7/site-packages/calcbench/api_client.py:269: UserWarning: Did not find metrics {'operatingexpenseexitems', 'restrictedcashandinvestmentscurrent', 'paymentsofdividendsnoncontrollinginterest', 'secureddebt', 'totalinvestments', 'mediumtermnotes', 'convertibledebt', 'trustpreferredsecurities', 'assetimpairment', 'paymentsofdividendscommonstock', 'longterminvestments', 'mortgagedebt', 'researchanddevelopment', 'availableforsalesecurities', 'subordinateddebt', 'paymentsofdividendspreferredstock', 'restructuring', 'shortterminvestments'}\n",
      "  warnings.warn(\"Did not find metrics {0}\".format(missing_metrics))\n"
     ]
    },
    {
     "name": "stdout",
     "output_type": "stream",
     "text": [
      "data saved to data/financials/JBHT.csv\n",
      "1126: JBHT complete\n"
     ]
    },
    {
     "name": "stderr",
     "output_type": "stream",
     "text": [
      "/home/carbine/miniconda3/envs/fleishco/lib/python3.7/site-packages/calcbench/api_client.py:269: UserWarning: Did not find metrics {'operatingexpenseexitems', 'paymentsofdividendsnoncontrollinginterest', 'seniornotes', 'termloan', 'totalinvestments', 'acquisitiondivestitures', 'mediumtermnotes', 'trustpreferredsecurities', 'assetimpairment', 'paymentsofdividendscommonstock', 'unsecureddebt', 'mortgagedebt', 'researchanddevelopment', 'subordinateddebt', 'commonstockdividendspershare', 'paymentsofdividendspreferredstock', 'paymentsofdividends', 'restructuring'}\n",
      "  warnings.warn(\"Did not find metrics {0}\".format(missing_metrics))\n"
     ]
    },
    {
     "name": "stdout",
     "output_type": "stream",
     "text": [
      "data saved to data/financials/JBLU.csv\n",
      "1128: JBLU complete\n"
     ]
    },
    {
     "name": "stderr",
     "output_type": "stream",
     "text": [
      "/home/carbine/miniconda3/envs/fleishco/lib/python3.7/site-packages/calcbench/api_client.py:269: UserWarning: Did not find metrics {'incometaxespaid', 'restrictedcashandinvestmentscurrent', 'interestexpense', 'secureddebt', 'totalinvestments', 'mediumtermnotes', 'trustpreferredsecurities', 'assetimpairment', 'paymentsofdividendscommonstock', 'depreciationandamortizationexpense', 'mortgagedebt', 'stockrepurchasedduringperiodshares', 'interestpaidnet', 'subordinateddebt', 'paymentsofdividendspreferredstock', 'convertibledebt', 'shortterminvestments'}\n",
      "  warnings.warn(\"Did not find metrics {0}\".format(missing_metrics))\n"
     ]
    },
    {
     "name": "stdout",
     "output_type": "stream",
     "text": [
      "data saved to data/financials/JCI.csv\n",
      "1129: JCI complete\n"
     ]
    },
    {
     "name": "stderr",
     "output_type": "stream",
     "text": [
      "/home/carbine/miniconda3/envs/fleishco/lib/python3.7/site-packages/calcbench/api_client.py:269: UserWarning: Did not find metrics {'restrictedcashandinvestmentscurrent', 'paymentsofdividendsnoncontrollinginterest', 'totalinvestments', 'acquisitiondivestitures', 'trustpreferredsecurities', 'assetimpairment', 'longterminvestments', 'mortgagedebt', 'researchanddevelopment', 'availableforsalesecurities', 'subordinateddebt', 'paymentsofdividendspreferredstock', 'convertibledebt', 'shortterminvestments'}\n",
      "  warnings.warn(\"Did not find metrics {0}\".format(missing_metrics))\n"
     ]
    },
    {
     "name": "stdout",
     "output_type": "stream",
     "text": [
      "data saved to data/financials/JCP.csv\n",
      "1131: JCP complete\n"
     ]
    },
    {
     "name": "stderr",
     "output_type": "stream",
     "text": [
      "/home/carbine/miniconda3/envs/fleishco/lib/python3.7/site-packages/calcbench/api_client.py:269: UserWarning: Did not find metrics {'incometaxespaid', 'capex', 'secureddebt', 'trustpreferredsecurities', 'paymentsforrepurchaseofcommonstock', 'paymentsofdividendscommonstock', 'sharesoutstandingendofperiod', 'avgdilutedsharesoutstanding', 'researchanddevelopment', 'currentliabilities', 'interestpaidnet', 'availableforsalesecurities', 'lineofcreditfacilityamountoutstanding', 'currentlongtermdebt', 'paymentsofdividendspreferredstock', 'paymentsofdividends', 'seniornotes', 'acquisitiondivestitures', 'assetimpairment', 'unsecureddebt', 'mortgagedebt', 'stockrepurchasedduringperiodvalue', 'depreciationamortization', 'restrictedcashandinvestmentscurrent', 'paymentsofdividendsnoncontrollinginterest', 'termloan', 'capexgross', 'totalinvestments', 'mediumtermnotes', 'depreciationandamortizationexpense', 'longterminvestments', 'subordinateddebt', 'avgsharesoutstandingbasic', 'operatingexpenses', 'operatingexpenseexitems', 'earnings_release_date', 'ebitda', 'sharebasedcompensation', 'longtermdebt', 'totaldebt', 'stockrepurchasedduringperiodshares', 'restructuring', 'commonstockdividendspershare', 'convertibledebt', 'capitalassetsales'}\n",
      "  warnings.warn(\"Did not find metrics {0}\".format(missing_metrics))\n"
     ]
    },
    {
     "name": "stdout",
     "output_type": "stream",
     "text": [
      "data saved to data/financials/JD.csv\n",
      "1132: JD complete\n"
     ]
    },
    {
     "name": "stderr",
     "output_type": "stream",
     "text": [
      "/home/carbine/miniconda3/envs/fleishco/lib/python3.7/site-packages/calcbench/api_client.py:269: UserWarning: Did not find metrics {'secureddebt', 'trustpreferredsecurities', 'paymentsforrepurchaseofcommonstock', 'paymentsofdividendscommonstock', 'availableforsalesecurities', 'lineofcreditfacilityamountoutstanding', 'currentlongtermdebt', 'paymentsofdividendspreferredstock', 'paymentsofdividends', 'shortterminvestments', 'seniornotes', 'assetimpairment', 'unsecureddebt', 'mortgagedebt', 'paymentsofdividendsnoncontrollinginterest', 'termloan', 'totalinvestments', 'mediumtermnotes', 'longterminvestments', 'subordinateddebt', 'stockrepurchasedduringperiodshares', 'convertibledebt', 'commonstockdividendspershare'}\n",
      "  warnings.warn(\"Did not find metrics {0}\".format(missing_metrics))\n"
     ]
    },
    {
     "name": "stdout",
     "output_type": "stream",
     "text": [
      "data saved to data/financials/JDAS.csv\n",
      "1133: JDAS complete\n"
     ]
    },
    {
     "name": "stderr",
     "output_type": "stream",
     "text": [
      "/home/carbine/miniconda3/envs/fleishco/lib/python3.7/site-packages/calcbench/api_client.py:269: UserWarning: Did not find metrics {'operatingexpenseexitems', 'restrictedcashandinvestmentscurrent', 'paymentsofdividendsnoncontrollinginterest', 'totalinvestments', 'trustpreferredsecurities', 'assetimpairment', 'unsecureddebt', 'mortgagedebt', 'restructuring', 'currentlongtermdebt', 'paymentsofdividendspreferredstock', 'capitalassetsales'}\n",
      "  warnings.warn(\"Did not find metrics {0}\".format(missing_metrics))\n"
     ]
    },
    {
     "name": "stdout",
     "output_type": "stream",
     "text": [
      "data saved to data/financials/JEF.csv\n",
      "1135: JEF complete\n"
     ]
    },
    {
     "name": "stderr",
     "output_type": "stream",
     "text": [
      "/home/carbine/miniconda3/envs/fleishco/lib/python3.7/site-packages/calcbench/api_client.py:269: UserWarning: Did not find metrics {'incometaxespaid', 'secureddebt', 'trustpreferredsecurities', 'paymentsofdividendscommonstock', 'interestpaidnet', 'lineofcreditfacilityamountoutstanding', 'currentlongtermdebt', 'paymentsofdividendspreferredstock', 'seniornotes', 'assetimpairment', 'unsecureddebt', 'mortgagedebt', 'restrictedcashandinvestmentscurrent', 'paymentsofdividendsnoncontrollinginterest', 'termloan', 'totalinvestments', 'mediumtermnotes', 'depreciationandamortizationexpense', 'stockrepurchasedduringperiodshares'}\n",
      "  warnings.warn(\"Did not find metrics {0}\".format(missing_metrics))\n"
     ]
    },
    {
     "name": "stdout",
     "output_type": "stream",
     "text": [
      "data saved to data/financials/JNJ.csv\n",
      "1142: JNJ complete\n"
     ]
    },
    {
     "name": "stderr",
     "output_type": "stream",
     "text": [
      "/home/carbine/miniconda3/envs/fleishco/lib/python3.7/site-packages/calcbench/api_client.py:269: UserWarning: Did not find metrics {'incometaxespaid', 'restrictedcashandinvestmentscurrent', 'interestexpense', 'secureddebt', 'paymentsofdividendsnoncontrollinginterest', 'termloan', 'totalinvestments', 'mediumtermnotes', 'trustpreferredsecurities', 'paymentsofdividendscommonstock', 'unsecureddebt', 'mortgagedebt', 'interestpaidnet', 'availableforsalesecurities', 'subordinateddebt', 'paymentsofdividendspreferredstock', 'convertibledebt', 'capitalassetsales'}\n",
      "  warnings.warn(\"Did not find metrics {0}\".format(missing_metrics))\n"
     ]
    },
    {
     "name": "stdout",
     "output_type": "stream",
     "text": [
      "data saved to data/financials/JNPR.csv\n",
      "1143: JNPR complete\n"
     ]
    },
    {
     "name": "stderr",
     "output_type": "stream",
     "text": [
      "/home/carbine/miniconda3/envs/fleishco/lib/python3.7/site-packages/calcbench/api_client.py:269: UserWarning: Did not find metrics {'secureddebt', 'trustpreferredsecurities', 'paymentsofdividendscommonstock', 'researchanddevelopment', 'availableforsalesecurities', 'paymentsofdividendspreferredstock', 'shortterminvestments', 'unsecureddebt', 'mortgagedebt', 'restrictedcashandinvestmentscurrent', 'paymentsofdividendsnoncontrollinginterest', 'termloan', 'totalinvestments', 'mediumtermnotes', 'depreciationandamortizationexpense', 'subordinateddebt', 'restructuring', 'sharebasedcompensation', 'convertibledebt'}\n",
      "  warnings.warn(\"Did not find metrics {0}\".format(missing_metrics))\n"
     ]
    },
    {
     "name": "stdout",
     "output_type": "stream",
     "text": [
      "data saved to data/financials/JNY.csv\n",
      "1144: JNY complete\n"
     ]
    },
    {
     "name": "stderr",
     "output_type": "stream",
     "text": [
      "/home/carbine/miniconda3/envs/fleishco/lib/python3.7/site-packages/calcbench/api_client.py:269: UserWarning: Did not find metrics {'paymentsofdividendsnoncontrollinginterest', 'termloan', 'totalinvestments', 'acquisitiondivestitures', 'mediumtermnotes', 'trustpreferredsecurities', 'convertibledebt', 'paymentsofdividendscommonstock', 'longterminvestments', 'mortgagedebt', 'stockrepurchasedduringperiodshares', 'researchanddevelopment', 'availableforsalesecurities', 'subordinateddebt', 'commonstockdividendspershare', 'currentlongtermdebt', 'restructuring', 'shortterminvestments'}\n",
      "  warnings.warn(\"Did not find metrics {0}\".format(missing_metrics))\n"
     ]
    },
    {
     "name": "stdout",
     "output_type": "stream",
     "text": [
      "data saved to data/financials/JONE.csv\n",
      "1146: JONE complete\n"
     ]
    },
    {
     "name": "stderr",
     "output_type": "stream",
     "text": [
      "/home/carbine/miniconda3/envs/fleishco/lib/python3.7/site-packages/calcbench/api_client.py:269: UserWarning: Did not find metrics {'incometaxespaid', 'capex', 'secureddebt', 'trustpreferredsecurities', 'paymentsforrepurchaseofcommonstock', 'paymentsofdividendscommonstock', 'researchanddevelopment', 'interestpaidnet', 'availableforsalesecurities', 'lineofcreditfacilityamountoutstanding', 'paymentsofdividendspreferredstock', 'paymentsofdividends', 'seniornotes', 'acquisitiondivestitures', 'assetimpairment', 'financingcashflow', 'unsecureddebt', 'mortgagedebt', 'operatingcashflow', 'stockrepurchasedduringperiodvalue', 'depreciationamortization', 'restrictedcashandinvestmentscurrent', 'investingcashflow', 'paymentsofdividendsnoncontrollinginterest', 'termloan', 'capexgross', 'totalinvestments', 'mediumtermnotes', 'depreciationandamortizationexpense', 'subordinateddebt', 'operatingexpenseexitems', 'sharebasedcompensation', 'stockrepurchasedduringperiodshares', 'restructuring', 'commonstockdividendspershare', 'convertibledebt', 'capitalassetsales'}\n",
      "  warnings.warn(\"Did not find metrics {0}\".format(missing_metrics))\n"
     ]
    },
    {
     "name": "stdout",
     "output_type": "stream",
     "text": [
      "data saved to data/financials/ONE.csv\n",
      "1149: ONE complete\n"
     ]
    },
    {
     "name": "stderr",
     "output_type": "stream",
     "text": [
      "/home/carbine/miniconda3/envs/fleishco/lib/python3.7/site-packages/calcbench/api_client.py:269: UserWarning: Did not find metrics {'incometaxespaid', 'secureddebt', 'trustpreferredsecurities', 'paymentsforrepurchaseofcommonstock', 'paymentsofdividendscommonstock', 'researchanddevelopment', 'availableforsalesecurities', 'currentlongtermdebt', 'paymentsofdividendspreferredstock', 'paymentsofdividends', 'shortterminvestments', 'unsecureddebt', 'mortgagedebt', 'restrictedcashandinvestmentscurrent', 'paymentsofdividendsnoncontrollinginterest', 'termloan', 'totalinvestments', 'mediumtermnotes', 'longterminvestments', 'subordinateddebt', 'stockrepurchasedduringperiodshares', 'restructuring', 'commonstockdividendspershare'}\n",
      "  warnings.warn(\"Did not find metrics {0}\".format(missing_metrics))\n"
     ]
    },
    {
     "name": "stdout",
     "output_type": "stream",
     "text": [
      "data saved to data/financials/JRCC.csv\n",
      "1150: JRCC complete\n"
     ]
    },
    {
     "name": "stderr",
     "output_type": "stream",
     "text": [
      "/home/carbine/miniconda3/envs/fleishco/lib/python3.7/site-packages/calcbench/api_client.py:269: UserWarning: Did not find metrics {'secureddebt', 'trustpreferredsecurities', 'availableforsalesecurities', 'lineofcreditfacilityamountoutstanding', 'paymentsofdividendspreferredstock', 'shortterminvestments', 'seniornotes', 'assetimpairment', 'unsecureddebt', 'mortgagedebt', 'restrictedcashandinvestmentscurrent', 'paymentsofdividendsnoncontrollinginterest', 'totalinvestments', 'mediumtermnotes', 'depreciationandamortizationexpense', 'subordinateddebt', 'restructuring', 'operatingexpenseexitems', 'convertibledebt', 'capitalassetsales'}\n",
      "  warnings.warn(\"Did not find metrics {0}\".format(missing_metrics))\n"
     ]
    },
    {
     "name": "stdout",
     "output_type": "stream",
     "text": [
      "data saved to data/financials/K.csv\n",
      "1152: K complete\n"
     ]
    },
    {
     "name": "stderr",
     "output_type": "stream",
     "text": [
      "/home/carbine/miniconda3/envs/fleishco/lib/python3.7/site-packages/calcbench/api_client.py:269: UserWarning: Did not find metrics {'restrictedcashandinvestmentscurrent', 'paymentsofdividendsnoncontrollinginterest', 'secureddebt', 'termloan', 'totalinvestments', 'mediumtermnotes', 'trustpreferredsecurities', 'unsecureddebt', 'longterminvestments', 'mortgagedebt', 'subordinateddebt', 'paymentsofdividendspreferredstock'}\n",
      "  warnings.warn(\"Did not find metrics {0}\".format(missing_metrics))\n"
     ]
    },
    {
     "name": "stdout",
     "output_type": "stream",
     "text": [
      "data saved to data/financials/KALU.csv\n",
      "1153: KALU complete\n"
     ]
    },
    {
     "name": "stderr",
     "output_type": "stream",
     "text": [
      "/home/carbine/miniconda3/envs/fleishco/lib/python3.7/site-packages/calcbench/api_client.py:269: UserWarning: Did not find metrics {'operatingexpenseexitems', 'paymentsofdividendsnoncontrollinginterest', 'secureddebt', 'termloan', 'totalinvestments', 'mediumtermnotes', 'trustpreferredsecurities', 'assetimpairment', 'unsecureddebt', 'depreciationandamortizationexpense', 'mortgagedebt', 'researchanddevelopment', 'availableforsalesecurities', 'subordinateddebt', 'currentlongtermdebt', 'paymentsofdividendspreferredstock', 'restructuring', 'shortterminvestments'}\n",
      "  warnings.warn(\"Did not find metrics {0}\".format(missing_metrics))\n"
     ]
    },
    {
     "name": "stdout",
     "output_type": "stream",
     "text": [
      "data saved to data/financials/KBH.csv\n",
      "1154: KBH complete\n"
     ]
    },
    {
     "name": "stderr",
     "output_type": "stream",
     "text": [
      "/home/carbine/miniconda3/envs/fleishco/lib/python3.7/site-packages/calcbench/api_client.py:269: UserWarning: Did not find metrics {'incometaxespaid', 'paymentsofdividendsnoncontrollinginterest', 'secureddebt', 'totalinvestments', 'mediumtermnotes', 'convertibledebt', 'trustpreferredsecurities', 'paymentsofdividendscommonstock', 'unsecureddebt', 'mortgagedebt', 'researchanddevelopment', 'subordinateddebt', 'commonstockdividendspershare', 'paymentsofdividendspreferredstock', 'paymentsofdividends', 'restructuring', 'shortterminvestments'}\n",
      "  warnings.warn(\"Did not find metrics {0}\".format(missing_metrics))\n"
     ]
    },
    {
     "name": "stdout",
     "output_type": "stream",
     "text": [
      "data saved to data/financials/KEG.csv\n",
      "1158: KEG complete\n"
     ]
    },
    {
     "name": "stderr",
     "output_type": "stream",
     "text": [
      "/home/carbine/miniconda3/envs/fleishco/lib/python3.7/site-packages/calcbench/api_client.py:269: UserWarning: Did not find metrics {'secureddebt', 'trustpreferredsecurities', 'paymentsofdividendscommonstock', 'researchanddevelopment', 'availableforsalesecurities', 'paymentsofdividendspreferredstock', 'paymentsofdividends', 'shortterminvestments', 'unsecureddebt', 'mortgagedebt', 'stockrepurchasedduringperiodvalue', 'restrictedcashandinvestmentscurrent', 'paymentsofdividendsnoncontrollinginterest', 'totalinvestments', 'mediumtermnotes', 'subordinateddebt', 'stockrepurchasedduringperiodshares', 'restructuring', 'commonstockdividendspershare', 'convertibledebt'}\n",
      "  warnings.warn(\"Did not find metrics {0}\".format(missing_metrics))\n"
     ]
    },
    {
     "name": "stdout",
     "output_type": "stream",
     "text": [
      "data saved to data/financials/KEX.csv\n",
      "1160: KEX complete\n"
     ]
    },
    {
     "name": "stderr",
     "output_type": "stream",
     "text": [
      "/home/carbine/miniconda3/envs/fleishco/lib/python3.7/site-packages/calcbench/api_client.py:269: UserWarning: Did not find metrics {'restrictedcashandinvestmentscurrent', 'paymentsofdividendsnoncontrollinginterest', 'secureddebt', 'termloan', 'totalinvestments', 'assetimpairment', 'paymentsofdividendscommonstock', 'unsecureddebt', 'mortgagedebt', 'longterminvestments', 'researchanddevelopment', 'restructuring', 'currentlongtermdebt', 'paymentsofdividendspreferredstock', 'convertibledebt'}\n",
      "  warnings.warn(\"Did not find metrics {0}\".format(missing_metrics))\n"
     ]
    },
    {
     "name": "stdout",
     "output_type": "stream",
     "text": [
      "data saved to data/financials/KEY.csv\n",
      "1161: KEY complete\n"
     ]
    },
    {
     "name": "stderr",
     "output_type": "stream",
     "text": [
      "/home/carbine/miniconda3/envs/fleishco/lib/python3.7/site-packages/calcbench/api_client.py:269: UserWarning: Did not find metrics {'restrictedcashandinvestmentscurrent', 'paymentsofdividendsnoncontrollinginterest', 'secureddebt', 'totalinvestments', 'mediumtermnotes', 'convertibledebt', 'trustpreferredsecurities', 'paymentsofdividendscommonstock', 'depreciationandamortizationexpense', 'mortgagedebt', 'availableforsalesecurities', 'subordinateddebt', 'commonstockdividendspershare', 'paymentsofdividendspreferredstock', 'paymentsofdividends', 'restructuring'}\n",
      "  warnings.warn(\"Did not find metrics {0}\".format(missing_metrics))\n"
     ]
    },
    {
     "name": "stdout",
     "output_type": "stream",
     "text": [
      "data saved to data/financials/KEYS.csv\n",
      "1162: KEYS complete\n"
     ]
    },
    {
     "name": "stderr",
     "output_type": "stream",
     "text": [
      "/home/carbine/miniconda3/envs/fleishco/lib/python3.7/site-packages/calcbench/api_client.py:269: UserWarning: Did not find metrics {'restrictedcashandinvestmentscurrent', 'paymentsofdividendsnoncontrollinginterest', 'totalinvestments', 'mediumtermnotes', 'sgaexpense', 'paymentsforrepurchaseofcommonstock', 'trustpreferredsecurities', 'paymentsofdividendscommonstock', 'unsecureddebt', 'mortgagedebt', 'longterminvestments', 'subordinateddebt', 'commonstockdividendspershare', 'paymentsofdividendspreferredstock', 'paymentsofdividends', 'restructuring', 'shortterminvestments'}\n",
      "  warnings.warn(\"Did not find metrics {0}\".format(missing_metrics))\n"
     ]
    },
    {
     "name": "stdout",
     "output_type": "stream",
     "text": [
      "data saved to data/financials/KEYW.csv\n",
      "1163: KEYW complete\n"
     ]
    },
    {
     "name": "stderr",
     "output_type": "stream",
     "text": [
      "/home/carbine/miniconda3/envs/fleishco/lib/python3.7/site-packages/calcbench/api_client.py:269: UserWarning: Did not find metrics {'operatingexpenseexitems', 'paymentsofdividendsnoncontrollinginterest', 'termloan', 'capexgross', 'totalinvestments', 'acquisitiondivestitures', 'mediumtermnotes', 'trustpreferredsecurities', 'assetimpairment', 'mortgagedebt', 'researchanddevelopment', 'currentlongtermdebt', 'shortterminvestments'}\n",
      "  warnings.warn(\"Did not find metrics {0}\".format(missing_metrics))\n"
     ]
    },
    {
     "name": "stdout",
     "output_type": "stream",
     "text": [
      "data saved to data/financials/KFN.csv\n",
      "1164: KFN complete\n"
     ]
    },
    {
     "name": "stderr",
     "output_type": "stream",
     "text": [
      "/home/carbine/miniconda3/envs/fleishco/lib/python3.7/site-packages/calcbench/api_client.py:269: UserWarning: Did not find metrics {'incometaxespaid', 'secureddebt', 'trustpreferredsecurities', 'paymentsforrepurchaseofcommonstock', 'paymentsofdividendscommonstock', 'sharesoutstandingendofperiod', 'avgdilutedsharesoutstanding', 'researchanddevelopment', 'interestpaidnet', 'lineofcreditfacilityamountoutstanding', 'currentlongtermdebt', 'paymentsofdividendspreferredstock', 'paymentsofdividends', 'shortterminvestments', 'seniornotes', 'acquisitiondivestitures', 'assetimpairment', 'financingcashflow', 'unsecureddebt', 'mortgagedebt', 'stockrepurchasedduringperiodvalue', 'restrictedcashandinvestmentscurrent', 'paymentsofdividendsnoncontrollinginterest', 'termloan', 'totalinvestments', 'mediumtermnotes', 'longterminvestments', 'subordinateddebt', 'avgsharesoutstandingbasic', 'operatingexpenseexitems', 'earnings_release_date', 'ebitda', 'sharebasedcompensation', 'stockrepurchasedduringperiodshares', 'incometaxes', 'restructuring', 'commonstockdividendspershare', 'convertibledebt'}\n",
      "  warnings.warn(\"Did not find metrics {0}\".format(missing_metrics))\n"
     ]
    },
    {
     "name": "stdout",
     "output_type": "stream",
     "text": [
      "data saved to data/financials/KGC.csv\n",
      "1166: KGC complete\n"
     ]
    },
    {
     "name": "stderr",
     "output_type": "stream",
     "text": [
      "/home/carbine/miniconda3/envs/fleishco/lib/python3.7/site-packages/calcbench/api_client.py:269: UserWarning: Did not find metrics {'restrictedcashandinvestmentscurrent', 'paymentsofdividendsnoncontrollinginterest', 'termloan', 'totalinvestments', 'trustpreferredsecurities', 'researchanddevelopment', 'subordinateddebt', 'currentlongtermdebt', 'paymentsofdividendspreferredstock', 'restructuring'}\n",
      "  warnings.warn(\"Did not find metrics {0}\".format(missing_metrics))\n"
     ]
    },
    {
     "name": "stdout",
     "output_type": "stream",
     "text": [
      "data saved to data/financials/KIM.csv\n",
      "1167: KIM complete\n"
     ]
    },
    {
     "name": "stderr",
     "output_type": "stream",
     "text": [
      "/home/carbine/miniconda3/envs/fleishco/lib/python3.7/site-packages/calcbench/api_client.py:269: UserWarning: Did not find metrics {'incometaxespaid', 'secureddebt', 'trustpreferredsecurities', 'paymentsofdividendscommonstock', 'researchanddevelopment', 'interestpaidnet', 'availableforsalesecurities', 'lineofcreditfacilityamountoutstanding', 'paymentsofdividendspreferredstock', 'paymentsofdividends', 'shortterminvestments', 'assetimpairment', 'unsecureddebt', 'mortgagedebt', 'restrictedcashandinvestmentscurrent', 'paymentsofdividendsnoncontrollinginterest', 'termloan', 'totalinvestments', 'mediumtermnotes', 'longterminvestments', 'subordinateddebt', 'commonstockdividendspershare'}\n",
      "  warnings.warn(\"Did not find metrics {0}\".format(missing_metrics))\n"
     ]
    },
    {
     "name": "stdout",
     "output_type": "stream",
     "text": [
      "data saved to data/financials/WBMD.csv\n",
      "1172: WBMD complete\n"
     ]
    },
    {
     "name": "stderr",
     "output_type": "stream",
     "text": [
      "/home/carbine/miniconda3/envs/fleishco/lib/python3.7/site-packages/calcbench/api_client.py:269: UserWarning: Did not find metrics {'restrictedcashandinvestmentscurrent', 'paymentsofdividendsnoncontrollinginterest', 'secureddebt', 'totalinvestments', 'convertibledebt', 'trustpreferredsecurities', 'paymentsofdividendscommonstock', 'depreciationandamortizationexpense', 'mortgagedebt', 'longterminvestments', 'subordinateddebt', 'paymentsofdividendspreferredstock', 'restructuring'}\n",
      "  warnings.warn(\"Did not find metrics {0}\".format(missing_metrics))\n"
     ]
    },
    {
     "name": "stdout",
     "output_type": "stream",
     "text": [
      "data saved to data/financials/KLAC.csv\n",
      "1173: KLAC complete\n"
     ]
    },
    {
     "name": "stderr",
     "output_type": "stream",
     "text": [
      "/home/carbine/miniconda3/envs/fleishco/lib/python3.7/site-packages/calcbench/api_client.py:269: UserWarning: Did not find metrics {'incometaxespaid', 'restrictedcashandinvestmentscurrent', 'paymentsofdividendsnoncontrollinginterest', 'secureddebt', 'totalinvestments', 'mediumtermnotes', 'trustpreferredsecurities', 'paymentsofdividendscommonstock', 'depreciationandamortizationexpense', 'mortgagedebt', 'longterminvestments', 'interestpaidnet', 'availableforsalesecurities', 'subordinateddebt', 'paymentsofdividendspreferredstock'}\n",
      "  warnings.warn(\"Did not find metrics {0}\".format(missing_metrics))\n"
     ]
    },
    {
     "name": "stdout",
     "output_type": "stream",
     "text": [
      "data saved to data/financials/LRCX.csv\n",
      "1174: LRCX complete\n"
     ]
    },
    {
     "name": "stderr",
     "output_type": "stream",
     "text": [
      "/home/carbine/miniconda3/envs/fleishco/lib/python3.7/site-packages/calcbench/api_client.py:269: UserWarning: Did not find metrics {'incometaxespaid', 'secureddebt', 'trustpreferredsecurities', 'paymentsofdividendscommonstock', 'interestpaidnet', 'availableforsalesecurities', 'lineofcreditfacilityamountoutstanding', 'currentlongtermdebt', 'paymentsofdividendspreferredstock', 'shortterminvestments', 'seniornotes', 'assetimpairment', 'unsecureddebt', 'mortgagedebt', 'restrictedcashandinvestmentscurrent', 'paymentsofdividendsnoncontrollinginterest', 'termloan', 'totalinvestments', 'mediumtermnotes', 'depreciationandamortizationexpense', 'subordinateddebt', 'operatingexpenseexitems', 'restructuring', 'convertibledebt'}\n",
      "  warnings.warn(\"Did not find metrics {0}\".format(missing_metrics))\n"
     ]
    },
    {
     "name": "stdout",
     "output_type": "stream",
     "text": [
      "data saved to data/financials/KMB.csv\n",
      "1175: KMB complete\n"
     ]
    },
    {
     "name": "stderr",
     "output_type": "stream",
     "text": [
      "/home/carbine/miniconda3/envs/fleishco/lib/python3.7/site-packages/calcbench/api_client.py:269: UserWarning: Did not find metrics {'incometaxespaid', 'secureddebt', 'trustpreferredsecurities', 'paymentsforrepurchaseofcommonstock', 'paymentsofdividendscommonstock', 'researchanddevelopment', 'interestpaidnet', 'availableforsalesecurities', 'lineofcreditfacilityamountoutstanding', 'paymentsofdividendspreferredstock', 'shortterminvestments', 'seniornotes', 'acquisitiondivestitures', 'assetimpairment', 'unsecureddebt', 'mortgagedebt', 'stockrepurchasedduringperiodvalue', 'restrictedcashandinvestmentscurrent', 'paymentsofdividendsnoncontrollinginterest', 'termloan', 'totalinvestments', 'mediumtermnotes', 'longterminvestments', 'subordinateddebt', 'operatingexpenseexitems', 'stockrepurchasedduringperiodshares', 'restructuring', 'commonstockdividendspershare', 'convertibledebt', 'capitalassetsales'}\n",
      "  warnings.warn(\"Did not find metrics {0}\".format(missing_metrics))\n"
     ]
    },
    {
     "name": "stdout",
     "output_type": "stream",
     "text": [
      "data saved to data/financials/ENP.csv\n",
      "1176: ENP complete\n"
     ]
    },
    {
     "name": "stderr",
     "output_type": "stream",
     "text": [
      "/home/carbine/miniconda3/envs/fleishco/lib/python3.7/site-packages/calcbench/api_client.py:269: UserWarning: Did not find metrics {'trustpreferredsecurities', 'paymentsforrepurchaseofcommonstock', 'paymentsofdividendscommonstock', 'researchanddevelopment', 'currentlongtermdebt', 'paymentsofdividendspreferredstock', 'shortterminvestments', 'assetimpairment', 'mortgagedebt', 'stockrepurchasedduringperiodvalue', 'restrictedcashandinvestmentscurrent', 'totalinvestments', 'mediumtermnotes', 'longterminvestments', 'subordinateddebt', 'restructuring', 'stockrepurchasedduringperiodshares', 'convertibledebt', 'capitalassetsales'}\n",
      "  warnings.warn(\"Did not find metrics {0}\".format(missing_metrics))\n"
     ]
    },
    {
     "name": "stdout",
     "output_type": "stream",
     "text": [
      "data saved to data/financials/UNIT.csv\n",
      "1177: UNIT complete\n"
     ]
    },
    {
     "name": "stderr",
     "output_type": "stream",
     "text": [
      "/home/carbine/miniconda3/envs/fleishco/lib/python3.7/site-packages/calcbench/api_client.py:269: UserWarning: Did not find metrics {'secureddebt', 'sgaexpense', 'trustpreferredsecurities', 'lineofcreditfacilityamountoutstanding', 'paymentsofdividendspreferredstock', 'shortterminvestments', 'seniornotes', 'assetimpairment', 'unsecureddebt', 'mortgagedebt', 'restrictedcashandinvestmentscurrent', 'paymentsofdividendsnoncontrollinginterest', 'termloan', 'totalinvestments', 'mediumtermnotes', 'subordinateddebt', 'operatingexpenseexitems', 'stockrepurchasedduringperiodshares', 'convertibledebt'}\n",
      "  warnings.warn(\"Did not find metrics {0}\".format(missing_metrics))\n"
     ]
    },
    {
     "name": "stdout",
     "output_type": "stream",
     "text": [
      "data saved to data/financials/KMT.csv\n",
      "1178: KMT complete\n"
     ]
    },
    {
     "name": "stderr",
     "output_type": "stream",
     "text": [
      "/home/carbine/miniconda3/envs/fleishco/lib/python3.7/site-packages/calcbench/api_client.py:269: UserWarning: Did not find metrics {'secureddebt', 'trustpreferredsecurities', 'paymentsofdividendscommonstock', 'researchanddevelopment', 'availableforsalesecurities', 'currentlongtermdebt', 'paymentsofdividendspreferredstock', 'paymentsofdividends', 'shortterminvestments', 'acquisitiondivestitures', 'assetimpairment', 'unsecureddebt', 'mortgagedebt', 'stockrepurchasedduringperiodvalue', 'restrictedcashandinvestmentscurrent', 'paymentsofdividendsnoncontrollinginterest', 'termloan', 'totalinvestments', 'mediumtermnotes', 'longterminvestments', 'subordinateddebt', 'operatingexpenseexitems', 'stockrepurchasedduringperiodshares', 'restructuring', 'commonstockdividendspershare', 'convertibledebt'}\n",
      "  warnings.warn(\"Did not find metrics {0}\".format(missing_metrics))\n"
     ]
    },
    {
     "name": "stdout",
     "output_type": "stream",
     "text": [
      "data saved to data/financials/KOG.csv\n",
      "1180: KOG complete\n"
     ]
    },
    {
     "name": "stderr",
     "output_type": "stream",
     "text": [
      "/home/carbine/miniconda3/envs/fleishco/lib/python3.7/site-packages/calcbench/api_client.py:269: UserWarning: Did not find metrics {'incometaxespaid', 'paymentsofdividendsnoncontrollinginterest', 'totalinvestments', 'mediumtermnotes', 'trustpreferredsecurities', 'paymentsofdividendscommonstock', 'unsecureddebt', 'stockrepurchasedduringperiodshares', 'interestpaidnet', 'availableforsalesecurities', 'subordinateddebt', 'paymentsofdividendspreferredstock', 'convertibledebt', 'capitalassetsales'}\n",
      "  warnings.warn(\"Did not find metrics {0}\".format(missing_metrics))\n"
     ]
    },
    {
     "name": "stdout",
     "output_type": "stream",
     "text": [
      "data saved to data/financials/KOP.csv\n",
      "1181: KOP complete\n"
     ]
    },
    {
     "name": "stderr",
     "output_type": "stream",
     "text": [
      "/home/carbine/miniconda3/envs/fleishco/lib/python3.7/site-packages/calcbench/api_client.py:269: UserWarning: Did not find metrics {'restrictedcashandinvestmentscurrent', 'paymentsofdividendsnoncontrollinginterest', 'secureddebt', 'totalinvestments', 'mediumtermnotes', 'convertibledebt', 'trustpreferredsecurities', 'unsecureddebt', 'longterminvestments', 'researchanddevelopment', 'availableforsalesecurities', 'subordinateddebt', 'paymentsofdividendspreferredstock', 'restructuring', 'shortterminvestments'}\n",
      "  warnings.warn(\"Did not find metrics {0}\".format(missing_metrics))\n"
     ]
    },
    {
     "name": "stdout",
     "output_type": "stream",
     "text": [
      "data saved to data/financials/KR.csv\n",
      "1182: KR complete\n"
     ]
    },
    {
     "name": "stderr",
     "output_type": "stream",
     "text": [
      "/home/carbine/miniconda3/envs/fleishco/lib/python3.7/site-packages/calcbench/api_client.py:269: UserWarning: Did not find metrics {'restrictedcashandinvestmentscurrent', 'paymentsofdividendsnoncontrollinginterest', 'totalinvestments', 'convertibledebt', 'trustpreferredsecurities', 'paymentsofdividendscommonstock', 'mortgagedebt', 'availableforsalesecurities', 'subordinateddebt', 'commonstockdividendspershare', 'paymentsofdividendspreferredstock', 'paymentsofdividends', 'restructuring', 'shortterminvestments'}\n",
      "  warnings.warn(\"Did not find metrics {0}\".format(missing_metrics))\n"
     ]
    },
    {
     "name": "stdout",
     "output_type": "stream",
     "text": [
      "data saved to data/financials/KRA.csv\n",
      "1183: KRA complete\n"
     ]
    },
    {
     "name": "stderr",
     "output_type": "stream",
     "text": [
      "/home/carbine/miniconda3/envs/fleishco/lib/python3.7/site-packages/calcbench/api_client.py:269: UserWarning: Did not find metrics {'incometaxespaid', 'trustpreferredsecurities', 'paymentsforrepurchaseofcommonstock', 'researchanddevelopment', 'currentlongtermdebt', 'paymentsofdividendspreferredstock', 'shortterminvestments', 'seniornotes', 'acquisitiondivestitures', 'assetimpairment', 'mortgagedebt', 'paymentsofdividendsnoncontrollinginterest', 'termloan', 'totalinvestments', 'mediumtermnotes', 'longterminvestments', 'subordinateddebt', 'incometaxes', 'restructuring', 'capitalassetsales'}\n",
      "  warnings.warn(\"Did not find metrics {0}\".format(missing_metrics))\n"
     ]
    },
    {
     "name": "stdout",
     "output_type": "stream",
     "text": [
      "data saved to data/financials/KRC.csv\n",
      "1184: KRC complete\n"
     ]
    },
    {
     "name": "stderr",
     "output_type": "stream",
     "text": [
      "/home/carbine/miniconda3/envs/fleishco/lib/python3.7/site-packages/calcbench/api_client.py:269: UserWarning: Did not find metrics {'incometaxespaid', 'totalinvestments', 'mediumtermnotes', 'convertibledebt', 'trustpreferredsecurities', 'stockrepurchasedduringperiodshares', 'researchanddevelopment', 'interestpaidnet', 'stockrepurchasedduringperiodvalue', 'subordinateddebt', 'currentlongtermdebt', 'restructuring', 'shortterminvestments'}\n",
      "  warnings.warn(\"Did not find metrics {0}\".format(missing_metrics))\n"
     ]
    },
    {
     "name": "stdout",
     "output_type": "stream",
     "text": [
      "data saved to data/financials/KRG.csv\n",
      "1185: KRG complete\n"
     ]
    },
    {
     "name": "stderr",
     "output_type": "stream",
     "text": [
      "/home/carbine/miniconda3/envs/fleishco/lib/python3.7/site-packages/calcbench/api_client.py:269: UserWarning: Did not find metrics {'restrictedcashandinvestmentscurrent', 'paymentsofdividendsnoncontrollinginterest', 'secureddebt', 'termloan', 'totalinvestments', 'acquisitiondivestitures', 'mediumtermnotes', 'trustpreferredsecurities', 'assetimpairment', 'paymentsofdividendscommonstock', 'unsecureddebt', 'mortgagedebt', 'convertibledebt', 'researchanddevelopment', 'subordinateddebt', 'paymentsofdividendspreferredstock', 'restructuring', 'capitalassetsales'}\n",
      "  warnings.warn(\"Did not find metrics {0}\".format(missing_metrics))\n"
     ]
    },
    {
     "name": "stdout",
     "output_type": "stream",
     "text": [
      "data saved to data/financials/KSS.csv\n",
      "1188: KSS complete\n"
     ]
    },
    {
     "name": "stderr",
     "output_type": "stream",
     "text": [
      "/home/carbine/miniconda3/envs/fleishco/lib/python3.7/site-packages/calcbench/api_client.py:269: UserWarning: Did not find metrics {'incometaxespaid', 'paymentsofdividendsnoncontrollinginterest', 'totalinvestments', 'mediumtermnotes', 'trustpreferredsecurities', 'assetimpairment', 'paymentsofdividendscommonstock', 'mortgagedebt', 'researchanddevelopment', 'interestpaidnet', 'availableforsalesecurities', 'subordinateddebt', 'convertibledebt', 'shortterminvestments'}\n",
      "  warnings.warn(\"Did not find metrics {0}\".format(missing_metrics))\n"
     ]
    },
    {
     "name": "stdout",
     "output_type": "stream",
     "text": [
      "data saved to data/financials/KSU.csv\n",
      "1189: KSU complete\n"
     ]
    },
    {
     "name": "stderr",
     "output_type": "stream",
     "text": [
      "/home/carbine/miniconda3/envs/fleishco/lib/python3.7/site-packages/calcbench/api_client.py:269: UserWarning: Did not find metrics {'restrictedcashandinvestmentscurrent', 'paymentsofdividendsnoncontrollinginterest', 'totalinvestments', 'mediumtermnotes', 'trustpreferredsecurities', 'paymentsofdividendscommonstock', 'unsecureddebt', 'mortgagedebt', 'stockrepurchasedduringperiodshares', 'researchanddevelopment', 'stockrepurchasedduringperiodvalue', 'restructuring', 'commonstockdividendspershare', 'paymentsofdividendspreferredstock', 'paymentsofdividends'}\n",
      "  warnings.warn(\"Did not find metrics {0}\".format(missing_metrics))\n"
     ]
    },
    {
     "name": "stdout",
     "output_type": "stream",
     "text": [
      "data saved to data/financials/KWK.csv\n",
      "1194: KWK complete\n"
     ]
    },
    {
     "name": "stderr",
     "output_type": "stream",
     "text": [
      "/home/carbine/miniconda3/envs/fleishco/lib/python3.7/site-packages/calcbench/api_client.py:269: UserWarning: Did not find metrics {'restrictedcashandinvestmentscurrent', 'paymentsofdividendsnoncontrollinginterest', 'secureddebt', 'termloan', 'totalinvestments', 'mediumtermnotes', 'trustpreferredsecurities', 'paymentsofdividendscommonstock', 'unsecureddebt', 'mortgagedebt', 'longterminvestments', 'researchanddevelopment', 'availableforsalesecurities', 'restructuring', 'stockrepurchasedduringperiodvalue', 'convertibledebt', 'shortterminvestments'}\n",
      "  warnings.warn(\"Did not find metrics {0}\".format(missing_metrics))\n"
     ]
    },
    {
     "name": "stdout",
     "output_type": "stream",
     "text": [
      "data saved to data/financials/LAMR.csv\n",
      "1196: LAMR complete\n"
     ]
    },
    {
     "name": "stderr",
     "output_type": "stream",
     "text": [
      "/home/carbine/miniconda3/envs/fleishco/lib/python3.7/site-packages/calcbench/api_client.py:269: UserWarning: Did not find metrics {'secureddebt', 'termloan', 'totalinvestments', 'mediumtermnotes', 'trustpreferredsecurities', 'paymentsofdividendscommonstock', 'mortgagedebt', 'subordinateddebt', 'commonstockdividendspershare', 'paymentsofdividendspreferredstock', 'paymentsofdividends', 'shortterminvestments'}\n",
      "  warnings.warn(\"Did not find metrics {0}\".format(missing_metrics))\n"
     ]
    },
    {
     "name": "stdout",
     "output_type": "stream",
     "text": [
      "data saved to data/financials/LAYN.csv\n",
      "1197: LAYN complete\n"
     ]
    },
    {
     "name": "stderr",
     "output_type": "stream",
     "text": [
      "/home/carbine/miniconda3/envs/fleishco/lib/python3.7/site-packages/calcbench/api_client.py:269: UserWarning: Did not find metrics {'incometaxespaid', 'secureddebt', 'trustpreferredsecurities', 'researchanddevelopment', 'interestpaidnet', 'availableforsalesecurities', 'currentlongtermdebt', 'paymentsofdividendspreferredstock', 'shortterminvestments', 'assetimpairment', 'unsecureddebt', 'mortgagedebt', 'restrictedcashandinvestmentscurrent', 'paymentsofdividendsnoncontrollinginterest', 'termloan', 'totalinvestments', 'mediumtermnotes', 'longterminvestments', 'sharebasedcompensation', 'convertibledebt'}\n",
      "  warnings.warn(\"Did not find metrics {0}\".format(missing_metrics))\n"
     ]
    },
    {
     "name": "stdout",
     "output_type": "stream",
     "text": [
      "data saved to data/financials/LAZ.csv\n",
      "1198: LAZ complete\n"
     ]
    },
    {
     "name": "stderr",
     "output_type": "stream",
     "text": [
      "/home/carbine/miniconda3/envs/fleishco/lib/python3.7/site-packages/calcbench/api_client.py:269: UserWarning: Did not find metrics {'restrictedcashandinvestmentscurrent', 'paymentsofdividendsnoncontrollinginterest', 'secureddebt', 'seniornotes', 'totalinvestments', 'mediumtermnotes', 'trustpreferredsecurities', 'unsecureddebt', 'depreciationandamortizationexpense', 'mortgagedebt', 'longterminvestments', 'researchanddevelopment', 'availableforsalesecurities', 'subordinateddebt', 'paymentsofdividendspreferredstock', 'convertibledebt', 'shortterminvestments'}\n",
      "  warnings.warn(\"Did not find metrics {0}\".format(missing_metrics))\n"
     ]
    },
    {
     "name": "stdout",
     "output_type": "stream",
     "text": [
      "data saved to data/financials/LBY.csv\n",
      "1199: LBY complete\n"
     ]
    },
    {
     "name": "stderr",
     "output_type": "stream",
     "text": [
      "/home/carbine/miniconda3/envs/fleishco/lib/python3.7/site-packages/calcbench/api_client.py:269: UserWarning: Did not find metrics {'operatingexpenseexitems', 'restrictedcashandinvestmentscurrent', 'secureddebt', 'totalinvestments', 'mediumtermnotes', 'convertibledebt', 'trustpreferredsecurities', 'assetimpairment', 'longterminvestments', 'mortgagedebt', 'availableforsalesecurities', 'subordinateddebt', 'paymentsofdividendspreferredstock', 'restructuring', 'capitalassetsales', 'shortterminvestments'}\n",
      "  warnings.warn(\"Did not find metrics {0}\".format(missing_metrics))\n"
     ]
    },
    {
     "name": "stdout",
     "output_type": "stream",
     "text": [
      "data saved to data/financials/LEA.csv\n",
      "1200: LEA complete\n"
     ]
    },
    {
     "name": "stderr",
     "output_type": "stream",
     "text": [
      "/home/carbine/miniconda3/envs/fleishco/lib/python3.7/site-packages/calcbench/api_client.py:269: UserWarning: Did not find metrics {'commonstockdividendspershare', 'paymentsofdividendsnoncontrollinginterest', 'totalinvestments', 'mediumtermnotes', 'trustpreferredsecurities', 'paymentsforrepurchaseofcommonstock', 'paymentsofdividendscommonstock', 'longterminvestments', 'mortgagedebt', 'stockrepurchasedduringperiodshares', 'researchanddevelopment', 'stockrepurchasedduringperiodvalue', 'subordinateddebt', 'lineofcreditfacilityamountoutstanding', 'paymentsofdividendspreferredstock', 'restructuring'}\n",
      "  warnings.warn(\"Did not find metrics {0}\".format(missing_metrics))\n"
     ]
    },
    {
     "name": "stdout",
     "output_type": "stream",
     "text": [
      "data saved to data/financials/LEAP.csv\n",
      "1201: LEAP complete\n"
     ]
    },
    {
     "name": "stderr",
     "output_type": "stream",
     "text": [
      "/home/carbine/miniconda3/envs/fleishco/lib/python3.7/site-packages/calcbench/api_client.py:269: UserWarning: Did not find metrics {'incometaxespaid', 'secureddebt', 'trustpreferredsecurities', 'paymentsofdividendscommonstock', 'researchanddevelopment', 'interestpaidnet', 'lineofcreditfacilityamountoutstanding', 'paymentsofdividendspreferredstock', 'shortterminvestments', 'unsecureddebt', 'mortgagedebt', 'restrictedcashandinvestmentscurrent', 'paymentsofdividendsnoncontrollinginterest', 'termloan', 'totalinvestments', 'mediumtermnotes', 'longterminvestments', 'subordinateddebt', 'stockrepurchasedduringperiodshares', 'restructuring', 'convertibledebt', 'capitalassetsales'}\n",
      "  warnings.warn(\"Did not find metrics {0}\".format(missing_metrics))\n"
     ]
    },
    {
     "name": "stdout",
     "output_type": "stream",
     "text": [
      "data saved to data/financials/LEG.csv\n",
      "1202: LEG complete\n"
     ]
    },
    {
     "name": "stderr",
     "output_type": "stream",
     "text": [
      "/home/carbine/miniconda3/envs/fleishco/lib/python3.7/site-packages/calcbench/api_client.py:269: UserWarning: Did not find metrics {'incometaxespaid', 'paymentsofdividendsnoncontrollinginterest', 'totalinvestments', 'mediumtermnotes', 'trustpreferredsecurities', 'assetimpairment', 'unsecureddebt', 'mortgagedebt', 'stockrepurchasedduringperiodshares', 'researchanddevelopment', 'interestpaidnet', 'paymentsofdividendspreferredstock', 'capitalassetsales', 'shortterminvestments'}\n",
      "  warnings.warn(\"Did not find metrics {0}\".format(missing_metrics))\n"
     ]
    },
    {
     "name": "stdout",
     "output_type": "stream",
     "text": [
      "data saved to data/financials/LGF.csv\n",
      "1204: LGF complete\n"
     ]
    },
    {
     "name": "stderr",
     "output_type": "stream",
     "text": [
      "/home/carbine/miniconda3/envs/fleishco/lib/python3.7/site-packages/calcbench/api_client.py:269: UserWarning: Did not find metrics {'incometaxespaid', 'secureddebt', 'trustpreferredsecurities', 'paymentsforrepurchaseofcommonstock', 'paymentsofdividendscommonstock', 'interestpaidnet', 'paymentsofdividendspreferredstock', 'paymentsofdividends', 'assetimpairment', 'unsecureddebt', 'mortgagedebt', 'stockrepurchasedduringperiodvalue', 'paymentsofdividendsnoncontrollinginterest', 'termloan', 'totalinvestments', 'mediumtermnotes', 'depreciationandamortizationexpense', 'subordinateddebt', 'stockrepurchasedduringperiodshares', 'commonstockdividendspershare'}\n",
      "  warnings.warn(\"Did not find metrics {0}\".format(missing_metrics))\n"
     ]
    },
    {
     "name": "stdout",
     "output_type": "stream",
     "text": [
      "data saved to data/financials/SQNM.csv\n",
      "1205: SQNM complete\n"
     ]
    },
    {
     "name": "stderr",
     "output_type": "stream",
     "text": [
      "/home/carbine/miniconda3/envs/fleishco/lib/python3.7/site-packages/calcbench/api_client.py:269: UserWarning: Did not find metrics {'restrictedcashandinvestmentscurrent', 'paymentsofdividendsnoncontrollinginterest', 'secureddebt', 'termloan', 'totalinvestments', 'mediumtermnotes', 'trustpreferredsecurities', 'unsecureddebt', 'depreciationandamortizationexpense', 'mortgagedebt', 'longterminvestments', 'restructuring', 'paymentsofdividendspreferredstock', 'shortterminvestments'}\n",
      "  warnings.warn(\"Did not find metrics {0}\".format(missing_metrics))\n"
     ]
    },
    {
     "name": "stdout",
     "output_type": "stream",
     "text": [
      "data saved to data/financials/LLL.csv\n",
      "1206: LLL complete\n"
     ]
    },
    {
     "name": "stderr",
     "output_type": "stream",
     "text": [
      "/home/carbine/miniconda3/envs/fleishco/lib/python3.7/site-packages/calcbench/api_client.py:269: UserWarning: Did not find metrics {'paymentsofdividendsnoncontrollinginterest', 'secureddebt', 'termloan', 'totalinvestments', 'trustpreferredsecurities', 'depreciationandamortizationexpense', 'longterminvestments', 'mortgagedebt', 'subordinateddebt', 'paymentsofdividendspreferredstock', 'convertibledebt'}\n",
      "  warnings.warn(\"Did not find metrics {0}\".format(missing_metrics))\n"
     ]
    },
    {
     "name": "stdout",
     "output_type": "stream",
     "text": [
      "data saved to data/financials/LII.csv\n",
      "1207: LII complete\n"
     ]
    },
    {
     "name": "stderr",
     "output_type": "stream",
     "text": [
      "/home/carbine/miniconda3/envs/fleishco/lib/python3.7/site-packages/calcbench/api_client.py:269: UserWarning: Did not find metrics {'incometaxespaid', 'restrictedcashandinvestmentscurrent', 'paymentsofdividendsnoncontrollinginterest', 'secureddebt', 'termloan', 'totalinvestments', 'mediumtermnotes', 'trustpreferredsecurities', 'assetimpairment', 'paymentsofdividendscommonstock', 'unsecureddebt', 'mortgagedebt', 'longterminvestments', 'interestpaidnet', 'subordinateddebt', 'lineofcreditfacilityamountoutstanding', 'paymentsofdividendspreferredstock', 'capitalassetsales'}\n",
      "  warnings.warn(\"Did not find metrics {0}\".format(missing_metrics))\n"
     ]
    },
    {
     "name": "stdout",
     "output_type": "stream",
     "text": [
      "data saved to data/financials/LLTC.csv\n",
      "1209: LLTC complete\n"
     ]
    },
    {
     "name": "stderr",
     "output_type": "stream",
     "text": [
      "/home/carbine/miniconda3/envs/fleishco/lib/python3.7/site-packages/calcbench/api_client.py:269: UserWarning: Did not find metrics {'restrictedcashandinvestmentscurrent', 'interestexpense', 'paymentsofdividendsnoncontrollinginterest', 'termloan', 'totalinvestments', 'mediumtermnotes', 'trustpreferredsecurities', 'assetimpairment', 'paymentsofdividendscommonstock', 'unsecureddebt', 'mortgagedebt', 'depreciationandamortizationexpense', 'interestpaidnet', 'availableforsalesecurities', 'subordinateddebt', 'paymentsofdividendspreferredstock', 'convertibledebt'}\n",
      "  warnings.warn(\"Did not find metrics {0}\".format(missing_metrics))\n"
     ]
    },
    {
     "name": "stdout",
     "output_type": "stream",
     "text": [
      "data saved to data/financials/LLY.csv\n",
      "1210: LLY complete\n"
     ]
    },
    {
     "name": "stderr",
     "output_type": "stream",
     "text": [
      "/home/carbine/miniconda3/envs/fleishco/lib/python3.7/site-packages/calcbench/api_client.py:269: UserWarning: Did not find metrics {'paymentsofdividendsnoncontrollinginterest', 'secureddebt', 'termloan', 'totalinvestments', 'mediumtermnotes', 'trustpreferredsecurities', 'paymentsofdividendscommonstock', 'unsecureddebt', 'mortgagedebt', 'longterminvestments', 'researchanddevelopment', 'availableforsalesecurities', 'restructuring', 'paymentsofdividendspreferredstock'}\n",
      "  warnings.warn(\"Did not find metrics {0}\".format(missing_metrics))\n"
     ]
    },
    {
     "name": "stdout",
     "output_type": "stream",
     "text": [
      "data saved to data/financials/LM.csv\n",
      "1212: LM complete\n"
     ]
    },
    {
     "name": "stderr",
     "output_type": "stream",
     "text": [
      "/home/carbine/miniconda3/envs/fleishco/lib/python3.7/site-packages/calcbench/api_client.py:269: UserWarning: Did not find metrics {'incometaxespaid', 'trustpreferredsecurities', 'paymentsforrepurchaseofcommonstock', 'paymentsofdividendscommonstock', 'researchanddevelopment', 'interestpaidnet', 'availableforsalesecurities', 'paymentsofdividendspreferredstock', 'paymentsofdividends', 'shortterminvestments', 'unsecureddebt', 'stockrepurchasedduringperiodvalue', 'restrictedcashandinvestmentscurrent', 'paymentsofdividendsnoncontrollinginterest', 'totalinvestments', 'longterminvestments', 'subordinateddebt', 'stockrepurchasedduringperiodshares', 'convertibledebt', 'commonstockdividendspershare'}\n",
      "  warnings.warn(\"Did not find metrics {0}\".format(missing_metrics))\n"
     ]
    },
    {
     "name": "stdout",
     "output_type": "stream",
     "text": [
      "data saved to data/financials/LMIA.csv\n",
      "1215: LMIA complete\n"
     ]
    },
    {
     "name": "stderr",
     "output_type": "stream",
     "text": [
      "/home/carbine/miniconda3/envs/fleishco/lib/python3.7/site-packages/calcbench/api_client.py:269: UserWarning: Did not find metrics {'incometaxespaid', 'secureddebt', 'trustpreferredsecurities', 'interestpaidnet', 'availableforsalesecurities', 'lineofcreditfacilityamountoutstanding', 'paymentsofdividendspreferredstock', 'shortterminvestments', 'assetimpairment', 'unsecureddebt', 'mortgagedebt', 'restrictedcashandinvestmentscurrent', 'paymentsofdividendsnoncontrollinginterest', 'termloan', 'totalinvestments', 'mediumtermnotes', 'subordinateddebt', 'restructuring', 'convertibledebt'}\n",
      "  warnings.warn(\"Did not find metrics {0}\".format(missing_metrics))\n"
     ]
    },
    {
     "name": "stdout",
     "output_type": "stream",
     "text": [
      "data saved to data/financials/PX.csv\n",
      "1217: PX complete\n"
     ]
    },
    {
     "name": "stderr",
     "output_type": "stream",
     "text": [
      "/home/carbine/miniconda3/envs/fleishco/lib/python3.7/site-packages/calcbench/api_client.py:269: UserWarning: Did not find metrics {'incometaxespaid', 'capex', 'secureddebt', 'sgaexpense', 'trustpreferredsecurities', 'paymentsofdividendscommonstock', 'researchanddevelopment', 'interestpaidnet', 'currentlongtermdebt', 'paymentsofdividendspreferredstock', 'shortterminvestments', 'unsecureddebt', 'mortgagedebt', 'ppe', 'restrictedcashandinvestmentscurrent', 'paymentsofdividendsnoncontrollinginterest', 'termloan', 'capexgross', 'totalinvestments', 'mediumtermnotes', 'longterminvestments', 'subordinateddebt', 'sharebasedcompensation', 'restructuring', 'convertibledebt', 'capitalassetsales'}\n",
      "  warnings.warn(\"Did not find metrics {0}\".format(missing_metrics))\n"
     ]
    },
    {
     "name": "stdout",
     "output_type": "stream",
     "text": [
      "data saved to data/financials/LNC.csv\n",
      "1218: LNC complete\n"
     ]
    },
    {
     "name": "stderr",
     "output_type": "stream",
     "text": [
      "/home/carbine/miniconda3/envs/fleishco/lib/python3.7/site-packages/calcbench/api_client.py:269: UserWarning: Did not find metrics {'secureddebt', 'trustpreferredsecurities', 'paymentsofdividendscommonstock', 'researchanddevelopment', 'availableforsalesecurities', 'paymentsofdividendspreferredstock', 'seniornotes', 'assetimpairment', 'unsecureddebt', 'mortgagedebt', 'stockrepurchasedduringperiodvalue', 'paymentsofdividendsnoncontrollinginterest', 'termloan', 'totalinvestments', 'mediumtermnotes', 'longterminvestments', 'subordinateddebt', 'operatingexpenseexitems', 'stockrepurchasedduringperiodshares', 'restructuring'}\n",
      "  warnings.warn(\"Did not find metrics {0}\".format(missing_metrics))\n"
     ]
    },
    {
     "name": "stdout",
     "output_type": "stream",
     "text": [
      "data saved to data/financials/LNCR.csv\n",
      "1219: LNCR complete\n"
     ]
    },
    {
     "name": "stderr",
     "output_type": "stream",
     "text": [
      "/home/carbine/miniconda3/envs/fleishco/lib/python3.7/site-packages/calcbench/api_client.py:269: UserWarning: Did not find metrics {'incometaxespaid', 'restrictedcashandinvestmentscurrent', 'interestexpense', 'secureddebt', 'paymentsofdividendsnoncontrollinginterest', 'seniornotes', 'termloan', 'totalinvestments', 'mediumtermnotes', 'trustpreferredsecurities', 'depreciationandamortizationexpense', 'mortgagedebt', 'interestpaidnet', 'subordinateddebt', 'lineofcreditfacilityamountoutstanding', 'paymentsofdividendspreferredstock', 'capitalassetsales'}\n",
      "  warnings.warn(\"Did not find metrics {0}\".format(missing_metrics))\n"
     ]
    },
    {
     "name": "stdout",
     "output_type": "stream",
     "text": [
      "data saved to data/financials/MSFT.csv\n",
      "1220: MSFT complete\n"
     ]
    },
    {
     "name": "stderr",
     "output_type": "stream",
     "text": [
      "/home/carbine/miniconda3/envs/fleishco/lib/python3.7/site-packages/calcbench/api_client.py:269: UserWarning: Did not find metrics {'secureddebt', 'trustpreferredsecurities', 'paymentsofdividendscommonstock', 'interestpaidnet', 'availableforsalesecurities', 'lineofcreditfacilityamountoutstanding', 'currentlongtermdebt', 'paymentsofdividendspreferredstock', 'paymentsofdividends', 'seniornotes', 'assetimpairment', 'unsecureddebt', 'mortgagedebt', 'stockrepurchasedduringperiodvalue', 'restrictedcashandinvestmentscurrent', 'paymentsofdividendsnoncontrollinginterest', 'termloan', 'totalinvestments', 'mediumtermnotes', 'longterminvestments', 'subordinateddebt', 'operatingexpenseexitems', 'stockrepurchasedduringperiodshares', 'restructuring', 'commonstockdividendspershare', 'capitalassetsales'}\n",
      "  warnings.warn(\"Did not find metrics {0}\".format(missing_metrics))\n"
     ]
    },
    {
     "name": "stdout",
     "output_type": "stream",
     "text": [
      "data saved to data/financials/LNKD.csv\n",
      "1221: LNKD complete\n"
     ]
    },
    {
     "name": "stderr",
     "output_type": "stream",
     "text": [
      "/home/carbine/miniconda3/envs/fleishco/lib/python3.7/site-packages/calcbench/api_client.py:269: UserWarning: Did not find metrics {'operatingexpenseexitems', 'paymentsofdividendsnoncontrollinginterest', 'secureddebt', 'termloan', 'sharebasedcompensation', 'totalinvestments', 'mediumtermnotes', 'convertibledebt', 'trustpreferredsecurities', 'assetimpairment', 'mortgagedebt', 'researchanddevelopment', 'subordinateddebt', 'paymentsofdividendspreferredstock', 'restructuring', 'shortterminvestments'}\n",
      "  warnings.warn(\"Did not find metrics {0}\".format(missing_metrics))\n"
     ]
    },
    {
     "name": "stdout",
     "output_type": "stream",
     "text": [
      "data saved to data/financials/WEC.csv\n",
      "1223: WEC complete\n"
     ]
    },
    {
     "name": "stderr",
     "output_type": "stream",
     "text": [
      "/home/carbine/miniconda3/envs/fleishco/lib/python3.7/site-packages/calcbench/api_client.py:269: UserWarning: Did not find metrics {'operatingexpenseexitems', 'restrictedcashandinvestmentscurrent', 'paymentsofdividendsnoncontrollinginterest', 'seniornotes', 'termloan', 'totalinvestments', 'mediumtermnotes', 'convertibledebt', 'assetimpairment', 'trustpreferredsecurities', 'mortgagedebt', 'researchanddevelopment', 'subordinateddebt', 'paymentsofdividendspreferredstock', 'restructuring'}\n",
      "  warnings.warn(\"Did not find metrics {0}\".format(missing_metrics))\n"
     ]
    },
    {
     "name": "stdout",
     "output_type": "stream",
     "text": [
      "data saved to data/financials/LOW.csv\n",
      "1226: LOW complete\n"
     ]
    },
    {
     "name": "stderr",
     "output_type": "stream",
     "text": [
      "/home/carbine/miniconda3/envs/fleishco/lib/python3.7/site-packages/calcbench/api_client.py:269: UserWarning: Did not find metrics {'commonstockdividendspershare', 'paymentsofdividendsnoncontrollinginterest', 'termloan', 'totalinvestments', 'mediumtermnotes', 'convertibledebt', 'trustpreferredsecurities', 'paymentsofdividendscommonstock', 'mortgagedebt', 'researchanddevelopment', 'subordinateddebt', 'lineofcreditfacilityamountoutstanding', 'paymentsofdividendspreferredstock', 'restructuring', 'shortterminvestments'}\n",
      "  warnings.warn(\"Did not find metrics {0}\".format(missing_metrics))\n"
     ]
    },
    {
     "name": "stdout",
     "output_type": "stream",
     "text": [
      "data saved to data/financials/LPX.csv\n",
      "1228: LPX complete\n"
     ]
    },
    {
     "name": "stderr",
     "output_type": "stream",
     "text": [
      "/home/carbine/miniconda3/envs/fleishco/lib/python3.7/site-packages/calcbench/api_client.py:269: UserWarning: Did not find metrics {'restrictedcashandinvestmentscurrent', 'paymentsofdividendsnoncontrollinginterest', 'termloan', 'totalinvestments', 'mediumtermnotes', 'convertibledebt', 'trustpreferredsecurities', 'paymentsofdividendscommonstock', 'unsecureddebt', 'mortgagedebt', 'researchanddevelopment', 'subordinateddebt', 'commonstockdividendspershare', 'paymentsofdividendspreferredstock', 'paymentsofdividends', 'shortterminvestments'}\n",
      "  warnings.warn(\"Did not find metrics {0}\".format(missing_metrics))\n"
     ]
    },
    {
     "name": "stdout",
     "output_type": "stream",
     "text": [
      "data saved to data/financials/LPI.csv\n",
      "1229: LPI complete\n"
     ]
    },
    {
     "name": "stderr",
     "output_type": "stream",
     "text": [
      "/home/carbine/miniconda3/envs/fleishco/lib/python3.7/site-packages/calcbench/api_client.py:269: UserWarning: Did not find metrics {'restrictedcashandinvestmentscurrent', 'paymentsofdividendsnoncontrollinginterest', 'totalinvestments', 'mediumtermnotes', 'trustpreferredsecurities', 'paymentsofdividendscommonstock', 'longterminvestments', 'mortgagedebt', 'researchanddevelopment', 'availableforsalesecurities', 'restructuring', 'commonstockdividendspershare', 'paymentsofdividendspreferredstock', 'paymentsofdividends', 'shortterminvestments'}\n",
      "  warnings.warn(\"Did not find metrics {0}\".format(missing_metrics))\n"
     ]
    },
    {
     "name": "stdout",
     "output_type": "stream",
     "text": [
      "data saved to data/financials/LPNT.csv\n",
      "1230: LPNT complete\n"
     ]
    },
    {
     "name": "stderr",
     "output_type": "stream",
     "text": [
      "/home/carbine/miniconda3/envs/fleishco/lib/python3.7/site-packages/calcbench/api_client.py:269: UserWarning: Did not find metrics {'operatingexpenseexitems', 'restrictedcashandinvestmentscurrent', 'paymentsofdividendsnoncontrollinginterest', 'totalinvestments', 'mediumtermnotes', 'trustpreferredsecurities', 'assetimpairment', 'longterminvestments', 'mortgagedebt', 'stockrepurchasedduringperiodshares', 'researchanddevelopment', 'availableforsalesecurities', 'subordinateddebt', 'paymentsofdividendspreferredstock', 'restructuring'}\n",
      "  warnings.warn(\"Did not find metrics {0}\".format(missing_metrics))\n"
     ]
    },
    {
     "name": "stdout",
     "output_type": "stream",
     "text": [
      "data saved to data/financials/LUV.csv\n",
      "1236: LUV complete\n"
     ]
    },
    {
     "name": "stderr",
     "output_type": "stream",
     "text": [
      "/home/carbine/miniconda3/envs/fleishco/lib/python3.7/site-packages/calcbench/api_client.py:269: UserWarning: Did not find metrics {'paymentsofdividendsnoncontrollinginterest', 'totalinvestments', 'mediumtermnotes', 'convertibledebt', 'trustpreferredsecurities', 'paymentsofdividendscommonstock', 'longterminvestments', 'mortgagedebt', 'availableforsalesecurities', 'subordinateddebt', 'restructuring'}\n",
      "  warnings.warn(\"Did not find metrics {0}\".format(missing_metrics))\n"
     ]
    },
    {
     "name": "stdout",
     "output_type": "stream",
     "text": [
      "data saved to data/financials/LVS.csv\n",
      "1237: LVS complete\n"
     ]
    },
    {
     "name": "stderr",
     "output_type": "stream",
     "text": [
      "/home/carbine/miniconda3/envs/fleishco/lib/python3.7/site-packages/calcbench/api_client.py:269: UserWarning: Did not find metrics {'incometaxespaid', 'paymentsofdividendsnoncontrollinginterest', 'secureddebt', 'totalinvestments', 'mediumtermnotes', 'convertibledebt', 'trustpreferredsecurities', 'paymentsofdividendscommonstock', 'unsecureddebt', 'mortgagedebt', 'interestpaidnet', 'availableforsalesecurities', 'subordinateddebt', 'commonstockdividendspershare', 'paymentsofdividendspreferredstock', 'paymentsofdividends', 'capitalassetsales'}\n",
      "  warnings.warn(\"Did not find metrics {0}\".format(missing_metrics))\n"
     ]
    },
    {
     "name": "stdout",
     "output_type": "stream",
     "text": [
      "data saved to data/financials/NSR.csv\n",
      "1238: NSR complete\n"
     ]
    },
    {
     "name": "stderr",
     "output_type": "stream",
     "text": [
      "/home/carbine/miniconda3/envs/fleishco/lib/python3.7/site-packages/calcbench/api_client.py:269: UserWarning: Did not find metrics {'incometaxespaid', 'restrictedcashandinvestmentscurrent', 'paymentsofdividendsnoncontrollinginterest', 'termloan', 'totalinvestments', 'mediumtermnotes', 'trustpreferredsecurities', 'assetimpairment', 'unsecureddebt', 'depreciationandamortizationexpense', 'mortgagedebt', 'interestpaidnet', 'subordinateddebt', 'paymentsofdividendspreferredstock', 'convertibledebt'}\n",
      "  warnings.warn(\"Did not find metrics {0}\".format(missing_metrics))\n"
     ]
    },
    {
     "name": "stdout",
     "output_type": "stream",
     "text": [
      "data saved to data/financials/LXK.csv\n",
      "1239: LXK complete\n"
     ]
    },
    {
     "name": "stderr",
     "output_type": "stream",
     "text": [
      "/home/carbine/miniconda3/envs/fleishco/lib/python3.7/site-packages/calcbench/api_client.py:269: UserWarning: Did not find metrics {'paymentsofdividendsnoncontrollinginterest', 'sharebasedcompensation', 'totalinvestments', 'mediumtermnotes', 'trustpreferredsecurities', 'paymentsofdividendscommonstock', 'researchanddevelopment', 'availableforsalesecurities', 'subordinateddebt', 'currentlongtermdebt', 'paymentsofdividendspreferredstock', 'restructuring', 'capitalassetsales', 'shortterminvestments'}\n",
      "  warnings.warn(\"Did not find metrics {0}\".format(missing_metrics))\n"
     ]
    },
    {
     "name": "stdout",
     "output_type": "stream",
     "text": [
      "data saved to data/financials/LXP.csv\n",
      "1240: LXP complete\n"
     ]
    },
    {
     "name": "stderr",
     "output_type": "stream",
     "text": [
      "/home/carbine/miniconda3/envs/fleishco/lib/python3.7/site-packages/calcbench/api_client.py:269: UserWarning: Did not find metrics {'secureddebt', 'trustpreferredsecurities', 'paymentsforrepurchaseofcommonstock', 'paymentsofdividendscommonstock', 'researchanddevelopment', 'availableforsalesecurities', 'lineofcreditfacilityamountoutstanding', 'paymentsofdividendspreferredstock', 'paymentsofdividends', 'shortterminvestments', 'seniornotes', 'acquisitiondivestitures', 'unsecureddebt', 'mortgagedebt', 'ppe', 'stockrepurchasedduringperiodvalue', 'restrictedcashandinvestmentscurrent', 'paymentsofdividendsnoncontrollinginterest', 'termloan', 'totalinvestments', 'mediumtermnotes', 'longterminvestments', 'subordinateddebt', 'sharebasedcompensation', 'stockrepurchasedduringperiodshares', 'restructuring', 'commonstockdividendspershare', 'capitalassetsales'}\n",
      "  warnings.warn(\"Did not find metrics {0}\".format(missing_metrics))\n"
     ]
    },
    {
     "name": "stdout",
     "output_type": "stream",
     "text": [
      "data saved to data/financials/LEXG.csv\n",
      "1241: LEXG complete\n"
     ]
    },
    {
     "name": "stderr",
     "output_type": "stream",
     "text": [
      "/home/carbine/miniconda3/envs/fleishco/lib/python3.7/site-packages/calcbench/api_client.py:269: UserWarning: Did not find metrics {'incometaxespaid', 'operatingexpenseexitems', 'paymentsofdividendsnoncontrollinginterest', 'secureddebt', 'termloan', 'totalinvestments', 'mediumtermnotes', 'convertibledebt', 'trustpreferredsecurities', 'assetimpairment', 'unsecureddebt', 'depreciationandamortizationexpense', 'mortgagedebt', 'interestpaidnet', 'availableforsalesecurities', 'subordinateddebt', 'paymentsofdividendspreferredstock', 'restructuring'}\n",
      "  warnings.warn(\"Did not find metrics {0}\".format(missing_metrics))\n"
     ]
    },
    {
     "name": "stdout",
     "output_type": "stream",
     "text": [
      "data saved to data/financials/LYB.csv\n",
      "1243: LYB complete\n"
     ]
    },
    {
     "name": "stderr",
     "output_type": "stream",
     "text": [
      "/home/carbine/miniconda3/envs/fleishco/lib/python3.7/site-packages/calcbench/api_client.py:269: UserWarning: Did not find metrics {'incometaxespaid', 'restrictedcashandinvestmentscurrent', 'totalinvestments', 'mediumtermnotes', 'trustpreferredsecurities', 'paymentsofdividendscommonstock', 'unsecureddebt', 'mortgagedebt', 'stockrepurchasedduringperiodshares', 'researchanddevelopment', 'interestpaidnet', 'availableforsalesecurities', 'subordinateddebt', 'commonstockdividendspershare', 'paymentsofdividendspreferredstock', 'paymentsofdividends', 'restructuring', 'shortterminvestments'}\n",
      "  warnings.warn(\"Did not find metrics {0}\".format(missing_metrics))\n"
     ]
    },
    {
     "name": "stdout",
     "output_type": "stream",
     "text": [
      "data saved to data/financials/LYV.csv\n",
      "1244: LYV complete\n"
     ]
    },
    {
     "name": "stderr",
     "output_type": "stream",
     "text": [
      "/home/carbine/miniconda3/envs/fleishco/lib/python3.7/site-packages/calcbench/api_client.py:269: UserWarning: Did not find metrics {'incometaxespaid', 'secureddebt', 'trustpreferredsecurities', 'paymentsforrepurchaseofcommonstock', 'paymentsofdividendscommonstock', 'researchanddevelopment', 'interestpaidnet', 'availableforsalesecurities', 'currentlongtermdebt', 'shortterminvestments', 'unsecureddebt', 'mortgagedebt', 'stockrepurchasedduringperiodvalue', 'restrictedcashandinvestmentscurrent', 'paymentsofdividendsnoncontrollinginterest', 'termloan', 'totalinvestments', 'mediumtermnotes', 'longterminvestments', 'subordinateddebt', 'stockrepurchasedduringperiodshares', 'commonstockdividendspershare'}\n",
      "  warnings.warn(\"Did not find metrics {0}\".format(missing_metrics))\n"
     ]
    },
    {
     "name": "stdout",
     "output_type": "stream",
     "text": [
      "data saved to data/financials/MF.csv\n",
      "1246: MF complete\n"
     ]
    },
    {
     "name": "stderr",
     "output_type": "stream",
     "text": [
      "/home/carbine/miniconda3/envs/fleishco/lib/python3.7/site-packages/calcbench/api_client.py:269: UserWarning: Did not find metrics {'incometaxespaid', 'secureddebt', 'trustpreferredsecurities', 'paymentsofdividendscommonstock', 'researchanddevelopment', 'interestpaidnet', 'lineofcreditfacilityamountoutstanding', 'paymentsofdividendspreferredstock', 'assetimpairment', 'unsecureddebt', 'mortgagedebt', 'paymentsofdividendsnoncontrollinginterest', 'termloan', 'totalinvestments', 'mediumtermnotes', 'subordinateddebt', 'restructuring', 'convertibledebt', 'capitalassetsales'}\n",
      "  warnings.warn(\"Did not find metrics {0}\".format(missing_metrics))\n"
     ]
    },
    {
     "name": "stdout",
     "output_type": "stream",
     "text": [
      "data saved to data/financials/MA.csv\n",
      "1247: MA complete\n"
     ]
    },
    {
     "name": "stderr",
     "output_type": "stream",
     "text": [
      "/home/carbine/miniconda3/envs/fleishco/lib/python3.7/site-packages/calcbench/api_client.py:269: UserWarning: Did not find metrics {'totalinvestments', 'mediumtermnotes', 'convertibledebt', 'trustpreferredsecurities', 'researchanddevelopment', 'subordinateddebt', 'restructuring', 'capitalassetsales', 'shortterminvestments'}\n",
      "  warnings.warn(\"Did not find metrics {0}\".format(missing_metrics))\n"
     ]
    },
    {
     "name": "stdout",
     "output_type": "stream",
     "text": [
      "data saved to data/financials/MAA.csv\n",
      "1248: MAA complete\n"
     ]
    },
    {
     "name": "stderr",
     "output_type": "stream",
     "text": [
      "/home/carbine/miniconda3/envs/fleishco/lib/python3.7/site-packages/calcbench/api_client.py:269: UserWarning: Did not find metrics {'paymentsofdividendsnoncontrollinginterest', 'totalinvestments', 'mediumtermnotes', 'trustpreferredsecurities', 'researchanddevelopment', 'incometaxes', 'subordinateddebt', 'currentlongtermdebt', 'convertibledebt', 'capitalassetsales', 'shortterminvestments'}\n",
      "  warnings.warn(\"Did not find metrics {0}\".format(missing_metrics))\n"
     ]
    },
    {
     "name": "stdout",
     "output_type": "stream",
     "text": [
      "data saved to data/financials/PPS.csv\n",
      "1249: PPS complete\n"
     ]
    },
    {
     "name": "stderr",
     "output_type": "stream",
     "text": [
      "/home/carbine/miniconda3/envs/fleishco/lib/python3.7/site-packages/calcbench/api_client.py:269: UserWarning: Did not find metrics {'paymentsofdividendsnoncontrollinginterest', 'termloan', 'totalinvestments', 'mediumtermnotes', 'assetimpairment', 'trustpreferredsecurities', 'unsecureddebt', 'paymentsforrepurchaseofcommonstock', 'paymentsofdividendscommonstock', 'mortgagedebt', 'depreciationandamortizationexpense', 'stockrepurchasedduringperiodshares', 'stockrepurchasedduringperiodvalue', 'subordinateddebt'}\n",
      "  warnings.warn(\"Did not find metrics {0}\".format(missing_metrics))\n"
     ]
    },
    {
     "name": "stdout",
     "output_type": "stream",
     "text": [
      "data saved to data/financials/MACK.csv\n",
      "1250: MACK complete\n"
     ]
    },
    {
     "name": "stderr",
     "output_type": "stream",
     "text": [
      "/home/carbine/miniconda3/envs/fleishco/lib/python3.7/site-packages/calcbench/api_client.py:269: UserWarning: Did not find metrics {'incometaxespaid', 'secureddebt', 'trustpreferredsecurities', 'paymentsforrepurchaseofcommonstock', 'paymentsofdividendscommonstock', 'sharesoutstandingendofperiod', 'interestpaidnet', 'availableforsalesecurities', 'lineofcreditfacilityamountoutstanding', 'currentlongtermdebt', 'paymentsofdividendspreferredstock', 'paymentsofdividends', 'interestexpense', 'seniornotes', 'acquisitiondivestitures', 'assetimpairment', 'unsecureddebt', 'mortgagedebt', 'stockrepurchasedduringperiodvalue', 'depreciationamortization', 'restrictedcashandinvestmentscurrent', 'paymentsofdividendsnoncontrollinginterest', 'termloan', 'totalinvestments', 'mediumtermnotes', 'depreciationandamortizationexpense', 'subordinateddebt', 'operatingexpenseexitems', 'sharebasedcompensation', 'stockrepurchasedduringperiodshares', 'restructuring', 'commonstockdividendspershare', 'convertibledebt', 'capitalassetsales'}\n",
      "  warnings.warn(\"Did not find metrics {0}\".format(missing_metrics))\n"
     ]
    },
    {
     "name": "stdout",
     "output_type": "stream",
     "text": [
      "data saved to data/financials/HCM.csv\n",
      "1251: HCM complete\n"
     ]
    },
    {
     "name": "stderr",
     "output_type": "stream",
     "text": [
      "/home/carbine/miniconda3/envs/fleishco/lib/python3.7/site-packages/calcbench/api_client.py:269: UserWarning: Did not find metrics {'commonstockdividendspershare', 'paymentsofdividendsnoncontrollinginterest', 'termloan', 'totalinvestments', 'mediumtermnotes', 'trustpreferredsecurities', 'assetimpairment', 'paymentsofdividendscommonstock', 'unsecureddebt', 'mortgagedebt', 'depreciationandamortizationexpense', 'longterminvestments', 'availableforsalesecurities', 'subordinateddebt', 'lineofcreditfacilityamountoutstanding', 'paymentsofdividendspreferredstock', 'convertibledebt', 'shortterminvestments'}\n",
      "  warnings.warn(\"Did not find metrics {0}\".format(missing_metrics))\n"
     ]
    },
    {
     "name": "stdout",
     "output_type": "stream",
     "text": [
      "data saved to data/financials/MX.csv\n",
      "1252: MX complete\n"
     ]
    },
    {
     "name": "stderr",
     "output_type": "stream",
     "text": [
      "/home/carbine/miniconda3/envs/fleishco/lib/python3.7/site-packages/calcbench/api_client.py:269: UserWarning: Did not find metrics {'secureddebt', 'trustpreferredsecurities', 'paymentsforrepurchaseofcommonstock', 'paymentsofdividendscommonstock', 'researchanddevelopment', 'availableforsalesecurities', 'lineofcreditfacilityamountoutstanding', 'paymentsofdividendspreferredstock', 'paymentsofdividends', 'shortterminvestments', 'seniornotes', 'acquisitiondivestitures', 'unsecureddebt', 'mortgagedebt', 'stockrepurchasedduringperiodvalue', 'restrictedcashandinvestmentscurrent', 'paymentsofdividendsnoncontrollinginterest', 'termloan', 'capexgross', 'totalinvestments', 'mediumtermnotes', 'longterminvestments', 'subordinateddebt', 'longtermdebt', 'stockrepurchasedduringperiodshares', 'incometaxes', 'restructuring', 'commonstockdividendspershare', 'capitalassetsales'}\n",
      "  warnings.warn(\"Did not find metrics {0}\".format(missing_metrics))\n"
     ]
    },
    {
     "name": "stdout",
     "output_type": "stream",
     "text": [
      "data saved to data/financials/MAIN.csv\n",
      "1253: MAIN complete\n"
     ]
    },
    {
     "name": "stderr",
     "output_type": "stream",
     "text": [
      "/home/carbine/miniconda3/envs/fleishco/lib/python3.7/site-packages/calcbench/api_client.py:269: UserWarning: Did not find metrics {'secureddebt', 'trustpreferredsecurities', 'paymentsofdividendscommonstock', 'researchanddevelopment', 'availableforsalesecurities', 'paymentsofdividendspreferredstock', 'shortterminvestments', 'mortgagedebt', 'stockrepurchasedduringperiodvalue', 'restrictedcashandinvestmentscurrent', 'paymentsofdividendsnoncontrollinginterest', 'termloan', 'totalinvestments', 'mediumtermnotes', 'depreciationandamortizationexpense', 'longterminvestments', 'subordinateddebt', 'stockrepurchasedduringperiodshares', 'restructuring', 'convertibledebt'}\n",
      "  warnings.warn(\"Did not find metrics {0}\".format(missing_metrics))\n"
     ]
    },
    {
     "name": "stdout",
     "output_type": "stream",
     "text": [
      "data saved to data/financials/MANT.csv\n",
      "1254: MANT complete\n"
     ]
    },
    {
     "name": "stderr",
     "output_type": "stream",
     "text": [
      "/home/carbine/miniconda3/envs/fleishco/lib/python3.7/site-packages/calcbench/api_client.py:269: UserWarning: Did not find metrics {'incometaxespaid', 'restrictedcashandinvestmentscurrent', 'secureddebt', 'termloan', 'totalinvestments', 'mediumtermnotes', 'convertibledebt', 'trustpreferredsecurities', 'unsecureddebt', 'depreciationandamortizationexpense', 'mortgagedebt', 'longterminvestments', 'researchanddevelopment', 'interestpaidnet', 'subordinateddebt', 'paymentsofdividendspreferredstock', 'restructuring'}\n",
      "  warnings.warn(\"Did not find metrics {0}\".format(missing_metrics))\n"
     ]
    },
    {
     "name": "stdout",
     "output_type": "stream",
     "text": [
      "data saved to data/financials/MAS.csv\n",
      "1255: MAS complete\n"
     ]
    },
    {
     "name": "stderr",
     "output_type": "stream",
     "text": [
      "/home/carbine/miniconda3/envs/fleishco/lib/python3.7/site-packages/calcbench/api_client.py:269: UserWarning: Did not find metrics {'secureddebt', 'trustpreferredsecurities', 'availableforsalesecurities', 'paymentsofdividendspreferredstock', 'shortterminvestments', 'assetimpairment', 'mortgagedebt', 'stockrepurchasedduringperiodvalue', 'restrictedcashandinvestmentscurrent', 'paymentsofdividendsnoncontrollinginterest', 'termloan', 'totalinvestments', 'depreciationandamortizationexpense', 'longterminvestments', 'subordinateddebt', 'restructuring', 'operatingexpenseexitems', 'stockrepurchasedduringperiodshares', 'convertibledebt'}\n",
      "  warnings.warn(\"Did not find metrics {0}\".format(missing_metrics))\n"
     ]
    },
    {
     "name": "stdout",
     "output_type": "stream",
     "text": [
      "data saved to data/financials/MAT.csv\n",
      "1256: MAT complete\n"
     ]
    },
    {
     "name": "stderr",
     "output_type": "stream",
     "text": [
      "/home/carbine/miniconda3/envs/fleishco/lib/python3.7/site-packages/calcbench/api_client.py:269: UserWarning: Did not find metrics {'operatingexpenseexitems', 'restrictedcashandinvestmentscurrent', 'paymentsofdividendsnoncontrollinginterest', 'secureddebt', 'termloan', 'totalinvestments', 'convertibledebt', 'sgaexpense', 'trustpreferredsecurities', 'paymentsofdividendscommonstock', 'assetimpairment', 'unsecureddebt', 'mortgagedebt', 'researchanddevelopment', 'subordinateddebt', 'commonstockdividendspershare', 'paymentsofdividendspreferredstock', 'restructuring'}\n",
      "  warnings.warn(\"Did not find metrics {0}\".format(missing_metrics))\n"
     ]
    },
    {
     "name": "stdout",
     "output_type": "stream",
     "text": [
      "data saved to data/financials/MBI.csv\n",
      "1258: MBI complete\n"
     ]
    },
    {
     "name": "stderr",
     "output_type": "stream",
     "text": [
      "/home/carbine/miniconda3/envs/fleishco/lib/python3.7/site-packages/calcbench/api_client.py:269: UserWarning: Did not find metrics {'incometaxespaid', 'secureddebt', 'trustpreferredsecurities', 'researchanddevelopment', 'interestpaidnet', 'availableforsalesecurities', 'lineofcreditfacilityamountoutstanding', 'paymentsofdividendspreferredstock', 'seniornotes', 'assetimpairment', 'unsecureddebt', 'mortgagedebt', 'restrictedcashandinvestmentscurrent', 'paymentsofdividendsnoncontrollinginterest', 'termloan', 'totalinvestments', 'mediumtermnotes', 'depreciationandamortizationexpense', 'subordinateddebt', 'convertibledebt'}\n",
      "  warnings.warn(\"Did not find metrics {0}\".format(missing_metrics))\n"
     ]
    },
    {
     "name": "stdout",
     "output_type": "stream",
     "text": [
      "data saved to data/financials/MCD.csv\n",
      "1259: MCD complete\n"
     ]
    },
    {
     "name": "stderr",
     "output_type": "stream",
     "text": [
      "/home/carbine/miniconda3/envs/fleishco/lib/python3.7/site-packages/calcbench/api_client.py:269: UserWarning: Did not find metrics {'restrictedcashandinvestmentscurrent', 'paymentsofdividendsnoncontrollinginterest', 'totalinvestments', 'mediumtermnotes', 'trustpreferredsecurities', 'paymentsofdividendscommonstock', 'longterminvestments', 'mortgagedebt', 'stockrepurchasedduringperiodshares', 'availableforsalesecurities', 'convertibledebt', 'commonstockdividendspershare', 'paymentsofdividends', 'shortterminvestments'}\n",
      "  warnings.warn(\"Did not find metrics {0}\".format(missing_metrics))\n"
     ]
    },
    {
     "name": "stdout",
     "output_type": "stream",
     "text": [
      "data saved to data/financials/REV.csv\n",
      "1260: REV complete\n"
     ]
    },
    {
     "name": "stderr",
     "output_type": "stream",
     "text": [
      "/home/carbine/miniconda3/envs/fleishco/lib/python3.7/site-packages/calcbench/api_client.py:269: UserWarning: Did not find metrics {'incometaxespaid', 'restrictedcashandinvestmentscurrent', 'paymentsofdividendsnoncontrollinginterest', 'totalinvestments', 'mediumtermnotes', 'trustpreferredsecurities', 'assetimpairment', 'paymentsofdividendscommonstock', 'unsecureddebt', 'mortgagedebt', 'interestpaidnet', 'restructuring', 'paymentsofdividendspreferredstock'}\n",
      "  warnings.warn(\"Did not find metrics {0}\".format(missing_metrics))\n"
     ]
    },
    {
     "name": "stdout",
     "output_type": "stream",
     "text": [
      "data saved to data/financials/MCHP.csv\n",
      "1261: MCHP complete\n"
     ]
    },
    {
     "name": "stderr",
     "output_type": "stream",
     "text": [
      "/home/carbine/miniconda3/envs/fleishco/lib/python3.7/site-packages/calcbench/api_client.py:269: UserWarning: Did not find metrics {'restrictedcashandinvestmentscurrent', 'paymentsofdividendsnoncontrollinginterest', 'secureddebt', 'totalinvestments', 'mediumtermnotes', 'trustpreferredsecurities', 'assetimpairment', 'paymentsofdividendscommonstock', 'longterminvestments', 'mortgagedebt', 'researchanddevelopment', 'subordinateddebt', 'paymentsofdividendspreferredstock', 'convertibledebt', 'capitalassetsales', 'shortterminvestments'}\n",
      "  warnings.warn(\"Did not find metrics {0}\".format(missing_metrics))\n"
     ]
    },
    {
     "name": "stdout",
     "output_type": "stream",
     "text": [
      "data saved to data/financials/DNB.csv\n",
      "1262: DNB complete\n"
     ]
    },
    {
     "name": "stderr",
     "output_type": "stream",
     "text": [
      "/home/carbine/miniconda3/envs/fleishco/lib/python3.7/site-packages/calcbench/api_client.py:269: UserWarning: Did not find metrics {'commonstockdividendspershare', 'restrictedcashandinvestmentscurrent', 'totalinvestments', 'stockrepurchasedduringperiodvalue', 'mediumtermnotes', 'trustpreferredsecurities', 'paymentsforrepurchaseofcommonstock', 'paymentsofdividendscommonstock', 'unsecureddebt', 'mortgagedebt', 'stockrepurchasedduringperiodshares', 'interestpaidnet', 'availableforsalesecurities', 'restructuring', 'lineofcreditfacilityamountoutstanding', 'shortterminvestments'}\n",
      "  warnings.warn(\"Did not find metrics {0}\".format(missing_metrics))\n"
     ]
    },
    {
     "name": "stdout",
     "output_type": "stream",
     "text": [
      "data saved to data/financials/MCP.csv\n",
      "1263: MCP complete\n",
      "data saved to data/financials/MRCY.csv\n",
      "1264: MRCY complete\n"
     ]
    },
    {
     "name": "stderr",
     "output_type": "stream",
     "text": [
      "/home/carbine/miniconda3/envs/fleishco/lib/python3.7/site-packages/calcbench/api_client.py:269: UserWarning: Did not find metrics {'incometaxespaid', 'restrictedcashandinvestmentscurrent', 'paymentsofdividendsnoncontrollinginterest', 'secureddebt', 'totalinvestments', 'mediumtermnotes', 'convertibledebt', 'trustpreferredsecurities', 'paymentsofdividendscommonstock', 'longterminvestments', 'mortgagedebt', 'availableforsalesecurities', 'subordinateddebt', 'commonstockdividendspershare', 'paymentsofdividendspreferredstock', 'paymentsofdividends', 'capitalassetsales', 'shortterminvestments'}\n",
      "  warnings.warn(\"Did not find metrics {0}\".format(missing_metrics))\n"
     ]
    },
    {
     "name": "stdout",
     "output_type": "stream",
     "text": [
      "data saved to data/financials/MDAS.csv\n",
      "1265: MDAS complete\n"
     ]
    },
    {
     "name": "stderr",
     "output_type": "stream",
     "text": [
      "/home/carbine/miniconda3/envs/fleishco/lib/python3.7/site-packages/calcbench/api_client.py:269: UserWarning: Did not find metrics {'incometaxespaid', 'secureddebt', 'trustpreferredsecurities', 'paymentsforrepurchaseofcommonstock', 'paymentsofdividendscommonstock', 'researchanddevelopment', 'currentlongtermdebt', 'paymentsofdividendspreferredstock', 'shortterminvestments', 'acquisitiondivestitures', 'unsecureddebt', 'mortgagedebt', 'stockrepurchasedduringperiodvalue', 'paymentsofdividendsnoncontrollinginterest', 'termloan', 'totalinvestments', 'depreciationandamortizationexpense', 'longterminvestments', 'subordinateddebt', 'stockrepurchasedduringperiodshares', 'restructuring', 'convertibledebt', 'capitalassetsales'}\n",
      "  warnings.warn(\"Did not find metrics {0}\".format(missing_metrics))\n"
     ]
    },
    {
     "name": "stdout",
     "output_type": "stream",
     "text": [
      "data saved to data/financials/MDC.csv\n",
      "1266: MDC complete\n"
     ]
    },
    {
     "name": "stderr",
     "output_type": "stream",
     "text": [
      "/home/carbine/miniconda3/envs/fleishco/lib/python3.7/site-packages/calcbench/api_client.py:269: UserWarning: Did not find metrics {'commonstockdividendspershare', 'restrictedcashandinvestmentscurrent', 'paymentsofdividendsnoncontrollinginterest', 'secureddebt', 'termloan', 'totalinvestments', 'mediumtermnotes', 'trustpreferredsecurities', 'paymentsofdividendscommonstock', 'unsecureddebt', 'mortgagedebt', 'depreciationandamortizationexpense', 'longterminvestments', 'subordinateddebt', 'lineofcreditfacilityamountoutstanding', 'paymentsofdividendspreferredstock', 'paymentsofdividends', 'restructuring'}\n",
      "  warnings.warn(\"Did not find metrics {0}\".format(missing_metrics))\n"
     ]
    },
    {
     "name": "stdout",
     "output_type": "stream",
     "text": [
      "data saved to data/financials/MDCO.csv\n",
      "1268: MDCO complete\n"
     ]
    },
    {
     "name": "stderr",
     "output_type": "stream",
     "text": [
      "/home/carbine/miniconda3/envs/fleishco/lib/python3.7/site-packages/calcbench/api_client.py:269: UserWarning: Did not find metrics {'incometaxespaid', 'secureddebt', 'sgaexpense', 'trustpreferredsecurities', 'interestpaidnet', 'availableforsalesecurities', 'paymentsofdividendspreferredstock', 'shortterminvestments', 'assetimpairment', 'mortgagedebt', 'restrictedcashandinvestmentscurrent', 'paymentsofdividendsnoncontrollinginterest', 'termloan', 'totalinvestments', 'mediumtermnotes', 'subordinateddebt', 'sharebasedcompensation', 'convertibledebt', 'capitalassetsales'}\n",
      "  warnings.warn(\"Did not find metrics {0}\".format(missing_metrics))\n"
     ]
    },
    {
     "name": "stdout",
     "output_type": "stream",
     "text": [
      "data saved to data/financials/MO.csv\n",
      "1269: MO complete\n"
     ]
    },
    {
     "name": "stderr",
     "output_type": "stream",
     "text": [
      "/home/carbine/miniconda3/envs/fleishco/lib/python3.7/site-packages/calcbench/api_client.py:269: UserWarning: Did not find metrics {'incometaxespaid', 'restrictedcashandinvestmentscurrent', 'paymentsofdividendsnoncontrollinginterest', 'totalinvestments', 'mediumtermnotes', 'trustpreferredsecurities', 'longterminvestments', 'mortgagedebt', 'stockrepurchasedduringperiodshares', 'researchanddevelopment', 'interestpaidnet', 'availableforsalesecurities', 'subordinateddebt', 'paymentsofdividendspreferredstock', 'convertibledebt', 'capitalassetsales', 'shortterminvestments'}\n",
      "  warnings.warn(\"Did not find metrics {0}\".format(missing_metrics))\n"
     ]
    },
    {
     "name": "stdout",
     "output_type": "stream",
     "text": [
      "data saved to data/financials/MDP.csv\n",
      "1270: MDP complete\n"
     ]
    },
    {
     "name": "stderr",
     "output_type": "stream",
     "text": [
      "/home/carbine/miniconda3/envs/fleishco/lib/python3.7/site-packages/calcbench/api_client.py:269: UserWarning: Did not find metrics {'incometaxespaid', 'paymentsofdividendsnoncontrollinginterest', 'totalinvestments', 'mediumtermnotes', 'trustpreferredsecurities', 'paymentsofdividendscommonstock', 'unsecureddebt', 'mortgagedebt', 'interestpaidnet', 'subordinateddebt', 'commonstockdividendspershare', 'paymentsofdividendspreferredstock', 'paymentsofdividends', 'restructuring', 'shortterminvestments'}\n",
      "  warnings.warn(\"Did not find metrics {0}\".format(missing_metrics))\n"
     ]
    },
    {
     "name": "stdout",
     "output_type": "stream",
     "text": [
      "data saved to data/financials/MDRX.csv\n",
      "1271: MDRX complete\n"
     ]
    },
    {
     "name": "stderr",
     "output_type": "stream",
     "text": [
      "/home/carbine/miniconda3/envs/fleishco/lib/python3.7/site-packages/calcbench/api_client.py:269: UserWarning: Did not find metrics {'trustpreferredsecurities', 'paymentsforrepurchaseofcommonstock', 'paymentsofdividendscommonstock', 'researchanddevelopment', 'currentlongtermdebt', 'paymentsofdividendspreferredstock', 'paymentsofdividends', 'shortterminvestments', 'seniornotes', 'acquisitiondivestitures', 'assetimpairment', 'mortgagedebt', 'restrictedcashandinvestmentscurrent', 'paymentsofdividendsnoncontrollinginterest', 'termloan', 'totalinvestments', 'mediumtermnotes', 'depreciationandamortizationexpense', 'longterminvestments', 'subordinateddebt', 'operatingexpenseexitems', 'stockrepurchasedduringperiodshares', 'restructuring', 'commonstockdividendspershare', 'convertibledebt'}\n",
      "  warnings.warn(\"Did not find metrics {0}\".format(missing_metrics))\n"
     ]
    },
    {
     "name": "stdout",
     "output_type": "stream",
     "text": [
      "data saved to data/financials/MDSN.csv\n",
      "1272: MDSN complete\n"
     ]
    },
    {
     "name": "stderr",
     "output_type": "stream",
     "text": [
      "/home/carbine/miniconda3/envs/fleishco/lib/python3.7/site-packages/calcbench/api_client.py:269: UserWarning: Did not find metrics {'commonstockdividendspershare', 'restrictedcashandinvestmentscurrent', 'paymentsofdividendsnoncontrollinginterest', 'secureddebt', 'totalinvestments', 'mediumtermnotes', 'trustpreferredsecurities', 'assetimpairment', 'paymentsofdividendscommonstock', 'unsecureddebt', 'mortgagedebt', 'stockrepurchasedduringperiodshares', 'subordinateddebt', 'lineofcreditfacilityamountoutstanding', 'paymentsofdividendspreferredstock', 'paymentsofdividends', 'restructuring', 'capitalassetsales'}\n",
      "  warnings.warn(\"Did not find metrics {0}\".format(missing_metrics))\n"
     ]
    },
    {
     "name": "stdout",
     "output_type": "stream",
     "text": [
      "data saved to data/financials/MDSO.csv\n",
      "1273: MDSO complete\n"
     ]
    },
    {
     "name": "stderr",
     "output_type": "stream",
     "text": [
      "/home/carbine/miniconda3/envs/fleishco/lib/python3.7/site-packages/calcbench/api_client.py:269: UserWarning: Did not find metrics {'paymentsofdividendsnoncontrollinginterest', 'totalinvestments', 'mediumtermnotes', 'trustpreferredsecurities', 'mortgagedebt', 'researchanddevelopment', 'restructuring', 'paymentsofdividendspreferredstock', 'convertibledebt', 'shortterminvestments'}\n",
      "  warnings.warn(\"Did not find metrics {0}\".format(missing_metrics))\n"
     ]
    },
    {
     "name": "stdout",
     "output_type": "stream",
     "text": [
      "data saved to data/financials/NXST.csv\n",
      "1277: NXST complete\n"
     ]
    },
    {
     "name": "stderr",
     "output_type": "stream",
     "text": [
      "/home/carbine/miniconda3/envs/fleishco/lib/python3.7/site-packages/calcbench/api_client.py:269: UserWarning: Did not find metrics {'operatingexpenseexitems', 'restrictedcashandinvestmentscurrent', 'paymentsofdividendsnoncontrollinginterest', 'termloan', 'sharebasedcompensation', 'totalinvestments', 'mediumtermnotes', 'trustpreferredsecurities', 'assetimpairment', 'unsecureddebt', 'longterminvestments', 'mortgagedebt', 'researchanddevelopment', 'restructuring', 'currentlongtermdebt', 'paymentsofdividendspreferredstock', 'convertibledebt'}\n",
      "  warnings.warn(\"Did not find metrics {0}\".format(missing_metrics))\n"
     ]
    },
    {
     "name": "stdout",
     "output_type": "stream",
     "text": [
      "data saved to data/financials/SFG.csv\n",
      "1278: SFG complete\n"
     ]
    },
    {
     "name": "stderr",
     "output_type": "stream",
     "text": [
      "/home/carbine/miniconda3/envs/fleishco/lib/python3.7/site-packages/calcbench/api_client.py:269: UserWarning: Did not find metrics {'paymentsofdividendsnoncontrollinginterest', 'termloan', 'totalinvestments', 'mediumtermnotes', 'trustpreferredsecurities', 'unsecureddebt', 'depreciationandamortizationexpense', 'availableforsalesecurities', 'subordinateddebt', 'restructuring', 'capitalassetsales'}\n",
      "  warnings.warn(\"Did not find metrics {0}\".format(missing_metrics))\n"
     ]
    },
    {
     "name": "stdout",
     "output_type": "stream",
     "text": [
      "data saved to data/financials/MELI.csv\n",
      "1279: MELI complete\n"
     ]
    },
    {
     "name": "stderr",
     "output_type": "stream",
     "text": [
      "/home/carbine/miniconda3/envs/fleishco/lib/python3.7/site-packages/calcbench/api_client.py:269: UserWarning: Did not find metrics {'paymentsofdividendsnoncontrollinginterest', 'secureddebt', 'seniornotes', 'totalinvestments', 'mediumtermnotes', 'trustpreferredsecurities', 'assetimpairment', 'paymentsofdividendscommonstock', 'unsecureddebt', 'mortgagedebt', 'longterminvestments', 'stockrepurchasedduringperiodshares', 'availableforsalesecurities', 'stockrepurchasedduringperiodvalue', 'paymentsofdividendspreferredstock'}\n",
      "  warnings.warn(\"Did not find metrics {0}\".format(missing_metrics))\n"
     ]
    },
    {
     "name": "stdout",
     "output_type": "stream",
     "text": [
      "data saved to data/financials/MENT.csv\n",
      "1281: MENT complete\n"
     ]
    },
    {
     "name": "stderr",
     "output_type": "stream",
     "text": [
      "/home/carbine/miniconda3/envs/fleishco/lib/python3.7/site-packages/calcbench/api_client.py:269: UserWarning: Did not find metrics {'restrictedcashandinvestmentscurrent', 'interestexpense', 'capex', 'paymentsofdividendsnoncontrollinginterest', 'termloan', 'capexgross', 'totalinvestments', 'sharebasedcompensation', 'mediumtermnotes', 'sgaexpense', 'trustpreferredsecurities', 'unsecureddebt', 'depreciationandamortizationexpense', 'longterminvestments', 'researchanddevelopment', 'restructuring', 'convertibledebt', 'capitalassetsales'}\n",
      "  warnings.warn(\"Did not find metrics {0}\".format(missing_metrics))\n"
     ]
    },
    {
     "name": "stdout",
     "output_type": "stream",
     "text": [
      "data saved to data/financials/MET.csv\n",
      "1284: MET complete\n"
     ]
    },
    {
     "name": "stderr",
     "output_type": "stream",
     "text": [
      "/home/carbine/miniconda3/envs/fleishco/lib/python3.7/site-packages/calcbench/api_client.py:269: UserWarning: Did not find metrics {'incometaxespaid', 'sgaexpense', 'trustpreferredsecurities', 'paymentsofdividendscommonstock', 'researchanddevelopment', 'interestpaidnet', 'paymentsofdividendspreferredstock', 'paymentsofdividends', 'assetimpairment', 'mortgagedebt', 'paymentsofdividendsnoncontrollinginterest', 'totalinvestments', 'mediumtermnotes', 'subordinateddebt', 'restructuring', 'operatingexpenseexitems', 'convertibledebt', 'commonstockdividendspershare', 'capitalassetsales'}\n",
      "  warnings.warn(\"Did not find metrics {0}\".format(missing_metrics))\n"
     ]
    },
    {
     "name": "stdout",
     "output_type": "stream",
     "text": [
      "data saved to data/financials/MGLN.csv\n",
      "1288: MGLN complete\n"
     ]
    },
    {
     "name": "stderr",
     "output_type": "stream",
     "text": [
      "/home/carbine/miniconda3/envs/fleishco/lib/python3.7/site-packages/calcbench/api_client.py:269: UserWarning: Did not find metrics {'paymentsofdividendsnoncontrollinginterest', 'secureddebt', 'seniornotes', 'termloan', 'totalinvestments', 'mediumtermnotes', 'trustpreferredsecurities', 'paymentsofdividendscommonstock', 'unsecureddebt', 'mortgagedebt', 'depreciationandamortizationexpense', 'longterminvestments', 'subordinateddebt', 'paymentsofdividendspreferredstock', 'convertibledebt'}\n",
      "  warnings.warn(\"Did not find metrics {0}\".format(missing_metrics))\n"
     ]
    },
    {
     "name": "stdout",
     "output_type": "stream",
     "text": [
      "data saved to data/financials/CIR.csv\n",
      "1289: CIR complete\n"
     ]
    },
    {
     "name": "stderr",
     "output_type": "stream",
     "text": [
      "/home/carbine/miniconda3/envs/fleishco/lib/python3.7/site-packages/calcbench/api_client.py:269: UserWarning: Did not find metrics {'paymentsofdividendsnoncontrollinginterest', 'termloan', 'totalinvestments', 'mediumtermnotes', 'trustpreferredsecurities', 'paymentsofdividendscommonstock', 'unsecureddebt', 'mortgagedebt', 'depreciationandamortizationexpense', 'restructuring', 'commonstockdividendspershare', 'currentlongtermdebt', 'paymentsofdividendspreferredstock', 'shortterminvestments'}\n",
      "  warnings.warn(\"Did not find metrics {0}\".format(missing_metrics))\n"
     ]
    },
    {
     "name": "stdout",
     "output_type": "stream",
     "text": [
      "data saved to data/financials/MHO.csv\n",
      "1292: MHO complete\n"
     ]
    },
    {
     "name": "stderr",
     "output_type": "stream",
     "text": [
      "/home/carbine/miniconda3/envs/fleishco/lib/python3.7/site-packages/calcbench/api_client.py:269: UserWarning: Did not find metrics {'sharebasedcompensation', 'totalinvestments', 'mediumtermnotes', 'trustpreferredsecurities', 'paymentsforrepurchaseofcommonstock', 'paymentsofdividendscommonstock', 'unsecureddebt', 'mortgagedebt', 'stockrepurchasedduringperiodshares', 'researchanddevelopment', 'availableforsalesecurities', 'subordinateddebt', 'stockrepurchasedduringperiodvalue', 'paymentsofdividendspreferredstock', 'restructuring', 'capitalassetsales', 'shortterminvestments'}\n",
      "  warnings.warn(\"Did not find metrics {0}\".format(missing_metrics))\n"
     ]
    },
    {
     "name": "stdout",
     "output_type": "stream",
     "text": [
      "data saved to data/financials/MIC.csv\n",
      "1295: MIC complete\n"
     ]
    },
    {
     "name": "stderr",
     "output_type": "stream",
     "text": [
      "/home/carbine/miniconda3/envs/fleishco/lib/python3.7/site-packages/calcbench/api_client.py:269: UserWarning: Did not find metrics {'restrictedcashandinvestmentscurrent', 'paymentsofdividendsnoncontrollinginterest', 'secureddebt', 'termloan', 'totalinvestments', 'acquisitiondivestitures', 'mediumtermnotes', 'trustpreferredsecurities', 'unsecureddebt', 'longterminvestments', 'mortgagedebt', 'researchanddevelopment', 'ppe', 'restructuring', 'currentlongtermdebt', 'paymentsofdividendspreferredstock', 'capitalassetsales', 'shortterminvestments'}\n",
      "  warnings.warn(\"Did not find metrics {0}\".format(missing_metrics))\n"
     ]
    },
    {
     "name": "stdout",
     "output_type": "stream",
     "text": [
      "data saved to data/financials/MIG.csv\n",
      "1296: MIG complete\n"
     ]
    },
    {
     "name": "stderr",
     "output_type": "stream",
     "text": [
      "/home/carbine/miniconda3/envs/fleishco/lib/python3.7/site-packages/calcbench/api_client.py:269: UserWarning: Did not find metrics {'restrictedcashandinvestmentscurrent', 'paymentsofdividendsnoncontrollinginterest', 'secureddebt', 'termloan', 'totalinvestments', 'mediumtermnotes', 'trustpreferredsecurities', 'paymentsofdividendscommonstock', 'unsecureddebt', 'mortgagedebt', 'longterminvestments', 'researchanddevelopment', 'subordinateddebt', 'currentlongtermdebt', 'paymentsofdividendspreferredstock', 'convertibledebt', 'shortterminvestments'}\n",
      "  warnings.warn(\"Did not find metrics {0}\".format(missing_metrics))\n"
     ]
    },
    {
     "name": "stdout",
     "output_type": "stream",
     "text": [
      "data saved to data/financials/MINI.csv\n",
      "1297: MINI complete\n"
     ]
    },
    {
     "name": "stderr",
     "output_type": "stream",
     "text": [
      "/home/carbine/miniconda3/envs/fleishco/lib/python3.7/site-packages/calcbench/api_client.py:269: UserWarning: Did not find metrics {'incometaxespaid', 'secureddebt', 'trustpreferredsecurities', 'paymentsofdividendscommonstock', 'interestpaidnet', 'availableforsalesecurities', 'paymentsofdividendspreferredstock', 'shortterminvestments', 'assetimpairment', 'unsecureddebt', 'mortgagedebt', 'paymentsofdividendsnoncontrollinginterest', 'termloan', 'totalinvestments', 'mediumtermnotes', 'depreciationandamortizationexpense', 'longterminvestments', 'subordinateddebt', 'operatingexpenseexitems', 'restructuring', 'convertibledebt'}\n",
      "  warnings.warn(\"Did not find metrics {0}\".format(missing_metrics))\n"
     ]
    },
    {
     "name": "stdout",
     "output_type": "stream",
     "text": [
      "data saved to data/financials/MJN.csv\n",
      "1298: MJN complete\n"
     ]
    },
    {
     "name": "stderr",
     "output_type": "stream",
     "text": [
      "/home/carbine/miniconda3/envs/fleishco/lib/python3.7/site-packages/calcbench/api_client.py:269: UserWarning: Did not find metrics {'restrictedcashandinvestmentscurrent', 'secureddebt', 'totalinvestments', 'mediumtermnotes', 'convertibledebt', 'trustpreferredsecurities', 'assetimpairment', 'unsecureddebt', 'depreciationandamortizationexpense', 'mortgagedebt', 'subordinateddebt', 'paymentsofdividendspreferredstock', 'restructuring', 'capitalassetsales', 'shortterminvestments'}\n",
      "  warnings.warn(\"Did not find metrics {0}\".format(missing_metrics))\n"
     ]
    },
    {
     "name": "stdout",
     "output_type": "stream",
     "text": [
      "data saved to data/financials/MLM.csv\n",
      "1300: MLM complete\n"
     ]
    },
    {
     "name": "stderr",
     "output_type": "stream",
     "text": [
      "/home/carbine/miniconda3/envs/fleishco/lib/python3.7/site-packages/calcbench/api_client.py:269: UserWarning: Did not find metrics {'operatingexpenseexitems', 'restrictedcashandinvestmentscurrent', 'paymentsofdividendsnoncontrollinginterest', 'totalinvestments', 'mediumtermnotes', 'convertibledebt', 'trustpreferredsecurities', 'assetimpairment', 'unsecureddebt', 'depreciationandamortizationexpense', 'mortgagedebt', 'longterminvestments', 'researchanddevelopment', 'availableforsalesecurities', 'subordinateddebt', 'paymentsofdividendspreferredstock', 'restructuring', 'shortterminvestments'}\n",
      "  warnings.warn(\"Did not find metrics {0}\".format(missing_metrics))\n"
     ]
    },
    {
     "name": "stdout",
     "output_type": "stream",
     "text": [
      "data saved to data/financials/MMC.csv\n",
      "1302: MMC complete\n"
     ]
    },
    {
     "name": "stderr",
     "output_type": "stream",
     "text": [
      "/home/carbine/miniconda3/envs/fleishco/lib/python3.7/site-packages/calcbench/api_client.py:269: UserWarning: Did not find metrics {'incometaxespaid', 'restrictedcashandinvestmentscurrent', 'paymentsofdividendsnoncontrollinginterest', 'secureddebt', 'termloan', 'totalinvestments', 'mediumtermnotes', 'convertibledebt', 'trustpreferredsecurities', 'paymentsofdividendscommonstock', 'unsecureddebt', 'mortgagedebt', 'researchanddevelopment', 'subordinateddebt', 'commonstockdividendspershare', 'paymentsofdividendspreferredstock', 'restructuring', 'shortterminvestments'}\n",
      "  warnings.warn(\"Did not find metrics {0}\".format(missing_metrics))\n"
     ]
    },
    {
     "name": "stdout",
     "output_type": "stream",
     "text": [
      "data saved to data/financials/MMLP.csv\n",
      "1303: MMLP complete\n"
     ]
    },
    {
     "name": "stderr",
     "output_type": "stream",
     "text": [
      "/home/carbine/miniconda3/envs/fleishco/lib/python3.7/site-packages/calcbench/api_client.py:269: UserWarning: Did not find metrics {'incometaxespaid', 'restrictedcashandinvestmentscurrent', 'paymentsofdividendsnoncontrollinginterest', 'termloan', 'totalinvestments', 'convertibledebt', 'trustpreferredsecurities', 'assetimpairment', 'unsecureddebt', 'depreciationandamortizationexpense', 'mortgagedebt', 'stockrepurchasedduringperiodshares', 'interestpaidnet', 'subordinateddebt', 'currentlongtermdebt', 'paymentsofdividendspreferredstock', 'restructuring'}\n",
      "  warnings.warn(\"Did not find metrics {0}\".format(missing_metrics))\n"
     ]
    },
    {
     "name": "stdout",
     "output_type": "stream",
     "text": [
      "data saved to data/financials/MMM.csv\n",
      "1304: MMM complete\n"
     ]
    },
    {
     "name": "stderr",
     "output_type": "stream",
     "text": [
      "/home/carbine/miniconda3/envs/fleishco/lib/python3.7/site-packages/calcbench/api_client.py:269: UserWarning: Did not find metrics {'restrictedcashandinvestmentscurrent', 'paymentsofdividendsnoncontrollinginterest', 'totalinvestments', 'mediumtermnotes', 'convertibledebt', 'trustpreferredsecurities', 'paymentsofdividendscommonstock', 'mortgagedebt', 'researchanddevelopment', 'stockrepurchasedduringperiodvalue', 'subordinateddebt', 'commonstockdividendspershare', 'paymentsofdividendspreferredstock', 'paymentsofdividends', 'restructuring', 'shortterminvestments'}\n",
      "  warnings.warn(\"Did not find metrics {0}\".format(missing_metrics))\n"
     ]
    },
    {
     "name": "stdout",
     "output_type": "stream",
     "text": [
      "data saved to data/financials/MNI.csv\n",
      "1307: MNI complete\n"
     ]
    },
    {
     "name": "stderr",
     "output_type": "stream",
     "text": [
      "/home/carbine/miniconda3/envs/fleishco/lib/python3.7/site-packages/calcbench/api_client.py:269: UserWarning: Did not find metrics {'secureddebt', 'trustpreferredsecurities', 'paymentsforrepurchaseofcommonstock', 'paymentsofdividendscommonstock', 'paymentsofdividendspreferredstock', 'paymentsofdividends', 'acquisitiondivestitures', 'unsecureddebt', 'mortgagedebt', 'stockrepurchasedduringperiodvalue', 'restrictedcashandinvestmentscurrent', 'paymentsofdividendsnoncontrollinginterest', 'termloan', 'totalinvestments', 'mediumtermnotes', 'depreciationandamortizationexpense', 'longterminvestments', 'subordinateddebt', 'stockrepurchasedduringperiodshares', 'restructuring', 'commonstockdividendspershare'}\n",
      "  warnings.warn(\"Did not find metrics {0}\".format(missing_metrics))\n"
     ]
    },
    {
     "name": "stdout",
     "output_type": "stream",
     "text": [
      "data saved to data/financials/MNKD.csv\n",
      "1308: MNKD complete\n"
     ]
    },
    {
     "name": "stderr",
     "output_type": "stream",
     "text": [
      "/home/carbine/miniconda3/envs/fleishco/lib/python3.7/site-packages/calcbench/api_client.py:269: UserWarning: Did not find metrics {'incometaxespaid', 'secureddebt', 'sgaexpense', 'trustpreferredsecurities', 'paymentsofdividendscommonstock', 'interestpaidnet', 'availableforsalesecurities', 'paymentsofdividendspreferredstock', 'shortterminvestments', 'seniornotes', 'assetimpairment', 'unsecureddebt', 'mortgagedebt', 'restrictedcashandinvestmentscurrent', 'paymentsofdividendsnoncontrollinginterest', 'termloan', 'totalinvestments', 'mediumtermnotes', 'subordinateddebt', 'sharebasedcompensation', 'stockrepurchasedduringperiodshares', 'convertibledebt', 'capitalassetsales'}\n",
      "  warnings.warn(\"Did not find metrics {0}\".format(missing_metrics))\n"
     ]
    },
    {
     "name": "stdout",
     "output_type": "stream",
     "text": [
      "data saved to data/financials/PM.csv\n",
      "1309: PM complete\n"
     ]
    },
    {
     "name": "stderr",
     "output_type": "stream",
     "text": [
      "/home/carbine/miniconda3/envs/fleishco/lib/python3.7/site-packages/calcbench/api_client.py:269: UserWarning: Did not find metrics {'paymentsofdividendsnoncontrollinginterest', 'secureddebt', 'totalinvestments', 'mediumtermnotes', 'trustpreferredsecurities', 'paymentsofdividendscommonstock', 'unsecureddebt', 'mortgagedebt', 'researchanddevelopment', 'subordinateddebt', 'commonstockdividendspershare', 'paymentsofdividendspreferredstock', 'paymentsofdividends', 'capitalassetsales'}\n",
      "  warnings.warn(\"Did not find metrics {0}\".format(missing_metrics))\n"
     ]
    },
    {
     "name": "stdout",
     "output_type": "stream",
     "text": [
      "data saved to data/financials/MOH.csv\n",
      "1312: MOH complete\n"
     ]
    },
    {
     "name": "stderr",
     "output_type": "stream",
     "text": [
      "/home/carbine/miniconda3/envs/fleishco/lib/python3.7/site-packages/calcbench/api_client.py:269: UserWarning: Did not find metrics {'restrictedcashandinvestmentscurrent', 'secureddebt', 'totalinvestments', 'mediumtermnotes', 'trustpreferredsecurities', 'assetimpairment', 'depreciationandamortizationexpense', 'mortgagedebt', 'researchanddevelopment', 'subordinateddebt', 'paymentsofdividendspreferredstock', 'convertibledebt', 'capitalassetsales', 'shortterminvestments'}\n",
      "  warnings.warn(\"Did not find metrics {0}\".format(missing_metrics))\n"
     ]
    },
    {
     "name": "stdout",
     "output_type": "stream",
     "text": [
      "data saved to data/financials/MOS.csv\n",
      "1313: MOS complete\n"
     ]
    },
    {
     "name": "stderr",
     "output_type": "stream",
     "text": [
      "/home/carbine/miniconda3/envs/fleishco/lib/python3.7/site-packages/calcbench/api_client.py:269: UserWarning: Did not find metrics {'restrictedcashandinvestmentscurrent', 'paymentsofdividendsnoncontrollinginterest', 'secureddebt', 'totalinvestments', 'mediumtermnotes', 'convertibledebt', 'trustpreferredsecurities', 'paymentsofdividendscommonstock', 'depreciationandamortizationexpense', 'mortgagedebt', 'longterminvestments', 'researchanddevelopment', 'availableforsalesecurities', 'subordinateddebt', 'paymentsofdividendspreferredstock', 'restructuring', 'shortterminvestments'}\n",
      "  warnings.warn(\"Did not find metrics {0}\".format(missing_metrics))\n"
     ]
    },
    {
     "name": "stdout",
     "output_type": "stream",
     "text": [
      "data saved to data/financials/MPG.csv\n",
      "1316: MPG complete\n"
     ]
    },
    {
     "name": "stderr",
     "output_type": "stream",
     "text": [
      "/home/carbine/miniconda3/envs/fleishco/lib/python3.7/site-packages/calcbench/api_client.py:269: UserWarning: Did not find metrics {'secureddebt', 'trustpreferredsecurities', 'paymentsforrepurchaseofcommonstock', 'paymentsofdividendscommonstock', 'researchanddevelopment', 'availableforsalesecurities', 'paymentsofdividendspreferredstock', 'shortterminvestments', 'unsecureddebt', 'mortgagedebt', 'stockrepurchasedduringperiodvalue', 'restrictedcashandinvestmentscurrent', 'paymentsofdividendsnoncontrollinginterest', 'termloan', 'totalinvestments', 'mediumtermnotes', 'subordinateddebt', 'sharebasedcompensation', 'stockrepurchasedduringperiodshares', 'restructuring', 'commonstockdividendspershare', 'convertibledebt', 'capitalassetsales'}\n",
      "  warnings.warn(\"Did not find metrics {0}\".format(missing_metrics))\n"
     ]
    },
    {
     "name": "stdout",
     "output_type": "stream",
     "text": [
      "data saved to data/financials/MPLX.csv\n",
      "1317: MPLX complete\n",
      "data saved to data/financials/MPO.csv\n",
      "1318: MPO complete\n"
     ]
    },
    {
     "name": "stderr",
     "output_type": "stream",
     "text": [
      "/home/carbine/miniconda3/envs/fleishco/lib/python3.7/site-packages/calcbench/api_client.py:269: UserWarning: Did not find metrics {'restrictedcashandinvestmentscurrent', 'interestexpense', 'secureddebt', 'termloan', 'totalinvestments', 'mediumtermnotes', 'trustpreferredsecurities', 'assetimpairment', 'depreciationandamortizationexpense', 'mortgagedebt', 'subordinateddebt', 'lineofcreditfacilityamountoutstanding', 'currentlongtermdebt', 'paymentsofdividendspreferredstock', 'convertibledebt', 'capitalassetsales'}\n",
      "  warnings.warn(\"Did not find metrics {0}\".format(missing_metrics))\n"
     ]
    },
    {
     "name": "stdout",
     "output_type": "stream",
     "text": [
      "data saved to data/financials/MRK.csv\n",
      "1319: MRK complete\n"
     ]
    },
    {
     "name": "stderr",
     "output_type": "stream",
     "text": [
      "/home/carbine/miniconda3/envs/fleishco/lib/python3.7/site-packages/calcbench/api_client.py:269: UserWarning: Did not find metrics {'termloan', 'totalinvestments', 'mediumtermnotes', 'convertibledebt', 'trustpreferredsecurities', 'paymentsofdividendscommonstock', 'longterminvestments', 'mortgagedebt', 'researchanddevelopment', 'availableforsalesecurities', 'subordinateddebt', 'commonstockdividendspershare', 'currentlongtermdebt', 'paymentsofdividendspreferredstock', 'restructuring', 'shortterminvestments'}\n",
      "  warnings.warn(\"Did not find metrics {0}\".format(missing_metrics))\n"
     ]
    },
    {
     "name": "stdout",
     "output_type": "stream",
     "text": [
      "data saved to data/financials/MRD.csv\n",
      "1320: MRD complete\n"
     ]
    },
    {
     "name": "stderr",
     "output_type": "stream",
     "text": [
      "/home/carbine/miniconda3/envs/fleishco/lib/python3.7/site-packages/calcbench/api_client.py:269: UserWarning: Did not find metrics {'secureddebt', 'trustpreferredsecurities', 'paymentsforrepurchaseofcommonstock', 'paymentsofdividendscommonstock', 'researchanddevelopment', 'availableforsalesecurities', 'lineofcreditfacilityamountoutstanding', 'paymentsofdividendspreferredstock', 'paymentsofdividends', 'shortterminvestments', 'seniornotes', 'acquisitiondivestitures', 'assetimpairment', 'unsecureddebt', 'mortgagedebt', 'stockrepurchasedduringperiodvalue', 'restrictedcashandinvestmentscurrent', 'paymentsofdividendsnoncontrollinginterest', 'termloan', 'totalinvestments', 'mediumtermnotes', 'depreciationandamortizationexpense', 'longterminvestments', 'subordinateddebt', 'operatingexpenseexitems', 'sharebasedcompensation', 'stockrepurchasedduringperiodshares', 'incometaxes', 'restructuring', 'commonstockdividendspershare', 'capitalassetsales'}\n",
      "  warnings.warn(\"Did not find metrics {0}\".format(missing_metrics))\n"
     ]
    },
    {
     "name": "stdout",
     "output_type": "stream",
     "text": [
      "data saved to data/financials/MRGE.csv\n",
      "1321: MRGE complete\n"
     ]
    },
    {
     "name": "stderr",
     "output_type": "stream",
     "text": [
      "/home/carbine/miniconda3/envs/fleishco/lib/python3.7/site-packages/calcbench/api_client.py:269: UserWarning: Did not find metrics {'paymentsofdividendsnoncontrollinginterest', 'seniornotes', 'totalinvestments', 'mediumtermnotes', 'trustpreferredsecurities', 'paymentsforrepurchaseofcommonstock', 'paymentsofdividendscommonstock', 'unsecureddebt', 'mortgagedebt', 'stockrepurchasedduringperiodshares', 'researchanddevelopment', 'stockrepurchasedduringperiodvalue', 'commonstockdividendspershare', 'currentlongtermdebt', 'paymentsofdividendspreferredstock', 'paymentsofdividends', 'shortterminvestments'}\n",
      "  warnings.warn(\"Did not find metrics {0}\".format(missing_metrics))\n"
     ]
    },
    {
     "name": "stdout",
     "output_type": "stream",
     "text": [
      "data saved to data/financials/MHGC.csv\n",
      "1322: MHGC complete\n"
     ]
    },
    {
     "name": "stderr",
     "output_type": "stream",
     "text": [
      "/home/carbine/miniconda3/envs/fleishco/lib/python3.7/site-packages/calcbench/api_client.py:269: UserWarning: Did not find metrics {'restrictedcashandinvestmentscurrent', 'interestexpense', 'secureddebt', 'paymentsofdividendsnoncontrollinginterest', 'termloan', 'totalinvestments', 'mediumtermnotes', 'convertibledebt', 'trustpreferredsecurities', 'paymentsofdividendscommonstock', 'mortgagedebt', 'researchanddevelopment', 'subordinateddebt', 'paymentsofdividendspreferredstock', 'restructuring'}\n",
      "  warnings.warn(\"Did not find metrics {0}\".format(missing_metrics))\n"
     ]
    },
    {
     "name": "stdout",
     "output_type": "stream",
     "text": [
      "data saved to data/financials/MRO.csv\n",
      "1323: MRO complete\n"
     ]
    },
    {
     "name": "stderr",
     "output_type": "stream",
     "text": [
      "/home/carbine/miniconda3/envs/fleishco/lib/python3.7/site-packages/calcbench/api_client.py:269: UserWarning: Did not find metrics {'incometaxespaid', 'restrictedcashandinvestmentscurrent', 'paymentsofdividendsnoncontrollinginterest', 'termloan', 'sharebasedcompensation', 'totalinvestments', 'mediumtermnotes', 'trustpreferredsecurities', 'paymentsofdividendscommonstock', 'longterminvestments', 'mortgagedebt', 'researchanddevelopment', 'interestpaidnet', 'subordinateddebt', 'paymentsofdividendspreferredstock', 'shortterminvestments'}\n",
      "  warnings.warn(\"Did not find metrics {0}\".format(missing_metrics))\n"
     ]
    },
    {
     "name": "stdout",
     "output_type": "stream",
     "text": [
      "data saved to data/financials/CIK0001645494.csv\n",
      "data saved to data/financials/X.csv\n",
      "1324: CIK0001645494 complete\n",
      "1324: X complete\n"
     ]
    },
    {
     "name": "stderr",
     "output_type": "stream",
     "text": [
      "/home/carbine/miniconda3/envs/fleishco/lib/python3.7/site-packages/calcbench/api_client.py:269: UserWarning: Did not find metrics {'incometaxespaid', 'paymentsofdividendsnoncontrollinginterest', 'secureddebt', 'totalinvestments', 'mediumtermnotes', 'trustpreferredsecurities', 'assetimpairment', 'paymentsofdividendscommonstock', 'unsecureddebt', 'mortgagedebt', 'interestpaidnet', 'availableforsalesecurities', 'subordinateddebt', 'paymentsofdividendspreferredstock', 'convertibledebt'}\n",
      "  warnings.warn(\"Did not find metrics {0}\".format(missing_metrics))\n"
     ]
    },
    {
     "name": "stdout",
     "output_type": "stream",
     "text": [
      "data saved to data/financials/MRVL.csv\n",
      "1325: MRVL complete\n"
     ]
    },
    {
     "name": "stderr",
     "output_type": "stream",
     "text": [
      "/home/carbine/miniconda3/envs/fleishco/lib/python3.7/site-packages/calcbench/api_client.py:269: UserWarning: Did not find metrics {'incometaxespaid', 'termloan', 'totalinvestments', 'mediumtermnotes', 'convertibledebt', 'trustpreferredsecurities', 'paymentsforrepurchaseofcommonstock', 'longterminvestments', 'mortgagedebt', 'stockrepurchasedduringperiodshares', 'researchanddevelopment', 'stockrepurchasedduringperiodvalue', 'subordinateddebt', 'commonstockdividendspershare', 'paymentsofdividendspreferredstock', 'restructuring', 'shortterminvestments'}\n",
      "  warnings.warn(\"Did not find metrics {0}\".format(missing_metrics))\n"
     ]
    },
    {
     "name": "stdout",
     "output_type": "stream",
     "text": [
      "data saved to data/financials/MTDR.csv\n",
      "1329: MTDR complete\n"
     ]
    },
    {
     "name": "stderr",
     "output_type": "stream",
     "text": [
      "/home/carbine/miniconda3/envs/fleishco/lib/python3.7/site-packages/calcbench/api_client.py:269: UserWarning: Did not find metrics {'incometaxespaid', 'sgaexpense', 'trustpreferredsecurities', 'paymentsofdividendscommonstock', 'currentliabilities', 'researchanddevelopment', 'currentlongtermdebt', 'paymentsofdividendspreferredstock', 'paymentsofdividends', 'shortterminvestments', 'acquisitiondivestitures', 'unsecureddebt', 'mortgagedebt', 'paymentsofdividendsnoncontrollinginterest', 'termloan', 'totalinvestments', 'mediumtermnotes', 'longterminvestments', 'sharebasedcompensation', 'restructuring', 'capitalassetsales'}\n",
      "  warnings.warn(\"Did not find metrics {0}\".format(missing_metrics))\n"
     ]
    },
    {
     "name": "stdout",
     "output_type": "stream",
     "text": [
      "data saved to data/financials/MTG.csv\n",
      "1330: MTG complete\n"
     ]
    },
    {
     "name": "stderr",
     "output_type": "stream",
     "text": [
      "/home/carbine/miniconda3/envs/fleishco/lib/python3.7/site-packages/calcbench/api_client.py:269: UserWarning: Did not find metrics {'incometaxespaid', 'sgaexpense', 'trustpreferredsecurities', 'paymentsofdividendscommonstock', 'researchanddevelopment', 'interestpaidnet', 'availableforsalesecurities', 'paymentsofdividendspreferredstock', 'shortterminvestments', 'seniornotes', 'unsecureddebt', 'mortgagedebt', 'paymentsofdividendsnoncontrollinginterest', 'totalinvestments', 'mediumtermnotes', 'longterminvestments', 'subordinateddebt', 'restructuring', 'convertibledebt', 'capitalassetsales'}\n",
      "  warnings.warn(\"Did not find metrics {0}\".format(missing_metrics))\n"
     ]
    },
    {
     "name": "stdout",
     "output_type": "stream",
     "text": [
      "data saved to data/financials/MTN.csv\n",
      "1332: MTN complete\n"
     ]
    },
    {
     "name": "stderr",
     "output_type": "stream",
     "text": [
      "/home/carbine/miniconda3/envs/fleishco/lib/python3.7/site-packages/calcbench/api_client.py:269: UserWarning: Did not find metrics {'commonstockdividendspershare', 'totalinvestments', 'mediumtermnotes', 'trustpreferredsecurities', 'assetimpairment', 'paymentsofdividendscommonstock', 'depreciationandamortizationexpense', 'mortgagedebt', 'subordinateddebt', 'lineofcreditfacilityamountoutstanding', 'paymentsofdividendspreferredstock', 'paymentsofdividends'}\n",
      "  warnings.warn(\"Did not find metrics {0}\".format(missing_metrics))\n"
     ]
    },
    {
     "name": "stdout",
     "output_type": "stream",
     "text": [
      "data saved to data/financials/MU.csv\n",
      "1335: MU complete\n"
     ]
    },
    {
     "name": "stderr",
     "output_type": "stream",
     "text": [
      "/home/carbine/miniconda3/envs/fleishco/lib/python3.7/site-packages/calcbench/api_client.py:269: UserWarning: Did not find metrics {'restrictedcashandinvestmentscurrent', 'paymentsofdividendsnoncontrollinginterest', 'secureddebt', 'seniornotes', 'termloan', 'totalinvestments', 'sharebasedcompensation', 'mediumtermnotes', 'convertibledebt', 'trustpreferredsecurities', 'unsecureddebt', 'longterminvestments', 'mortgagedebt', 'stockrepurchasedduringperiodshares', 'researchanddevelopment', 'subordinateddebt', 'paymentsofdividendspreferredstock', 'restructuring'}\n",
      "  warnings.warn(\"Did not find metrics {0}\".format(missing_metrics))\n"
     ]
    },
    {
     "name": "stdout",
     "output_type": "stream",
     "text": [
      "data saved to data/financials/MUR.csv\n",
      "1336: MUR complete\n"
     ]
    },
    {
     "name": "stderr",
     "output_type": "stream",
     "text": [
      "/home/carbine/miniconda3/envs/fleishco/lib/python3.7/site-packages/calcbench/api_client.py:269: UserWarning: Did not find metrics {'restrictedcashandinvestmentscurrent', 'paymentsofdividendsnoncontrollinginterest', 'seniornotes', 'termloan', 'totalinvestments', 'mediumtermnotes', 'convertibledebt', 'trustpreferredsecurities', 'unsecureddebt', 'stockrepurchasedduringperiodshares', 'researchanddevelopment', 'subordinateddebt', 'currentlongtermdebt', 'paymentsofdividendspreferredstock', 'restructuring', 'capitalassetsales', 'shortterminvestments'}\n",
      "  warnings.warn(\"Did not find metrics {0}\".format(missing_metrics))\n"
     ]
    },
    {
     "name": "stdout",
     "output_type": "stream",
     "text": [
      "data saved to data/financials/AMRE.csv\n",
      "1337: AMRE complete\n"
     ]
    },
    {
     "name": "stderr",
     "output_type": "stream",
     "text": [
      "/home/carbine/miniconda3/envs/fleishco/lib/python3.7/site-packages/calcbench/api_client.py:269: UserWarning: Did not find metrics {'incometaxespaid', 'restrictedcashandinvestmentscurrent', 'secureddebt', 'seniornotes', 'termloan', 'totalinvestments', 'mediumtermnotes', 'trustpreferredsecurities', 'paymentsofdividendscommonstock', 'unsecureddebt', 'mortgagedebt', 'researchanddevelopment', 'availableforsalesecurities', 'convertibledebt', 'currentlongtermdebt', 'paymentsofdividendspreferredstock', 'shortterminvestments'}\n",
      "  warnings.warn(\"Did not find metrics {0}\".format(missing_metrics))\n"
     ]
    },
    {
     "name": "stdout",
     "output_type": "stream",
     "text": [
      "data saved to data/financials/MLI.csv\n",
      "1339: MLI complete\n"
     ]
    },
    {
     "name": "stderr",
     "output_type": "stream",
     "text": [
      "/home/carbine/miniconda3/envs/fleishco/lib/python3.7/site-packages/calcbench/api_client.py:269: UserWarning: Did not find metrics {'incometaxespaid', 'restrictedcashandinvestmentscurrent', 'paymentsofdividendsnoncontrollinginterest', 'termloan', 'totalinvestments', 'mediumtermnotes', 'trustpreferredsecurities', 'assetimpairment', 'paymentsofdividendscommonstock', 'depreciationandamortizationexpense', 'mortgagedebt', 'longterminvestments', 'interestpaidnet', 'convertibledebt', 'paymentsofdividendspreferredstock', 'shortterminvestments'}\n",
      "  warnings.warn(\"Did not find metrics {0}\".format(missing_metrics))\n"
     ]
    },
    {
     "name": "stdout",
     "output_type": "stream",
     "text": [
      "data saved to data/financials/MWA.csv\n",
      "1340: MWA complete\n"
     ]
    },
    {
     "name": "stderr",
     "output_type": "stream",
     "text": [
      "/home/carbine/miniconda3/envs/fleishco/lib/python3.7/site-packages/calcbench/api_client.py:269: UserWarning: Did not find metrics {'secureddebt', 'trustpreferredsecurities', 'paymentsforrepurchaseofcommonstock', 'researchanddevelopment', 'availableforsalesecurities', 'currentlongtermdebt', 'paymentsofdividendspreferredstock', 'shortterminvestments', 'unsecureddebt', 'mortgagedebt', 'stockrepurchasedduringperiodvalue', 'termloan', 'totalinvestments', 'mediumtermnotes', 'subordinateddebt', 'restructuring', 'stockrepurchasedduringperiodshares', 'convertibledebt', 'commonstockdividendspershare'}\n",
      "  warnings.warn(\"Did not find metrics {0}\".format(missing_metrics))\n"
     ]
    },
    {
     "name": "stdout",
     "output_type": "stream",
     "text": [
      "data saved to data/financials/MWE.csv\n",
      "1341: MWE complete\n"
     ]
    },
    {
     "name": "stderr",
     "output_type": "stream",
     "text": [
      "/home/carbine/miniconda3/envs/fleishco/lib/python3.7/site-packages/calcbench/api_client.py:269: UserWarning: Did not find metrics {'secureddebt', 'trustpreferredsecurities', 'paymentsofdividendscommonstock', 'researchanddevelopment', 'availableforsalesecurities', 'paymentsofdividendspreferredstock', 'assetimpairment', 'unsecureddebt', 'mortgagedebt', 'stockrepurchasedduringperiodvalue', 'restrictedcashandinvestmentscurrent', 'paymentsofdividendsnoncontrollinginterest', 'termloan', 'totalinvestments', 'mediumtermnotes', 'subordinateddebt', 'operatingexpenseexitems', 'stockrepurchasedduringperiodshares', 'restructuring', 'commonstockdividendspershare', 'capitalassetsales'}\n",
      "  warnings.warn(\"Did not find metrics {0}\".format(missing_metrics))\n"
     ]
    },
    {
     "name": "stdout",
     "output_type": "stream",
     "text": [
      "data saved to data/financials/W.csv\n",
      "1342: W complete\n"
     ]
    },
    {
     "name": "stderr",
     "output_type": "stream",
     "text": [
      "/home/carbine/miniconda3/envs/fleishco/lib/python3.7/site-packages/calcbench/api_client.py:269: UserWarning: Did not find metrics {'restrictedcashandinvestmentscurrent', 'paymentsofdividendsnoncontrollinginterest', 'secureddebt', 'seniornotes', 'termloan', 'totalinvestments', 'mediumtermnotes', 'trustpreferredsecurities', 'paymentsofdividendscommonstock', 'unsecureddebt', 'mortgagedebt', 'longterminvestments', 'subordinateddebt', 'lineofcreditfacilityamountoutstanding', 'paymentsofdividendspreferredstock', 'convertibledebt'}\n",
      "  warnings.warn(\"Did not find metrics {0}\".format(missing_metrics))\n"
     ]
    },
    {
     "name": "stdout",
     "output_type": "stream",
     "text": [
      "data saved to data/financials/MXIM.csv\n",
      "1344: MXIM complete\n"
     ]
    },
    {
     "name": "stderr",
     "output_type": "stream",
     "text": [
      "/home/carbine/miniconda3/envs/fleishco/lib/python3.7/site-packages/calcbench/api_client.py:269: UserWarning: Did not find metrics {'incometaxespaid', 'restrictedcashandinvestmentscurrent', 'paymentsofdividendsnoncontrollinginterest', 'sharebasedcompensation', 'totalinvestments', 'trustpreferredsecurities', 'paymentsofdividendscommonstock', 'unsecureddebt', 'mortgagedebt', 'longterminvestments', 'interestpaidnet', 'availableforsalesecurities', 'subordinateddebt', 'paymentsofdividendspreferredstock', 'convertibledebt', 'shortterminvestments'}\n",
      "  warnings.warn(\"Did not find metrics {0}\".format(missing_metrics))\n"
     ]
    },
    {
     "name": "stdout",
     "output_type": "stream",
     "text": [
      "data saved to data/financials/WHR.csv\n",
      "1346: WHR complete\n"
     ]
    },
    {
     "name": "stderr",
     "output_type": "stream",
     "text": [
      "/home/carbine/miniconda3/envs/fleishco/lib/python3.7/site-packages/calcbench/api_client.py:269: UserWarning: Did not find metrics {'incometaxespaid', 'paymentsofdividendsnoncontrollinginterest', 'secureddebt', 'totalinvestments', 'trustpreferredsecurities', 'assetimpairment', 'paymentsofdividendscommonstock', 'unsecureddebt', 'mortgagedebt', 'depreciationandamortizationexpense', 'longterminvestments', 'interestpaidnet', 'subordinateddebt', 'commonstockdividendspershare', 'restructuring'}\n",
      "  warnings.warn(\"Did not find metrics {0}\".format(missing_metrics))\n"
     ]
    },
    {
     "name": "stdout",
     "output_type": "stream",
     "text": [
      "data saved to data/financials/MYL.csv\n",
      "1347: MYL complete\n"
     ]
    },
    {
     "name": "stderr",
     "output_type": "stream",
     "text": [
      "/home/carbine/miniconda3/envs/fleishco/lib/python3.7/site-packages/calcbench/api_client.py:269: UserWarning: Did not find metrics {'secureddebt', 'trustpreferredsecurities', 'paymentsofdividendscommonstock', 'lineofcreditfacilityamountoutstanding', 'paymentsofdividendspreferredstock', 'paymentsofdividends', 'assetimpairment', 'unsecureddebt', 'mortgagedebt', 'restrictedcashandinvestmentscurrent', 'paymentsofdividendsnoncontrollinginterest', 'termloan', 'totalinvestments', 'mediumtermnotes', 'depreciationandamortizationexpense', 'subordinateddebt', 'operatingexpenseexitems', 'restructuring', 'commonstockdividendspershare'}\n",
      "  warnings.warn(\"Did not find metrics {0}\".format(missing_metrics))\n"
     ]
    },
    {
     "name": "stdout",
     "output_type": "stream",
     "text": [
      "data saved to data/financials/N.csv\n",
      "1349: N complete\n"
     ]
    },
    {
     "name": "stderr",
     "output_type": "stream",
     "text": [
      "/home/carbine/miniconda3/envs/fleishco/lib/python3.7/site-packages/calcbench/api_client.py:269: UserWarning: Did not find metrics {'incometaxespaid', 'restrictedcashandinvestmentscurrent', 'secureddebt', 'termloan', 'totalinvestments', 'mediumtermnotes', 'trustpreferredsecurities', 'assetimpairment', 'longterminvestments', 'mortgagedebt', 'interestpaidnet', 'subordinateddebt', 'paymentsofdividendspreferredstock', 'convertibledebt'}\n",
      "  warnings.warn(\"Did not find metrics {0}\".format(missing_metrics))\n"
     ]
    },
    {
     "name": "stdout",
     "output_type": "stream",
     "text": [
      "data saved to data/financials/ORCL.csv\n",
      "1350: ORCL complete\n"
     ]
    },
    {
     "name": "stderr",
     "output_type": "stream",
     "text": [
      "/home/carbine/miniconda3/envs/fleishco/lib/python3.7/site-packages/calcbench/api_client.py:269: UserWarning: Did not find metrics {'incometaxespaid', 'totalinvestments', 'mediumtermnotes', 'trustpreferredsecurities', 'paymentsofdividendscommonstock', 'unsecureddebt', 'mortgagedebt', 'depreciationandamortizationexpense', 'interestpaidnet', 'commonstockdividendspershare', 'currentlongtermdebt', 'paymentsofdividendspreferredstock', 'paymentsofdividends'}\n",
      "  warnings.warn(\"Did not find metrics {0}\".format(missing_metrics))\n"
     ]
    },
    {
     "name": "stdout",
     "output_type": "stream",
     "text": [
      "data saved to data/financials/NAV.csv\n",
      "1351: NAV complete\n"
     ]
    },
    {
     "name": "stderr",
     "output_type": "stream",
     "text": [
      "/home/carbine/miniconda3/envs/fleishco/lib/python3.7/site-packages/calcbench/api_client.py:269: UserWarning: Did not find metrics {'paymentsofdividendsnoncontrollinginterest', 'secureddebt', 'termloan', 'totalinvestments', 'mediumtermnotes', 'convertibledebt', 'trustpreferredsecurities', 'paymentsofdividendscommonstock', 'unsecureddebt', 'mortgagedebt', 'depreciationandamortizationexpense', 'researchanddevelopment', 'ppe', 'subordinateddebt', 'currentlongtermdebt', 'paymentsofdividendspreferredstock', 'restructuring', 'capitalassetsales'}\n",
      "  warnings.warn(\"Did not find metrics {0}\".format(missing_metrics))\n"
     ]
    },
    {
     "name": "stdout",
     "output_type": "stream",
     "text": [
      "data saved to data/financials/NAVG.csv\n",
      "1352: NAVG complete\n"
     ]
    },
    {
     "name": "stderr",
     "output_type": "stream",
     "text": [
      "/home/carbine/miniconda3/envs/fleishco/lib/python3.7/site-packages/calcbench/api_client.py:269: UserWarning: Did not find metrics {'restrictedcashandinvestmentscurrent', 'capex', 'paymentsofdividendsnoncontrollinginterest', 'termloan', 'capexgross', 'totalinvestments', 'acquisitiondivestitures', 'mediumtermnotes', 'trustpreferredsecurities', 'assetimpairment', 'longterminvestments', 'mortgagedebt', 'researchanddevelopment', 'convertibledebt', 'lineofcreditfacilityamountoutstanding', 'currentlongtermdebt', 'capitalassetsales', 'shortterminvestments'}\n",
      "  warnings.warn(\"Did not find metrics {0}\".format(missing_metrics))\n"
     ]
    },
    {
     "name": "stdout",
     "output_type": "stream",
     "text": [
      "data saved to data/financials/SLM.csv\n",
      "1354: SLM complete\n"
     ]
    },
    {
     "name": "stderr",
     "output_type": "stream",
     "text": [
      "/home/carbine/miniconda3/envs/fleishco/lib/python3.7/site-packages/calcbench/api_client.py:269: UserWarning: Did not find metrics {'incometaxespaid', 'restrictedcashandinvestmentscurrent', 'paymentsofdividendsnoncontrollinginterest', 'secureddebt', 'totalinvestments', 'mediumtermnotes', 'trustpreferredsecurities', 'paymentsofdividendscommonstock', 'mortgagedebt', 'subordinateddebt', 'restructuring'}\n",
      "  warnings.warn(\"Did not find metrics {0}\".format(missing_metrics))\n"
     ]
    },
    {
     "name": "stdout",
     "output_type": "stream",
     "text": [
      "data saved to data/financials/NBR.csv\n",
      "1356: NBR complete\n"
     ]
    },
    {
     "name": "stderr",
     "output_type": "stream",
     "text": [
      "/home/carbine/miniconda3/envs/fleishco/lib/python3.7/site-packages/calcbench/api_client.py:269: UserWarning: Did not find metrics {'incometaxespaid', 'capex', 'secureddebt', 'trustpreferredsecurities', 'paymentsforrepurchaseofcommonstock', 'paymentsofdividendscommonstock', 'sharesoutstandingendofperiod', 'avgdilutedsharesoutstanding', 'interestpaidnet', 'lineofcreditfacilityamountoutstanding', 'currentlongtermdebt', 'paymentsofdividendspreferredstock', 'paymentsofdividends', 'shortterminvestments', 'seniornotes', 'acquisitiondivestitures', 'assetimpairment', 'financingcashflow', 'unsecureddebt', 'mortgagedebt', 'operatingcashflow', 'stockrepurchasedduringperiodvalue', 'depreciationamortization', 'restrictedcashandinvestmentscurrent', 'investingcashflow', 'paymentsofdividendsnoncontrollinginterest', 'termloan', 'capexgross', 'totalinvestments', 'mediumtermnotes', 'depreciationandamortizationexpense', 'longterminvestments', 'subordinateddebt', 'avgsharesoutstandingbasic', 'operatingexpenseexitems', 'sharebasedcompensation', 'longtermdebt', 'totaldebt', 'stockrepurchasedduringperiodshares', 'incometaxes', 'restructuring', 'commonstockdividendspershare', 'convertibledebt', 'capitalassetsales'}\n",
      "  warnings.warn(\"Did not find metrics {0}\".format(missing_metrics))\n"
     ]
    },
    {
     "name": "stdout",
     "output_type": "stream",
     "text": [
      "data saved to data/financials/NVS.csv\n",
      "1357: NVS complete\n"
     ]
    },
    {
     "name": "stderr",
     "output_type": "stream",
     "text": [
      "/home/carbine/miniconda3/envs/fleishco/lib/python3.7/site-packages/calcbench/api_client.py:269: UserWarning: Did not find metrics {'incometaxespaid', 'trustpreferredsecurities', 'paymentsofdividendscommonstock', 'researchanddevelopment', 'interestpaidnet', 'availableforsalesecurities', 'lineofcreditfacilityamountoutstanding', 'paymentsofdividendspreferredstock', 'shortterminvestments', 'assetimpairment', 'mortgagedebt', 'restrictedcashandinvestmentscurrent', 'paymentsofdividendsnoncontrollinginterest', 'totalinvestments', 'mediumtermnotes', 'longterminvestments', 'subordinateddebt', 'operatingexpenseexitems', 'restructuring', 'commonstockdividendspershare', 'convertibledebt', 'capitalassetsales'}\n",
      "  warnings.warn(\"Did not find metrics {0}\".format(missing_metrics))\n"
     ]
    },
    {
     "name": "stdout",
     "output_type": "stream",
     "text": [
      "data saved to data/financials/NCLH.csv\n",
      "1358: NCLH complete\n"
     ]
    },
    {
     "name": "stderr",
     "output_type": "stream",
     "text": [
      "/home/carbine/miniconda3/envs/fleishco/lib/python3.7/site-packages/calcbench/api_client.py:269: UserWarning: Did not find metrics {'restrictedcashandinvestmentscurrent', 'paymentsofdividendsnoncontrollinginterest', 'totalinvestments', 'mediumtermnotes', 'convertibledebt', 'trustpreferredsecurities', 'paymentsforrepurchaseofcommonstock', 'assetimpairment', 'mortgagedebt', 'stockrepurchasedduringperiodshares', 'stockrepurchasedduringperiodvalue', 'subordinateddebt', 'paymentsofdividendspreferredstock', 'restructuring'}\n",
      "  warnings.warn(\"Did not find metrics {0}\".format(missing_metrics))\n"
     ]
    },
    {
     "name": "stdout",
     "output_type": "stream",
     "text": [
      "data saved to data/financials/NCMI.csv\n",
      "1359: NCMI complete\n"
     ]
    },
    {
     "name": "stderr",
     "output_type": "stream",
     "text": [
      "/home/carbine/miniconda3/envs/fleishco/lib/python3.7/site-packages/calcbench/api_client.py:269: UserWarning: Did not find metrics {'paymentsofdividendsnoncontrollinginterest', 'secureddebt', 'totalinvestments', 'mediumtermnotes', 'trustpreferredsecurities', 'paymentsofdividendscommonstock', 'longterminvestments', 'mortgagedebt', 'researchanddevelopment', 'subordinateddebt', 'paymentsofdividendspreferredstock', 'capitalassetsales'}\n",
      "  warnings.warn(\"Did not find metrics {0}\".format(missing_metrics))\n"
     ]
    },
    {
     "name": "stdout",
     "output_type": "stream",
     "text": [
      "data saved to data/financials/NDAQ.csv\n",
      "1362: NDAQ complete\n"
     ]
    },
    {
     "name": "stderr",
     "output_type": "stream",
     "text": [
      "/home/carbine/miniconda3/envs/fleishco/lib/python3.7/site-packages/calcbench/api_client.py:269: UserWarning: Did not find metrics {'restrictedcashandinvestmentscurrent', 'secureddebt', 'sharebasedcompensation', 'totalinvestments', 'mediumtermnotes', 'trustpreferredsecurities', 'mortgagedebt', 'subordinateddebt', 'paymentsofdividendspreferredstock', 'restructuring'}\n",
      "  warnings.warn(\"Did not find metrics {0}\".format(missing_metrics))\n"
     ]
    },
    {
     "name": "stdout",
     "output_type": "stream",
     "text": [
      "data saved to data/financials/NEM.csv\n",
      "1365: NEM complete\n"
     ]
    },
    {
     "name": "stderr",
     "output_type": "stream",
     "text": [
      "/home/carbine/miniconda3/envs/fleishco/lib/python3.7/site-packages/calcbench/api_client.py:269: UserWarning: Did not find metrics {'operatingexpenseexitems', 'paymentsofdividendsnoncontrollinginterest', 'termloan', 'totalinvestments', 'mediumtermnotes', 'trustpreferredsecurities', 'assetimpairment', 'unsecureddebt', 'depreciationandamortizationexpense', 'mortgagedebt', 'longterminvestments', 'researchanddevelopment', 'restructuring', 'currentlongtermdebt', 'paymentsofdividendspreferredstock', 'convertibledebt', 'capitalassetsales', 'shortterminvestments'}\n",
      "  warnings.warn(\"Did not find metrics {0}\".format(missing_metrics))\n"
     ]
    },
    {
     "name": "stdout",
     "output_type": "stream",
     "text": [
      "data saved to data/financials/NEWS.csv\n",
      "1368: NEWS complete\n"
     ]
    },
    {
     "name": "stderr",
     "output_type": "stream",
     "text": [
      "/home/carbine/miniconda3/envs/fleishco/lib/python3.7/site-packages/calcbench/api_client.py:269: UserWarning: Did not find metrics {'incometaxespaid', 'secureddebt', 'trustpreferredsecurities', 'paymentsforrepurchaseofcommonstock', 'researchanddevelopment', 'interestpaidnet', 'availableforsalesecurities', 'lineofcreditfacilityamountoutstanding', 'paymentsofdividendspreferredstock', 'shortterminvestments', 'seniornotes', 'unsecureddebt', 'mortgagedebt', 'paymentsofdividendsnoncontrollinginterest', 'termloan', 'totalinvestments', 'subordinateddebt', 'restructuring', 'convertibledebt'}\n",
      "  warnings.warn(\"Did not find metrics {0}\".format(missing_metrics))\n"
     ]
    },
    {
     "name": "stdout",
     "output_type": "stream",
     "text": [
      "data saved to data/financials/NFG.csv\n",
      "1369: NFG complete\n"
     ]
    },
    {
     "name": "stderr",
     "output_type": "stream",
     "text": [
      "/home/carbine/miniconda3/envs/fleishco/lib/python3.7/site-packages/calcbench/api_client.py:269: UserWarning: Did not find metrics {'incometaxespaid', 'secureddebt', 'trustpreferredsecurities', 'paymentsofdividendscommonstock', 'paymentsofdividendspreferredstock', 'paymentsofdividends', 'acquisitiondivestitures', 'assetimpairment', 'unsecureddebt', 'mortgagedebt', 'restrictedcashandinvestmentscurrent', 'paymentsofdividendsnoncontrollinginterest', 'termloan', 'totalinvestments', 'mediumtermnotes', 'depreciationandamortizationexpense', 'longterminvestments', 'subordinateddebt', 'restructuring', 'commonstockdividendspershare'}\n",
      "  warnings.warn(\"Did not find metrics {0}\".format(missing_metrics))\n"
     ]
    },
    {
     "name": "stdout",
     "output_type": "stream",
     "text": [
      "data saved to data/financials/NFLX.csv\n",
      "1370: NFLX complete\n"
     ]
    },
    {
     "name": "stderr",
     "output_type": "stream",
     "text": [
      "/home/carbine/miniconda3/envs/fleishco/lib/python3.7/site-packages/calcbench/api_client.py:269: UserWarning: Did not find metrics {'secureddebt', 'trustpreferredsecurities', 'paymentsofdividendscommonstock', 'researchanddevelopment', 'availableforsalesecurities', 'paymentsofdividendspreferredstock', 'shortterminvestments', 'seniornotes', 'unsecureddebt', 'mortgagedebt', 'stockrepurchasedduringperiodvalue', 'termloan', 'totalinvestments', 'mediumtermnotes', 'longterminvestments', 'subordinateddebt', 'stockrepurchasedduringperiodshares', 'restructuring', 'commonstockdividendspershare', 'capitalassetsales'}\n",
      "  warnings.warn(\"Did not find metrics {0}\".format(missing_metrics))\n"
     ]
    },
    {
     "name": "stdout",
     "output_type": "stream",
     "text": [
      "data saved to data/financials/NFP.csv\n",
      "1371: NFP complete\n"
     ]
    },
    {
     "name": "stderr",
     "output_type": "stream",
     "text": [
      "/home/carbine/miniconda3/envs/fleishco/lib/python3.7/site-packages/calcbench/api_client.py:269: UserWarning: Did not find metrics {'restrictedcashandinvestmentscurrent', 'termloan', 'totalinvestments', 'mediumtermnotes', 'convertibledebt', 'trustpreferredsecurities', 'paymentsforrepurchaseofcommonstock', 'assetimpairment', 'mortgagedebt', 'stockrepurchasedduringperiodshares', 'researchanddevelopment', 'stockrepurchasedduringperiodvalue', 'subordinateddebt', 'restructuring', 'shortterminvestments'}\n",
      "  warnings.warn(\"Did not find metrics {0}\".format(missing_metrics))\n"
     ]
    },
    {
     "name": "stdout",
     "output_type": "stream",
     "text": [
      "data saved to data/financials/NGL.csv\n",
      "1373: NGL complete\n"
     ]
    },
    {
     "name": "stderr",
     "output_type": "stream",
     "text": [
      "/home/carbine/miniconda3/envs/fleishco/lib/python3.7/site-packages/calcbench/api_client.py:269: UserWarning: Did not find metrics {'trustpreferredsecurities', 'paymentsforrepurchaseofcommonstock', 'paymentsofdividendscommonstock', 'researchanddevelopment', 'availableforsalesecurities', 'paymentsofdividendspreferredstock', 'shortterminvestments', 'mortgagedebt', 'stockrepurchasedduringperiodvalue', 'restrictedcashandinvestmentscurrent', 'paymentsofdividendsnoncontrollinginterest', 'termloan', 'totalinvestments', 'mediumtermnotes', 'subordinateddebt', 'restructuring', 'stockrepurchasedduringperiodshares', 'convertibledebt', 'commonstockdividendspershare'}\n",
      "  warnings.warn(\"Did not find metrics {0}\".format(missing_metrics))\n"
     ]
    },
    {
     "name": "stdout",
     "output_type": "stream",
     "text": [
      "data saved to data/financials/NGLS.csv\n",
      "1374: NGLS complete\n"
     ]
    },
    {
     "name": "stderr",
     "output_type": "stream",
     "text": [
      "/home/carbine/miniconda3/envs/fleishco/lib/python3.7/site-packages/calcbench/api_client.py:269: UserWarning: Did not find metrics {'incometaxespaid', 'trustpreferredsecurities', 'paymentsforrepurchaseofcommonstock', 'paymentsofdividendscommonstock', 'researchanddevelopment', 'currentlongtermdebt', 'paymentsofdividendspreferredstock', 'shortterminvestments', 'assetimpairment', 'mortgagedebt', 'stockrepurchasedduringperiodvalue', 'restrictedcashandinvestmentscurrent', 'paymentsofdividendsnoncontrollinginterest', 'totalinvestments', 'mediumtermnotes', 'subordinateddebt', 'operatingexpenseexitems', 'stockrepurchasedduringperiodshares', 'incometaxes', 'restructuring', 'capitalassetsales'}\n",
      "  warnings.warn(\"Did not find metrics {0}\".format(missing_metrics))\n"
     ]
    },
    {
     "name": "stdout",
     "output_type": "stream",
     "text": [
      "data saved to data/financials/NHI.csv\n",
      "1376: NHI complete\n"
     ]
    },
    {
     "name": "stderr",
     "output_type": "stream",
     "text": [
      "/home/carbine/miniconda3/envs/fleishco/lib/python3.7/site-packages/calcbench/api_client.py:269: UserWarning: Did not find metrics {'incometaxespaid', 'trustpreferredsecurities', 'paymentsforrepurchaseofcommonstock', 'paymentsofdividendscommonstock', 'researchanddevelopment', 'interestpaidnet', 'currentlongtermdebt', 'paymentsofdividendspreferredstock', 'shortterminvestments', 'seniornotes', 'assetimpairment', 'mortgagedebt', 'stockrepurchasedduringperiodvalue', 'restrictedcashandinvestmentscurrent', 'paymentsofdividendsnoncontrollinginterest', 'termloan', 'totalinvestments', 'mediumtermnotes', 'subordinateddebt', 'stockrepurchasedduringperiodshares', 'incometaxes', 'restructuring', 'convertibledebt', 'capitalassetsales'}\n",
      "  warnings.warn(\"Did not find metrics {0}\".format(missing_metrics))\n"
     ]
    },
    {
     "name": "stdout",
     "output_type": "stream",
     "text": [
      "data saved to data/financials/NHP.csv\n",
      "1377: NHP complete\n"
     ]
    },
    {
     "name": "stderr",
     "output_type": "stream",
     "text": [
      "/home/carbine/miniconda3/envs/fleishco/lib/python3.7/site-packages/calcbench/api_client.py:269: UserWarning: Did not find metrics {'incometaxespaid', 'totalinvestments', 'mediumtermnotes', 'trustpreferredsecurities', 'paymentsofdividendscommonstock', 'depreciationandamortizationexpense', 'mortgagedebt', 'interestpaidnet', 'subordinateddebt', 'currentlongtermdebt', 'paymentsofdividendspreferredstock', 'convertibledebt'}\n",
      "  warnings.warn(\"Did not find metrics {0}\".format(missing_metrics))\n"
     ]
    },
    {
     "name": "stdout",
     "output_type": "stream",
     "text": [
      "data saved to data/financials/VC.csv\n",
      "1378: VC complete\n"
     ]
    },
    {
     "name": "stderr",
     "output_type": "stream",
     "text": [
      "/home/carbine/miniconda3/envs/fleishco/lib/python3.7/site-packages/calcbench/api_client.py:269: UserWarning: Did not find metrics {'paymentsofdividendsnoncontrollinginterest', 'secureddebt', 'termloan', 'totalinvestments', 'mediumtermnotes', 'convertibledebt', 'trustpreferredsecurities', 'assetimpairment', 'mortgagedebt', 'researchanddevelopment', 'availableforsalesecurities', 'subordinateddebt', 'restructuring', 'shortterminvestments'}\n",
      "  warnings.warn(\"Did not find metrics {0}\".format(missing_metrics))\n"
     ]
    },
    {
     "name": "stdout",
     "output_type": "stream",
     "text": [
      "data saved to data/financials/NI.csv\n",
      "1380: NI complete\n"
     ]
    },
    {
     "name": "stderr",
     "output_type": "stream",
     "text": [
      "/home/carbine/miniconda3/envs/fleishco/lib/python3.7/site-packages/calcbench/api_client.py:269: UserWarning: Did not find metrics {'incometaxespaid', 'secureddebt', 'trustpreferredsecurities', 'paymentsofdividendscommonstock', 'researchanddevelopment', 'interestpaidnet', 'paymentsofdividendspreferredstock', 'paymentsofdividends', 'acquisitiondivestitures', 'assetimpairment', 'unsecureddebt', 'mortgagedebt', 'restrictedcashandinvestmentscurrent', 'paymentsofdividendsnoncontrollinginterest', 'termloan', 'totalinvestments', 'mediumtermnotes', 'subordinateddebt', 'commonstockdividendspershare'}\n",
      "  warnings.warn(\"Did not find metrics {0}\".format(missing_metrics))\n"
     ]
    },
    {
     "name": "stdout",
     "output_type": "stream",
     "text": [
      "data saved to data/financials/NIHD.csv\n",
      "1381: NIHD complete\n"
     ]
    },
    {
     "name": "stderr",
     "output_type": "stream",
     "text": [
      "/home/carbine/miniconda3/envs/fleishco/lib/python3.7/site-packages/calcbench/api_client.py:269: UserWarning: Did not find metrics {'secureddebt', 'trustpreferredsecurities', 'paymentsforrepurchaseofcommonstock', 'paymentsofdividendscommonstock', 'avgdilutedsharesoutstanding', 'researchanddevelopment', 'paymentsofdividendspreferredstock', 'shortterminvestments', 'acquisitiondivestitures', 'mortgagedebt', 'stockrepurchasedduringperiodvalue', 'restrictedcashandinvestmentscurrent', 'paymentsofdividendsnoncontrollinginterest', 'termloan', 'totalinvestments', 'mediumtermnotes', 'longterminvestments', 'subordinateddebt', 'avgsharesoutstandingbasic', 'stockrepurchasedduringperiodshares', 'restructuring', 'commonstockdividendspershare', 'convertibledebt'}\n",
      "  warnings.warn(\"Did not find metrics {0}\".format(missing_metrics))\n"
     ]
    },
    {
     "name": "stdout",
     "output_type": "stream",
     "text": [
      "data saved to data/financials/NKA.csv\n",
      "1382: NKA complete\n"
     ]
    },
    {
     "name": "stderr",
     "output_type": "stream",
     "text": [
      "/home/carbine/miniconda3/envs/fleishco/lib/python3.7/site-packages/calcbench/api_client.py:269: UserWarning: Did not find metrics {'incometaxespaid', 'restrictedcashandinvestmentscurrent', 'paymentsofdividendsnoncontrollinginterest', 'secureddebt', 'seniornotes', 'termloan', 'totalinvestments', 'mediumtermnotes', 'trustpreferredsecurities', 'unsecureddebt', 'depreciationandamortizationexpense', 'mortgagedebt', 'longterminvestments', 'researchanddevelopment', 'interestpaidnet', 'subordinateddebt', 'paymentsofdividendspreferredstock', 'convertibledebt'}\n",
      "  warnings.warn(\"Did not find metrics {0}\".format(missing_metrics))\n"
     ]
    },
    {
     "name": "stdout",
     "output_type": "stream",
     "text": [
      "data saved to data/financials/NKE.csv\n",
      "1383: NKE complete\n"
     ]
    },
    {
     "name": "stderr",
     "output_type": "stream",
     "text": [
      "/home/carbine/miniconda3/envs/fleishco/lib/python3.7/site-packages/calcbench/api_client.py:269: UserWarning: Did not find metrics {'secureddebt', 'trustpreferredsecurities', 'paymentsofdividendscommonstock', 'researchanddevelopment', 'currentlongtermdebt', 'paymentsofdividendspreferredstock', 'shortterminvestments', 'unsecureddebt', 'mortgagedebt', 'ppe', 'restrictedcashandinvestmentscurrent', 'paymentsofdividendsnoncontrollinginterest', 'termloan', 'totalinvestments', 'mediumtermnotes', 'depreciationandamortizationexpense', 'subordinateddebt', 'operatingexpenseexitems', 'sharebasedcompensation', 'restructuring', 'capitalassetsales'}\n",
      "  warnings.warn(\"Did not find metrics {0}\".format(missing_metrics))\n"
     ]
    },
    {
     "name": "stdout",
     "output_type": "stream",
     "text": [
      "data saved to data/financials/NLY.csv\n",
      "1384: NLY complete\n"
     ]
    },
    {
     "name": "stderr",
     "output_type": "stream",
     "text": [
      "/home/carbine/miniconda3/envs/fleishco/lib/python3.7/site-packages/calcbench/api_client.py:269: UserWarning: Did not find metrics {'incometaxespaid', 'capex', 'secureddebt', 'trustpreferredsecurities', 'paymentsforrepurchaseofcommonstock', 'paymentsofdividendscommonstock', 'researchanddevelopment', 'interestpaidnet', 'lineofcreditfacilityamountoutstanding', 'currentlongtermdebt', 'paymentsofdividendspreferredstock', 'paymentsofdividends', 'shortterminvestments', 'seniornotes', 'acquisitiondivestitures', 'assetimpairment', 'financingcashflow', 'unsecureddebt', 'mortgagedebt', 'operatingcashflow', 'stockrepurchasedduringperiodvalue', 'depreciationamortization', 'investingcashflow', 'paymentsofdividendsnoncontrollinginterest', 'termloan', 'capexgross', 'totalinvestments', 'mediumtermnotes', 'depreciationandamortizationexpense', 'subordinateddebt', 'operatingexpenseexitems', 'sharebasedcompensation', 'stockrepurchasedduringperiodshares', 'restructuring', 'convertibledebt', 'capitalassetsales'}\n",
      "  warnings.warn(\"Did not find metrics {0}\".format(missing_metrics))\n"
     ]
    },
    {
     "name": "stdout",
     "output_type": "stream",
     "text": [
      "data saved to data/financials/NMR.csv\n",
      "1388: NMR complete\n"
     ]
    },
    {
     "name": "stderr",
     "output_type": "stream",
     "text": [
      "/home/carbine/miniconda3/envs/fleishco/lib/python3.7/site-packages/calcbench/api_client.py:269: UserWarning: Did not find metrics {'capex', 'trustpreferredsecurities', 'paymentsforrepurchaseofcommonstock', 'currentliabilities', 'researchanddevelopment', 'currentlongtermdebt', 'shortterminvestments', 'seniornotes', 'acquisitiondivestitures', 'mortgagedebt', 'stockrepurchasedduringperiodvalue', 'paymentsofdividendsnoncontrollinginterest', 'termloan', 'capexgross', 'totalinvestments', 'mediumtermnotes', 'subordinateddebt', 'sharebasedcompensation', 'stockrepurchasedduringperiodshares', 'capitalassetsales'}\n",
      "  warnings.warn(\"Did not find metrics {0}\".format(missing_metrics))\n"
     ]
    },
    {
     "name": "stdout",
     "output_type": "stream",
     "text": [
      "data saved to data/financials/NNN.csv\n",
      "1389: NNN complete\n"
     ]
    },
    {
     "name": "stderr",
     "output_type": "stream",
     "text": [
      "/home/carbine/miniconda3/envs/fleishco/lib/python3.7/site-packages/calcbench/api_client.py:269: UserWarning: Did not find metrics {'secureddebt', 'trustpreferredsecurities', 'interestpaidnet', 'availableforsalesecurities', 'paymentsofdividendspreferredstock', 'shortterminvestments', 'assetimpairment', 'unsecureddebt', 'mortgagedebt', 'restrictedcashandinvestmentscurrent', 'paymentsofdividendsnoncontrollinginterest', 'termloan', 'totalinvestments', 'mediumtermnotes', 'longterminvestments', 'subordinateddebt', 'restructuring', 'operatingexpenseexitems', 'convertibledebt', 'capitalassetsales'}\n",
      "  warnings.warn(\"Did not find metrics {0}\".format(missing_metrics))\n"
     ]
    },
    {
     "name": "stdout",
     "output_type": "stream",
     "text": [
      "data saved to data/financials/NOC.csv\n",
      "1390: NOC complete\n"
     ]
    },
    {
     "name": "stderr",
     "output_type": "stream",
     "text": [
      "/home/carbine/miniconda3/envs/fleishco/lib/python3.7/site-packages/calcbench/api_client.py:269: UserWarning: Did not find metrics {'incometaxespaid', 'restrictedcashandinvestmentscurrent', 'secureddebt', 'termloan', 'sharebasedcompensation', 'totalinvestments', 'mediumtermnotes', 'trustpreferredsecurities', 'paymentsofdividendscommonstock', 'longterminvestments', 'mortgagedebt', 'interestpaidnet', 'availableforsalesecurities', 'subordinateddebt', 'commonstockdividendspershare', 'paymentsofdividendspreferredstock', 'paymentsofdividends', 'shortterminvestments'}\n",
      "  warnings.warn(\"Did not find metrics {0}\".format(missing_metrics))\n"
     ]
    },
    {
     "name": "stdout",
     "output_type": "stream",
     "text": [
      "data saved to data/financials/TRW.csv\n",
      "1391: TRW complete\n"
     ]
    },
    {
     "name": "stderr",
     "output_type": "stream",
     "text": [
      "/home/carbine/miniconda3/envs/fleishco/lib/python3.7/site-packages/calcbench/api_client.py:269: UserWarning: Did not find metrics {'restrictedcashandinvestmentscurrent', 'paymentsofdividendsnoncontrollinginterest', 'totalinvestments', 'acquisitiondivestitures', 'mediumtermnotes', 'trustpreferredsecurities', 'convertibledebt', 'paymentsofdividendscommonstock', 'longterminvestments', 'mortgagedebt', 'researchanddevelopment', 'availableforsalesecurities', 'restructuring', 'commonstockdividendspershare', 'paymentsofdividendspreferredstock', 'paymentsofdividends'}\n",
      "  warnings.warn(\"Did not find metrics {0}\".format(missing_metrics))\n"
     ]
    },
    {
     "name": "stdout",
     "output_type": "stream",
     "text": [
      "data saved to data/financials/NOG.csv\n",
      "1392: NOG complete\n"
     ]
    },
    {
     "name": "stderr",
     "output_type": "stream",
     "text": [
      "/home/carbine/miniconda3/envs/fleishco/lib/python3.7/site-packages/calcbench/api_client.py:269: UserWarning: Did not find metrics {'restrictedcashandinvestmentscurrent', 'paymentsofdividendsnoncontrollinginterest', 'totalinvestments', 'acquisitiondivestitures', 'mediumtermnotes', 'trustpreferredsecurities', 'convertibledebt', 'unsecureddebt', 'depreciationandamortizationexpense', 'mortgagedebt', 'longterminvestments', 'stockrepurchasedduringperiodshares', 'researchanddevelopment', 'availableforsalesecurities', 'subordinateddebt', 'paymentsofdividendspreferredstock', 'restructuring', 'shortterminvestments'}\n",
      "  warnings.warn(\"Did not find metrics {0}\".format(missing_metrics))\n"
     ]
    },
    {
     "name": "stdout",
     "output_type": "stream",
     "text": [
      "data saved to data/financials/NOR.csv\n",
      "1394: NOR complete\n"
     ]
    },
    {
     "name": "stderr",
     "output_type": "stream",
     "text": [
      "/home/carbine/miniconda3/envs/fleishco/lib/python3.7/site-packages/calcbench/api_client.py:269: UserWarning: Did not find metrics {'incometaxespaid', 'secureddebt', 'trustpreferredsecurities', 'paymentsforrepurchaseofcommonstock', 'paymentsofdividendscommonstock', 'researchanddevelopment', 'interestpaidnet', 'availableforsalesecurities', 'currentlongtermdebt', 'paymentsofdividendspreferredstock', 'shortterminvestments', 'assetimpairment', 'unsecureddebt', 'mortgagedebt', 'stockrepurchasedduringperiodvalue', 'restrictedcashandinvestmentscurrent', 'paymentsofdividendsnoncontrollinginterest', 'termloan', 'totalinvestments', 'mediumtermnotes', 'longterminvestments', 'subordinateddebt', 'sharebasedcompensation', 'stockrepurchasedduringperiodshares', 'convertibledebt', 'commonstockdividendspershare'}\n",
      "  warnings.warn(\"Did not find metrics {0}\".format(missing_metrics))\n"
     ]
    },
    {
     "name": "stdout",
     "output_type": "stream",
     "text": [
      "data saved to data/financials/SPH.csv\n",
      "1399: SPH complete\n"
     ]
    },
    {
     "name": "stderr",
     "output_type": "stream",
     "text": [
      "/home/carbine/miniconda3/envs/fleishco/lib/python3.7/site-packages/calcbench/api_client.py:269: UserWarning: Did not find metrics {'incometaxespaid', 'secureddebt', 'trustpreferredsecurities', 'paymentsforrepurchaseofcommonstock', 'paymentsofdividendscommonstock', 'researchanddevelopment', 'paymentsofdividendspreferredstock', 'shortterminvestments', 'unsecureddebt', 'mortgagedebt', 'stockrepurchasedduringperiodvalue', 'restrictedcashandinvestmentscurrent', 'paymentsofdividendsnoncontrollinginterest', 'totalinvestments', 'mediumtermnotes', 'subordinateddebt', 'stockrepurchasedduringperiodshares', 'incometaxes', 'restructuring', 'commonstockdividendspershare', 'convertibledebt'}\n",
      "  warnings.warn(\"Did not find metrics {0}\".format(missing_metrics))\n"
     ]
    },
    {
     "name": "stdout",
     "output_type": "stream",
     "text": [
      "data saved to data/financials/NRP.csv\n",
      "1400: NRP complete\n"
     ]
    },
    {
     "name": "stderr",
     "output_type": "stream",
     "text": [
      "/home/carbine/miniconda3/envs/fleishco/lib/python3.7/site-packages/calcbench/api_client.py:269: UserWarning: Did not find metrics {'incometaxespaid', 'secureddebt', 'trustpreferredsecurities', 'paymentsforrepurchaseofcommonstock', 'paymentsofdividendscommonstock', 'interestpaidnet', 'lineofcreditfacilityamountoutstanding', 'paymentsofdividendspreferredstock', 'paymentsofdividends', 'seniornotes', 'acquisitiondivestitures', 'assetimpairment', 'unsecureddebt', 'mortgagedebt', 'stockrepurchasedduringperiodvalue', 'paymentsofdividendsnoncontrollinginterest', 'termloan', 'totalinvestments', 'mediumtermnotes', 'depreciationandamortizationexpense', 'longterminvestments', 'subordinateddebt', 'operatingexpenseexitems', 'revenueadjusted', 'stockrepurchasedduringperiodshares', 'incometaxes', 'restructuring', 'commonstockdividendspershare', 'convertibledebt', 'capitalassetsales'}\n",
      "  warnings.warn(\"Did not find metrics {0}\".format(missing_metrics))\n"
     ]
    },
    {
     "name": "stdout",
     "output_type": "stream",
     "text": [
      "data saved to data/financials/NRX.csv\n",
      "1401: NRX complete\n"
     ]
    },
    {
     "name": "stderr",
     "output_type": "stream",
     "text": [
      "/home/carbine/miniconda3/envs/fleishco/lib/python3.7/site-packages/calcbench/api_client.py:269: UserWarning: Did not find metrics {'incometaxespaid', 'secureddebt', 'trustpreferredsecurities', 'paymentsofdividendscommonstock', 'interestpaidnet', 'availableforsalesecurities', 'lineofcreditfacilityamountoutstanding', 'paymentsofdividendspreferredstock', 'assetimpairment', 'mortgagedebt', 'restrictedcashandinvestmentscurrent', 'paymentsofdividendsnoncontrollinginterest', 'termloan', 'totalinvestments', 'mediumtermnotes', 'depreciationandamortizationexpense', 'subordinateddebt', 'stockrepurchasedduringperiodshares', 'convertibledebt'}\n",
      "  warnings.warn(\"Did not find metrics {0}\".format(missing_metrics))\n"
     ]
    },
    {
     "name": "stdout",
     "output_type": "stream",
     "text": [
      "data saved to data/financials/TXN.csv\n",
      "1404: TXN complete\n"
     ]
    },
    {
     "name": "stderr",
     "output_type": "stream",
     "text": [
      "/home/carbine/miniconda3/envs/fleishco/lib/python3.7/site-packages/calcbench/api_client.py:269: UserWarning: Did not find metrics {'operatingexpenseexitems', 'termloan', 'totalinvestments', 'mediumtermnotes', 'convertibledebt', 'trustpreferredsecurities', 'assetimpairment', 'paymentsofdividendscommonstock', 'depreciationandamortizationexpense', 'mortgagedebt', 'longterminvestments', 'researchanddevelopment', 'subordinateddebt', 'currentlongtermdebt', 'paymentsofdividendspreferredstock', 'paymentsofdividends', 'restructuring', 'shortterminvestments'}\n",
      "  warnings.warn(\"Did not find metrics {0}\".format(missing_metrics))\n"
     ]
    },
    {
     "name": "stdout",
     "output_type": "stream",
     "text": [
      "data saved to data/financials/NSM.csv\n",
      "1405: NSM complete\n"
     ]
    },
    {
     "name": "stderr",
     "output_type": "stream",
     "text": [
      "/home/carbine/miniconda3/envs/fleishco/lib/python3.7/site-packages/calcbench/api_client.py:269: UserWarning: Did not find metrics {'restrictedcashandinvestmentscurrent', 'paymentsofdividendsnoncontrollinginterest', 'secureddebt', 'termloan', 'totalinvestments', 'mediumtermnotes', 'assetimpairment', 'trustpreferredsecurities', 'paymentsofdividendscommonstock', 'unsecureddebt', 'mortgagedebt', 'depreciationandamortizationexpense', 'subordinateddebt', 'paymentsofdividendspreferredstock'}\n",
      "  warnings.warn(\"Did not find metrics {0}\".format(missing_metrics))\n"
     ]
    },
    {
     "name": "stdout",
     "output_type": "stream",
     "text": [
      "data saved to data/financials/NTAP.csv\n",
      "1406: NTAP complete\n"
     ]
    },
    {
     "name": "stderr",
     "output_type": "stream",
     "text": [
      "/home/carbine/miniconda3/envs/fleishco/lib/python3.7/site-packages/calcbench/api_client.py:269: UserWarning: Did not find metrics {'paymentsofdividendsnoncontrollinginterest', 'totalinvestments', 'mediumtermnotes', 'convertibledebt', 'trustpreferredsecurities', 'paymentsforrepurchaseofcommonstock', 'paymentsofdividendscommonstock', 'longterminvestments', 'mortgagedebt', 'researchanddevelopment', 'restructuring', 'commonstockdividendspershare', 'paymentsofdividendspreferredstock', 'paymentsofdividends', 'shortterminvestments'}\n",
      "  warnings.warn(\"Did not find metrics {0}\".format(missing_metrics))\n"
     ]
    },
    {
     "name": "stdout",
     "output_type": "stream",
     "text": [
      "data saved to data/financials/NTK.csv\n",
      "1407: NTK complete\n"
     ]
    },
    {
     "name": "stderr",
     "output_type": "stream",
     "text": [
      "/home/carbine/miniconda3/envs/fleishco/lib/python3.7/site-packages/calcbench/api_client.py:269: UserWarning: Did not find metrics {'secureddebt', 'sgaexpense', 'researchanddevelopment', 'currentlongtermdebt', 'shortterminvestments', 'assetimpairment', 'mortgagedebt', 'restrictedcashandinvestmentscurrent', 'paymentsofdividendsnoncontrollinginterest', 'termloan', 'totalinvestments', 'mediumtermnotes', 'depreciationandamortizationexpense', 'longterminvestments', 'operatingexpenseexitems', 'sharebasedcompensation', 'restructuring', 'convertibledebt', 'capitalassetsales'}\n",
      "  warnings.warn(\"Did not find metrics {0}\".format(missing_metrics))\n"
     ]
    },
    {
     "name": "stdout",
     "output_type": "stream",
     "text": [
      "data saved to data/financials/NTRS.csv\n",
      "1409: NTRS complete\n"
     ]
    },
    {
     "name": "stderr",
     "output_type": "stream",
     "text": [
      "/home/carbine/miniconda3/envs/fleishco/lib/python3.7/site-packages/calcbench/api_client.py:269: UserWarning: Did not find metrics {'trustpreferredsecurities', 'paymentsforrepurchaseofcommonstock', 'paymentsofdividendscommonstock', 'researchanddevelopment', 'availableforsalesecurities', 'currentlongtermdebt', 'paymentsofdividendspreferredstock', 'shortterminvestments', 'assetimpairment', 'unsecureddebt', 'mortgagedebt', 'stockrepurchasedduringperiodvalue', 'restrictedcashandinvestmentscurrent', 'paymentsofdividendsnoncontrollinginterest', 'termloan', 'totalinvestments', 'mediumtermnotes', 'subordinateddebt', 'stockrepurchasedduringperiodshares', 'convertibledebt', 'commonstockdividendspershare', 'capitalassetsales'}\n",
      "  warnings.warn(\"Did not find metrics {0}\".format(missing_metrics))\n"
     ]
    },
    {
     "name": "stdout",
     "output_type": "stream",
     "text": [
      "data saved to data/financials/NTI.csv\n",
      "1411: NTI complete\n"
     ]
    },
    {
     "name": "stderr",
     "output_type": "stream",
     "text": [
      "/home/carbine/miniconda3/envs/fleishco/lib/python3.7/site-packages/calcbench/api_client.py:269: UserWarning: Did not find metrics {'incometaxespaid', 'restrictedcashandinvestmentscurrent', 'secureddebt', 'termloan', 'totalinvestments', 'mediumtermnotes', 'convertibledebt', 'trustpreferredsecurities', 'depreciationandamortizationexpense', 'longterminvestments', 'mortgagedebt', 'researchanddevelopment', 'interestpaidnet', 'availableforsalesecurities', 'subordinateddebt', 'paymentsofdividendspreferredstock', 'restructuring'}\n",
      "  warnings.warn(\"Did not find metrics {0}\".format(missing_metrics))\n"
     ]
    },
    {
     "name": "stdout",
     "output_type": "stream",
     "text": [
      "data saved to data/financials/NUE.csv\n",
      "1412: NUE complete\n"
     ]
    },
    {
     "name": "stderr",
     "output_type": "stream",
     "text": [
      "/home/carbine/miniconda3/envs/fleishco/lib/python3.7/site-packages/calcbench/api_client.py:269: UserWarning: Did not find metrics {'incometaxespaid', 'paymentsofdividendsnoncontrollinginterest', 'secureddebt', 'termloan', 'totalinvestments', 'mediumtermnotes', 'trustpreferredsecurities', 'paymentsofdividendscommonstock', 'unsecureddebt', 'mortgagedebt', 'stockrepurchasedduringperiodshares', 'interestpaidnet', 'stockrepurchasedduringperiodvalue', 'subordinateddebt', 'commonstockdividendspershare', 'paymentsofdividendspreferredstock', 'paymentsofdividends', 'restructuring'}\n",
      "  warnings.warn(\"Did not find metrics {0}\".format(missing_metrics))\n"
     ]
    },
    {
     "name": "stdout",
     "output_type": "stream",
     "text": [
      "data saved to data/financials/NUVA.csv\n",
      "1413: NUVA complete\n"
     ]
    },
    {
     "name": "stderr",
     "output_type": "stream",
     "text": [
      "/home/carbine/miniconda3/envs/fleishco/lib/python3.7/site-packages/calcbench/api_client.py:269: UserWarning: Did not find metrics {'restrictedcashandinvestmentscurrent', 'paymentsofdividendsnoncontrollinginterest', 'secureddebt', 'seniornotes', 'termloan', 'totalinvestments', 'mediumtermnotes', 'trustpreferredsecurities', 'assetimpairment', 'paymentsofdividendscommonstock', 'unsecureddebt', 'mortgagedebt', 'depreciationandamortizationexpense', 'longterminvestments', 'subordinateddebt', 'paymentsofdividendspreferredstock', 'capitalassetsales'}\n",
      "  warnings.warn(\"Did not find metrics {0}\".format(missing_metrics))\n"
     ]
    },
    {
     "name": "stdout",
     "output_type": "stream",
     "text": [
      "data saved to data/financials/NVDA.csv\n",
      "1414: NVDA complete\n"
     ]
    },
    {
     "name": "stderr",
     "output_type": "stream",
     "text": [
      "/home/carbine/miniconda3/envs/fleishco/lib/python3.7/site-packages/calcbench/api_client.py:269: UserWarning: Did not find metrics {'secureddebt', 'trustpreferredsecurities', 'paymentsforrepurchaseofcommonstock', 'paymentsofdividendscommonstock', 'researchanddevelopment', 'lineofcreditfacilityamountoutstanding', 'paymentsofdividendspreferredstock', 'paymentsofdividends', 'seniornotes', 'unsecureddebt', 'mortgagedebt', 'ppe', 'stockrepurchasedduringperiodvalue', 'restrictedcashandinvestmentscurrent', 'paymentsofdividendsnoncontrollinginterest', 'termloan', 'totalinvestments', 'mediumtermnotes', 'subordinateddebt', 'revenueadjusted', 'stockrepurchasedduringperiodshares', 'restructuring', 'commonstockdividendspershare'}\n",
      "  warnings.warn(\"Did not find metrics {0}\".format(missing_metrics))\n"
     ]
    },
    {
     "name": "stdout",
     "output_type": "stream",
     "text": [
      "data saved to data/financials/NG.csv\n",
      "1415: NG complete\n"
     ]
    },
    {
     "name": "stderr",
     "output_type": "stream",
     "text": [
      "/home/carbine/miniconda3/envs/fleishco/lib/python3.7/site-packages/calcbench/api_client.py:269: UserWarning: Did not find metrics {'incometaxespaid', 'secureddebt', 'trustpreferredsecurities', 'paymentsforrepurchaseofcommonstock', 'paymentsofdividendscommonstock', 'interestpaidnet', 'lineofcreditfacilityamountoutstanding', 'paymentsofdividendspreferredstock', 'paymentsofdividends', 'acquisitiondivestitures', 'assetimpairment', 'unsecureddebt', 'mortgagedebt', 'stockrepurchasedduringperiodvalue', 'restrictedcashandinvestmentscurrent', 'paymentsofdividendsnoncontrollinginterest', 'totalinvestments', 'mediumtermnotes', 'depreciationandamortizationexpense', 'longterminvestments', 'subordinateddebt', 'operatingexpenseexitems', 'stockrepurchasedduringperiodshares', 'restructuring', 'commonstockdividendspershare', 'capitalassetsales'}\n",
      "  warnings.warn(\"Did not find metrics {0}\".format(missing_metrics))\n"
     ]
    },
    {
     "name": "stdout",
     "output_type": "stream",
     "text": [
      "data saved to data/financials/NVRO.csv\n",
      "1417: NVRO complete\n"
     ]
    },
    {
     "name": "stderr",
     "output_type": "stream",
     "text": [
      "/home/carbine/miniconda3/envs/fleishco/lib/python3.7/site-packages/calcbench/api_client.py:269: UserWarning: Did not find metrics {'trustpreferredsecurities', 'paymentsofdividendscommonstock', 'researchanddevelopment', 'availableforsalesecurities', 'currentlongtermdebt', 'paymentsofdividendspreferredstock', 'paymentsofdividends', 'shortterminvestments', 'interestexpense', 'paymentsofdividendsnoncontrollinginterest', 'termloan', 'totalinvestments', 'mediumtermnotes', 'depreciationandamortizationexpense', 'subordinateddebt', 'restructuring', 'operatingexpenseexitems', 'convertibledebt', 'commonstockdividendspershare', 'capitalassetsales'}\n",
      "  warnings.warn(\"Did not find metrics {0}\".format(missing_metrics))\n"
     ]
    },
    {
     "name": "stdout",
     "output_type": "stream",
     "text": [
      "data saved to data/financials/NWHM.csv\n",
      "1418: NWHM complete\n"
     ]
    },
    {
     "name": "stderr",
     "output_type": "stream",
     "text": [
      "/home/carbine/miniconda3/envs/fleishco/lib/python3.7/site-packages/calcbench/api_client.py:269: UserWarning: Did not find metrics {'incometaxespaid', 'secureddebt', 'trustpreferredsecurities', 'paymentsofdividendscommonstock', 'availableforsalesecurities', 'lineofcreditfacilityamountoutstanding', 'paymentsofdividendspreferredstock', 'paymentsofdividends', 'acquisitiondivestitures', 'assetimpairment', 'unsecureddebt', 'mortgagedebt', 'paymentsofdividendsnoncontrollinginterest', 'termloan', 'totalinvestments', 'mediumtermnotes', 'depreciationandamortizationexpense', 'longterminvestments', 'commonstockdividendspershare', 'capitalassetsales'}\n",
      "  warnings.warn(\"Did not find metrics {0}\".format(missing_metrics))\n"
     ]
    },
    {
     "name": "stdout",
     "output_type": "stream",
     "text": [
      "data saved to data/financials/NWK.csv\n",
      "1419: NWK complete\n"
     ]
    },
    {
     "name": "stderr",
     "output_type": "stream",
     "text": [
      "/home/carbine/miniconda3/envs/fleishco/lib/python3.7/site-packages/calcbench/api_client.py:269: UserWarning: Did not find metrics {'secureddebt', 'seniornotes', 'termloan', 'totalinvestments', 'sharebasedcompensation', 'mediumtermnotes', 'trustpreferredsecurities', 'paymentsforrepurchaseofcommonstock', 'paymentsofdividendscommonstock', 'assetimpairment', 'mortgagedebt', 'researchanddevelopment', 'availableforsalesecurities', 'subordinateddebt', 'paymentsofdividendspreferredstock', 'convertibledebt', 'shortterminvestments'}\n",
      "  warnings.warn(\"Did not find metrics {0}\".format(missing_metrics))\n"
     ]
    },
    {
     "name": "stdout",
     "output_type": "stream",
     "text": [
      "data saved to data/financials/NWS.csv\n",
      "1421: NWS complete\n"
     ]
    },
    {
     "name": "stderr",
     "output_type": "stream",
     "text": [
      "/home/carbine/miniconda3/envs/fleishco/lib/python3.7/site-packages/calcbench/api_client.py:269: UserWarning: Did not find metrics {'capex', 'secureddebt', 'trustpreferredsecurities', 'paymentsofdividendscommonstock', 'availableforsalesecurities', 'currentlongtermdebt', 'paymentsofdividendspreferredstock', 'paymentsofdividends', 'shortterminvestments', 'interestexpense', 'acquisitiondivestitures', 'assetimpairment', 'financingcashflow', 'mortgagedebt', 'operatingcashflow', 'depreciationamortization', 'restrictedcashandinvestmentscurrent', 'investingcashflow', 'paymentsofdividendsnoncontrollinginterest', 'termloan', 'capexgross', 'totalinvestments', 'mediumtermnotes', 'longterminvestments', 'subordinateddebt', 'operatingexpenseexitems', 'sharebasedcompensation', 'restructuring', 'capitalassetsales'}\n",
      "  warnings.warn(\"Did not find metrics {0}\".format(missing_metrics))\n"
     ]
    },
    {
     "name": "stdout",
     "output_type": "stream",
     "text": [
      "data saved to data/financials/NXPI.csv\n",
      "1422: NXPI complete\n"
     ]
    },
    {
     "name": "stderr",
     "output_type": "stream",
     "text": [
      "/home/carbine/miniconda3/envs/fleishco/lib/python3.7/site-packages/calcbench/api_client.py:269: UserWarning: Did not find metrics {'restrictedcashandinvestmentscurrent', 'paymentsofdividendsnoncontrollinginterest', 'totalinvestments', 'mediumtermnotes', 'convertibledebt', 'trustpreferredsecurities', 'paymentsforrepurchaseofcommonstock', 'longterminvestments', 'stockrepurchasedduringperiodshares', 'researchanddevelopment', 'stockrepurchasedduringperiodvalue', 'subordinateddebt', 'currentlongtermdebt', 'restructuring', 'capitalassetsales', 'shortterminvestments'}\n",
      "  warnings.warn(\"Did not find metrics {0}\".format(missing_metrics))\n"
     ]
    },
    {
     "name": "stdout",
     "output_type": "stream",
     "text": [
      "data saved to data/financials/O.csv\n",
      "1425: O complete\n"
     ]
    },
    {
     "name": "stderr",
     "output_type": "stream",
     "text": [
      "/home/carbine/miniconda3/envs/fleishco/lib/python3.7/site-packages/calcbench/api_client.py:269: UserWarning: Did not find metrics {'incometaxespaid', 'trustpreferredsecurities', 'paymentsforrepurchaseofcommonstock', 'paymentsofdividendscommonstock', 'researchanddevelopment', 'interestpaidnet', 'currentlongtermdebt', 'paymentsofdividendspreferredstock', 'paymentsofdividends', 'mortgagedebt', 'stockrepurchasedduringperiodvalue', 'paymentsofdividendsnoncontrollinginterest', 'termloan', 'totalinvestments', 'mediumtermnotes', 'longterminvestments', 'subordinateddebt', 'stockrepurchasedduringperiodshares', 'restructuring', 'commonstockdividendspershare', 'convertibledebt'}\n",
      "  warnings.warn(\"Did not find metrics {0}\".format(missing_metrics))\n"
     ]
    },
    {
     "name": "stdout",
     "output_type": "stream",
     "text": [
      "data saved to data/financials/OAS.csv\n",
      "1426: OAS complete\n"
     ]
    },
    {
     "name": "stderr",
     "output_type": "stream",
     "text": [
      "/home/carbine/miniconda3/envs/fleishco/lib/python3.7/site-packages/calcbench/api_client.py:269: UserWarning: Did not find metrics {'incometaxespaid', 'restrictedcashandinvestmentscurrent', 'secureddebt', 'totalinvestments', 'mediumtermnotes', 'convertibledebt', 'trustpreferredsecurities', 'paymentsforrepurchaseofcommonstock', 'unsecureddebt', 'mortgagedebt', 'stockrepurchasedduringperiodshares', 'researchanddevelopment', 'interestpaidnet', 'stockrepurchasedduringperiodvalue', 'subordinateddebt', 'paymentsofdividendspreferredstock', 'restructuring', 'shortterminvestments'}\n",
      "  warnings.warn(\"Did not find metrics {0}\".format(missing_metrics))\n"
     ]
    },
    {
     "name": "stdout",
     "output_type": "stream",
     "text": [
      "data saved to data/financials/OGE.csv\n",
      "1430: OGE complete\n"
     ]
    },
    {
     "name": "stderr",
     "output_type": "stream",
     "text": [
      "/home/carbine/miniconda3/envs/fleishco/lib/python3.7/site-packages/calcbench/api_client.py:269: UserWarning: Did not find metrics {'totalinvestments', 'acquisitiondivestitures', 'mediumtermnotes', 'trustpreferredsecurities', 'mortgagedebt', 'researchanddevelopment', 'subordinateddebt', 'paymentsofdividendspreferredstock', 'convertibledebt'}\n",
      "  warnings.warn(\"Did not find metrics {0}\".format(missing_metrics))\n"
     ]
    },
    {
     "name": "stdout",
     "output_type": "stream",
     "text": [
      "data saved to data/financials/OSG.csv\n",
      "1431: OSG complete\n"
     ]
    },
    {
     "name": "stderr",
     "output_type": "stream",
     "text": [
      "/home/carbine/miniconda3/envs/fleishco/lib/python3.7/site-packages/calcbench/api_client.py:269: UserWarning: Did not find metrics {'paymentsofdividendsnoncontrollinginterest', 'totalinvestments', 'mediumtermnotes', 'trustpreferredsecurities', 'paymentsforrepurchaseofcommonstock', 'paymentsofdividendscommonstock', 'stockrepurchasedduringperiodshares', 'researchanddevelopment', 'stockrepurchasedduringperiodvalue', 'restructuring', 'currentlongtermdebt', 'paymentsofdividendspreferredstock', 'convertibledebt', 'capitalassetsales', 'shortterminvestments'}\n",
      "  warnings.warn(\"Did not find metrics {0}\".format(missing_metrics))\n"
     ]
    },
    {
     "name": "stdout",
     "output_type": "stream",
     "text": [
      "data saved to data/financials/OHI.csv\n",
      "1432: OHI complete\n"
     ]
    },
    {
     "name": "stderr",
     "output_type": "stream",
     "text": [
      "/home/carbine/miniconda3/envs/fleishco/lib/python3.7/site-packages/calcbench/api_client.py:269: UserWarning: Did not find metrics {'operatingexpenseexitems', 'restrictedcashandinvestmentscurrent', 'sharebasedcompensation', 'totalinvestments', 'mediumtermnotes', 'convertibledebt', 'trustpreferredsecurities', 'assetimpairment', 'unsecureddebt', 'depreciationandamortizationexpense', 'mortgagedebt', 'availableforsalesecurities', 'subordinateddebt', 'paymentsofdividendspreferredstock', 'restructuring'}\n",
      "  warnings.warn(\"Did not find metrics {0}\".format(missing_metrics))\n"
     ]
    },
    {
     "name": "stdout",
     "output_type": "stream",
     "text": [
      "data saved to data/financials/OI.csv\n",
      "1433: OI complete\n"
     ]
    },
    {
     "name": "stderr",
     "output_type": "stream",
     "text": [
      "/home/carbine/miniconda3/envs/fleishco/lib/python3.7/site-packages/calcbench/api_client.py:269: UserWarning: Did not find metrics {'incometaxespaid', 'secureddebt', 'trustpreferredsecurities', 'paymentsofdividendscommonstock', 'researchanddevelopment', 'interestpaidnet', 'availableforsalesecurities', 'paymentsofdividendspreferredstock', 'shortterminvestments', 'unsecureddebt', 'mortgagedebt', 'restrictedcashandinvestmentscurrent', 'paymentsofdividendsnoncontrollinginterest', 'termloan', 'totalinvestments', 'mediumtermnotes', 'depreciationandamortizationexpense', 'subordinateddebt', 'restructuring', 'convertibledebt'}\n",
      "  warnings.warn(\"Did not find metrics {0}\".format(missing_metrics))\n"
     ]
    },
    {
     "name": "stdout",
     "output_type": "stream",
     "text": [
      "data saved to data/financials/OII.csv\n",
      "1434: OII complete\n"
     ]
    },
    {
     "name": "stderr",
     "output_type": "stream",
     "text": [
      "/home/carbine/miniconda3/envs/fleishco/lib/python3.7/site-packages/calcbench/api_client.py:269: UserWarning: Did not find metrics {'restrictedcashandinvestmentscurrent', 'paymentsofdividendsnoncontrollinginterest', 'secureddebt', 'totalinvestments', 'mediumtermnotes', 'trustpreferredsecurities', 'paymentsofdividendscommonstock', 'mortgagedebt', 'researchanddevelopment', 'availableforsalesecurities', 'restructuring', 'commonstockdividendspershare', 'paymentsofdividendspreferredstock', 'paymentsofdividends', 'shortterminvestments'}\n",
      "  warnings.warn(\"Did not find metrics {0}\".format(missing_metrics))\n"
     ]
    },
    {
     "name": "stdout",
     "output_type": "stream",
     "text": [
      "data saved to data/financials/OIS.csv\n",
      "1435: OIS complete\n"
     ]
    },
    {
     "name": "stderr",
     "output_type": "stream",
     "text": [
      "/home/carbine/miniconda3/envs/fleishco/lib/python3.7/site-packages/calcbench/api_client.py:269: UserWarning: Did not find metrics {'incometaxespaid', 'restrictedcashandinvestmentscurrent', 'secureddebt', 'totalinvestments', 'mediumtermnotes', 'convertibledebt', 'trustpreferredsecurities', 'paymentsofdividendscommonstock', 'unsecureddebt', 'mortgagedebt', 'stockrepurchasedduringperiodshares', 'researchanddevelopment', 'interestpaidnet', 'availableforsalesecurities', 'subordinateddebt', 'paymentsofdividendspreferredstock', 'restructuring', 'shortterminvestments'}\n",
      "  warnings.warn(\"Did not find metrics {0}\".format(missing_metrics))\n"
     ]
    },
    {
     "name": "stdout",
     "output_type": "stream",
     "text": [
      "data saved to data/financials/OKE.csv\n",
      "1436: OKE complete\n"
     ]
    },
    {
     "name": "stderr",
     "output_type": "stream",
     "text": [
      "/home/carbine/miniconda3/envs/fleishco/lib/python3.7/site-packages/calcbench/api_client.py:269: UserWarning: Did not find metrics {'secureddebt', 'trustpreferredsecurities', 'paymentsofdividendscommonstock', 'researchanddevelopment', 'availableforsalesecurities', 'paymentsofdividendspreferredstock', 'shortterminvestments', 'seniornotes', 'assetimpairment', 'unsecureddebt', 'mortgagedebt', 'restrictedcashandinvestmentscurrent', 'paymentsofdividendsnoncontrollinginterest', 'termloan', 'totalinvestments', 'mediumtermnotes', 'depreciationandamortizationexpense', 'longterminvestments', 'subordinateddebt', 'convertibledebt'}\n",
      "  warnings.warn(\"Did not find metrics {0}\".format(missing_metrics))\n"
     ]
    },
    {
     "name": "stdout",
     "output_type": "stream",
     "text": [
      "data saved to data/financials/OLN.csv\n",
      "1437: OLN complete\n"
     ]
    },
    {
     "name": "stderr",
     "output_type": "stream",
     "text": [
      "/home/carbine/miniconda3/envs/fleishco/lib/python3.7/site-packages/calcbench/api_client.py:269: UserWarning: Did not find metrics {'trustpreferredsecurities', 'paymentsforrepurchaseofcommonstock', 'paymentsofdividendscommonstock', 'researchanddevelopment', 'availableforsalesecurities', 'paymentsofdividendspreferredstock', 'paymentsofdividends', 'shortterminvestments', 'acquisitiondivestitures', 'assetimpairment', 'unsecureddebt', 'mortgagedebt', 'stockrepurchasedduringperiodvalue', 'paymentsofdividendsnoncontrollinginterest', 'totalinvestments', 'mediumtermnotes', 'subordinateddebt', 'stockrepurchasedduringperiodshares', 'commonstockdividendspershare'}\n",
      "  warnings.warn(\"Did not find metrics {0}\".format(missing_metrics))\n"
     ]
    },
    {
     "name": "stdout",
     "output_type": "stream",
     "text": [
      "data saved to data/financials/VTG.csv\n",
      "1438: VTG complete\n"
     ]
    },
    {
     "name": "stderr",
     "output_type": "stream",
     "text": [
      "/home/carbine/miniconda3/envs/fleishco/lib/python3.7/site-packages/calcbench/api_client.py:269: UserWarning: Did not find metrics {'operatingexpenseexitems', 'restrictedcashandinvestmentscurrent', 'secureddebt', 'termloan', 'totalinvestments', 'mediumtermnotes', 'trustpreferredsecurities', 'assetimpairment', 'paymentsofdividendscommonstock', 'mortgagedebt', 'stockrepurchasedduringperiodshares', 'researchanddevelopment', 'availableforsalesecurities', 'subordinateddebt', 'paymentsofdividendspreferredstock', 'restructuring'}\n",
      "  warnings.warn(\"Did not find metrics {0}\".format(missing_metrics))\n"
     ]
    },
    {
     "name": "stdout",
     "output_type": "stream",
     "text": [
      "data saved to data/financials/OMC.csv\n",
      "1439: OMC complete\n"
     ]
    },
    {
     "name": "stderr",
     "output_type": "stream",
     "text": [
      "/home/carbine/miniconda3/envs/fleishco/lib/python3.7/site-packages/calcbench/api_client.py:269: UserWarning: Did not find metrics {'restrictedcashandinvestmentscurrent', 'paymentsofdividendsnoncontrollinginterest', 'secureddebt', 'totalinvestments', 'mediumtermnotes', 'convertibledebt', 'trustpreferredsecurities', 'paymentsofdividendscommonstock', 'unsecureddebt', 'mortgagedebt', 'longterminvestments', 'researchanddevelopment', 'availableforsalesecurities', 'subordinateddebt', 'paymentsofdividendspreferredstock', 'restructuring', 'shortterminvestments'}\n",
      "  warnings.warn(\"Did not find metrics {0}\".format(missing_metrics))\n"
     ]
    },
    {
     "name": "stdout",
     "output_type": "stream",
     "text": [
      "data saved to data/financials/OMI.csv\n",
      "1441: OMI complete\n"
     ]
    },
    {
     "name": "stderr",
     "output_type": "stream",
     "text": [
      "/home/carbine/miniconda3/envs/fleishco/lib/python3.7/site-packages/calcbench/api_client.py:269: UserWarning: Did not find metrics {'incometaxespaid', 'paymentsofdividendsnoncontrollinginterest', 'totalinvestments', 'mediumtermnotes', 'convertibledebt', 'trustpreferredsecurities', 'paymentsforrepurchaseofcommonstock', 'depreciationandamortizationexpense', 'mortgagedebt', 'stockrepurchasedduringperiodshares', 'interestpaidnet', 'stockrepurchasedduringperiodvalue', 'subordinateddebt', 'paymentsofdividendspreferredstock', 'restructuring'}\n",
      "  warnings.warn(\"Did not find metrics {0}\".format(missing_metrics))\n"
     ]
    },
    {
     "name": "stdout",
     "output_type": "stream",
     "text": [
      "data saved to data/financials/ORA.csv\n",
      "1443: ORA complete\n"
     ]
    },
    {
     "name": "stderr",
     "output_type": "stream",
     "text": [
      "/home/carbine/miniconda3/envs/fleishco/lib/python3.7/site-packages/calcbench/api_client.py:269: UserWarning: Did not find metrics {'incometaxespaid', 'operatingexpenseexitems', 'paymentsofdividendsnoncontrollinginterest', 'totalinvestments', 'mediumtermnotes', 'convertibledebt', 'trustpreferredsecurities', 'assetimpairment', 'paymentsofdividendscommonstock', 'depreciationandamortizationexpense', 'mortgagedebt', 'longterminvestments', 'interestpaidnet', 'availableforsalesecurities', 'subordinateddebt', 'paymentsofdividendspreferredstock', 'restructuring'}\n",
      "  warnings.warn(\"Did not find metrics {0}\".format(missing_metrics))\n"
     ]
    },
    {
     "name": "stdout",
     "output_type": "stream",
     "text": [
      "data saved to data/financials/SPR.csv\n",
      "1445: SPR complete\n"
     ]
    },
    {
     "name": "stderr",
     "output_type": "stream",
     "text": [
      "/home/carbine/miniconda3/envs/fleishco/lib/python3.7/site-packages/calcbench/api_client.py:269: UserWarning: Did not find metrics {'secureddebt', 'trustpreferredsecurities', 'paymentsofdividendscommonstock', 'lineofcreditfacilityamountoutstanding', 'paymentsofdividendspreferredstock', 'paymentsofdividends', 'acquisitiondivestitures', 'assetimpairment', 'unsecureddebt', 'mortgagedebt', 'stockrepurchasedduringperiodvalue', 'paymentsofdividendsnoncontrollinginterest', 'termloan', 'totalinvestments', 'mediumtermnotes', 'subordinateddebt', 'stockrepurchasedduringperiodshares', 'commonstockdividendspershare', 'capitalassetsales'}\n",
      "  warnings.warn(\"Did not find metrics {0}\".format(missing_metrics))\n"
     ]
    },
    {
     "name": "stdout",
     "output_type": "stream",
     "text": [
      "data saved to data/financials/ONXX.csv\n",
      "1447: ONXX complete\n"
     ]
    },
    {
     "name": "stderr",
     "output_type": "stream",
     "text": [
      "/home/carbine/miniconda3/envs/fleishco/lib/python3.7/site-packages/calcbench/api_client.py:269: UserWarning: Did not find metrics {'trustpreferredsecurities', 'paymentsforrepurchaseofcommonstock', 'paymentsofdividendscommonstock', 'lineofcreditfacilityamountoutstanding', 'paymentsofdividendspreferredstock', 'paymentsofdividends', 'acquisitiondivestitures', 'assetimpairment', 'mortgagedebt', 'stockrepurchasedduringperiodvalue', 'paymentsofdividendsnoncontrollinginterest', 'termloan', 'totalinvestments', 'mediumtermnotes', 'longterminvestments', 'subordinateddebt', 'operatingexpenseexitems', 'stockrepurchasedduringperiodshares', 'restructuring', 'commonstockdividendspershare', 'capitalassetsales'}\n",
      "  warnings.warn(\"Did not find metrics {0}\".format(missing_metrics))\n"
     ]
    },
    {
     "name": "stdout",
     "output_type": "stream",
     "text": [
      "data saved to data/financials/OREX.csv\n",
      "1450: OREX complete\n"
     ]
    },
    {
     "name": "stderr",
     "output_type": "stream",
     "text": [
      "/home/carbine/miniconda3/envs/fleishco/lib/python3.7/site-packages/calcbench/api_client.py:269: UserWarning: Did not find metrics {'capex', 'secureddebt', 'sgaexpense', 'paymentsforrepurchaseofcommonstock', 'trustpreferredsecurities', 'researchanddevelopment', 'lineofcreditfacilityamountoutstanding', 'currentlongtermdebt', 'paymentsofdividendspreferredstock', 'interestexpense', 'assetimpairment', 'unsecureddebt', 'mortgagedebt', 'ppe', 'stockrepurchasedduringperiodvalue', 'depreciationamortization', 'restrictedcashandinvestmentscurrent', 'paymentsofdividendsnoncontrollinginterest', 'termloan', 'capexgross', 'totalinvestments', 'mediumtermnotes', 'depreciationandamortizationexpense', 'operatingexpenseexitems', 'sharebasedcompensation', 'stockrepurchasedduringperiodshares', 'restructuring', 'capitalassetsales'}\n",
      "  warnings.warn(\"Did not find metrics {0}\".format(missing_metrics))\n"
     ]
    },
    {
     "name": "stdout",
     "output_type": "stream",
     "text": [
      "data saved to data/financials/ORI.csv\n",
      "1451: ORI complete\n"
     ]
    },
    {
     "name": "stderr",
     "output_type": "stream",
     "text": [
      "/home/carbine/miniconda3/envs/fleishco/lib/python3.7/site-packages/calcbench/api_client.py:269: UserWarning: Did not find metrics {'incometaxespaid', 'capex', 'secureddebt', 'trustpreferredsecurities', 'paymentsforrepurchaseofcommonstock', 'paymentsofdividendscommonstock', 'sharesoutstandingendofperiod', 'researchanddevelopment', 'interestpaidnet', 'availableforsalesecurities', 'lineofcreditfacilityamountoutstanding', 'currentlongtermdebt', 'paymentsofdividendspreferredstock', 'paymentsofdividends', 'shortterminvestments', 'seniornotes', 'acquisitiondivestitures', 'financingcashflow', 'unsecureddebt', 'mortgagedebt', 'operatingcashflow', 'stockrepurchasedduringperiodvalue', 'depreciationamortization', 'investingcashflow', 'paymentsofdividendsnoncontrollinginterest', 'termloan', 'capexgross', 'totalinvestments', 'mediumtermnotes', 'depreciationandamortizationexpense', 'subordinateddebt', 'sharebasedcompensation', 'stockrepurchasedduringperiodshares', 'restructuring', 'commonstockdividendspershare', 'convertibledebt', 'capitalassetsales'}\n",
      "  warnings.warn(\"Did not find metrics {0}\".format(missing_metrics))\n"
     ]
    },
    {
     "name": "stdout",
     "output_type": "stream",
     "text": [
      "data saved to data/financials/IX.csv\n",
      "1452: IX complete\n"
     ]
    },
    {
     "name": "stderr",
     "output_type": "stream",
     "text": [
      "/home/carbine/miniconda3/envs/fleishco/lib/python3.7/site-packages/calcbench/api_client.py:269: UserWarning: Did not find metrics {'trustpreferredsecurities', 'paymentsofdividendscommonstock', 'researchanddevelopment', 'availableforsalesecurities', 'paymentsofdividendspreferredstock', 'paymentsofdividends', 'shortterminvestments', 'acquisitiondivestitures', 'assetimpairment', 'mortgagedebt', 'restrictedcashandinvestmentscurrent', 'paymentsofdividendsnoncontrollinginterest', 'totalinvestments', 'mediumtermnotes', 'depreciationandamortizationexpense', 'longterminvestments', 'operatingexpenseexitems', 'restructuring', 'commonstockdividendspershare'}\n",
      "  warnings.warn(\"Did not find metrics {0}\".format(missing_metrics))\n"
     ]
    },
    {
     "name": "stdout",
     "output_type": "stream",
     "text": [
      "data saved to data/financials/ORLY.csv\n",
      "1453: ORLY complete\n"
     ]
    },
    {
     "name": "stderr",
     "output_type": "stream",
     "text": [
      "/home/carbine/miniconda3/envs/fleishco/lib/python3.7/site-packages/calcbench/api_client.py:269: UserWarning: Did not find metrics {'secureddebt', 'trustpreferredsecurities', 'paymentsforrepurchaseofcommonstock', 'paymentsofdividendscommonstock', 'lineofcreditfacilityamountoutstanding', 'paymentsofdividendspreferredstock', 'paymentsofdividends', 'seniornotes', 'acquisitiondivestitures', 'unsecureddebt', 'mortgagedebt', 'stockrepurchasedduringperiodvalue', 'restrictedcashandinvestmentscurrent', 'paymentsofdividendsnoncontrollinginterest', 'termloan', 'totalinvestments', 'mediumtermnotes', 'depreciationandamortizationexpense', 'subordinateddebt', 'stockrepurchasedduringperiodshares', 'restructuring', 'commonstockdividendspershare', 'convertibledebt', 'capitalassetsales'}\n",
      "  warnings.warn(\"Did not find metrics {0}\".format(missing_metrics))\n"
     ]
    },
    {
     "name": "stdout",
     "output_type": "stream",
     "text": [
      "data saved to data/financials/ONCS.csv\n",
      "1454: ONCS complete\n"
     ]
    },
    {
     "name": "stderr",
     "output_type": "stream",
     "text": [
      "/home/carbine/miniconda3/envs/fleishco/lib/python3.7/site-packages/calcbench/api_client.py:269: UserWarning: Did not find metrics {'incometaxespaid', 'secureddebt', 'trustpreferredsecurities', 'paymentsforrepurchaseofcommonstock', 'paymentsofdividendscommonstock', 'interestpaidnet', 'lineofcreditfacilityamountoutstanding', 'currentlongtermdebt', 'paymentsofdividendspreferredstock', 'paymentsofdividends', 'seniornotes', 'acquisitiondivestitures', 'assetimpairment', 'unsecureddebt', 'mortgagedebt', 'stockrepurchasedduringperiodvalue', 'restrictedcashandinvestmentscurrent', 'paymentsofdividendsnoncontrollinginterest', 'termloan', 'totalinvestments', 'mediumtermnotes', 'depreciationandamortizationexpense', 'longterminvestments', 'subordinateddebt', 'longtermdebt', 'totaldebt', 'stockrepurchasedduringperiodshares', 'convertibledebt'}\n",
      "  warnings.warn(\"Did not find metrics {0}\".format(missing_metrics))\n"
     ]
    },
    {
     "name": "stdout",
     "output_type": "stream",
     "text": [
      "data saved to data/financials/OMED.csv\n",
      "1456: OMED complete\n"
     ]
    },
    {
     "name": "stderr",
     "output_type": "stream",
     "text": [
      "/home/carbine/miniconda3/envs/fleishco/lib/python3.7/site-packages/calcbench/api_client.py:269: UserWarning: Did not find metrics {'incometaxespaid', 'restrictedcashandinvestmentscurrent', 'paymentsofdividendsnoncontrollinginterest', 'secureddebt', 'totalinvestments', 'mediumtermnotes', 'convertibledebt', 'sgaexpense', 'trustpreferredsecurities', 'paymentsofdividendscommonstock', 'mortgagedebt', 'researchanddevelopment', 'interestpaidnet', 'availableforsalesecurities', 'subordinateddebt', 'paymentsofdividendspreferredstock', 'restructuring', 'shortterminvestments'}\n",
      "  warnings.warn(\"Did not find metrics {0}\".format(missing_metrics))\n"
     ]
    },
    {
     "name": "stdout",
     "output_type": "stream",
     "text": [
      "data saved to data/financials/OTTR.csv\n",
      "1457: OTTR complete\n"
     ]
    },
    {
     "name": "stderr",
     "output_type": "stream",
     "text": [
      "/home/carbine/miniconda3/envs/fleishco/lib/python3.7/site-packages/calcbench/api_client.py:269: UserWarning: Did not find metrics {'secureddebt', 'trustpreferredsecurities', 'paymentsofdividendscommonstock', 'researchanddevelopment', 'lineofcreditfacilityamountoutstanding', 'currentlongtermdebt', 'paymentsofdividendspreferredstock', 'shortterminvestments', 'seniornotes', 'assetimpairment', 'unsecureddebt', 'mortgagedebt', 'restrictedcashandinvestmentscurrent', 'paymentsofdividendsnoncontrollinginterest', 'termloan', 'totalinvestments', 'mediumtermnotes', 'longterminvestments', 'subordinateddebt', 'restructuring', 'commonstockdividendspershare', 'convertibledebt'}\n",
      "  warnings.warn(\"Did not find metrics {0}\".format(missing_metrics))\n"
     ]
    },
    {
     "name": "stdout",
     "output_type": "stream",
     "text": [
      "data saved to data/financials/CSTR.csv\n",
      "1458: CSTR complete\n"
     ]
    },
    {
     "name": "stderr",
     "output_type": "stream",
     "text": [
      "/home/carbine/miniconda3/envs/fleishco/lib/python3.7/site-packages/calcbench/api_client.py:269: UserWarning: Did not find metrics {'trustpreferredsecurities', 'researchanddevelopment', 'availableforsalesecurities', 'currentlongtermdebt', 'paymentsofdividendspreferredstock', 'shortterminvestments', 'assetimpairment', 'unsecureddebt', 'mortgagedebt', 'restrictedcashandinvestmentscurrent', 'paymentsofdividendsnoncontrollinginterest', 'termloan', 'totalinvestments', 'mediumtermnotes', 'longterminvestments', 'subordinateddebt', 'operatingexpenseexitems', 'stockrepurchasedduringperiodshares', 'restructuring', 'convertibledebt', 'capitalassetsales'}\n",
      "  warnings.warn(\"Did not find metrics {0}\".format(missing_metrics))\n"
     ]
    },
    {
     "name": "stdout",
     "output_type": "stream",
     "text": [
      "data saved to data/financials/OXM.csv\n",
      "1459: OXM complete\n"
     ]
    },
    {
     "name": "stderr",
     "output_type": "stream",
     "text": [
      "/home/carbine/miniconda3/envs/fleishco/lib/python3.7/site-packages/calcbench/api_client.py:269: UserWarning: Did not find metrics {'incometaxespaid', 'restrictedcashandinvestmentscurrent', 'paymentsofdividendsnoncontrollinginterest', 'secureddebt', 'termloan', 'totalinvestments', 'mediumtermnotes', 'convertibledebt', 'trustpreferredsecurities', 'assetimpairment', 'paymentsofdividendscommonstock', 'mortgagedebt', 'interestpaidnet', 'availableforsalesecurities', 'subordinateddebt', 'currentlongtermdebt', 'paymentsofdividendspreferredstock', 'restructuring'}\n",
      "  warnings.warn(\"Did not find metrics {0}\".format(missing_metrics))\n"
     ]
    },
    {
     "name": "stdout",
     "output_type": "stream",
     "text": [
      "data saved to data/financials/PEP.csv\n",
      "1462: PEP complete\n"
     ]
    },
    {
     "name": "stderr",
     "output_type": "stream",
     "text": [
      "/home/carbine/miniconda3/envs/fleishco/lib/python3.7/site-packages/calcbench/api_client.py:269: UserWarning: Did not find metrics {'restrictedcashandinvestmentscurrent', 'paymentsofdividendsnoncontrollinginterest', 'secureddebt', 'totalinvestments', 'mediumtermnotes', 'trustpreferredsecurities', 'longterminvestments', 'mortgagedebt', 'researchanddevelopment', 'availableforsalesecurities', 'subordinateddebt', 'paymentsofdividendspreferredstock', 'convertibledebt', 'capitalassetsales', 'shortterminvestments'}\n",
      "  warnings.warn(\"Did not find metrics {0}\".format(missing_metrics))\n"
     ]
    },
    {
     "name": "stdout",
     "output_type": "stream",
     "text": [
      "data saved to data/financials/WH.csv\n",
      "1463: WH complete\n"
     ]
    },
    {
     "name": "stderr",
     "output_type": "stream",
     "text": [
      "/home/carbine/miniconda3/envs/fleishco/lib/python3.7/site-packages/calcbench/api_client.py:269: UserWarning: Did not find metrics {'restrictedcashandinvestmentscurrent', 'paymentsofdividendsnoncontrollinginterest', 'seniornotes', 'termloan', 'totalinvestments', 'sharebasedcompensation', 'mediumtermnotes', 'trustpreferredsecurities', 'assetimpairment', 'unsecureddebt', 'longterminvestments', 'mortgagedebt', 'researchanddevelopment', 'restructuring', 'lineofcreditfacilityamountoutstanding', 'currentlongtermdebt', 'convertibledebt', 'capitalassetsales'}\n",
      "  warnings.warn(\"Did not find metrics {0}\".format(missing_metrics))\n"
     ]
    },
    {
     "name": "stdout",
     "output_type": "stream",
     "text": [
      "data saved to data/financials/PBCT.csv\n",
      "1464: PBCT complete\n"
     ]
    },
    {
     "name": "stderr",
     "output_type": "stream",
     "text": [
      "/home/carbine/miniconda3/envs/fleishco/lib/python3.7/site-packages/calcbench/api_client.py:269: UserWarning: Did not find metrics {'incometaxespaid', 'trustpreferredsecurities', 'paymentsforrepurchaseofcommonstock', 'paymentsofdividendscommonstock', 'researchanddevelopment', 'interestpaidnet', 'paymentsofdividendspreferredstock', 'assetimpairment', 'unsecureddebt', 'mortgagedebt', 'stockrepurchasedduringperiodvalue', 'restrictedcashandinvestmentscurrent', 'paymentsofdividendsnoncontrollinginterest', 'totalinvestments', 'mediumtermnotes', 'subordinateddebt', 'operatingexpenseexitems', 'stockrepurchasedduringperiodshares', 'incometaxes', 'restructuring', 'commonstockdividendspershare', 'convertibledebt', 'capitalassetsales'}\n",
      "  warnings.warn(\"Did not find metrics {0}\".format(missing_metrics))\n"
     ]
    },
    {
     "name": "stdout",
     "output_type": "stream",
     "text": [
      "data saved to data/financials/PBFX.csv\n",
      "1465: PBFX complete\n"
     ]
    },
    {
     "name": "stderr",
     "output_type": "stream",
     "text": [
      "/home/carbine/miniconda3/envs/fleishco/lib/python3.7/site-packages/calcbench/api_client.py:269: UserWarning: Did not find metrics {'incometaxespaid', 'secureddebt', 'trustpreferredsecurities', 'paymentsforrepurchaseofcommonstock', 'paymentsofdividendscommonstock', 'researchanddevelopment', 'interestpaidnet', 'availableforsalesecurities', 'lineofcreditfacilityamountoutstanding', 'paymentsofdividendspreferredstock', 'shortterminvestments', 'interestexpense', 'seniornotes', 'assetimpairment', 'unsecureddebt', 'mortgagedebt', 'restrictedcashandinvestmentscurrent', 'paymentsofdividendsnoncontrollinginterest', 'termloan', 'totalinvestments', 'mediumtermnotes', 'depreciationandamortizationexpense', 'subordinateddebt', 'operatingexpenseexitems', 'stockrepurchasedduringperiodshares', 'restructuring', 'convertibledebt'}\n",
      "  warnings.warn(\"Did not find metrics {0}\".format(missing_metrics))\n"
     ]
    },
    {
     "name": "stdout",
     "output_type": "stream",
     "text": [
      "data saved to data/financials/PBG.csv\n",
      "1466: PBG complete\n"
     ]
    },
    {
     "name": "stderr",
     "output_type": "stream",
     "text": [
      "/home/carbine/miniconda3/envs/fleishco/lib/python3.7/site-packages/calcbench/api_client.py:269: UserWarning: Did not find metrics {'restrictedcashandinvestmentscurrent', 'paymentsofdividendsnoncontrollinginterest', 'secureddebt', 'totalinvestments', 'mediumtermnotes', 'convertibledebt', 'trustpreferredsecurities', 'paymentsofdividendscommonstock', 'unsecureddebt', 'mortgagedebt', 'longterminvestments', 'researchanddevelopment', 'subordinateddebt', 'commonstockdividendspershare', 'paymentsofdividendspreferredstock', 'paymentsofdividends', 'restructuring', 'shortterminvestments'}\n",
      "  warnings.warn(\"Did not find metrics {0}\".format(missing_metrics))\n"
     ]
    },
    {
     "name": "stdout",
     "output_type": "stream",
     "text": [
      "data saved to data/financials/PBH.csv\n",
      "1467: PBH complete\n"
     ]
    },
    {
     "name": "stderr",
     "output_type": "stream",
     "text": [
      "/home/carbine/miniconda3/envs/fleishco/lib/python3.7/site-packages/calcbench/api_client.py:269: UserWarning: Did not find metrics {'restrictedcashandinvestmentscurrent', 'secureddebt', 'seniornotes', 'totalinvestments', 'mediumtermnotes', 'trustpreferredsecurities', 'paymentsforrepurchaseofcommonstock', 'unsecureddebt', 'depreciationandamortizationexpense', 'mortgagedebt', 'longterminvestments', 'stockrepurchasedduringperiodshares', 'subordinateddebt', 'lineofcreditfacilityamountoutstanding', 'paymentsofdividendspreferredstock', 'convertibledebt'}\n",
      "  warnings.warn(\"Did not find metrics {0}\".format(missing_metrics))\n"
     ]
    },
    {
     "name": "stdout",
     "output_type": "stream",
     "text": [
      "data saved to data/financials/PBI.csv\n",
      "1468: PBI complete\n"
     ]
    },
    {
     "name": "stderr",
     "output_type": "stream",
     "text": [
      "/home/carbine/miniconda3/envs/fleishco/lib/python3.7/site-packages/calcbench/api_client.py:269: UserWarning: Did not find metrics {'restrictedcashandinvestmentscurrent', 'paymentsofdividendsnoncontrollinginterest', 'totalinvestments', 'mediumtermnotes', 'trustpreferredsecurities', 'unsecureddebt', 'depreciationandamortizationexpense', 'mortgagedebt', 'longterminvestments', 'researchanddevelopment', 'restructuring', 'paymentsofdividendspreferredstock', 'convertibledebt', 'shortterminvestments'}\n",
      "  warnings.warn(\"Did not find metrics {0}\".format(missing_metrics))\n"
     ]
    },
    {
     "name": "stdout",
     "output_type": "stream",
     "text": [
      "data saved to data/financials/PBY.csv\n",
      "1469: PBY complete\n"
     ]
    },
    {
     "name": "stderr",
     "output_type": "stream",
     "text": [
      "/home/carbine/miniconda3/envs/fleishco/lib/python3.7/site-packages/calcbench/api_client.py:269: UserWarning: Did not find metrics {'incometaxespaid', 'secureddebt', 'trustpreferredsecurities', 'paymentsofdividendscommonstock', 'interestpaidnet', 'lineofcreditfacilityamountoutstanding', 'paymentsofdividendspreferredstock', 'seniornotes', 'acquisitiondivestitures', 'assetimpairment', 'unsecureddebt', 'mortgagedebt', 'restrictedcashandinvestmentscurrent', 'paymentsofdividendsnoncontrollinginterest', 'termloan', 'totalinvestments', 'longterminvestments', 'subordinateddebt', 'sharebasedcompensation', 'restructuring', 'convertibledebt'}\n",
      "  warnings.warn(\"Did not find metrics {0}\".format(missing_metrics))\n"
     ]
    },
    {
     "name": "stdout",
     "output_type": "stream",
     "text": [
      "data saved to data/financials/PCAR.csv\n",
      "1470: PCAR complete\n"
     ]
    },
    {
     "name": "stderr",
     "output_type": "stream",
     "text": [
      "/home/carbine/miniconda3/envs/fleishco/lib/python3.7/site-packages/calcbench/api_client.py:269: UserWarning: Did not find metrics {'sgaexpense', 'paymentsforrepurchaseofcommonstock', 'trustpreferredsecurities', 'researchanddevelopment', 'availableforsalesecurities', 'paymentsofdividendspreferredstock', 'shortterminvestments', 'acquisitiondivestitures', 'assetimpairment', 'mortgagedebt', 'stockrepurchasedduringperiodvalue', 'paymentsofdividendsnoncontrollinginterest', 'totalinvestments', 'mediumtermnotes', 'longterminvestments', 'subordinateddebt', 'operatingexpenseexitems', 'sharebasedcompensation', 'stockrepurchasedduringperiodshares', 'restructuring', 'capitalassetsales'}\n",
      "  warnings.warn(\"Did not find metrics {0}\".format(missing_metrics))\n"
     ]
    },
    {
     "name": "stdout",
     "output_type": "stream",
     "text": [
      "data saved to data/financials/PCG.csv\n",
      "1471: PCG complete\n"
     ]
    },
    {
     "name": "stderr",
     "output_type": "stream",
     "text": [
      "/home/carbine/miniconda3/envs/fleishco/lib/python3.7/site-packages/calcbench/api_client.py:269: UserWarning: Did not find metrics {'restrictedcashandinvestmentscurrent', 'paymentsofdividendsnoncontrollinginterest', 'totalinvestments', 'trustpreferredsecurities', 'unsecureddebt', 'depreciationandamortizationexpense', 'mortgagedebt', 'researchanddevelopment', 'subordinateddebt', 'paymentsofdividendspreferredstock', 'convertibledebt'}\n",
      "  warnings.warn(\"Did not find metrics {0}\".format(missing_metrics))\n"
     ]
    },
    {
     "name": "stdout",
     "output_type": "stream",
     "text": [
      "data saved to data/financials/PCH.csv\n",
      "1473: PCH complete\n"
     ]
    },
    {
     "name": "stderr",
     "output_type": "stream",
     "text": [
      "/home/carbine/miniconda3/envs/fleishco/lib/python3.7/site-packages/calcbench/api_client.py:269: UserWarning: Did not find metrics {'paymentsofdividendsnoncontrollinginterest', 'secureddebt', 'termloan', 'totalinvestments', 'mediumtermnotes', 'trustpreferredsecurities', 'unsecureddebt', 'mortgagedebt', 'subordinateddebt', 'convertibledebt'}\n",
      "  warnings.warn(\"Did not find metrics {0}\".format(missing_metrics))\n"
     ]
    },
    {
     "name": "stdout",
     "output_type": "stream",
     "text": [
      "data saved to data/financials/WY.csv\n",
      "1474: WY complete\n"
     ]
    },
    {
     "name": "stderr",
     "output_type": "stream",
     "text": [
      "/home/carbine/miniconda3/envs/fleishco/lib/python3.7/site-packages/calcbench/api_client.py:269: UserWarning: Did not find metrics {'incometaxespaid', 'capex', 'secureddebt', 'currentassets', 'sgaexpense', 'trustpreferredsecurities', 'paymentsofdividendscommonstock', 'assets', 'currentliabilities', 'researchanddevelopment', 'interestpaidnet', 'availableforsalesecurities', 'currentlongtermdebt', 'paymentsofdividendspreferredstock', 'paymentsofdividends', 'shortterminvestments', 'interestexpense', 'earningsbeforetaxes', 'acquisitiondivestitures', 'assetimpairment', 'financingcashflow', 'unsecureddebt', 'mortgagedebt', 'ppe', 'operatingcashflow', 'depreciationamortization', 'cash', 'restrictedcashandinvestmentscurrent', 'investingcashflow', 'paymentsofdividendsnoncontrollinginterest', 'termloan', 'capexgross', 'totalinvestments', 'mediumtermnotes', 'depreciationandamortizationexpense', 'longterminvestments', 'subordinateddebt', 'operatingexpenses', 'operatingexpenseexitems', 'revenueadjusted', 'sharebasedcompensation', 'longtermdebt', 'totaldebt', 'incometaxes', 'restructuring', 'commonstockdividendspershare', 'convertibledebt', 'capitalassetsales'}\n",
      "  warnings.warn(\"Did not find metrics {0}\".format(missing_metrics))\n"
     ]
    },
    {
     "name": "stdout",
     "output_type": "stream",
     "text": [
      "data saved to data/financials/PCL.csv\n",
      "1475: PCL complete\n"
     ]
    },
    {
     "name": "stderr",
     "output_type": "stream",
     "text": [
      "/home/carbine/miniconda3/envs/fleishco/lib/python3.7/site-packages/calcbench/api_client.py:269: UserWarning: Did not find metrics {'paymentsofdividendsnoncontrollinginterest', 'totalinvestments', 'mediumtermnotes', 'trustpreferredsecurities', 'unsecureddebt', 'paymentsofdividendscommonstock', 'mortgagedebt', 'subordinateddebt', 'lineofcreditfacilityamountoutstanding', 'paymentsofdividendspreferredstock', 'restructuring'}\n",
      "  warnings.warn(\"Did not find metrics {0}\".format(missing_metrics))\n"
     ]
    },
    {
     "name": "stdout",
     "output_type": "stream",
     "text": [
      "data saved to data/financials/PDLI.csv\n",
      "1482: PDLI complete\n"
     ]
    },
    {
     "name": "stderr",
     "output_type": "stream",
     "text": [
      "/home/carbine/miniconda3/envs/fleishco/lib/python3.7/site-packages/calcbench/api_client.py:269: UserWarning: Did not find metrics {'incometaxespaid', 'paymentsofdividendsnoncontrollinginterest', 'totalinvestments', 'mediumtermnotes', 'convertibledebt', 'trustpreferredsecurities', 'mortgagedebt', 'researchanddevelopment', 'incometaxes', 'subordinateddebt', 'currentlongtermdebt', 'paymentsofdividendspreferredstock', 'restructuring', 'shortterminvestments'}\n",
      "  warnings.warn(\"Did not find metrics {0}\".format(missing_metrics))\n"
     ]
    },
    {
     "name": "stdout",
     "output_type": "stream",
     "text": [
      "data saved to data/financials/PDM.csv\n",
      "1483: PDM complete\n"
     ]
    },
    {
     "name": "stderr",
     "output_type": "stream",
     "text": [
      "/home/carbine/miniconda3/envs/fleishco/lib/python3.7/site-packages/calcbench/api_client.py:269: UserWarning: Did not find metrics {'secureddebt', 'sgaexpense', 'trustpreferredsecurities', 'researchanddevelopment', 'availableforsalesecurities', 'lineofcreditfacilityamountoutstanding', 'paymentsofdividendspreferredstock', 'shortterminvestments', 'unsecureddebt', 'mortgagedebt', 'stockrepurchasedduringperiodvalue', 'paymentsofdividendsnoncontrollinginterest', 'termloan', 'totalinvestments', 'subordinateddebt', 'restructuring', 'sharebasedcompensation', 'stockrepurchasedduringperiodshares', 'convertibledebt', 'capitalassetsales'}\n",
      "  warnings.warn(\"Did not find metrics {0}\".format(missing_metrics))\n"
     ]
    },
    {
     "name": "stdout",
     "output_type": "stream",
     "text": [
      "data saved to data/financials/PEG.csv\n",
      "1485: PEG complete\n"
     ]
    },
    {
     "name": "stderr",
     "output_type": "stream",
     "text": [
      "/home/carbine/miniconda3/envs/fleishco/lib/python3.7/site-packages/calcbench/api_client.py:269: UserWarning: Did not find metrics {'incometaxespaid', 'paymentsofdividendsnoncontrollinginterest', 'secureddebt', 'seniornotes', 'termloan', 'totalinvestments', 'mediumtermnotes', 'convertibledebt', 'trustpreferredsecurities', 'unsecureddebt', 'longterminvestments', 'mortgagedebt', 'researchanddevelopment', 'interestpaidnet', 'subordinateddebt', 'currentlongtermdebt', 'paymentsofdividendspreferredstock', 'restructuring'}\n",
      "  warnings.warn(\"Did not find metrics {0}\".format(missing_metrics))\n"
     ]
    },
    {
     "name": "stdout",
     "output_type": "stream",
     "text": [
      "data saved to data/financials/NSP.csv\n",
      "1486: NSP complete\n"
     ]
    },
    {
     "name": "stderr",
     "output_type": "stream",
     "text": [
      "/home/carbine/miniconda3/envs/fleishco/lib/python3.7/site-packages/calcbench/api_client.py:269: UserWarning: Did not find metrics {'paymentsofdividendsnoncontrollinginterest', 'secureddebt', 'totalinvestments', 'mediumtermnotes', 'trustpreferredsecurities', 'paymentsforrepurchaseofcommonstock', 'paymentsofdividendscommonstock', 'mortgagedebt', 'availableforsalesecurities', 'subordinateddebt', 'paymentsofdividendspreferredstock', 'restructuring', 'shortterminvestments'}\n",
      "  warnings.warn(\"Did not find metrics {0}\".format(missing_metrics))\n"
     ]
    },
    {
     "name": "stdout",
     "output_type": "stream",
     "text": [
      "data saved to data/financials/PEGI.csv\n",
      "1487: PEGI complete\n"
     ]
    },
    {
     "name": "stderr",
     "output_type": "stream",
     "text": [
      "/home/carbine/miniconda3/envs/fleishco/lib/python3.7/site-packages/calcbench/api_client.py:269: UserWarning: Did not find metrics {'incometaxespaid', 'secureddebt', 'sgaexpense', 'trustpreferredsecurities', 'researchanddevelopment', 'interestpaidnet', 'lineofcreditfacilityamountoutstanding', 'currentlongtermdebt', 'shortterminvestments', 'interestexpense', 'assetimpairment', 'unsecureddebt', 'mortgagedebt', 'restrictedcashandinvestmentscurrent', 'paymentsofdividendsnoncontrollinginterest', 'termloan', 'totalinvestments', 'mediumtermnotes', 'longterminvestments', 'operatingexpenseexitems', 'restructuring', 'convertibledebt'}\n",
      "  warnings.warn(\"Did not find metrics {0}\".format(missing_metrics))\n"
     ]
    },
    {
     "name": "stdout",
     "output_type": "stream",
     "text": [
      "data saved to data/financials/PFG.csv\n",
      "1490: PFG complete\n"
     ]
    },
    {
     "name": "stderr",
     "output_type": "stream",
     "text": [
      "/home/carbine/miniconda3/envs/fleishco/lib/python3.7/site-packages/calcbench/api_client.py:269: UserWarning: Did not find metrics {'secureddebt', 'trustpreferredsecurities', 'paymentsforrepurchaseofcommonstock', 'paymentsofdividendscommonstock', 'lineofcreditfacilityamountoutstanding', 'paymentsofdividendspreferredstock', 'paymentsofdividends', 'assetimpairment', 'unsecureddebt', 'mortgagedebt', 'stockrepurchasedduringperiodvalue', 'restrictedcashandinvestmentscurrent', 'paymentsofdividendsnoncontrollinginterest', 'termloan', 'totalinvestments', 'mediumtermnotes', 'longterminvestments', 'subordinateddebt', 'operatingexpenseexitems', 'stockrepurchasedduringperiodshares', 'restructuring', 'commonstockdividendspershare', 'capitalassetsales'}\n",
      "  warnings.warn(\"Did not find metrics {0}\".format(missing_metrics))\n"
     ]
    },
    {
     "name": "stdout",
     "output_type": "stream",
     "text": [
      "data saved to data/financials/PFPT.csv\n",
      "1493: PFPT complete\n"
     ]
    },
    {
     "name": "stderr",
     "output_type": "stream",
     "text": [
      "/home/carbine/miniconda3/envs/fleishco/lib/python3.7/site-packages/calcbench/api_client.py:269: UserWarning: Did not find metrics {'secureddebt', 'trustpreferredsecurities', 'paymentsofdividendscommonstock', 'interestpaidnet', 'lineofcreditfacilityamountoutstanding', 'currentlongtermdebt', 'paymentsofdividendspreferredstock', 'seniornotes', 'unsecureddebt', 'mortgagedebt', 'paymentsofdividendsnoncontrollinginterest', 'termloan', 'totalinvestments', 'mediumtermnotes', 'depreciationandamortizationexpense', 'longterminvestments', 'subordinateddebt', 'restructuring', 'convertibledebt'}\n",
      "  warnings.warn(\"Did not find metrics {0}\".format(missing_metrics))\n"
     ]
    },
    {
     "name": "stdout",
     "output_type": "stream",
     "text": [
      "data saved to data/financials/PG.csv\n",
      "1494: PG complete\n"
     ]
    },
    {
     "name": "stderr",
     "output_type": "stream",
     "text": [
      "/home/carbine/miniconda3/envs/fleishco/lib/python3.7/site-packages/calcbench/api_client.py:269: UserWarning: Did not find metrics {'secureddebt', 'trustpreferredsecurities', 'paymentsforrepurchaseofcommonstock', 'paymentsofdividendscommonstock', 'researchanddevelopment', 'availableforsalesecurities', 'paymentsofdividendspreferredstock', 'shortterminvestments', 'seniornotes', 'assetimpairment', 'unsecureddebt', 'mortgagedebt', 'stockrepurchasedduringperiodvalue', 'restrictedcashandinvestmentscurrent', 'paymentsofdividendsnoncontrollinginterest', 'termloan', 'totalinvestments', 'mediumtermnotes', 'longterminvestments', 'subordinateddebt', 'operatingexpenseexitems', 'sharebasedcompensation', 'stockrepurchasedduringperiodshares', 'restructuring', 'convertibledebt'}\n",
      "  warnings.warn(\"Did not find metrics {0}\".format(missing_metrics))\n"
     ]
    },
    {
     "name": "stdout",
     "output_type": "stream",
     "text": [
      "data saved to data/financials/POR.csv\n",
      "1495: POR complete\n"
     ]
    },
    {
     "name": "stderr",
     "output_type": "stream",
     "text": [
      "/home/carbine/miniconda3/envs/fleishco/lib/python3.7/site-packages/calcbench/api_client.py:269: UserWarning: Did not find metrics {'trustpreferredsecurities', 'paymentsforrepurchaseofcommonstock', 'paymentsofdividendscommonstock', 'researchanddevelopment', 'availableforsalesecurities', 'paymentsofdividendspreferredstock', 'paymentsofdividends', 'shortterminvestments', 'assetimpairment', 'mortgagedebt', 'stockrepurchasedduringperiodvalue', 'restrictedcashandinvestmentscurrent', 'paymentsofdividendsnoncontrollinginterest', 'totalinvestments', 'mediumtermnotes', 'longterminvestments', 'operatingexpenseexitems', 'stockrepurchasedduringperiodshares', 'restructuring', 'commonstockdividendspershare', 'convertibledebt'}\n",
      "  warnings.warn(\"Did not find metrics {0}\".format(missing_metrics))\n"
     ]
    },
    {
     "name": "stdout",
     "output_type": "stream",
     "text": [
      "data saved to data/financials/PGEM.csv\n",
      "1496: PGEM complete\n"
     ]
    },
    {
     "name": "stderr",
     "output_type": "stream",
     "text": [
      "/home/carbine/miniconda3/envs/fleishco/lib/python3.7/site-packages/calcbench/api_client.py:269: UserWarning: Did not find metrics {'operatingexpenseexitems', 'paymentsofdividendsnoncontrollinginterest', 'secureddebt', 'termloan', 'sharebasedcompensation', 'totalinvestments', 'mediumtermnotes', 'sgaexpense', 'trustpreferredsecurities', 'unsecureddebt', 'longterminvestments', 'mortgagedebt', 'stockrepurchasedduringperiodshares', 'researchanddevelopment', 'restructuring', 'currentlongtermdebt', 'convertibledebt'}\n",
      "  warnings.warn(\"Did not find metrics {0}\".format(missing_metrics))\n"
     ]
    },
    {
     "name": "stdout",
     "output_type": "stream",
     "text": [
      "data saved to data/financials/PGR.csv\n",
      "1497: PGR complete\n"
     ]
    },
    {
     "name": "stderr",
     "output_type": "stream",
     "text": [
      "/home/carbine/miniconda3/envs/fleishco/lib/python3.7/site-packages/calcbench/api_client.py:269: UserWarning: Did not find metrics {'incometaxespaid', 'restrictedcashandinvestmentscurrent', 'paymentsofdividendsnoncontrollinginterest', 'secureddebt', 'totalinvestments', 'convertibledebt', 'trustpreferredsecurities', 'paymentsofdividendscommonstock', 'unsecureddebt', 'mortgagedebt', 'depreciationandamortizationexpense', 'longterminvestments', 'interestpaidnet', 'availableforsalesecurities', 'subordinateddebt', 'lineofcreditfacilityamountoutstanding', 'paymentsofdividendspreferredstock', 'restructuring'}\n",
      "  warnings.warn(\"Did not find metrics {0}\".format(missing_metrics))\n"
     ]
    },
    {
     "name": "stdout",
     "output_type": "stream",
     "text": [
      "data saved to data/financials/PH.csv\n",
      "1498: PH complete\n"
     ]
    },
    {
     "name": "stderr",
     "output_type": "stream",
     "text": [
      "/home/carbine/miniconda3/envs/fleishco/lib/python3.7/site-packages/calcbench/api_client.py:269: UserWarning: Did not find metrics {'commonstockdividendspershare', 'restrictedcashandinvestmentscurrent', 'paymentsofdividendsnoncontrollinginterest', 'secureddebt', 'termloan', 'totalinvestments', 'mediumtermnotes', 'trustpreferredsecurities', 'paymentsforrepurchaseofcommonstock', 'paymentsofdividendscommonstock', 'assetimpairment', 'unsecureddebt', 'mortgagedebt', 'subordinateddebt', 'lineofcreditfacilityamountoutstanding', 'paymentsofdividendspreferredstock', 'paymentsofdividends', 'capitalassetsales'}\n",
      "  warnings.warn(\"Did not find metrics {0}\".format(missing_metrics))\n"
     ]
    },
    {
     "name": "stdout",
     "output_type": "stream",
     "text": [
      "data saved to data/financials/VOLC.csv\n",
      "1500: VOLC complete\n"
     ]
    },
    {
     "name": "stderr",
     "output_type": "stream",
     "text": [
      "/home/carbine/miniconda3/envs/fleishco/lib/python3.7/site-packages/calcbench/api_client.py:269: UserWarning: Did not find metrics {'restrictedcashandinvestmentscurrent', 'paymentsofdividendsnoncontrollinginterest', 'sharebasedcompensation', 'totalinvestments', 'paymentsforrepurchaseofcommonstock', 'paymentsofdividendscommonstock', 'unsecureddebt', 'mortgagedebt', 'longterminvestments', 'stockrepurchasedduringperiodshares', 'researchanddevelopment', 'stockrepurchasedduringperiodvalue', 'subordinateddebt', 'commonstockdividendspershare', 'shortterminvestments'}\n",
      "  warnings.warn(\"Did not find metrics {0}\".format(missing_metrics))\n"
     ]
    },
    {
     "name": "stdout",
     "output_type": "stream",
     "text": [
      "data saved to data/financials/PKD.csv\n",
      "1503: PKD complete\n"
     ]
    },
    {
     "name": "stderr",
     "output_type": "stream",
     "text": [
      "/home/carbine/miniconda3/envs/fleishco/lib/python3.7/site-packages/calcbench/api_client.py:269: UserWarning: Did not find metrics {'operatingexpenseexitems', 'restrictedcashandinvestmentscurrent', 'paymentsofdividendsnoncontrollinginterest', 'secureddebt', 'totalinvestments', 'mediumtermnotes', 'convertibledebt', 'trustpreferredsecurities', 'assetimpairment', 'longterminvestments', 'mortgagedebt', 'availableforsalesecurities', 'subordinateddebt', 'paymentsofdividendspreferredstock', 'restructuring', 'shortterminvestments'}\n",
      "  warnings.warn(\"Did not find metrics {0}\".format(missing_metrics))\n"
     ]
    },
    {
     "name": "stdout",
     "output_type": "stream",
     "text": [
      "data saved to data/financials/PKG.csv\n",
      "1504: PKG complete\n"
     ]
    },
    {
     "name": "stderr",
     "output_type": "stream",
     "text": [
      "/home/carbine/miniconda3/envs/fleishco/lib/python3.7/site-packages/calcbench/api_client.py:269: UserWarning: Did not find metrics {'restrictedcashandinvestmentscurrent', 'paymentsofdividendsnoncontrollinginterest', 'secureddebt', 'totalinvestments', 'mediumtermnotes', 'trustpreferredsecurities', 'paymentsofdividendscommonstock', 'unsecureddebt', 'mortgagedebt', 'depreciationandamortizationexpense', 'longterminvestments', 'researchanddevelopment', 'availableforsalesecurities', 'subordinateddebt', 'paymentsofdividendspreferredstock', 'convertibledebt', 'shortterminvestments'}\n",
      "  warnings.warn(\"Did not find metrics {0}\".format(missing_metrics))\n"
     ]
    },
    {
     "name": "stdout",
     "output_type": "stream",
     "text": [
      "data saved to data/financials/PKOH.csv\n",
      "1506: PKOH complete\n"
     ]
    },
    {
     "name": "stderr",
     "output_type": "stream",
     "text": [
      "/home/carbine/miniconda3/envs/fleishco/lib/python3.7/site-packages/calcbench/api_client.py:269: UserWarning: Did not find metrics {'incometaxespaid', 'restrictedcashandinvestmentscurrent', 'secureddebt', 'totalinvestments', 'mediumtermnotes', 'trustpreferredsecurities', 'assetimpairment', 'paymentsofdividendscommonstock', 'unsecureddebt', 'mortgagedebt', 'depreciationandamortizationexpense', 'interestpaidnet', 'availableforsalesecurities', 'subordinateddebt', 'commonstockdividendspershare', 'paymentsofdividendspreferredstock', 'paymentsofdividends', 'shortterminvestments'}\n",
      "  warnings.warn(\"Did not find metrics {0}\".format(missing_metrics))\n"
     ]
    },
    {
     "name": "stdout",
     "output_type": "stream",
     "text": [
      "data saved to data/financials/PLAB.csv\n",
      "1507: PLAB complete\n"
     ]
    },
    {
     "name": "stderr",
     "output_type": "stream",
     "text": [
      "/home/carbine/miniconda3/envs/fleishco/lib/python3.7/site-packages/calcbench/api_client.py:269: UserWarning: Did not find metrics {'capex', 'trustpreferredsecurities', 'researchanddevelopment', 'currentlongtermdebt', 'acquisitiondivestitures', 'assetimpairment', 'unsecureddebt', 'mortgagedebt', 'ppe', 'paymentsofdividendsnoncontrollinginterest', 'termloan', 'capexgross', 'totalinvestments', 'mediumtermnotes', 'depreciationandamortizationexpense', 'longterminvestments', 'subordinateddebt', 'operatingexpenseexitems', 'restructuring', 'capitalassetsales'}\n",
      "  warnings.warn(\"Did not find metrics {0}\".format(missing_metrics))\n"
     ]
    },
    {
     "name": "stdout",
     "output_type": "stream",
     "text": [
      "data saved to data/financials/PMT.csv\n",
      "1511: PMT complete\n"
     ]
    },
    {
     "name": "stderr",
     "output_type": "stream",
     "text": [
      "/home/carbine/miniconda3/envs/fleishco/lib/python3.7/site-packages/calcbench/api_client.py:269: UserWarning: Did not find metrics {'operatingexpenseexitems', 'restrictedcashandinvestmentscurrent', 'secureddebt', 'totalinvestments', 'mediumtermnotes', 'convertibledebt', 'trustpreferredsecurities', 'paymentsofdividendscommonstock', 'mortgagedebt', 'stockrepurchasedduringperiodshares', 'researchanddevelopment', 'subordinateddebt', 'paymentsofdividendspreferredstock', 'restructuring', 'capitalassetsales', 'shortterminvestments'}\n",
      "  warnings.warn(\"Did not find metrics {0}\".format(missing_metrics))\n"
     ]
    },
    {
     "name": "stdout",
     "output_type": "stream",
     "text": [
      "data saved to data/financials/PNM.csv\n",
      "1513: PNM complete\n"
     ]
    },
    {
     "name": "stderr",
     "output_type": "stream",
     "text": [
      "/home/carbine/miniconda3/envs/fleishco/lib/python3.7/site-packages/calcbench/api_client.py:269: UserWarning: Did not find metrics {'secureddebt', 'trustpreferredsecurities', 'paymentsforrepurchaseofcommonstock', 'researchanddevelopment', 'paymentsofdividendspreferredstock', 'shortterminvestments', 'assetimpairment', 'unsecureddebt', 'mortgagedebt', 'restrictedcashandinvestmentscurrent', 'paymentsofdividendsnoncontrollinginterest', 'termloan', 'totalinvestments', 'mediumtermnotes', 'longterminvestments', 'subordinateddebt', 'restructuring', 'operatingexpenseexitems', 'convertibledebt', 'capitalassetsales'}\n",
      "  warnings.warn(\"Did not find metrics {0}\".format(missing_metrics))\n"
     ]
    },
    {
     "name": "stdout",
     "output_type": "stream",
     "text": [
      "data saved to data/financials/PNW.csv\n",
      "1516: PNW complete\n"
     ]
    },
    {
     "name": "stderr",
     "output_type": "stream",
     "text": [
      "/home/carbine/miniconda3/envs/fleishco/lib/python3.7/site-packages/calcbench/api_client.py:269: UserWarning: Did not find metrics {'incometaxespaid', 'secureddebt', 'trustpreferredsecurities', 'paymentsofdividendscommonstock', 'lineofcreditfacilityamountoutstanding', 'paymentsofdividendspreferredstock', 'paymentsofdividends', 'assetimpairment', 'unsecureddebt', 'mortgagedebt', 'stockrepurchasedduringperiodvalue', 'restrictedcashandinvestmentscurrent', 'paymentsofdividendsnoncontrollinginterest', 'termloan', 'totalinvestments', 'mediumtermnotes', 'depreciationandamortizationexpense', 'subordinateddebt', 'commonstockdividendspershare', 'capitalassetsales'}\n",
      "  warnings.warn(\"Did not find metrics {0}\".format(missing_metrics))\n"
     ]
    },
    {
     "name": "stdout",
     "output_type": "stream",
     "text": [
      "data saved to data/financials/PODD.csv\n",
      "1517: PODD complete\n"
     ]
    },
    {
     "name": "stderr",
     "output_type": "stream",
     "text": [
      "/home/carbine/miniconda3/envs/fleishco/lib/python3.7/site-packages/calcbench/api_client.py:269: UserWarning: Did not find metrics {'incometaxespaid', 'operatingexpenseexitems', 'restrictedcashandinvestmentscurrent', 'paymentsofdividendsnoncontrollinginterest', 'totalinvestments', 'mediumtermnotes', 'trustpreferredsecurities', 'assetimpairment', 'paymentsofdividendscommonstock', 'unsecureddebt', 'mortgagedebt', 'depreciationandamortizationexpense', 'interestpaidnet', 'subordinateddebt', 'paymentsofdividendspreferredstock', 'restructuring', 'shortterminvestments'}\n",
      "  warnings.warn(\"Did not find metrics {0}\".format(missing_metrics))\n"
     ]
    },
    {
     "name": "stdout",
     "output_type": "stream",
     "text": [
      "data saved to data/financials/POL.csv\n",
      "1518: POL complete\n"
     ]
    },
    {
     "name": "stderr",
     "output_type": "stream",
     "text": [
      "/home/carbine/miniconda3/envs/fleishco/lib/python3.7/site-packages/calcbench/api_client.py:269: UserWarning: Did not find metrics {'restrictedcashandinvestmentscurrent', 'secureddebt', 'seniornotes', 'termloan', 'totalinvestments', 'mediumtermnotes', 'trustpreferredsecurities', 'assetimpairment', 'unsecureddebt', 'mortgagedebt', 'subordinateddebt', 'currentlongtermdebt', 'paymentsofdividendspreferredstock', 'convertibledebt'}\n",
      "  warnings.warn(\"Did not find metrics {0}\".format(missing_metrics))\n"
     ]
    },
    {
     "name": "stdout",
     "output_type": "stream",
     "text": [
      "data saved to data/financials/PPG.csv\n",
      "1520: PPG complete\n"
     ]
    },
    {
     "name": "stderr",
     "output_type": "stream",
     "text": [
      "/home/carbine/miniconda3/envs/fleishco/lib/python3.7/site-packages/calcbench/api_client.py:269: UserWarning: Did not find metrics {'incometaxespaid', 'trustpreferredsecurities', 'paymentsofdividendscommonstock', 'interestpaidnet', 'paymentsofdividendspreferredstock', 'paymentsofdividends', 'shortterminvestments', 'assetimpairment', 'unsecureddebt', 'mortgagedebt', 'restrictedcashandinvestmentscurrent', 'paymentsofdividendsnoncontrollinginterest', 'totalinvestments', 'mediumtermnotes', 'depreciationandamortizationexpense', 'longterminvestments', 'subordinateddebt', 'convertibledebt', 'commonstockdividendspershare', 'capitalassetsales'}\n",
      "  warnings.warn(\"Did not find metrics {0}\".format(missing_metrics))\n"
     ]
    },
    {
     "name": "stdout",
     "output_type": "stream",
     "text": [
      "data saved to data/financials/PPO.csv\n",
      "1521: PPO complete\n"
     ]
    },
    {
     "name": "stderr",
     "output_type": "stream",
     "text": [
      "/home/carbine/miniconda3/envs/fleishco/lib/python3.7/site-packages/calcbench/api_client.py:269: UserWarning: Did not find metrics {'restrictedcashandinvestmentscurrent', 'paymentsofdividendsnoncontrollinginterest', 'totalinvestments', 'trustpreferredsecurities', 'paymentsofdividendscommonstock', 'unsecureddebt', 'mortgagedebt', 'longterminvestments', 'availableforsalesecurities', 'subordinateddebt', 'commonstockdividendspershare', 'currentlongtermdebt', 'paymentsofdividendspreferredstock', 'paymentsofdividends', 'restructuring', 'shortterminvestments'}\n",
      "  warnings.warn(\"Did not find metrics {0}\".format(missing_metrics))\n"
     ]
    },
    {
     "name": "stdout",
     "output_type": "stream",
     "text": [
      "data saved to data/financials/PRAA.csv\n",
      "1525: PRAA complete\n"
     ]
    },
    {
     "name": "stderr",
     "output_type": "stream",
     "text": [
      "/home/carbine/miniconda3/envs/fleishco/lib/python3.7/site-packages/calcbench/api_client.py:269: UserWarning: Did not find metrics {'paymentsofdividendsnoncontrollinginterest', 'secureddebt', 'totalinvestments', 'mediumtermnotes', 'trustpreferredsecurities', 'paymentsofdividendscommonstock', 'depreciationandamortizationexpense', 'mortgagedebt', 'subordinateddebt', 'paymentsofdividendspreferredstock', 'convertibledebt'}\n",
      "  warnings.warn(\"Did not find metrics {0}\".format(missing_metrics))\n"
     ]
    },
    {
     "name": "stdout",
     "output_type": "stream",
     "text": [
      "data saved to data/financials/PRGO.csv\n",
      "1528: PRGO complete\n"
     ]
    },
    {
     "name": "stderr",
     "output_type": "stream",
     "text": [
      "/home/carbine/miniconda3/envs/fleishco/lib/python3.7/site-packages/calcbench/api_client.py:269: UserWarning: Did not find metrics {'secureddebt', 'trustpreferredsecurities', 'paymentsforrepurchaseofcommonstock', 'paymentsofdividendscommonstock', 'interestpaidnet', 'availableforsalesecurities', 'paymentsofdividendspreferredstock', 'paymentsofdividends', 'interestexpense', 'seniornotes', 'unsecureddebt', 'mortgagedebt', 'stockrepurchasedduringperiodvalue', 'paymentsofdividendsnoncontrollinginterest', 'termloan', 'totalinvestments', 'mediumtermnotes', 'longterminvestments', 'subordinateddebt', 'stockrepurchasedduringperiodshares', 'restructuring', 'commonstockdividendspershare', 'capitalassetsales'}\n",
      "  warnings.warn(\"Did not find metrics {0}\".format(missing_metrics))\n"
     ]
    },
    {
     "name": "stdout",
     "output_type": "stream",
     "text": [
      "data saved to data/financials/PRO.csv\n",
      "1529: PRO complete\n"
     ]
    },
    {
     "name": "stderr",
     "output_type": "stream",
     "text": [
      "/home/carbine/miniconda3/envs/fleishco/lib/python3.7/site-packages/calcbench/api_client.py:269: UserWarning: Did not find metrics {'paymentsofdividendsnoncontrollinginterest', 'secureddebt', 'seniornotes', 'totalinvestments', 'mediumtermnotes', 'trustpreferredsecurities', 'paymentsofdividendscommonstock', 'mortgagedebt', 'researchanddevelopment', 'availableforsalesecurities', 'restructuring', 'commonstockdividendspershare', 'shortterminvestments'}\n",
      "  warnings.warn(\"Did not find metrics {0}\".format(missing_metrics))\n"
     ]
    },
    {
     "name": "stdout",
     "output_type": "stream",
     "text": [
      "data saved to data/financials/PRSC.csv\n",
      "1530: PRSC complete\n"
     ]
    },
    {
     "name": "stderr",
     "output_type": "stream",
     "text": [
      "/home/carbine/miniconda3/envs/fleishco/lib/python3.7/site-packages/calcbench/api_client.py:269: UserWarning: Did not find metrics {'incometaxespaid', 'capex', 'secureddebt', 'trustpreferredsecurities', 'researchanddevelopment', 'interestpaidnet', 'currentlongtermdebt', 'paymentsofdividendspreferredstock', 'unsecureddebt', 'ppe', 'restrictedcashandinvestmentscurrent', 'paymentsofdividendsnoncontrollinginterest', 'termloan', 'capexgross', 'totalinvestments', 'operatingexpenseexitems', 'sharebasedcompensation', 'restructuring', 'capitalassetsales'}\n",
      "  warnings.warn(\"Did not find metrics {0}\".format(missing_metrics))\n"
     ]
    },
    {
     "name": "stdout",
     "output_type": "stream",
     "text": [
      "data saved to data/financials/PRU.csv\n",
      "1531: PRU complete\n"
     ]
    },
    {
     "name": "stderr",
     "output_type": "stream",
     "text": [
      "/home/carbine/miniconda3/envs/fleishco/lib/python3.7/site-packages/calcbench/api_client.py:269: UserWarning: Did not find metrics {'secureddebt', 'trustpreferredsecurities', 'paymentsofdividendscommonstock', 'researchanddevelopment', 'paymentsofdividendspreferredstock', 'paymentsofdividends', 'shortterminvestments', 'seniornotes', 'assetimpairment', 'mortgagedebt', 'restrictedcashandinvestmentscurrent', 'paymentsofdividendsnoncontrollinginterest', 'termloan', 'totalinvestments', 'mediumtermnotes', 'depreciationandamortizationexpense', 'longterminvestments', 'subordinateddebt', 'operatingexpenseexitems', 'restructuring', 'commonstockdividendspershare', 'capitalassetsales'}\n",
      "  warnings.warn(\"Did not find metrics {0}\".format(missing_metrics))\n"
     ]
    },
    {
     "name": "stdout",
     "output_type": "stream",
     "text": [
      "data saved to data/financials/PSSI.csv\n",
      "1535: PSSI complete\n"
     ]
    },
    {
     "name": "stderr",
     "output_type": "stream",
     "text": [
      "/home/carbine/miniconda3/envs/fleishco/lib/python3.7/site-packages/calcbench/api_client.py:269: UserWarning: Did not find metrics {'secureddebt', 'trustpreferredsecurities', 'paymentsforrepurchaseofcommonstock', 'paymentsofdividendscommonstock', 'researchanddevelopment', 'availableforsalesecurities', 'paymentsofdividendspreferredstock', 'shortterminvestments', 'assetimpairment', 'unsecureddebt', 'mortgagedebt', 'stockrepurchasedduringperiodvalue', 'restrictedcashandinvestmentscurrent', 'paymentsofdividendsnoncontrollinginterest', 'totalinvestments', 'mediumtermnotes', 'subordinateddebt', 'operatingexpenseexitems', 'sharebasedcompensation', 'stockrepurchasedduringperiodshares', 'restructuring', 'commonstockdividendspershare', 'convertibledebt', 'capitalassetsales'}\n",
      "  warnings.warn(\"Did not find metrics {0}\".format(missing_metrics))\n"
     ]
    },
    {
     "name": "stdout",
     "output_type": "stream",
     "text": [
      "data saved to data/financials/PSXP.csv\n",
      "1536: PSXP complete\n"
     ]
    },
    {
     "name": "stderr",
     "output_type": "stream",
     "text": [
      "/home/carbine/miniconda3/envs/fleishco/lib/python3.7/site-packages/calcbench/api_client.py:269: UserWarning: Did not find metrics {'secureddebt', 'trustpreferredsecurities', 'paymentsforrepurchaseofcommonstock', 'paymentsofdividendscommonstock', 'paymentsofdividendspreferredstock', 'paymentsofdividends', 'assetimpairment', 'unsecureddebt', 'mortgagedebt', 'stockrepurchasedduringperiodvalue', 'restrictedcashandinvestmentscurrent', 'paymentsofdividendsnoncontrollinginterest', 'termloan', 'totalinvestments', 'mediumtermnotes', 'longterminvestments', 'subordinateddebt', 'operatingexpenseexitems', 'stockrepurchasedduringperiodshares', 'restructuring', 'commonstockdividendspershare', 'capitalassetsales'}\n",
      "  warnings.warn(\"Did not find metrics {0}\".format(missing_metrics))\n"
     ]
    },
    {
     "name": "stdout",
     "output_type": "stream",
     "text": [
      "data saved to data/financials/PTCT.csv\n",
      "1538: PTCT complete\n",
      "data saved to data/financials/PTEN.csv\n",
      "1539: PTEN complete\n"
     ]
    },
    {
     "name": "stderr",
     "output_type": "stream",
     "text": [
      "/home/carbine/miniconda3/envs/fleishco/lib/python3.7/site-packages/calcbench/api_client.py:269: UserWarning: Did not find metrics {'secureddebt', 'trustpreferredsecurities', 'currentliabilities', 'researchanddevelopment', 'currentlongtermdebt', 'seniornotes', 'acquisitiondivestitures', 'assetimpairment', 'unsecureddebt', 'mortgagedebt', 'ppe', 'restrictedcashandinvestmentscurrent', 'paymentsofdividendsnoncontrollinginterest', 'termloan', 'capexgross', 'totalinvestments', 'mediumtermnotes', 'longterminvestments', 'subordinateddebt', 'operatingexpenseexitems', 'restructuring', 'convertibledebt'}\n",
      "  warnings.warn(\"Did not find metrics {0}\".format(missing_metrics))\n"
     ]
    },
    {
     "name": "stdout",
     "output_type": "stream",
     "text": [
      "data saved to data/financials/PTP.csv\n",
      "1541: PTP complete\n"
     ]
    },
    {
     "name": "stderr",
     "output_type": "stream",
     "text": [
      "/home/carbine/miniconda3/envs/fleishco/lib/python3.7/site-packages/calcbench/api_client.py:269: UserWarning: Did not find metrics {'incometaxespaid', 'secureddebt', 'trustpreferredsecurities', 'paymentsforrepurchaseofcommonstock', 'paymentsofdividendscommonstock', 'researchanddevelopment', 'interestpaidnet', 'availableforsalesecurities', 'lineofcreditfacilityamountoutstanding', 'currentlongtermdebt', 'paymentsofdividendspreferredstock', 'paymentsofdividends', 'shortterminvestments', 'seniornotes', 'assetimpairment', 'unsecureddebt', 'mortgagedebt', 'stockrepurchasedduringperiodvalue', 'restrictedcashandinvestmentscurrent', 'termloan', 'totalinvestments', 'mediumtermnotes', 'longterminvestments', 'subordinateddebt', 'operatingexpenseexitems', 'stockrepurchasedduringperiodshares', 'restructuring', 'commonstockdividendspershare', 'convertibledebt', 'capitalassetsales'}\n",
      "  warnings.warn(\"Did not find metrics {0}\".format(missing_metrics))\n"
     ]
    },
    {
     "name": "stdout",
     "output_type": "stream",
     "text": [
      "data saved to data/financials/PTV.csv\n",
      "1542: PTV complete\n"
     ]
    },
    {
     "name": "stderr",
     "output_type": "stream",
     "text": [
      "/home/carbine/miniconda3/envs/fleishco/lib/python3.7/site-packages/calcbench/api_client.py:269: UserWarning: Did not find metrics {'incometaxespaid', 'trustpreferredsecurities', 'paymentsofdividendscommonstock', 'researchanddevelopment', 'interestpaidnet', 'paymentsofdividendspreferredstock', 'shortterminvestments', 'assetimpairment', 'mortgagedebt', 'restrictedcashandinvestmentscurrent', 'paymentsofdividendsnoncontrollinginterest', 'totalinvestments', 'mediumtermnotes', 'depreciationandamortizationexpense', 'longterminvestments', 'subordinateddebt', 'restructuring', 'operatingexpenseexitems', 'convertibledebt'}\n",
      "  warnings.warn(\"Did not find metrics {0}\".format(missing_metrics))\n"
     ]
    },
    {
     "name": "stdout",
     "output_type": "stream",
     "text": [
      "data saved to data/financials/PVH.csv\n",
      "1547: PVH complete\n"
     ]
    },
    {
     "name": "stderr",
     "output_type": "stream",
     "text": [
      "/home/carbine/miniconda3/envs/fleishco/lib/python3.7/site-packages/calcbench/api_client.py:269: UserWarning: Did not find metrics {'incometaxespaid', 'secureddebt', 'trustpreferredsecurities', 'paymentsforrepurchaseofcommonstock', 'paymentsofdividendscommonstock', 'researchanddevelopment', 'currentlongtermdebt', 'paymentsofdividendspreferredstock', 'shortterminvestments', 'mortgagedebt', 'stockrepurchasedduringperiodvalue', 'restrictedcashandinvestmentscurrent', 'paymentsofdividendsnoncontrollinginterest', 'termloan', 'totalinvestments', 'mediumtermnotes', 'subordinateddebt', 'stockrepurchasedduringperiodshares', 'incometaxes', 'restructuring', 'commonstockdividendspershare', 'convertibledebt'}\n",
      "  warnings.warn(\"Did not find metrics {0}\".format(missing_metrics))\n"
     ]
    },
    {
     "name": "stdout",
     "output_type": "stream",
     "text": [
      "data saved to data/financials/PVR.csv\n",
      "1548: PVR complete\n"
     ]
    },
    {
     "name": "stderr",
     "output_type": "stream",
     "text": [
      "/home/carbine/miniconda3/envs/fleishco/lib/python3.7/site-packages/calcbench/api_client.py:269: UserWarning: Did not find metrics {'trustpreferredsecurities', 'paymentsofdividendscommonstock', 'availableforsalesecurities', 'paymentsofdividendspreferredstock', 'paymentsofdividends', 'shortterminvestments', 'interestexpense', 'seniornotes', 'acquisitiondivestitures', 'assetimpairment', 'unsecureddebt', 'mortgagedebt', 'stockrepurchasedduringperiodvalue', 'paymentsofdividendsnoncontrollinginterest', 'totalinvestments', 'mediumtermnotes', 'depreciationandamortizationexpense', 'longterminvestments', 'stockrepurchasedduringperiodshares', 'commonstockdividendspershare'}\n",
      "  warnings.warn(\"Did not find metrics {0}\".format(missing_metrics))\n"
     ]
    },
    {
     "name": "stdout",
     "output_type": "stream",
     "text": [
      "data saved to data/financials/PWAV.csv\n",
      "1549: PWAV complete\n"
     ]
    },
    {
     "name": "stderr",
     "output_type": "stream",
     "text": [
      "/home/carbine/miniconda3/envs/fleishco/lib/python3.7/site-packages/calcbench/api_client.py:269: UserWarning: Did not find metrics {'incometaxespaid', 'secureddebt', 'trustpreferredsecurities', 'paymentsofdividendscommonstock', 'interestpaidnet', 'currentlongtermdebt', 'paymentsofdividendspreferredstock', 'seniornotes', 'unsecureddebt', 'mortgagedebt', 'restrictedcashandinvestmentscurrent', 'paymentsofdividendsnoncontrollinginterest', 'termloan', 'totalinvestments', 'mediumtermnotes', 'depreciationandamortizationexpense', 'subordinateddebt', 'restructuring', 'convertibledebt'}\n",
      "  warnings.warn(\"Did not find metrics {0}\".format(missing_metrics))\n"
     ]
    },
    {
     "name": "stdout",
     "output_type": "stream",
     "text": [
      "data saved to data/financials/QCOM.csv\n",
      "1551: QCOM complete\n"
     ]
    },
    {
     "name": "stderr",
     "output_type": "stream",
     "text": [
      "/home/carbine/miniconda3/envs/fleishco/lib/python3.7/site-packages/calcbench/api_client.py:269: UserWarning: Did not find metrics {'paymentsofdividendsnoncontrollinginterest', 'totalinvestments', 'mediumtermnotes', 'trustpreferredsecurities', 'paymentsofdividendscommonstock', 'unsecureddebt', 'mortgagedebt', 'longterminvestments', 'subordinateddebt', 'commonstockdividendspershare', 'paymentsofdividendspreferredstock', 'paymentsofdividends', 'shortterminvestments'}\n",
      "  warnings.warn(\"Did not find metrics {0}\".format(missing_metrics))\n"
     ]
    },
    {
     "name": "stdout",
     "output_type": "stream",
     "text": [
      "data saved to data/financials/QDEL.csv\n",
      "1552: QDEL complete\n"
     ]
    },
    {
     "name": "stderr",
     "output_type": "stream",
     "text": [
      "/home/carbine/miniconda3/envs/fleishco/lib/python3.7/site-packages/calcbench/api_client.py:269: UserWarning: Did not find metrics {'commonstockdividendspershare', 'restrictedcashandinvestmentscurrent', 'totalinvestments', 'mediumtermnotes', 'trustpreferredsecurities', 'paymentsofdividendscommonstock', 'unsecureddebt', 'mortgagedebt', 'longterminvestments', 'researchanddevelopment', 'convertibledebt', 'lineofcreditfacilityamountoutstanding', 'paymentsofdividendspreferredstock', 'paymentsofdividends', 'shortterminvestments'}\n",
      "  warnings.warn(\"Did not find metrics {0}\".format(missing_metrics))\n"
     ]
    },
    {
     "name": "stdout",
     "output_type": "stream",
     "text": [
      "data saved to data/financials/QLTY.csv\n",
      "1555: QLTY complete\n"
     ]
    },
    {
     "name": "stderr",
     "output_type": "stream",
     "text": [
      "/home/carbine/miniconda3/envs/fleishco/lib/python3.7/site-packages/calcbench/api_client.py:269: UserWarning: Did not find metrics {'incometaxespaid', 'secureddebt', 'trustpreferredsecurities', 'paymentsforrepurchaseofcommonstock', 'paymentsofdividendscommonstock', 'researchanddevelopment', 'availableforsalesecurities', 'paymentsofdividendspreferredstock', 'shortterminvestments', 'assetimpairment', 'unsecureddebt', 'mortgagedebt', 'stockrepurchasedduringperiodvalue', 'restrictedcashandinvestmentscurrent', 'paymentsofdividendsnoncontrollinginterest', 'termloan', 'totalinvestments', 'mediumtermnotes', 'longterminvestments', 'subordinateddebt', 'stockrepurchasedduringperiodshares', 'restructuring', 'commonstockdividendspershare', 'convertibledebt'}\n",
      "  warnings.warn(\"Did not find metrics {0}\".format(missing_metrics))\n"
     ]
    },
    {
     "name": "stdout",
     "output_type": "stream",
     "text": [
      "data saved to data/financials/QRE.csv\n",
      "1556: QRE complete\n"
     ]
    },
    {
     "name": "stderr",
     "output_type": "stream",
     "text": [
      "/home/carbine/miniconda3/envs/fleishco/lib/python3.7/site-packages/calcbench/api_client.py:269: UserWarning: Did not find metrics {'incometaxespaid', 'trustpreferredsecurities', 'paymentsofdividendscommonstock', 'interestpaidnet', 'availableforsalesecurities', 'paymentsofdividendspreferredstock', 'paymentsofdividends', 'seniornotes', 'assetimpairment', 'unsecureddebt', 'mortgagedebt', 'stockrepurchasedduringperiodvalue', 'paymentsofdividendsnoncontrollinginterest', 'termloan', 'totalinvestments', 'mediumtermnotes', 'depreciationandamortizationexpense', 'operatingexpenseexitems', 'restructuring', 'commonstockdividendspershare'}\n",
      "  warnings.warn(\"Did not find metrics {0}\".format(missing_metrics))\n"
     ]
    },
    {
     "name": "stdout",
     "output_type": "stream",
     "text": [
      "data saved to data/financials/RFMD.csv\n",
      "1557: RFMD complete\n"
     ]
    },
    {
     "name": "stderr",
     "output_type": "stream",
     "text": [
      "/home/carbine/miniconda3/envs/fleishco/lib/python3.7/site-packages/calcbench/api_client.py:269: UserWarning: Did not find metrics {'incometaxespaid', 'paymentsofdividendsnoncontrollinginterest', 'totalinvestments', 'mediumtermnotes', 'trustpreferredsecurities', 'paymentsofdividendscommonstock', 'mortgagedebt', 'interestpaidnet', 'availableforsalesecurities', 'subordinateddebt', 'paymentsofdividendspreferredstock', 'convertibledebt', 'shortterminvestments'}\n",
      "  warnings.warn(\"Did not find metrics {0}\".format(missing_metrics))\n"
     ]
    },
    {
     "name": "stdout",
     "output_type": "stream",
     "text": [
      "data saved to data/financials/QUAD.csv\n",
      "1559: QUAD complete\n"
     ]
    },
    {
     "name": "stderr",
     "output_type": "stream",
     "text": [
      "/home/carbine/miniconda3/envs/fleishco/lib/python3.7/site-packages/calcbench/api_client.py:269: UserWarning: Did not find metrics {'restrictedcashandinvestmentscurrent', 'paymentsofdividendsnoncontrollinginterest', 'secureddebt', 'seniornotes', 'totalinvestments', 'trustpreferredsecurities', 'assetimpairment', 'longterminvestments', 'mortgagedebt', 'researchanddevelopment', 'availableforsalesecurities', 'subordinateddebt', 'currentlongtermdebt', 'paymentsofdividendspreferredstock', 'convertibledebt', 'shortterminvestments'}\n",
      "  warnings.warn(\"Did not find metrics {0}\".format(missing_metrics))\n"
     ]
    },
    {
     "name": "stdout",
     "output_type": "stream",
     "text": [
      "data saved to data/financials/R.csv\n",
      "1560: R complete\n"
     ]
    },
    {
     "name": "stderr",
     "output_type": "stream",
     "text": [
      "/home/carbine/miniconda3/envs/fleishco/lib/python3.7/site-packages/calcbench/api_client.py:269: UserWarning: Did not find metrics {'trustpreferredsecurities', 'paymentsforrepurchaseofcommonstock', 'paymentsofdividendscommonstock', 'researchanddevelopment', 'availableforsalesecurities', 'currentlongtermdebt', 'paymentsofdividendspreferredstock', 'paymentsofdividends', 'shortterminvestments', 'mortgagedebt', 'stockrepurchasedduringperiodvalue', 'restrictedcashandinvestmentscurrent', 'paymentsofdividendsnoncontrollinginterest', 'totalinvestments', 'mediumtermnotes', 'depreciationandamortizationexpense', 'longterminvestments', 'subordinateddebt', 'stockrepurchasedduringperiodshares', 'commonstockdividendspershare', 'capitalassetsales'}\n",
      "  warnings.warn(\"Did not find metrics {0}\".format(missing_metrics))\n"
     ]
    },
    {
     "name": "stdout",
     "output_type": "stream",
     "text": [
      "data saved to data/financials/RAD.csv\n",
      "1561: RAD complete\n"
     ]
    },
    {
     "name": "stderr",
     "output_type": "stream",
     "text": [
      "/home/carbine/miniconda3/envs/fleishco/lib/python3.7/site-packages/calcbench/api_client.py:269: UserWarning: Did not find metrics {'paymentsofdividendsnoncontrollinginterest', 'totalinvestments', 'mediumtermnotes', 'trustpreferredsecurities', 'paymentsforrepurchaseofcommonstock', 'unsecureddebt', 'longterminvestments', 'mortgagedebt', 'researchanddevelopment', 'currentlongtermdebt', 'shortterminvestments'}\n",
      "  warnings.warn(\"Did not find metrics {0}\".format(missing_metrics))\n"
     ]
    },
    {
     "name": "stdout",
     "output_type": "stream",
     "text": [
      "data saved to data/financials/RAS.csv\n",
      "1563: RAS complete\n"
     ]
    },
    {
     "name": "stderr",
     "output_type": "stream",
     "text": [
      "/home/carbine/miniconda3/envs/fleishco/lib/python3.7/site-packages/calcbench/api_client.py:269: UserWarning: Did not find metrics {'restrictedcashandinvestmentscurrent', 'paymentsofdividendsnoncontrollinginterest', 'termloan', 'totalinvestments', 'mediumtermnotes', 'convertibledebt', 'trustpreferredsecurities', 'paymentsofdividendscommonstock', 'longterminvestments', 'mortgagedebt', 'availableforsalesecurities', 'subordinateddebt', 'commonstockdividendspershare', 'currentlongtermdebt', 'paymentsofdividendspreferredstock', 'paymentsofdividends', 'capitalassetsales', 'shortterminvestments'}\n",
      "  warnings.warn(\"Did not find metrics {0}\".format(missing_metrics))\n"
     ]
    },
    {
     "name": "stdout",
     "output_type": "stream",
     "text": [
      "data saved to data/financials/RATE.csv\n",
      "1564: RATE complete\n"
     ]
    },
    {
     "name": "stderr",
     "output_type": "stream",
     "text": [
      "/home/carbine/miniconda3/envs/fleishco/lib/python3.7/site-packages/calcbench/api_client.py:269: UserWarning: Did not find metrics {'incometaxespaid', 'restrictedcashandinvestmentscurrent', 'paymentsofdividendsnoncontrollinginterest', 'totalinvestments', 'mediumtermnotes', 'trustpreferredsecurities', 'paymentsofdividendscommonstock', 'unsecureddebt', 'mortgagedebt', 'longterminvestments', 'researchanddevelopment', 'interestpaidnet', 'availableforsalesecurities', 'subordinateddebt', 'currentlongtermdebt', 'paymentsofdividendspreferredstock', 'convertibledebt', 'shortterminvestments'}\n",
      "  warnings.warn(\"Did not find metrics {0}\".format(missing_metrics))\n"
     ]
    },
    {
     "name": "stdout",
     "output_type": "stream",
     "text": [
      "data saved to data/financials/RCII.csv\n",
      "1566: RCII complete\n"
     ]
    },
    {
     "name": "stderr",
     "output_type": "stream",
     "text": [
      "/home/carbine/miniconda3/envs/fleishco/lib/python3.7/site-packages/calcbench/api_client.py:269: UserWarning: Did not find metrics {'incometaxespaid', 'restrictedcashandinvestmentscurrent', 'paymentsofdividendsnoncontrollinginterest', 'secureddebt', 'totalinvestments', 'mediumtermnotes', 'trustpreferredsecurities', 'paymentsofdividendscommonstock', 'longterminvestments', 'mortgagedebt', 'researchanddevelopment', 'availableforsalesecurities', 'subordinateddebt', 'paymentsofdividendspreferredstock', 'convertibledebt', 'shortterminvestments'}\n",
      "  warnings.warn(\"Did not find metrics {0}\".format(missing_metrics))\n"
     ]
    },
    {
     "name": "stdout",
     "output_type": "stream",
     "text": [
      "data saved to data/financials/RCL.csv\n",
      "1567: RCL complete\n"
     ]
    },
    {
     "name": "stderr",
     "output_type": "stream",
     "text": [
      "/home/carbine/miniconda3/envs/fleishco/lib/python3.7/site-packages/calcbench/api_client.py:269: UserWarning: Did not find metrics {'secureddebt', 'trustpreferredsecurities', 'paymentsforrepurchaseofcommonstock', 'availableforsalesecurities', 'paymentsofdividendspreferredstock', 'shortterminvestments', 'seniornotes', 'acquisitiondivestitures', 'unsecureddebt', 'mortgagedebt', 'restrictedcashandinvestmentscurrent', 'paymentsofdividendsnoncontrollinginterest', 'totalinvestments', 'mediumtermnotes', 'depreciationandamortizationexpense', 'longterminvestments', 'subordinateddebt', 'restructuring', 'convertibledebt'}\n",
      "  warnings.warn(\"Did not find metrics {0}\".format(missing_metrics))\n"
     ]
    },
    {
     "name": "stdout",
     "output_type": "stream",
     "text": [
      "data saved to data/financials/CMT.csv\n",
      "1569: CMT complete\n"
     ]
    },
    {
     "name": "stderr",
     "output_type": "stream",
     "text": [
      "/home/carbine/miniconda3/envs/fleishco/lib/python3.7/site-packages/calcbench/api_client.py:269: UserWarning: Did not find metrics {'secureddebt', 'trustpreferredsecurities', 'paymentsforrepurchaseofcommonstock', 'paymentsofdividendscommonstock', 'researchanddevelopment', 'availableforsalesecurities', 'lineofcreditfacilityamountoutstanding', 'paymentsofdividendspreferredstock', 'paymentsofdividends', 'shortterminvestments', 'seniornotes', 'acquisitiondivestitures', 'assetimpairment', 'unsecureddebt', 'mortgagedebt', 'ppe', 'stockrepurchasedduringperiodvalue', 'restrictedcashandinvestmentscurrent', 'paymentsofdividendsnoncontrollinginterest', 'termloan', 'totalinvestments', 'mediumtermnotes', 'depreciationandamortizationexpense', 'longterminvestments', 'subordinateddebt', 'operatingexpenseexitems', 'revenueadjusted', 'sharebasedcompensation', 'longtermdebt', 'stockrepurchasedduringperiodshares', 'incometaxes', 'restructuring', 'commonstockdividendspershare', 'convertibledebt', 'capitalassetsales'}\n",
      "  warnings.warn(\"Did not find metrics {0}\".format(missing_metrics))\n"
     ]
    },
    {
     "name": "stdout",
     "output_type": "stream",
     "text": [
      "data saved to data/financials/PMDX.csv\n",
      "1570: PMDX complete\n"
     ]
    },
    {
     "name": "stderr",
     "output_type": "stream",
     "text": [
      "/home/carbine/miniconda3/envs/fleishco/lib/python3.7/site-packages/calcbench/api_client.py:269: UserWarning: Did not find metrics {'operatingexpenseexitems', 'restrictedcashandinvestmentscurrent', 'capex', 'secureddebt', 'termloan', 'capexgross', 'totalinvestments', 'mediumtermnotes', 'trustpreferredsecurities', 'unsecureddebt', 'depreciationandamortizationexpense', 'mortgagedebt', 'researchanddevelopment', 'ppe', 'restructuring', 'paymentsofdividendspreferredstock', 'convertibledebt', 'capitalassetsales'}\n",
      "  warnings.warn(\"Did not find metrics {0}\".format(missing_metrics))\n"
     ]
    },
    {
     "name": "stdout",
     "output_type": "stream",
     "text": [
      "data saved to data/financials/RE.csv\n",
      "1571: RE complete\n"
     ]
    },
    {
     "name": "stderr",
     "output_type": "stream",
     "text": [
      "/home/carbine/miniconda3/envs/fleishco/lib/python3.7/site-packages/calcbench/api_client.py:269: UserWarning: Did not find metrics {'paymentsofdividendsnoncontrollinginterest', 'secureddebt', 'totalinvestments', 'mediumtermnotes', 'trustpreferredsecurities', 'unsecureddebt', 'paymentsofdividendscommonstock', 'mortgagedebt', 'depreciationandamortizationexpense', 'subordinateddebt', 'commonstockdividendspershare', 'restructuring'}\n",
      "  warnings.warn(\"Did not find metrics {0}\".format(missing_metrics))\n"
     ]
    },
    {
     "name": "stdout",
     "output_type": "stream",
     "text": [
      "data saved to data/financials/REGI.csv\n",
      "1572: REGI complete\n"
     ]
    },
    {
     "name": "stderr",
     "output_type": "stream",
     "text": [
      "/home/carbine/miniconda3/envs/fleishco/lib/python3.7/site-packages/calcbench/api_client.py:269: UserWarning: Did not find metrics {'trustpreferredsecurities', 'paymentsforrepurchaseofcommonstock', 'paymentsofdividendscommonstock', 'researchanddevelopment', 'availableforsalesecurities', 'shortterminvestments', 'acquisitiondivestitures', 'unsecureddebt', 'mortgagedebt', 'stockrepurchasedduringperiodvalue', 'restrictedcashandinvestmentscurrent', 'paymentsofdividendsnoncontrollinginterest', 'totalinvestments', 'mediumtermnotes', 'longterminvestments', 'subordinateddebt', 'stockrepurchasedduringperiodshares', 'restructuring', 'commonstockdividendspershare', 'convertibledebt'}\n",
      "  warnings.warn(\"Did not find metrics {0}\".format(missing_metrics))\n"
     ]
    },
    {
     "name": "stdout",
     "output_type": "stream",
     "text": [
      "data saved to data/financials/REN.csv\n",
      "1574: REN complete\n"
     ]
    },
    {
     "name": "stderr",
     "output_type": "stream",
     "text": [
      "/home/carbine/miniconda3/envs/fleishco/lib/python3.7/site-packages/calcbench/api_client.py:269: UserWarning: Did not find metrics {'restrictedcashandinvestmentscurrent', 'paymentsofdividendsnoncontrollinginterest', 'totalinvestments', 'mediumtermnotes', 'trustpreferredsecurities', 'paymentsforrepurchaseofcommonstock', 'paymentsofdividendscommonstock', 'unsecureddebt', 'mortgagedebt', 'stockrepurchasedduringperiodshares', 'researchanddevelopment', 'stockrepurchasedduringperiodvalue', 'subordinateddebt', 'commonstockdividendspershare', 'convertibledebt', 'shortterminvestments'}\n",
      "  warnings.warn(\"Did not find metrics {0}\".format(missing_metrics))\n"
     ]
    },
    {
     "name": "stdout",
     "output_type": "stream",
     "text": [
      "data saved to data/financials/REXX.csv\n",
      "1577: REXX complete\n"
     ]
    },
    {
     "name": "stderr",
     "output_type": "stream",
     "text": [
      "/home/carbine/miniconda3/envs/fleishco/lib/python3.7/site-packages/calcbench/api_client.py:269: UserWarning: Did not find metrics {'sgaexpense', 'paymentsforrepurchaseofcommonstock', 'trustpreferredsecurities', 'paymentsofdividendscommonstock', 'researchanddevelopment', 'lineofcreditfacilityamountoutstanding', 'currentlongtermdebt', 'paymentsofdividendspreferredstock', 'unsecureddebt', 'mortgagedebt', 'ppe', 'restrictedcashandinvestmentscurrent', 'paymentsofdividendsnoncontrollinginterest', 'termloan', 'totalinvestments', 'mediumtermnotes', 'depreciationandamortizationexpense', 'longterminvestments', 'operatingexpenseexitems', 'sharebasedcompensation', 'restructuring'}\n",
      "  warnings.warn(\"Did not find metrics {0}\".format(missing_metrics))\n"
     ]
    },
    {
     "name": "stdout",
     "output_type": "stream",
     "text": [
      "data saved to data/financials/RGA.csv\n",
      "1580: RGA complete\n"
     ]
    },
    {
     "name": "stderr",
     "output_type": "stream",
     "text": [
      "/home/carbine/miniconda3/envs/fleishco/lib/python3.7/site-packages/calcbench/api_client.py:269: UserWarning: Did not find metrics {'secureddebt', 'trustpreferredsecurities', 'paymentsofdividendscommonstock', 'paymentsofdividendspreferredstock', 'paymentsofdividends', 'assetimpairment', 'unsecureddebt', 'mortgagedebt', 'stockrepurchasedduringperiodvalue', 'restrictedcashandinvestmentscurrent', 'paymentsofdividendsnoncontrollinginterest', 'termloan', 'totalinvestments', 'mediumtermnotes', 'depreciationandamortizationexpense', 'subordinateddebt', 'operatingexpenseexitems', 'stockrepurchasedduringperiodshares', 'restructuring', 'commonstockdividendspershare'}\n",
      "  warnings.warn(\"Did not find metrics {0}\".format(missing_metrics))\n"
     ]
    },
    {
     "name": "stdout",
     "output_type": "stream",
     "text": [
      "data saved to data/financials/RGEN.csv\n",
      "1581: RGEN complete\n"
     ]
    },
    {
     "name": "stderr",
     "output_type": "stream",
     "text": [
      "/home/carbine/miniconda3/envs/fleishco/lib/python3.7/site-packages/calcbench/api_client.py:269: UserWarning: Did not find metrics {'incometaxespaid', 'capex', 'secureddebt', 'trustpreferredsecurities', 'paymentsforrepurchaseofcommonstock', 'researchanddevelopment', 'interestpaidnet', 'paymentsofdividendspreferredstock', 'unsecureddebt', 'mortgagedebt', 'ppe', 'stockrepurchasedduringperiodvalue', 'restrictedcashandinvestmentscurrent', 'paymentsofdividendsnoncontrollinginterest', 'termloan', 'capexgross', 'totalinvestments', 'mediumtermnotes', 'subordinateddebt', 'stockrepurchasedduringperiodshares', 'capitalassetsales'}\n",
      "  warnings.warn(\"Did not find metrics {0}\".format(missing_metrics))\n"
     ]
    },
    {
     "name": "stdout",
     "output_type": "stream",
     "text": [
      "data saved to data/financials/RGLD.csv\n",
      "1582: RGLD complete\n"
     ]
    },
    {
     "name": "stderr",
     "output_type": "stream",
     "text": [
      "/home/carbine/miniconda3/envs/fleishco/lib/python3.7/site-packages/calcbench/api_client.py:269: UserWarning: Did not find metrics {'incometaxespaid', 'totalinvestments', 'stockrepurchasedduringperiodvalue', 'mediumtermnotes', 'trustpreferredsecurities', 'paymentsforrepurchaseofcommonstock', 'unsecureddebt', 'mortgagedebt', 'researchanddevelopment', 'availableforsalesecurities', 'restructuring', 'commonstockdividendspershare', 'paymentsofdividendspreferredstock', 'shortterminvestments'}\n",
      "  warnings.warn(\"Did not find metrics {0}\".format(missing_metrics))\n"
     ]
    },
    {
     "name": "stdout",
     "output_type": "stream",
     "text": [
      "data saved to data/financials/RICE.csv\n",
      "1583: RICE complete\n"
     ]
    },
    {
     "name": "stderr",
     "output_type": "stream",
     "text": [
      "/home/carbine/miniconda3/envs/fleishco/lib/python3.7/site-packages/calcbench/api_client.py:269: UserWarning: Did not find metrics {'restrictedcashandinvestmentscurrent', 'paymentsofdividendsnoncontrollinginterest', 'secureddebt', 'totalinvestments', 'mediumtermnotes', 'convertibledebt', 'trustpreferredsecurities', 'assetimpairment', 'unsecureddebt', 'depreciationandamortizationexpense', 'stockrepurchasedduringperiodshares', 'researchanddevelopment', 'subordinateddebt', 'currentlongtermdebt', 'paymentsofdividendspreferredstock', 'restructuring', 'capitalassetsales', 'shortterminvestments'}\n",
      "  warnings.warn(\"Did not find metrics {0}\".format(missing_metrics))\n"
     ]
    },
    {
     "name": "stdout",
     "output_type": "stream",
     "text": [
      "data saved to data/financials/RJF.csv\n",
      "1584: RJF complete\n"
     ]
    },
    {
     "name": "stderr",
     "output_type": "stream",
     "text": [
      "/home/carbine/miniconda3/envs/fleishco/lib/python3.7/site-packages/calcbench/api_client.py:269: UserWarning: Did not find metrics {'restrictedcashandinvestmentscurrent', 'paymentsofdividendsnoncontrollinginterest', 'secureddebt', 'termloan', 'totalinvestments', 'mediumtermnotes', 'trustpreferredsecurities', 'mortgagedebt', 'researchanddevelopment', 'subordinateddebt', 'paymentsofdividendspreferredstock', 'convertibledebt'}\n",
      "  warnings.warn(\"Did not find metrics {0}\".format(missing_metrics))\n"
     ]
    },
    {
     "name": "stdout",
     "output_type": "stream",
     "text": [
      "data saved to data/financials/RL.csv\n",
      "1586: RL complete\n"
     ]
    },
    {
     "name": "stderr",
     "output_type": "stream",
     "text": [
      "/home/carbine/miniconda3/envs/fleishco/lib/python3.7/site-packages/calcbench/api_client.py:269: UserWarning: Did not find metrics {'incometaxespaid', 'secureddebt', 'trustpreferredsecurities', 'researchanddevelopment', 'interestpaidnet', 'paymentsofdividendspreferredstock', 'unsecureddebt', 'mortgagedebt', 'stockrepurchasedduringperiodvalue', 'restrictedcashandinvestmentscurrent', 'paymentsofdividendsnoncontrollinginterest', 'termloan', 'totalinvestments', 'mediumtermnotes', 'subordinateddebt', 'operatingexpenseexitems', 'sharebasedcompensation', 'stockrepurchasedduringperiodshares', 'restructuring', 'convertibledebt'}\n",
      "  warnings.warn(\"Did not find metrics {0}\".format(missing_metrics))\n"
     ]
    },
    {
     "name": "stdout",
     "output_type": "stream",
     "text": [
      "data saved to data/financials/RLI.csv\n",
      "1587: RLI complete\n"
     ]
    },
    {
     "name": "stderr",
     "output_type": "stream",
     "text": [
      "/home/carbine/miniconda3/envs/fleishco/lib/python3.7/site-packages/calcbench/api_client.py:269: UserWarning: Did not find metrics {'commonstockdividendspershare', 'restrictedcashandinvestmentscurrent', 'paymentsofdividendsnoncontrollinginterest', 'secureddebt', 'termloan', 'totalinvestments', 'mediumtermnotes', 'trustpreferredsecurities', 'paymentsofdividendscommonstock', 'unsecureddebt', 'mortgagedebt', 'depreciationandamortizationexpense', 'longterminvestments', 'interestpaidnet', 'subordinateddebt', 'lineofcreditfacilityamountoutstanding', 'paymentsofdividendspreferredstock', 'paymentsofdividends'}\n",
      "  warnings.warn(\"Did not find metrics {0}\".format(missing_metrics))\n"
     ]
    },
    {
     "name": "stdout",
     "output_type": "stream",
     "text": [
      "data saved to data/financials/RMBS.csv\n",
      "1588: RMBS complete\n"
     ]
    },
    {
     "name": "stderr",
     "output_type": "stream",
     "text": [
      "/home/carbine/miniconda3/envs/fleishco/lib/python3.7/site-packages/calcbench/api_client.py:269: UserWarning: Did not find metrics {'incometaxespaid', 'trustpreferredsecurities', 'interestpaidnet', 'availableforsalesecurities', 'paymentsofdividendspreferredstock', 'shortterminvestments', 'unsecureddebt', 'mortgagedebt', 'stockrepurchasedduringperiodvalue', 'restrictedcashandinvestmentscurrent', 'paymentsofdividendsnoncontrollinginterest', 'termloan', 'totalinvestments', 'mediumtermnotes', 'depreciationandamortizationexpense', 'stockrepurchasedduringperiodshares', 'restructuring', 'commonstockdividendspershare', 'convertibledebt'}\n",
      "  warnings.warn(\"Did not find metrics {0}\".format(missing_metrics))\n"
     ]
    },
    {
     "name": "stdout",
     "output_type": "stream",
     "text": [
      "data saved to data/financials/ROCK.csv\n",
      "1590: ROCK complete\n"
     ]
    },
    {
     "name": "stderr",
     "output_type": "stream",
     "text": [
      "/home/carbine/miniconda3/envs/fleishco/lib/python3.7/site-packages/calcbench/api_client.py:269: UserWarning: Did not find metrics {'incometaxespaid', 'secureddebt', 'trustpreferredsecurities', 'paymentsofdividendscommonstock', 'interestpaidnet', 'availableforsalesecurities', 'lineofcreditfacilityamountoutstanding', 'paymentsofdividendspreferredstock', 'seniornotes', 'assetimpairment', 'unsecureddebt', 'mortgagedebt', 'restrictedcashandinvestmentscurrent', 'paymentsofdividendsnoncontrollinginterest', 'termloan', 'totalinvestments', 'mediumtermnotes', 'depreciationandamortizationexpense', 'subordinateddebt', 'operatingexpenseexitems', 'stockrepurchasedduringperiodshares', 'restructuring', 'convertibledebt'}\n",
      "  warnings.warn(\"Did not find metrics {0}\".format(missing_metrics))\n"
     ]
    },
    {
     "name": "stdout",
     "output_type": "stream",
     "text": [
      "data saved to data/financials/ROK.csv\n",
      "1592: ROK complete\n"
     ]
    },
    {
     "name": "stderr",
     "output_type": "stream",
     "text": [
      "/home/carbine/miniconda3/envs/fleishco/lib/python3.7/site-packages/calcbench/api_client.py:269: UserWarning: Did not find metrics {'incometaxespaid', 'secureddebt', 'trustpreferredsecurities', 'paymentsforrepurchaseofcommonstock', 'paymentsofdividendscommonstock', 'researchanddevelopment', 'availableforsalesecurities', 'paymentsofdividendspreferredstock', 'shortterminvestments', 'unsecureddebt', 'mortgagedebt', 'stockrepurchasedduringperiodvalue', 'restrictedcashandinvestmentscurrent', 'paymentsofdividendsnoncontrollinginterest', 'termloan', 'totalinvestments', 'mediumtermnotes', 'longterminvestments', 'subordinateddebt', 'stockrepurchasedduringperiodshares', 'restructuring', 'commonstockdividendspershare', 'convertibledebt'}\n",
      "  warnings.warn(\"Did not find metrics {0}\".format(missing_metrics))\n"
     ]
    },
    {
     "name": "stdout",
     "output_type": "stream",
     "text": [
      "data saved to data/financials/ROSE.csv\n",
      "1594: ROSE complete\n"
     ]
    },
    {
     "name": "stderr",
     "output_type": "stream",
     "text": [
      "/home/carbine/miniconda3/envs/fleishco/lib/python3.7/site-packages/calcbench/api_client.py:269: UserWarning: Did not find metrics {'operatingexpenseexitems', 'restrictedcashandinvestmentscurrent', 'paymentsofdividendsnoncontrollinginterest', 'secureddebt', 'termloan', 'totalinvestments', 'acquisitiondivestitures', 'mediumtermnotes', 'trustpreferredsecurities', 'assetimpairment', 'depreciationandamortizationexpense', 'convertibledebt', 'mortgagedebt', 'researchanddevelopment', 'availableforsalesecurities', 'subordinateddebt', 'paymentsofdividendspreferredstock', 'restructuring'}\n",
      "  warnings.warn(\"Did not find metrics {0}\".format(missing_metrics))\n"
     ]
    },
    {
     "name": "stdout",
     "output_type": "stream",
     "text": [
      "data saved to data/financials/ROST.csv\n",
      "1595: ROST complete\n"
     ]
    },
    {
     "name": "stderr",
     "output_type": "stream",
     "text": [
      "/home/carbine/miniconda3/envs/fleishco/lib/python3.7/site-packages/calcbench/api_client.py:269: UserWarning: Did not find metrics {'incometaxespaid', 'restrictedcashandinvestmentscurrent', 'paymentsofdividendsnoncontrollinginterest', 'totalinvestments', 'mediumtermnotes', 'convertibledebt', 'trustpreferredsecurities', 'longterminvestments', 'researchanddevelopment', 'incometaxes', 'subordinateddebt', 'currentlongtermdebt', 'paymentsofdividendspreferredstock', 'restructuring', 'capitalassetsales', 'shortterminvestments'}\n",
      "  warnings.warn(\"Did not find metrics {0}\".format(missing_metrics))\n"
     ]
    },
    {
     "name": "stdout",
     "output_type": "stream",
     "text": [
      "data saved to data/financials/RPAI.csv\n",
      "1597: RPAI complete\n"
     ]
    },
    {
     "name": "stderr",
     "output_type": "stream",
     "text": [
      "/home/carbine/miniconda3/envs/fleishco/lib/python3.7/site-packages/calcbench/api_client.py:269: UserWarning: Did not find metrics {'incometaxespaid', 'secureddebt', 'trustpreferredsecurities', 'paymentsforrepurchaseofcommonstock', 'paymentsofdividendscommonstock', 'researchanddevelopment', 'availableforsalesecurities', 'paymentsofdividendspreferredstock', 'paymentsofdividends', 'shortterminvestments', 'assetimpairment', 'mortgagedebt', 'stockrepurchasedduringperiodvalue', 'restrictedcashandinvestmentscurrent', 'termloan', 'totalinvestments', 'mediumtermnotes', 'subordinateddebt', 'stockrepurchasedduringperiodshares', 'incometaxes', 'restructuring', 'commonstockdividendspershare', 'convertibledebt'}\n",
      "  warnings.warn(\"Did not find metrics {0}\".format(missing_metrics))\n"
     ]
    },
    {
     "name": "stdout",
     "output_type": "stream",
     "text": [
      "data saved to data/financials/RRMS.csv\n",
      "1600: RRMS complete\n"
     ]
    },
    {
     "name": "stderr",
     "output_type": "stream",
     "text": [
      "/home/carbine/miniconda3/envs/fleishco/lib/python3.7/site-packages/calcbench/api_client.py:269: UserWarning: Did not find metrics {'paymentsofdividendsnoncontrollinginterest', 'secureddebt', 'totalinvestments', 'mediumtermnotes', 'convertibledebt', 'trustpreferredsecurities', 'paymentsforrepurchaseofcommonstock', 'paymentsofdividendscommonstock', 'unsecureddebt', 'mortgagedebt', 'subordinateddebt', 'paymentsofdividendspreferredstock', 'restructuring', 'shortterminvestments'}\n",
      "  warnings.warn(\"Did not find metrics {0}\".format(missing_metrics))\n"
     ]
    },
    {
     "name": "stdout",
     "output_type": "stream",
     "text": [
      "data saved to data/financials/RRR.csv\n",
      "1601: RRR complete\n"
     ]
    },
    {
     "name": "stderr",
     "output_type": "stream",
     "text": [
      "/home/carbine/miniconda3/envs/fleishco/lib/python3.7/site-packages/calcbench/api_client.py:269: UserWarning: Did not find metrics {'restrictedcashandinvestmentscurrent', 'secureddebt', 'totalinvestments', 'mediumtermnotes', 'convertibledebt', 'trustpreferredsecurities', 'researchanddevelopment', 'availableforsalesecurities', 'subordinateddebt', 'currentlongtermdebt', 'paymentsofdividendspreferredstock', 'restructuring', 'shortterminvestments'}\n",
      "  warnings.warn(\"Did not find metrics {0}\".format(missing_metrics))\n"
     ]
    },
    {
     "name": "stdout",
     "output_type": "stream",
     "text": [
      "data saved to data/financials/RS.csv\n",
      "1602: RS complete\n"
     ]
    },
    {
     "name": "stderr",
     "output_type": "stream",
     "text": [
      "/home/carbine/miniconda3/envs/fleishco/lib/python3.7/site-packages/calcbench/api_client.py:269: UserWarning: Did not find metrics {'restrictedcashandinvestmentscurrent', 'secureddebt', 'termloan', 'totalinvestments', 'mediumtermnotes', 'trustpreferredsecurities', 'longterminvestments', 'mortgagedebt', 'researchanddevelopment', 'interestpaidnet', 'availableforsalesecurities', 'subordinateddebt', 'paymentsofdividendspreferredstock', 'convertibledebt', 'shortterminvestments'}\n",
      "  warnings.warn(\"Did not find metrics {0}\".format(missing_metrics))\n"
     ]
    },
    {
     "name": "stdout",
     "output_type": "stream",
     "text": [
      "data saved to data/financials/RSG.csv\n",
      "1604: RSG complete\n"
     ]
    },
    {
     "name": "stderr",
     "output_type": "stream",
     "text": [
      "/home/carbine/miniconda3/envs/fleishco/lib/python3.7/site-packages/calcbench/api_client.py:269: UserWarning: Did not find metrics {'paymentsofdividendsnoncontrollinginterest', 'secureddebt', 'totalinvestments', 'mediumtermnotes', 'convertibledebt', 'trustpreferredsecurities', 'paymentsofdividendscommonstock', 'longterminvestments', 'mortgagedebt', 'researchanddevelopment', 'availableforsalesecurities', 'subordinateddebt', 'commonstockdividendspershare', 'currentlongtermdebt', 'paymentsofdividendspreferredstock', 'restructuring', 'shortterminvestments'}\n",
      "  warnings.warn(\"Did not find metrics {0}\".format(missing_metrics))\n"
     ]
    },
    {
     "name": "stdout",
     "output_type": "stream",
     "text": [
      "data saved to data/financials/RSPP.csv\n",
      "1606: RSPP complete\n"
     ]
    },
    {
     "name": "stderr",
     "output_type": "stream",
     "text": [
      "/home/carbine/miniconda3/envs/fleishco/lib/python3.7/site-packages/calcbench/api_client.py:269: UserWarning: Did not find metrics {'incometaxespaid', 'secureddebt', 'trustpreferredsecurities', 'paymentsofdividendscommonstock', 'interestpaidnet', 'paymentsofdividendspreferredstock', 'seniornotes', 'assetimpairment', 'unsecureddebt', 'mortgagedebt', 'restrictedcashandinvestmentscurrent', 'paymentsofdividendsnoncontrollinginterest', 'termloan', 'totalinvestments', 'mediumtermnotes', 'depreciationandamortizationexpense', 'longterminvestments', 'subordinateddebt', 'operatingexpenseexitems', 'restructuring', 'convertibledebt'}\n",
      "  warnings.warn(\"Did not find metrics {0}\".format(missing_metrics))\n"
     ]
    },
    {
     "name": "stdout",
     "output_type": "stream",
     "text": [
      "data saved to data/financials/RTN.csv\n",
      "1608: RTN complete\n"
     ]
    },
    {
     "name": "stderr",
     "output_type": "stream",
     "text": [
      "/home/carbine/miniconda3/envs/fleishco/lib/python3.7/site-packages/calcbench/api_client.py:269: UserWarning: Did not find metrics {'trustpreferredsecurities', 'paymentsforrepurchaseofcommonstock', 'paymentsofdividendscommonstock', 'researchanddevelopment', 'availableforsalesecurities', 'paymentsofdividendspreferredstock', 'shortterminvestments', 'unsecureddebt', 'mortgagedebt', 'stockrepurchasedduringperiodvalue', 'paymentsofdividendsnoncontrollinginterest', 'termloan', 'totalinvestments', 'mediumtermnotes', 'depreciationandamortizationexpense', 'longterminvestments', 'subordinateddebt', 'stockrepurchasedduringperiodshares', 'convertibledebt', 'commonstockdividendspershare'}\n",
      "  warnings.warn(\"Did not find metrics {0}\".format(missing_metrics))\n"
     ]
    },
    {
     "name": "stdout",
     "output_type": "stream",
     "text": [
      "data saved to data/financials/RYI.csv\n",
      "1610: RYI complete\n"
     ]
    },
    {
     "name": "stderr",
     "output_type": "stream",
     "text": [
      "/home/carbine/miniconda3/envs/fleishco/lib/python3.7/site-packages/calcbench/api_client.py:269: UserWarning: Did not find metrics {'secureddebt', 'trustpreferredsecurities', 'paymentsofdividendscommonstock', 'lineofcreditfacilityamountoutstanding', 'currentlongtermdebt', 'paymentsofdividendspreferredstock', 'paymentsofdividends', 'seniornotes', 'unsecureddebt', 'mortgagedebt', 'restrictedcashandinvestmentscurrent', 'paymentsofdividendsnoncontrollinginterest', 'termloan', 'totalinvestments', 'mediumtermnotes', 'longterminvestments', 'subordinateddebt', 'longtermdebt', 'totaldebt', 'restructuring', 'commonstockdividendspershare', 'convertibledebt'}\n",
      "  warnings.warn(\"Did not find metrics {0}\".format(missing_metrics))\n"
     ]
    },
    {
     "name": "stdout",
     "output_type": "stream",
     "text": [
      "data saved to data/financials/CALL.csv\n",
      "1613: CALL complete\n"
     ]
    },
    {
     "name": "stderr",
     "output_type": "stream",
     "text": [
      "/home/carbine/miniconda3/envs/fleishco/lib/python3.7/site-packages/calcbench/api_client.py:269: UserWarning: Did not find metrics {'paymentsofdividendsnoncontrollinginterest', 'totalinvestments', 'mediumtermnotes', 'trustpreferredsecurities', 'paymentsforrepurchaseofcommonstock', 'longterminvestments', 'mortgagedebt', 'stockrepurchasedduringperiodshares', 'researchanddevelopment', 'stockrepurchasedduringperiodvalue', 'restructuring', 'paymentsofdividendspreferredstock', 'convertibledebt', 'shortterminvestments'}\n",
      "  warnings.warn(\"Did not find metrics {0}\".format(missing_metrics))\n"
     ]
    },
    {
     "name": "stdout",
     "output_type": "stream",
     "text": [
      "data saved to data/financials/SALM.csv\n",
      "1615: SALM complete\n"
     ]
    },
    {
     "name": "stderr",
     "output_type": "stream",
     "text": [
      "/home/carbine/miniconda3/envs/fleishco/lib/python3.7/site-packages/calcbench/api_client.py:269: UserWarning: Did not find metrics {'restrictedcashandinvestmentscurrent', 'paymentsofdividendsnoncontrollinginterest', 'termloan', 'totalinvestments', 'mediumtermnotes', 'trustpreferredsecurities', 'unsecureddebt', 'longterminvestments', 'mortgagedebt', 'researchanddevelopment', 'restructuring', 'paymentsofdividendspreferredstock', 'shortterminvestments'}\n",
      "  warnings.warn(\"Did not find metrics {0}\".format(missing_metrics))\n"
     ]
    },
    {
     "name": "stdout",
     "output_type": "stream",
     "text": [
      "data saved to data/financials/SAH.csv\n",
      "1617: SAH complete\n"
     ]
    },
    {
     "name": "stderr",
     "output_type": "stream",
     "text": [
      "/home/carbine/miniconda3/envs/fleishco/lib/python3.7/site-packages/calcbench/api_client.py:269: UserWarning: Did not find metrics {'paymentsofdividendsnoncontrollinginterest', 'termloan', 'totalinvestments', 'acquisitiondivestitures', 'mediumtermnotes', 'trustpreferredsecurities', 'assetimpairment', 'paymentsofdividendscommonstock', 'unsecureddebt', 'mortgagedebt', 'longterminvestments', 'stockrepurchasedduringperiodshares', 'researchanddevelopment', 'convertibledebt', 'subordinateddebt', 'commonstockdividendspershare', 'paymentsofdividendspreferredstock', 'paymentsofdividends'}\n",
      "  warnings.warn(\"Did not find metrics {0}\".format(missing_metrics))\n"
     ]
    },
    {
     "name": "stdout",
     "output_type": "stream",
     "text": [
      "data saved to data/financials/SAVE.csv\n",
      "1622: SAVE complete\n"
     ]
    },
    {
     "name": "stderr",
     "output_type": "stream",
     "text": [
      "/home/carbine/miniconda3/envs/fleishco/lib/python3.7/site-packages/calcbench/api_client.py:269: UserWarning: Did not find metrics {'paymentsofdividendsnoncontrollinginterest', 'totalinvestments', 'mediumtermnotes', 'trustpreferredsecurities', 'paymentsofdividendscommonstock', 'longterminvestments', 'mortgagedebt', 'researchanddevelopment', 'subordinateddebt', 'commonstockdividendspershare', 'paymentsofdividendspreferredstock', 'paymentsofdividends', 'restructuring'}\n",
      "  warnings.warn(\"Did not find metrics {0}\".format(missing_metrics))\n"
     ]
    },
    {
     "name": "stdout",
     "output_type": "stream",
     "text": [
      "data saved to data/financials/SBAC.csv\n",
      "1623: SBAC complete\n"
     ]
    },
    {
     "name": "stderr",
     "output_type": "stream",
     "text": [
      "/home/carbine/miniconda3/envs/fleishco/lib/python3.7/site-packages/calcbench/api_client.py:269: UserWarning: Did not find metrics {'incometaxespaid', 'paymentsofdividendsnoncontrollinginterest', 'totalinvestments', 'trustpreferredsecurities', 'longterminvestments', 'mortgagedebt', 'interestpaidnet', 'subordinateddebt', 'paymentsofdividendspreferredstock', 'restructuring', 'shortterminvestments'}\n",
      "  warnings.warn(\"Did not find metrics {0}\".format(missing_metrics))\n"
     ]
    },
    {
     "name": "stdout",
     "output_type": "stream",
     "text": [
      "data saved to data/financials/SBGI.csv\n",
      "1624: SBGI complete\n"
     ]
    },
    {
     "name": "stderr",
     "output_type": "stream",
     "text": [
      "/home/carbine/miniconda3/envs/fleishco/lib/python3.7/site-packages/calcbench/api_client.py:269: UserWarning: Did not find metrics {'restrictedcashandinvestmentscurrent', 'paymentsofdividendsnoncontrollinginterest', 'totalinvestments', 'mediumtermnotes', 'trustpreferredsecurities', 'assetimpairment', 'paymentsofdividendscommonstock', 'longterminvestments', 'mortgagedebt', 'researchanddevelopment', 'availableforsalesecurities', 'convertibledebt', 'commonstockdividendspershare', 'paymentsofdividendspreferredstock', 'paymentsofdividends', 'shortterminvestments'}\n",
      "  warnings.warn(\"Did not find metrics {0}\".format(missing_metrics))\n"
     ]
    },
    {
     "name": "stdout",
     "output_type": "stream",
     "text": [
      "data saved to data/financials/SBH.csv\n",
      "1627: SBH complete\n"
     ]
    },
    {
     "name": "stderr",
     "output_type": "stream",
     "text": [
      "/home/carbine/miniconda3/envs/fleishco/lib/python3.7/site-packages/calcbench/api_client.py:269: UserWarning: Did not find metrics {'incometaxespaid', 'secureddebt', 'trustpreferredsecurities', 'paymentsforrepurchaseofcommonstock', 'researchanddevelopment', 'interestpaidnet', 'paymentsofdividendspreferredstock', 'shortterminvestments', 'seniornotes', 'acquisitiondivestitures', 'unsecureddebt', 'stockrepurchasedduringperiodvalue', 'totalinvestments', 'mediumtermnotes', 'longterminvestments', 'subordinateddebt', 'stockrepurchasedduringperiodshares', 'convertibledebt', 'commonstockdividendspershare'}\n",
      "  warnings.warn(\"Did not find metrics {0}\".format(missing_metrics))\n"
     ]
    },
    {
     "name": "stdout",
     "output_type": "stream",
     "text": [
      "data saved to data/financials/SUNH.csv\n",
      "1628: SUNH complete\n"
     ]
    },
    {
     "name": "stderr",
     "output_type": "stream",
     "text": [
      "/home/carbine/miniconda3/envs/fleishco/lib/python3.7/site-packages/calcbench/api_client.py:269: UserWarning: Did not find metrics {'restrictedcashandinvestmentscurrent', 'paymentsofdividendsnoncontrollinginterest', 'secureddebt', 'termloan', 'totalinvestments', 'mediumtermnotes', 'trustpreferredsecurities', 'assetimpairment', 'paymentsofdividendscommonstock', 'unsecureddebt', 'mortgagedebt', 'researchanddevelopment', 'subordinateddebt', 'lineofcreditfacilityamountoutstanding', 'paymentsofdividendspreferredstock', 'convertibledebt'}\n",
      "  warnings.warn(\"Did not find metrics {0}\".format(missing_metrics))\n"
     ]
    },
    {
     "name": "stdout",
     "output_type": "stream",
     "text": [
      "data saved to data/financials/SBUX.csv\n",
      "1629: SBUX complete\n"
     ]
    },
    {
     "name": "stderr",
     "output_type": "stream",
     "text": [
      "/home/carbine/miniconda3/envs/fleishco/lib/python3.7/site-packages/calcbench/api_client.py:269: UserWarning: Did not find metrics {'incometaxespaid', 'capex', 'secureddebt', 'trustpreferredsecurities', 'paymentsforrepurchaseofcommonstock', 'paymentsofdividendscommonstock', 'researchanddevelopment', 'interestpaidnet', 'availableforsalesecurities', 'lineofcreditfacilityamountoutstanding', 'paymentsofdividendspreferredstock', 'paymentsofdividends', 'shortterminvestments', 'interestexpense', 'seniornotes', 'acquisitiondivestitures', 'assetimpairment', 'unsecureddebt', 'mortgagedebt', 'ppe', 'restrictedcashandinvestmentscurrent', 'investingcashflow', 'paymentsofdividendsnoncontrollinginterest', 'termloan', 'capexgross', 'totalinvestments', 'mediumtermnotes', 'depreciationandamortizationexpense', 'longterminvestments', 'subordinateddebt', 'operatingexpenseexitems', 'revenueadjusted', 'incometaxes', 'restructuring', 'commonstockdividendspershare', 'capitalassetsales'}\n",
      "  warnings.warn(\"Did not find metrics {0}\".format(missing_metrics))\n"
     ]
    },
    {
     "name": "stdout",
     "output_type": "stream",
     "text": [
      "data saved to data/financials/SCHS.csv\n",
      "1630: SCHS complete\n"
     ]
    },
    {
     "name": "stderr",
     "output_type": "stream",
     "text": [
      "/home/carbine/miniconda3/envs/fleishco/lib/python3.7/site-packages/calcbench/api_client.py:269: UserWarning: Did not find metrics {'paymentsofdividendsnoncontrollinginterest', 'secureddebt', 'termloan', 'totalinvestments', 'mediumtermnotes', 'trustpreferredsecurities', 'assetimpairment', 'depreciationandamortizationexpense', 'longterminvestments', 'mortgagedebt', 'researchanddevelopment', 'subordinateddebt', 'lineofcreditfacilityamountoutstanding', 'paymentsofdividendspreferredstock', 'capitalassetsales'}\n",
      "  warnings.warn(\"Did not find metrics {0}\".format(missing_metrics))\n"
     ]
    },
    {
     "name": "stdout",
     "output_type": "stream",
     "text": [
      "data saved to data/financials/STEI.csv\n",
      "1633: STEI complete\n"
     ]
    },
    {
     "name": "stderr",
     "output_type": "stream",
     "text": [
      "/home/carbine/miniconda3/envs/fleishco/lib/python3.7/site-packages/calcbench/api_client.py:269: UserWarning: Did not find metrics {'incometaxespaid', 'secureddebt', 'sgaexpense', 'trustpreferredsecurities', 'paymentsofdividendscommonstock', 'interestpaidnet', 'currentlongtermdebt', 'paymentsofdividendspreferredstock', 'seniornotes', 'unsecureddebt', 'mortgagedebt', 'restrictedcashandinvestmentscurrent', 'paymentsofdividendsnoncontrollinginterest', 'termloan', 'totalinvestments', 'mediumtermnotes', 'depreciationandamortizationexpense', 'subordinateddebt', 'convertibledebt'}\n",
      "  warnings.warn(\"Did not find metrics {0}\".format(missing_metrics))\n"
     ]
    },
    {
     "name": "stdout",
     "output_type": "stream",
     "text": [
      "data saved to data/financials/SCS.csv\n",
      "1635: SCS complete\n"
     ]
    },
    {
     "name": "stderr",
     "output_type": "stream",
     "text": [
      "/home/carbine/miniconda3/envs/fleishco/lib/python3.7/site-packages/calcbench/api_client.py:269: UserWarning: Did not find metrics {'secureddebt', 'trustpreferredsecurities', 'paymentsforrepurchaseofcommonstock', 'paymentsofdividendscommonstock', 'avgdilutedsharesoutstanding', 'researchanddevelopment', 'availableforsalesecurities', 'paymentsofdividendspreferredstock', 'shortterminvestments', 'unsecureddebt', 'mortgagedebt', 'stockrepurchasedduringperiodvalue', 'paymentsofdividendsnoncontrollinginterest', 'totalinvestments', 'mediumtermnotes', 'longterminvestments', 'subordinateddebt', 'avgsharesoutstandingbasic', 'stockrepurchasedduringperiodshares', 'convertibledebt', 'commonstockdividendspershare'}\n",
      "  warnings.warn(\"Did not find metrics {0}\".format(missing_metrics))\n"
     ]
    },
    {
     "name": "stdout",
     "output_type": "stream",
     "text": [
      "data saved to data/financials/SCTY.csv\n",
      "1636: SCTY complete\n"
     ]
    },
    {
     "name": "stderr",
     "output_type": "stream",
     "text": [
      "/home/carbine/miniconda3/envs/fleishco/lib/python3.7/site-packages/calcbench/api_client.py:269: UserWarning: Did not find metrics {'incometaxespaid', 'trustpreferredsecurities', 'paymentsforrepurchaseofcommonstock', 'paymentsofdividendscommonstock', 'interestpaidnet', 'paymentsofdividendspreferredstock', 'paymentsofdividends', 'assetimpairment', 'mortgagedebt', 'stockrepurchasedduringperiodvalue', 'paymentsofdividendsnoncontrollinginterest', 'totalinvestments', 'mediumtermnotes', 'depreciationandamortizationexpense', 'longterminvestments', 'subordinateddebt', 'stockrepurchasedduringperiodshares', 'commonstockdividendspershare', 'capitalassetsales'}\n",
      "  warnings.warn(\"Did not find metrics {0}\".format(missing_metrics))\n"
     ]
    },
    {
     "name": "stdout",
     "output_type": "stream",
     "text": [
      "data saved to data/financials/TSLA.csv\n",
      "1637: TSLA complete\n"
     ]
    },
    {
     "name": "stderr",
     "output_type": "stream",
     "text": [
      "/home/carbine/miniconda3/envs/fleishco/lib/python3.7/site-packages/calcbench/api_client.py:269: UserWarning: Did not find metrics {'paymentsofdividendsnoncontrollinginterest', 'termloan', 'totalinvestments', 'mediumtermnotes', 'trustpreferredsecurities', 'paymentsofdividendscommonstock', 'researchanddevelopment', 'availableforsalesecurities', 'restructuring', 'commonstockdividendspershare', 'shortterminvestments'}\n",
      "  warnings.warn(\"Did not find metrics {0}\".format(missing_metrics))\n"
     ]
    },
    {
     "name": "stdout",
     "output_type": "stream",
     "text": [
      "data saved to data/financials/SD.csv\n",
      "1638: SD complete\n"
     ]
    },
    {
     "name": "stderr",
     "output_type": "stream",
     "text": [
      "/home/carbine/miniconda3/envs/fleishco/lib/python3.7/site-packages/calcbench/api_client.py:269: UserWarning: Did not find metrics {'incometaxespaid', 'secureddebt', 'trustpreferredsecurities', 'paymentsofdividendscommonstock', 'researchanddevelopment', 'interestpaidnet', 'availableforsalesecurities', 'paymentsofdividendspreferredstock', 'paymentsofdividends', 'shortterminvestments', 'seniornotes', 'acquisitiondivestitures', 'unsecureddebt', 'mortgagedebt', 'restrictedcashandinvestmentscurrent', 'paymentsofdividendsnoncontrollinginterest', 'termloan', 'totalinvestments', 'mediumtermnotes', 'longterminvestments', 'subordinateddebt', 'restructuring', 'commonstockdividendspershare', 'convertibledebt'}\n",
      "  warnings.warn(\"Did not find metrics {0}\".format(missing_metrics))\n"
     ]
    },
    {
     "name": "stdout",
     "output_type": "stream",
     "text": [
      "data saved to data/financials/UDRL.csv\n",
      "1640: UDRL complete\n"
     ]
    },
    {
     "name": "stderr",
     "output_type": "stream",
     "text": [
      "/home/carbine/miniconda3/envs/fleishco/lib/python3.7/site-packages/calcbench/api_client.py:269: UserWarning: Did not find metrics {'operatingexpenseexitems', 'restrictedcashandinvestmentscurrent', 'secureddebt', 'totalinvestments', 'mediumtermnotes', 'trustpreferredsecurities', 'assetimpairment', 'unsecureddebt', 'longterminvestments', 'mortgagedebt', 'researchanddevelopment', 'restructuring', 'paymentsofdividendspreferredstock', 'convertibledebt', 'shortterminvestments'}\n",
      "  warnings.warn(\"Did not find metrics {0}\".format(missing_metrics))\n"
     ]
    },
    {
     "name": "stdout",
     "output_type": "stream",
     "text": [
      "data saved to data/financials/SEM.csv\n",
      "1642: SEM complete\n"
     ]
    },
    {
     "name": "stderr",
     "output_type": "stream",
     "text": [
      "/home/carbine/miniconda3/envs/fleishco/lib/python3.7/site-packages/calcbench/api_client.py:269: UserWarning: Did not find metrics {'secureddebt', 'totalinvestments', 'mediumtermnotes', 'convertibledebt', 'trustpreferredsecurities', 'assetimpairment', 'mortgagedebt', 'researchanddevelopment', 'availableforsalesecurities', 'subordinateddebt', 'paymentsofdividendspreferredstock', 'restructuring', 'shortterminvestments'}\n",
      "  warnings.warn(\"Did not find metrics {0}\".format(missing_metrics))\n"
     ]
    },
    {
     "name": "stdout",
     "output_type": "stream",
     "text": [
      "data saved to data/financials/SEMG.csv\n",
      "1643: SEMG complete\n"
     ]
    },
    {
     "name": "stderr",
     "output_type": "stream",
     "text": [
      "/home/carbine/miniconda3/envs/fleishco/lib/python3.7/site-packages/calcbench/api_client.py:269: UserWarning: Did not find metrics {'secureddebt', 'trustpreferredsecurities', 'paymentsofdividendscommonstock', 'researchanddevelopment', 'availableforsalesecurities', 'lineofcreditfacilityamountoutstanding', 'paymentsofdividendspreferredstock', 'shortterminvestments', 'seniornotes', 'assetimpairment', 'unsecureddebt', 'mortgagedebt', 'restrictedcashandinvestmentscurrent', 'paymentsofdividendsnoncontrollinginterest', 'termloan', 'totalinvestments', 'subordinateddebt', 'operatingexpenseexitems', 'stockrepurchasedduringperiodshares', 'restructuring', 'convertibledebt'}\n",
      "  warnings.warn(\"Did not find metrics {0}\".format(missing_metrics))\n"
     ]
    },
    {
     "name": "stdout",
     "output_type": "stream",
     "text": [
      "data saved to data/financials/WGL.csv\n",
      "1644: WGL complete\n"
     ]
    },
    {
     "name": "stderr",
     "output_type": "stream",
     "text": [
      "/home/carbine/miniconda3/envs/fleishco/lib/python3.7/site-packages/calcbench/api_client.py:269: UserWarning: Did not find metrics {'trustpreferredsecurities', 'paymentsforrepurchaseofcommonstock', 'paymentsofdividendscommonstock', 'researchanddevelopment', 'availableforsalesecurities', 'paymentsofdividendspreferredstock', 'shortterminvestments', 'unsecureddebt', 'mortgagedebt', 'stockrepurchasedduringperiodvalue', 'restrictedcashandinvestmentscurrent', 'paymentsofdividendsnoncontrollinginterest', 'totalinvestments', 'mediumtermnotes', 'longterminvestments', 'subordinateddebt', 'stockrepurchasedduringperiodshares', 'restructuring', 'commonstockdividendspershare', 'convertibledebt'}\n",
      "  warnings.warn(\"Did not find metrics {0}\".format(missing_metrics))\n"
     ]
    },
    {
     "name": "stdout",
     "output_type": "stream",
     "text": [
      "data saved to data/financials/FISH.csv\n",
      "1645: FISH complete\n"
     ]
    },
    {
     "name": "stderr",
     "output_type": "stream",
     "text": [
      "/home/carbine/miniconda3/envs/fleishco/lib/python3.7/site-packages/calcbench/api_client.py:269: UserWarning: Did not find metrics {'operatingexpenseexitems', 'paymentsofdividendsnoncontrollinginterest', 'secureddebt', 'termloan', 'sharebasedcompensation', 'totalinvestments', 'mediumtermnotes', 'assetimpairment', 'paymentsofdividendscommonstock', 'depreciationandamortizationexpense', 'mortgagedebt', 'longterminvestments', 'researchanddevelopment', 'restructuring', 'currentlongtermdebt', 'convertibledebt', 'shortterminvestments'}\n",
      "  warnings.warn(\"Did not find metrics {0}\".format(missing_metrics))\n"
     ]
    },
    {
     "name": "stdout",
     "output_type": "stream",
     "text": [
      "data saved to data/financials/SF.csv\n",
      "1646: SF complete\n"
     ]
    },
    {
     "name": "stderr",
     "output_type": "stream",
     "text": [
      "/home/carbine/miniconda3/envs/fleishco/lib/python3.7/site-packages/calcbench/api_client.py:269: UserWarning: Did not find metrics {'incometaxespaid', 'secureddebt', 'trustpreferredsecurities', 'paymentsofdividendscommonstock', 'researchanddevelopment', 'paymentsofdividendspreferredstock', 'paymentsofdividends', 'assetimpairment', 'unsecureddebt', 'mortgagedebt', 'paymentsofdividendsnoncontrollinginterest', 'termloan', 'totalinvestments', 'mediumtermnotes', 'depreciationandamortizationexpense', 'subordinateddebt', 'operatingexpenses', 'operatingexpenseexitems', 'revenueadjusted', 'restructuring', 'commonstockdividendspershare'}\n",
      "  warnings.warn(\"Did not find metrics {0}\".format(missing_metrics))\n"
     ]
    },
    {
     "name": "stdout",
     "output_type": "stream",
     "text": [
      "data saved to data/financials/SFE.csv\n",
      "1648: SFE complete\n"
     ]
    },
    {
     "name": "stderr",
     "output_type": "stream",
     "text": [
      "/home/carbine/miniconda3/envs/fleishco/lib/python3.7/site-packages/calcbench/api_client.py:269: UserWarning: Did not find metrics {'incometaxespaid', 'restrictedcashandinvestmentscurrent', 'paymentsofdividendsnoncontrollinginterest', 'secureddebt', 'totalinvestments', 'mediumtermnotes', 'trustpreferredsecurities', 'assetimpairment', 'paymentsofdividendscommonstock', 'unsecureddebt', 'mortgagedebt', 'depreciationandamortizationexpense', 'interestpaidnet', 'subordinateddebt', 'commonstockdividendspershare', 'paymentsofdividendspreferredstock', 'paymentsofdividends'}\n",
      "  warnings.warn(\"Did not find metrics {0}\".format(missing_metrics))\n"
     ]
    },
    {
     "name": "stdout",
     "output_type": "stream",
     "text": [
      "data saved to data/financials/SFLY.csv\n",
      "1649: SFLY complete\n"
     ]
    },
    {
     "name": "stderr",
     "output_type": "stream",
     "text": [
      "/home/carbine/miniconda3/envs/fleishco/lib/python3.7/site-packages/calcbench/api_client.py:269: UserWarning: Did not find metrics {'incometaxespaid', 'capex', 'secureddebt', 'trustpreferredsecurities', 'paymentsforrepurchaseofcommonstock', 'paymentsofdividendscommonstock', 'sharesoutstandingendofperiod', 'researchanddevelopment', 'interestpaidnet', 'availableforsalesecurities', 'lineofcreditfacilityamountoutstanding', 'paymentsofdividendspreferredstock', 'paymentsofdividends', 'seniornotes', 'acquisitiondivestitures', 'assetimpairment', 'financingcashflow', 'unsecureddebt', 'mortgagedebt', 'operatingcashflow', 'stockrepurchasedduringperiodvalue', 'depreciationamortization', 'investingcashflow', 'paymentsofdividendsnoncontrollinginterest', 'termloan', 'capexgross', 'totalinvestments', 'mediumtermnotes', 'depreciationandamortizationexpense', 'subordinateddebt', 'operatingexpenseexitems', 'earnings_release_date', 'ebitda', 'sharebasedcompensation', 'longtermdebt', 'totaldebt', 'stockrepurchasedduringperiodshares', 'restructuring', 'commonstockdividendspershare', 'convertibledebt', 'capitalassetsales'}\n",
      "  warnings.warn(\"Did not find metrics {0}\".format(missing_metrics))\n"
     ]
    },
    {
     "name": "stdout",
     "output_type": "stream",
     "text": [
      "data saved to data/financials/SFUN.csv\n",
      "1650: SFUN complete\n"
     ]
    },
    {
     "name": "stderr",
     "output_type": "stream",
     "text": [
      "/home/carbine/miniconda3/envs/fleishco/lib/python3.7/site-packages/calcbench/api_client.py:269: UserWarning: Did not find metrics {'incometaxespaid', 'trustpreferredsecurities', 'paymentsforrepurchaseofcommonstock', 'paymentsofdividendscommonstock', 'researchanddevelopment', 'interestpaidnet', 'availableforsalesecurities', 'paymentsofdividendspreferredstock', 'paymentsofdividends', 'shortterminvestments', 'unsecureddebt', 'mortgagedebt', 'stockrepurchasedduringperiodvalue', 'paymentsofdividendsnoncontrollinginterest', 'totalinvestments', 'mediumtermnotes', 'longterminvestments', 'stockrepurchasedduringperiodshares', 'commonstockdividendspershare'}\n",
      "  warnings.warn(\"Did not find metrics {0}\".format(missing_metrics))\n"
     ]
    },
    {
     "name": "stdout",
     "output_type": "stream",
     "text": [
      "data saved to data/financials/SGY.csv\n",
      "1655: SGY complete\n"
     ]
    },
    {
     "name": "stderr",
     "output_type": "stream",
     "text": [
      "/home/carbine/miniconda3/envs/fleishco/lib/python3.7/site-packages/calcbench/api_client.py:269: UserWarning: Did not find metrics {'restrictedcashandinvestmentscurrent', 'paymentsofdividendsnoncontrollinginterest', 'totalinvestments', 'mediumtermnotes', 'trustpreferredsecurities', 'paymentsforrepurchaseofcommonstock', 'paymentsofdividendscommonstock', 'unsecureddebt', 'mortgagedebt', 'longterminvestments', 'stockrepurchasedduringperiodshares', 'researchanddevelopment', 'stockrepurchasedduringperiodvalue', 'subordinateddebt', 'commonstockdividendspershare', 'paymentsofdividendspreferredstock', 'paymentsofdividends'}\n",
      "  warnings.warn(\"Did not find metrics {0}\".format(missing_metrics))\n"
     ]
    },
    {
     "name": "stdout",
     "output_type": "stream",
     "text": [
      "data saved to data/financials/S.csv\n",
      "1658: S complete\n"
     ]
    },
    {
     "name": "stderr",
     "output_type": "stream",
     "text": [
      "/home/carbine/miniconda3/envs/fleishco/lib/python3.7/site-packages/calcbench/api_client.py:269: UserWarning: Did not find metrics {'incometaxespaid', 'secureddebt', 'sharebasedcompensation', 'totalinvestments', 'mediumtermnotes', 'trustpreferredsecurities', 'depreciationandamortizationexpense', 'longterminvestments', 'mortgagedebt', 'interestpaidnet', 'subordinateddebt', 'currentlongtermdebt', 'convertibledebt', 'shortterminvestments'}\n",
      "  warnings.warn(\"Did not find metrics {0}\".format(missing_metrics))\n"
     ]
    },
    {
     "name": "stdout",
     "output_type": "stream",
     "text": [
      "data saved to data/financials/SHLM.csv\n",
      "1659: SHLM complete\n"
     ]
    },
    {
     "name": "stderr",
     "output_type": "stream",
     "text": [
      "/home/carbine/miniconda3/envs/fleishco/lib/python3.7/site-packages/calcbench/api_client.py:269: UserWarning: Did not find metrics {'secureddebt', 'trustpreferredsecurities', 'paymentsforrepurchaseofcommonstock', 'paymentsofdividendscommonstock', 'availableforsalesecurities', 'paymentsofdividendspreferredstock', 'shortterminvestments', 'unsecureddebt', 'mortgagedebt', 'stockrepurchasedduringperiodvalue', 'restrictedcashandinvestmentscurrent', 'paymentsofdividendsnoncontrollinginterest', 'termloan', 'totalinvestments', 'mediumtermnotes', 'longterminvestments', 'subordinateddebt', 'stockrepurchasedduringperiodshares', 'restructuring', 'convertibledebt'}\n",
      "  warnings.warn(\"Did not find metrics {0}\".format(missing_metrics))\n"
     ]
    },
    {
     "name": "stdout",
     "output_type": "stream",
     "text": [
      "data saved to data/financials/SHW.csv\n",
      "1660: SHW complete\n"
     ]
    },
    {
     "name": "stderr",
     "output_type": "stream",
     "text": [
      "/home/carbine/miniconda3/envs/fleishco/lib/python3.7/site-packages/calcbench/api_client.py:269: UserWarning: Did not find metrics {'incometaxespaid', 'restrictedcashandinvestmentscurrent', 'paymentsofdividendsnoncontrollinginterest', 'secureddebt', 'termloan', 'totalinvestments', 'mediumtermnotes', 'trustpreferredsecurities', 'mortgagedebt', 'stockrepurchasedduringperiodshares', 'researchanddevelopment', 'interestpaidnet', 'availableforsalesecurities', 'subordinateddebt', 'paymentsofdividendspreferredstock', 'restructuring'}\n",
      "  warnings.warn(\"Did not find metrics {0}\".format(missing_metrics))\n"
     ]
    },
    {
     "name": "stdout",
     "output_type": "stream",
     "text": [
      "data saved to data/financials/VAL.csv\n",
      "1661: VAL complete\n"
     ]
    },
    {
     "name": "stderr",
     "output_type": "stream",
     "text": [
      "/home/carbine/miniconda3/envs/fleishco/lib/python3.7/site-packages/calcbench/api_client.py:269: UserWarning: Did not find metrics {'secureddebt', 'trustpreferredsecurities', 'paymentsforrepurchaseofcommonstock', 'paymentsofdividendscommonstock', 'interestpaidnet', 'lineofcreditfacilityamountoutstanding', 'currentlongtermdebt', 'paymentsofdividendspreferredstock', 'paymentsofdividends', 'seniornotes', 'unsecureddebt', 'mortgagedebt', 'stockrepurchasedduringperiodvalue', 'paymentsofdividendsnoncontrollinginterest', 'termloan', 'totalinvestments', 'mediumtermnotes', 'depreciationandamortizationexpense', 'subordinateddebt', 'longtermdebt', 'totaldebt', 'stockrepurchasedduringperiodshares', 'convertibledebt', 'commonstockdividendspershare', 'capitalassetsales'}\n",
      "  warnings.warn(\"Did not find metrics {0}\".format(missing_metrics))\n"
     ]
    },
    {
     "name": "stdout",
     "output_type": "stream",
     "text": [
      "data saved to data/financials/SIGM.csv\n",
      "1662: SIGM complete\n"
     ]
    },
    {
     "name": "stderr",
     "output_type": "stream",
     "text": [
      "/home/carbine/miniconda3/envs/fleishco/lib/python3.7/site-packages/calcbench/api_client.py:269: UserWarning: Did not find metrics {'secureddebt', 'trustpreferredsecurities', 'paymentsofdividendscommonstock', 'availableforsalesecurities', 'currentlongtermdebt', 'paymentsofdividendspreferredstock', 'shortterminvestments', 'unsecureddebt', 'mortgagedebt', 'stockrepurchasedduringperiodvalue', 'restrictedcashandinvestmentscurrent', 'paymentsofdividendsnoncontrollinginterest', 'termloan', 'totalinvestments', 'mediumtermnotes', 'depreciationandamortizationexpense', 'longterminvestments', 'subordinateddebt', 'convertibledebt'}\n",
      "  warnings.warn(\"Did not find metrics {0}\".format(missing_metrics))\n"
     ]
    },
    {
     "name": "stdout",
     "output_type": "stream",
     "text": [
      "data saved to data/financials/SIAL.csv\n",
      "1663: SIAL complete\n"
     ]
    },
    {
     "name": "stderr",
     "output_type": "stream",
     "text": [
      "/home/carbine/miniconda3/envs/fleishco/lib/python3.7/site-packages/calcbench/api_client.py:269: UserWarning: Did not find metrics {'operatingexpenseexitems', 'paymentsofdividendsnoncontrollinginterest', 'secureddebt', 'termloan', 'totalinvestments', 'mediumtermnotes', 'convertibledebt', 'sgaexpense', 'trustpreferredsecurities', 'unsecureddebt', 'longterminvestments', 'mortgagedebt', 'researchanddevelopment', 'subordinateddebt', 'lineofcreditfacilityamountoutstanding', 'paymentsofdividendspreferredstock', 'restructuring', 'capitalassetsales'}\n",
      "  warnings.warn(\"Did not find metrics {0}\".format(missing_metrics))\n"
     ]
    },
    {
     "name": "stdout",
     "output_type": "stream",
     "text": [
      "data saved to data/financials/SIGI.csv\n",
      "1666: SIGI complete\n"
     ]
    },
    {
     "name": "stderr",
     "output_type": "stream",
     "text": [
      "/home/carbine/miniconda3/envs/fleishco/lib/python3.7/site-packages/calcbench/api_client.py:269: UserWarning: Did not find metrics {'sharebasedcompensation', 'totalinvestments', 'mediumtermnotes', 'convertibledebt', 'trustpreferredsecurities', 'longterminvestments', 'stockrepurchasedduringperiodshares', 'researchanddevelopment', 'subordinateddebt', 'currentlongtermdebt', 'paymentsofdividendspreferredstock', 'restructuring', 'shortterminvestments'}\n",
      "  warnings.warn(\"Did not find metrics {0}\".format(missing_metrics))\n"
     ]
    },
    {
     "name": "stdout",
     "output_type": "stream",
     "text": [
      "data saved to data/financials/SIR.csv\n",
      "1668: SIR complete\n"
     ]
    },
    {
     "name": "stderr",
     "output_type": "stream",
     "text": [
      "/home/carbine/miniconda3/envs/fleishco/lib/python3.7/site-packages/calcbench/api_client.py:269: UserWarning: Did not find metrics {'restrictedcashandinvestmentscurrent', 'paymentsofdividendsnoncontrollinginterest', 'termloan', 'totalinvestments', 'mediumtermnotes', 'trustpreferredsecurities', 'paymentsofdividendscommonstock', 'unsecureddebt', 'mortgagedebt', 'depreciationandamortizationexpense', 'longterminvestments', 'researchanddevelopment', 'restructuring', 'commonstockdividendspershare', 'currentlongtermdebt', 'capitalassetsales', 'shortterminvestments'}\n",
      "  warnings.warn(\"Did not find metrics {0}\".format(missing_metrics))\n"
     ]
    },
    {
     "name": "stdout",
     "output_type": "stream",
     "text": [
      "data saved to data/financials/SIVB.csv\n",
      "1669: SIVB complete\n"
     ]
    },
    {
     "name": "stderr",
     "output_type": "stream",
     "text": [
      "/home/carbine/miniconda3/envs/fleishco/lib/python3.7/site-packages/calcbench/api_client.py:269: UserWarning: Did not find metrics {'secureddebt', 'trustpreferredsecurities', 'paymentsofdividendscommonstock', 'researchanddevelopment', 'availableforsalesecurities', 'currentlongtermdebt', 'paymentsofdividendspreferredstock', 'paymentsofdividends', 'assetimpairment', 'unsecureddebt', 'mortgagedebt', 'restrictedcashandinvestmentscurrent', 'paymentsofdividendsnoncontrollinginterest', 'termloan', 'totalinvestments', 'mediumtermnotes', 'subordinateddebt', 'restructuring', 'commonstockdividendspershare', 'capitalassetsales'}\n",
      "  warnings.warn(\"Did not find metrics {0}\".format(missing_metrics))\n"
     ]
    },
    {
     "name": "stdout",
     "output_type": "stream",
     "text": [
      "data saved to data/financials/PRFT.csv\n",
      "1670: PRFT complete\n"
     ]
    },
    {
     "name": "stderr",
     "output_type": "stream",
     "text": [
      "/home/carbine/miniconda3/envs/fleishco/lib/python3.7/site-packages/calcbench/api_client.py:269: UserWarning: Did not find metrics {'operatingexpenseexitems', 'paymentsofdividendsnoncontrollinginterest', 'sharebasedcompensation', 'totalinvestments', 'mediumtermnotes', 'assetimpairment', 'paymentsofdividendscommonstock', 'researchanddevelopment', 'interestpaidnet', 'incometaxes', 'restructuring', 'currentlongtermdebt', 'paymentsofdividendspreferredstock', 'convertibledebt', 'capitalassetsales', 'shortterminvestments'}\n",
      "  warnings.warn(\"Did not find metrics {0}\".format(missing_metrics))\n"
     ]
    },
    {
     "name": "stdout",
     "output_type": "stream",
     "text": [
      "data saved to data/financials/SLG.csv\n",
      "1673: SLG complete\n"
     ]
    },
    {
     "name": "stderr",
     "output_type": "stream",
     "text": [
      "/home/carbine/miniconda3/envs/fleishco/lib/python3.7/site-packages/calcbench/api_client.py:269: UserWarning: Did not find metrics {'incometaxespaid', 'trustpreferredsecurities', 'paymentsofdividendscommonstock', 'researchanddevelopment', 'interestpaidnet', 'availableforsalesecurities', 'paymentsofdividendspreferredstock', 'paymentsofdividends', 'shortterminvestments', 'unsecureddebt', 'mortgagedebt', 'stockrepurchasedduringperiodvalue', 'restrictedcashandinvestmentscurrent', 'paymentsofdividendsnoncontrollinginterest', 'totalinvestments', 'mediumtermnotes', 'longterminvestments', 'subordinateddebt', 'sharebasedcompensation', 'stockrepurchasedduringperiodshares', 'restructuring', 'commonstockdividendspershare', 'convertibledebt'}\n",
      "  warnings.warn(\"Did not find metrics {0}\".format(missing_metrics))\n"
     ]
    },
    {
     "name": "stdout",
     "output_type": "stream",
     "text": [
      "data saved to data/financials/RA.csv\n",
      "1674: RA complete\n"
     ]
    },
    {
     "name": "stderr",
     "output_type": "stream",
     "text": [
      "/home/carbine/miniconda3/envs/fleishco/lib/python3.7/site-packages/calcbench/api_client.py:269: UserWarning: Did not find metrics {'restrictedcashandinvestmentscurrent', 'paymentsofdividendsnoncontrollinginterest', 'secureddebt', 'totalinvestments', 'mediumtermnotes', 'trustpreferredsecurities', 'assetimpairment', 'unsecureddebt', 'depreciationandamortizationexpense', 'mortgagedebt', 'longterminvestments', 'researchanddevelopment', 'availableforsalesecurities', 'convertibledebt', 'lineofcreditfacilityamountoutstanding', 'paymentsofdividendspreferredstock', 'shortterminvestments'}\n",
      "  warnings.warn(\"Did not find metrics {0}\".format(missing_metrics))\n"
     ]
    },
    {
     "name": "stdout",
     "output_type": "stream",
     "text": [
      "data saved to data/financials/SLGN.csv\n",
      "1675: SLGN complete\n"
     ]
    },
    {
     "name": "stderr",
     "output_type": "stream",
     "text": [
      "/home/carbine/miniconda3/envs/fleishco/lib/python3.7/site-packages/calcbench/api_client.py:269: UserWarning: Did not find metrics {'incometaxespaid', 'secureddebt', 'trustpreferredsecurities', 'paymentsofdividendscommonstock', 'interestpaidnet', 'paymentsofdividendspreferredstock', 'shortterminvestments', 'seniornotes', 'acquisitiondivestitures', 'unsecureddebt', 'mortgagedebt', 'restrictedcashandinvestmentscurrent', 'paymentsofdividendsnoncontrollinginterest', 'totalinvestments', 'mediumtermnotes', 'longterminvestments', 'subordinateddebt', 'restructuring', 'commonstockdividendspershare', 'convertibledebt'}\n",
      "  warnings.warn(\"Did not find metrics {0}\".format(missing_metrics))\n"
     ]
    },
    {
     "name": "stdout",
     "output_type": "stream",
     "text": [
      "data saved to data/financials/STRI.csv\n",
      "1678: STRI complete\n"
     ]
    },
    {
     "name": "stderr",
     "output_type": "stream",
     "text": [
      "/home/carbine/miniconda3/envs/fleishco/lib/python3.7/site-packages/calcbench/api_client.py:269: UserWarning: Did not find metrics {'secureddebt', 'trustpreferredsecurities', 'paymentsofdividendscommonstock', 'interestpaidnet', 'availableforsalesecurities', 'paymentsofdividendspreferredstock', 'paymentsofdividends', 'shortterminvestments', 'unsecureddebt', 'mortgagedebt', 'paymentsofdividendsnoncontrollinginterest', 'totalinvestments', 'mediumtermnotes', 'longterminvestments', 'subordinateddebt', 'stockrepurchasedduringperiodshares', 'restructuring', 'commonstockdividendspershare', 'capitalassetsales'}\n",
      "  warnings.warn(\"Did not find metrics {0}\".format(missing_metrics))\n"
     ]
    },
    {
     "name": "stdout",
     "output_type": "stream",
     "text": [
      "data saved to data/financials/SLXP.csv\n",
      "1679: SLXP complete\n"
     ]
    },
    {
     "name": "stderr",
     "output_type": "stream",
     "text": [
      "/home/carbine/miniconda3/envs/fleishco/lib/python3.7/site-packages/calcbench/api_client.py:269: UserWarning: Did not find metrics {'restrictedcashandinvestmentscurrent', 'paymentsofdividendsnoncontrollinginterest', 'termloan', 'totalinvestments', 'mediumtermnotes', 'trustpreferredsecurities', 'assetimpairment', 'paymentsofdividendscommonstock', 'unsecureddebt', 'mortgagedebt', 'depreciationandamortizationexpense', 'longterminvestments', 'availableforsalesecurities', 'subordinateddebt', 'paymentsofdividendspreferredstock', 'paymentsofdividends', 'shortterminvestments'}\n",
      "  warnings.warn(\"Did not find metrics {0}\".format(missing_metrics))\n"
     ]
    },
    {
     "name": "stdout",
     "output_type": "stream",
     "text": [
      "data saved to data/financials/TPX.csv\n",
      "1680: TPX complete\n"
     ]
    },
    {
     "name": "stderr",
     "output_type": "stream",
     "text": [
      "/home/carbine/miniconda3/envs/fleishco/lib/python3.7/site-packages/calcbench/api_client.py:269: UserWarning: Did not find metrics {'incometaxespaid', 'trustpreferredsecurities', 'paymentsofdividendscommonstock', 'researchanddevelopment', 'interestpaidnet', 'availableforsalesecurities', 'paymentsofdividendspreferredstock', 'paymentsofdividends', 'shortterminvestments', 'unsecureddebt', 'mortgagedebt', 'restrictedcashandinvestmentscurrent', 'paymentsofdividendsnoncontrollinginterest', 'termloan', 'totalinvestments', 'mediumtermnotes', 'longterminvestments', 'stockrepurchasedduringperiodshares', 'commonstockdividendspershare'}\n",
      "  warnings.warn(\"Did not find metrics {0}\".format(missing_metrics))\n"
     ]
    },
    {
     "name": "stdout",
     "output_type": "stream",
     "text": [
      "data saved to data/financials/ZZ.csv\n",
      "1681: ZZ complete\n"
     ]
    },
    {
     "name": "stderr",
     "output_type": "stream",
     "text": [
      "/home/carbine/miniconda3/envs/fleishco/lib/python3.7/site-packages/calcbench/api_client.py:269: UserWarning: Did not find metrics {'secureddebt', 'trustpreferredsecurities', 'paymentsforrepurchaseofcommonstock', 'paymentsofdividendscommonstock', 'researchanddevelopment', 'availableforsalesecurities', 'currentlongtermdebt', 'paymentsofdividendspreferredstock', 'shortterminvestments', 'mortgagedebt', 'stockrepurchasedduringperiodvalue', 'restrictedcashandinvestmentscurrent', 'paymentsofdividendsnoncontrollinginterest', 'termloan', 'totalinvestments', 'mediumtermnotes', 'subordinateddebt', 'stockrepurchasedduringperiodshares', 'restructuring', 'convertibledebt'}\n",
      "  warnings.warn(\"Did not find metrics {0}\".format(missing_metrics))\n"
     ]
    },
    {
     "name": "stdout",
     "output_type": "stream",
     "text": [
      "data saved to data/financials/SMLP.csv\n",
      "1686: SMLP complete\n"
     ]
    },
    {
     "name": "stderr",
     "output_type": "stream",
     "text": [
      "/home/carbine/miniconda3/envs/fleishco/lib/python3.7/site-packages/calcbench/api_client.py:269: UserWarning: Did not find metrics {'incometaxespaid', 'capex', 'secureddebt', 'sgaexpense', 'trustpreferredsecurities', 'researchanddevelopment', 'interestpaidnet', 'lineofcreditfacilityamountoutstanding', 'currentlongtermdebt', 'paymentsofdividendspreferredstock', 'shortterminvestments', 'acquisitiondivestitures', 'unsecureddebt', 'mortgagedebt', 'ppe', 'restrictedcashandinvestmentscurrent', 'paymentsofdividendsnoncontrollinginterest', 'termloan', 'capexgross', 'totalinvestments', 'mediumtermnotes', 'longterminvestments', 'subordinateddebt', 'operatingexpenseexitems', 'sharebasedcompensation', 'stockrepurchasedduringperiodshares', 'restructuring', 'convertibledebt', 'capitalassetsales'}\n",
      "  warnings.warn(\"Did not find metrics {0}\".format(missing_metrics))\n"
     ]
    },
    {
     "name": "stdout",
     "output_type": "stream",
     "text": [
      "data saved to data/financials/SYA.csv\n",
      "1687: SYA complete\n"
     ]
    },
    {
     "name": "stderr",
     "output_type": "stream",
     "text": [
      "/home/carbine/miniconda3/envs/fleishco/lib/python3.7/site-packages/calcbench/api_client.py:269: UserWarning: Did not find metrics {'secureddebt', 'sgaexpense', 'trustpreferredsecurities', 'paymentsofdividendscommonstock', 'availableforsalesecurities', 'paymentsofdividendspreferredstock', 'shortterminvestments', 'seniornotes', 'assetimpairment', 'mortgagedebt', 'restrictedcashandinvestmentscurrent', 'paymentsofdividendsnoncontrollinginterest', 'termloan', 'totalinvestments', 'mediumtermnotes', 'depreciationandamortizationexpense', 'longterminvestments', 'subordinateddebt', 'operatingexpenseexitems', 'restructuring', 'convertibledebt'}\n",
      "  warnings.warn(\"Did not find metrics {0}\".format(missing_metrics))\n"
     ]
    },
    {
     "name": "stdout",
     "output_type": "stream",
     "text": [
      "data saved to data/financials/SNA.csv\n",
      "1689: SNA complete\n"
     ]
    },
    {
     "name": "stderr",
     "output_type": "stream",
     "text": [
      "/home/carbine/miniconda3/envs/fleishco/lib/python3.7/site-packages/calcbench/api_client.py:269: UserWarning: Did not find metrics {'paymentsofdividendsnoncontrollinginterest', 'termloan', 'totalinvestments', 'mediumtermnotes', 'trustpreferredsecurities', 'assetimpairment', 'paymentsofdividendscommonstock', 'unsecureddebt', 'mortgagedebt', 'subordinateddebt', 'commonstockdividendspershare', 'currentlongtermdebt', 'capitalassetsales'}\n",
      "  warnings.warn(\"Did not find metrics {0}\".format(missing_metrics))\n"
     ]
    },
    {
     "name": "stdout",
     "output_type": "stream",
     "text": [
      "data saved to data/financials/SNCR.csv\n",
      "1690: SNCR complete\n"
     ]
    },
    {
     "name": "stderr",
     "output_type": "stream",
     "text": [
      "/home/carbine/miniconda3/envs/fleishco/lib/python3.7/site-packages/calcbench/api_client.py:269: UserWarning: Did not find metrics {'incometaxespaid', 'restrictedcashandinvestmentscurrent', 'paymentsofdividendsnoncontrollinginterest', 'secureddebt', 'termloan', 'totalinvestments', 'mediumtermnotes', 'trustpreferredsecurities', 'paymentsofdividendscommonstock', 'unsecureddebt', 'mortgagedebt', 'interestpaidnet', 'subordinateddebt', 'lineofcreditfacilityamountoutstanding', 'paymentsofdividendspreferredstock'}\n",
      "  warnings.warn(\"Did not find metrics {0}\".format(missing_metrics))\n"
     ]
    },
    {
     "name": "stdout",
     "output_type": "stream",
     "text": [
      "data saved to data/financials/SNDK.csv\n",
      "1691: SNDK complete\n"
     ]
    },
    {
     "name": "stderr",
     "output_type": "stream",
     "text": [
      "/home/carbine/miniconda3/envs/fleishco/lib/python3.7/site-packages/calcbench/api_client.py:269: UserWarning: Did not find metrics {'restrictedcashandinvestmentscurrent', 'paymentsofdividendsnoncontrollinginterest', 'totalinvestments', 'mediumtermnotes', 'assetimpairment', 'trustpreferredsecurities', 'paymentsofdividendscommonstock', 'depreciationandamortizationexpense', 'mortgagedebt', 'longterminvestments', 'subordinateddebt', 'paymentsofdividendspreferredstock'}\n",
      "  warnings.warn(\"Did not find metrics {0}\".format(missing_metrics))\n"
     ]
    },
    {
     "name": "stdout",
     "output_type": "stream",
     "text": [
      "data saved to data/financials/WDC.csv\n",
      "1692: WDC complete\n"
     ]
    },
    {
     "name": "stderr",
     "output_type": "stream",
     "text": [
      "/home/carbine/miniconda3/envs/fleishco/lib/python3.7/site-packages/calcbench/api_client.py:269: UserWarning: Did not find metrics {'restrictedcashandinvestmentscurrent', 'paymentsofdividendsnoncontrollinginterest', 'sharebasedcompensation', 'totalinvestments', 'mediumtermnotes', 'convertibledebt', 'trustpreferredsecurities', 'longterminvestments', 'currentliabilities', 'researchanddevelopment', 'subordinateddebt', 'currentlongtermdebt', 'paymentsofdividendspreferredstock', 'restructuring', 'capitalassetsales', 'shortterminvestments'}\n",
      "  warnings.warn(\"Did not find metrics {0}\".format(missing_metrics))\n"
     ]
    },
    {
     "name": "stdout",
     "output_type": "stream",
     "text": [
      "data saved to data/financials/SNH.csv\n",
      "1693: SNH complete\n"
     ]
    },
    {
     "name": "stderr",
     "output_type": "stream",
     "text": [
      "/home/carbine/miniconda3/envs/fleishco/lib/python3.7/site-packages/calcbench/api_client.py:269: UserWarning: Did not find metrics {'secureddebt', 'sharebasedcompensation', 'totalinvestments', 'mediumtermnotes', 'trustpreferredsecurities', 'mortgagedebt', 'researchanddevelopment', 'convertibledebt', 'paymentsofdividendspreferredstock', 'shortterminvestments'}\n",
      "  warnings.warn(\"Did not find metrics {0}\".format(missing_metrics))\n"
     ]
    },
    {
     "name": "stdout",
     "output_type": "stream",
     "text": [
      "data saved to data/financials/SSP.csv\n",
      "1694: SSP complete\n"
     ]
    },
    {
     "name": "stderr",
     "output_type": "stream",
     "text": [
      "/home/carbine/miniconda3/envs/fleishco/lib/python3.7/site-packages/calcbench/api_client.py:269: UserWarning: Did not find metrics {'restrictedcashandinvestmentscurrent', 'paymentsofdividendsnoncontrollinginterest', 'secureddebt', 'termloan', 'totalinvestments', 'mediumtermnotes', 'trustpreferredsecurities', 'unsecureddebt', 'longterminvestments', 'researchanddevelopment', 'subordinateddebt', 'lineofcreditfacilityamountoutstanding', 'currentlongtermdebt', 'convertibledebt', 'shortterminvestments'}\n",
      "  warnings.warn(\"Did not find metrics {0}\".format(missing_metrics))\n"
     ]
    },
    {
     "name": "stdout",
     "output_type": "stream",
     "text": [
      "data saved to data/financials/SNV.csv\n",
      "1696: SNV complete\n"
     ]
    },
    {
     "name": "stderr",
     "output_type": "stream",
     "text": [
      "/home/carbine/miniconda3/envs/fleishco/lib/python3.7/site-packages/calcbench/api_client.py:269: UserWarning: Did not find metrics {'incometaxespaid', 'secureddebt', 'trustpreferredsecurities', 'paymentsofdividendscommonstock', 'researchanddevelopment', 'interestpaidnet', 'availableforsalesecurities', 'paymentsofdividendspreferredstock', 'seniornotes', 'assetimpairment', 'unsecureddebt', 'mortgagedebt', 'paymentsofdividendsnoncontrollinginterest', 'totalinvestments', 'mediumtermnotes', 'depreciationandamortizationexpense', 'longterminvestments', 'operatingexpenseexitems', 'restructuring', 'capitalassetsales'}\n",
      "  warnings.warn(\"Did not find metrics {0}\".format(missing_metrics))\n"
     ]
    },
    {
     "name": "stdout",
     "output_type": "stream",
     "text": [
      "data saved to data/financials/SNX.csv\n",
      "1697: SNX complete\n"
     ]
    },
    {
     "name": "stderr",
     "output_type": "stream",
     "text": [
      "/home/carbine/miniconda3/envs/fleishco/lib/python3.7/site-packages/calcbench/api_client.py:269: UserWarning: Did not find metrics {'secureddebt', 'trustpreferredsecurities', 'paymentsofdividendscommonstock', 'availableforsalesecurities', 'currentlongtermdebt', 'paymentsofdividendspreferredstock', 'paymentsofdividends', 'shortterminvestments', 'seniornotes', 'acquisitiondivestitures', 'assetimpairment', 'unsecureddebt', 'mortgagedebt', 'paymentsofdividendsnoncontrollinginterest', 'totalinvestments', 'mediumtermnotes', 'depreciationandamortizationexpense', 'longterminvestments', 'subordinateddebt', 'operatingexpenseexitems', 'restructuring', 'commonstockdividendspershare', 'convertibledebt', 'capitalassetsales'}\n",
      "  warnings.warn(\"Did not find metrics {0}\".format(missing_metrics))\n"
     ]
    },
    {
     "name": "stdout",
     "output_type": "stream",
     "text": [
      "data saved to data/financials/SONO.csv\n",
      "1700: SONO complete\n"
     ]
    },
    {
     "name": "stderr",
     "output_type": "stream",
     "text": [
      "/home/carbine/miniconda3/envs/fleishco/lib/python3.7/site-packages/calcbench/api_client.py:269: UserWarning: Did not find metrics {'incometaxespaid', 'restrictedcashandinvestmentscurrent', 'sharebasedcompensation', 'totalinvestments', 'mediumtermnotes', 'convertibledebt', 'trustpreferredsecurities', 'paymentsofdividendscommonstock', 'researchanddevelopment', 'interestpaidnet', 'availableforsalesecurities', 'subordinateddebt', 'currentlongtermdebt', 'paymentsofdividendspreferredstock', 'restructuring', 'shortterminvestments'}\n",
      "  warnings.warn(\"Did not find metrics {0}\".format(missing_metrics))\n"
     ]
    },
    {
     "name": "stdout",
     "output_type": "stream",
     "text": [
      "data saved to data/financials/SPG.csv\n",
      "1702: SPG complete\n"
     ]
    },
    {
     "name": "stderr",
     "output_type": "stream",
     "text": [
      "/home/carbine/miniconda3/envs/fleishco/lib/python3.7/site-packages/calcbench/api_client.py:269: UserWarning: Did not find metrics {'incometaxespaid', 'trustpreferredsecurities', 'paymentsforrepurchaseofcommonstock', 'paymentsofdividendscommonstock', 'researchanddevelopment', 'interestpaidnet', 'currentlongtermdebt', 'paymentsofdividendspreferredstock', 'shortterminvestments', 'stockrepurchasedduringperiodvalue', 'restrictedcashandinvestmentscurrent', 'paymentsofdividendsnoncontrollinginterest', 'totalinvestments', 'mediumtermnotes', 'subordinateddebt', 'restructuring', 'sharebasedcompensation', 'stockrepurchasedduringperiodshares', 'convertibledebt'}\n",
      "  warnings.warn(\"Did not find metrics {0}\".format(missing_metrics))\n"
     ]
    },
    {
     "name": "stdout",
     "output_type": "stream",
     "text": [
      "data saved to data/financials/WPG.csv\n",
      "1703: WPG complete\n"
     ]
    },
    {
     "name": "stderr",
     "output_type": "stream",
     "text": [
      "/home/carbine/miniconda3/envs/fleishco/lib/python3.7/site-packages/calcbench/api_client.py:269: UserWarning: Did not find metrics {'secureddebt', 'trustpreferredsecurities', 'paymentsforrepurchaseofcommonstock', 'paymentsofdividendscommonstock', 'paymentsofdividendspreferredstock', 'paymentsofdividends', 'seniornotes', 'unsecureddebt', 'mortgagedebt', 'stockrepurchasedduringperiodvalue', 'restrictedcashandinvestmentscurrent', 'paymentsofdividendsnoncontrollinginterest', 'totalinvestments', 'mediumtermnotes', 'longterminvestments', 'subordinateddebt', 'stockrepurchasedduringperiodshares', 'commonstockdividendspershare', 'capitalassetsales'}\n",
      "  warnings.warn(\"Did not find metrics {0}\".format(missing_metrics))\n"
     ]
    },
    {
     "name": "stdout",
     "output_type": "stream",
     "text": [
      "data saved to data/financials/SPNC.csv\n",
      "1704: SPNC complete\n"
     ]
    },
    {
     "name": "stderr",
     "output_type": "stream",
     "text": [
      "/home/carbine/miniconda3/envs/fleishco/lib/python3.7/site-packages/calcbench/api_client.py:269: UserWarning: Did not find metrics {'incometaxespaid', 'restrictedcashandinvestmentscurrent', 'paymentsofdividendsnoncontrollinginterest', 'secureddebt', 'termloan', 'totalinvestments', 'mediumtermnotes', 'trustpreferredsecurities', 'depreciationandamortizationexpense', 'longterminvestments', 'mortgagedebt', 'researchanddevelopment', 'paymentsofdividendspreferredstock', 'shortterminvestments'}\n",
      "  warnings.warn(\"Did not find metrics {0}\".format(missing_metrics))\n"
     ]
    },
    {
     "name": "stdout",
     "output_type": "stream",
     "text": [
      "data saved to data/financials/SPTN.csv\n",
      "1706: SPTN complete\n"
     ]
    },
    {
     "name": "stderr",
     "output_type": "stream",
     "text": [
      "/home/carbine/miniconda3/envs/fleishco/lib/python3.7/site-packages/calcbench/api_client.py:269: UserWarning: Did not find metrics {'incometaxespaid', 'paymentsofdividendsnoncontrollinginterest', 'secureddebt', 'seniornotes', 'termloan', 'totalinvestments', 'mediumtermnotes', 'trustpreferredsecurities', 'paymentsofdividendscommonstock', 'depreciationandamortizationexpense', 'longterminvestments', 'interestpaidnet', 'subordinateddebt', 'commonstockdividendspershare', 'paymentsofdividendspreferredstock', 'paymentsofdividends'}\n",
      "  warnings.warn(\"Did not find metrics {0}\".format(missing_metrics))\n"
     ]
    },
    {
     "name": "stdout",
     "output_type": "stream",
     "text": [
      "data saved to data/financials/SPWR.csv\n",
      "1708: SPWR complete\n"
     ]
    },
    {
     "name": "stderr",
     "output_type": "stream",
     "text": [
      "/home/carbine/miniconda3/envs/fleishco/lib/python3.7/site-packages/calcbench/api_client.py:269: UserWarning: Did not find metrics {'incometaxespaid', 'capex', 'secureddebt', 'sgaexpense', 'trustpreferredsecurities', 'paymentsofdividendscommonstock', 'paymentsforrepurchaseofcommonstock', 'sharesoutstandingendofperiod', 'avgdilutedsharesoutstanding', 'researchanddevelopment', 'interestpaidnet', 'lineofcreditfacilityamountoutstanding', 'currentlongtermdebt', 'paymentsofdividendspreferredstock', 'paymentsofdividends', 'shortterminvestments', 'earningsbeforetaxes', 'seniornotes', 'acquisitiondivestitures', 'assetimpairment', 'financingcashflow', 'unsecureddebt', 'mortgagedebt', 'operatingcashflow', 'stockrepurchasedduringperiodvalue', 'depreciationamortization', 'restrictedcashandinvestmentscurrent', 'investingcashflow', 'paymentsofdividendsnoncontrollinginterest', 'termloan', 'capexgross', 'totalinvestments', 'mediumtermnotes', 'longterminvestments', 'subordinateddebt', 'avgsharesoutstandingbasic', 'operatingexpenses', 'operatingexpenseexitems', 'sharebasedcompensation', 'stockrepurchasedduringperiodshares', 'incometaxes', 'restructuring', 'commonstockdividendspershare', 'convertibledebt', 'capitalassetsales'}\n",
      "  warnings.warn(\"Did not find metrics {0}\".format(missing_metrics))\n"
     ]
    },
    {
     "name": "stdout",
     "output_type": "stream",
     "text": [
      "data saved to data/financials/TOT.csv\n",
      "1709: TOT complete\n"
     ]
    },
    {
     "name": "stderr",
     "output_type": "stream",
     "text": [
      "/home/carbine/miniconda3/envs/fleishco/lib/python3.7/site-packages/calcbench/api_client.py:269: UserWarning: Did not find metrics {'paymentsofdividendsnoncontrollinginterest', 'totalinvestments', 'mediumtermnotes', 'trustpreferredsecurities', 'researchanddevelopment', 'subordinateddebt', 'currentlongtermdebt', 'capitalassetsales', 'shortterminvestments'}\n",
      "  warnings.warn(\"Did not find metrics {0}\".format(missing_metrics))\n"
     ]
    },
    {
     "name": "stdout",
     "output_type": "stream",
     "text": [
      "data saved to data/financials/SRC.csv\n",
      "1710: SRC complete\n"
     ]
    },
    {
     "name": "stderr",
     "output_type": "stream",
     "text": [
      "/home/carbine/miniconda3/envs/fleishco/lib/python3.7/site-packages/calcbench/api_client.py:269: UserWarning: Did not find metrics {'paymentsofdividendsnoncontrollinginterest', 'seniornotes', 'termloan', 'totalinvestments', 'mediumtermnotes', 'assetimpairment', 'trustpreferredsecurities', 'unsecureddebt', 'mortgagedebt', 'stockrepurchasedduringperiodshares', 'researchanddevelopment', 'restructuring', 'convertibledebt'}\n",
      "  warnings.warn(\"Did not find metrics {0}\".format(missing_metrics))\n"
     ]
    },
    {
     "name": "stdout",
     "output_type": "stream",
     "text": [
      "data saved to data/financials/SRE.csv\n",
      "1712: SRE complete\n"
     ]
    },
    {
     "name": "stderr",
     "output_type": "stream",
     "text": [
      "/home/carbine/miniconda3/envs/fleishco/lib/python3.7/site-packages/calcbench/api_client.py:269: UserWarning: Did not find metrics {'incometaxespaid', 'restrictedcashandinvestmentscurrent', 'paymentsofdividendsnoncontrollinginterest', 'secureddebt', 'termloan', 'totalinvestments', 'mediumtermnotes', 'trustpreferredsecurities', 'paymentsofdividendscommonstock', 'unsecureddebt', 'mortgagedebt', 'depreciationandamortizationexpense', 'longterminvestments', 'availableforsalesecurities', 'subordinateddebt', 'commonstockdividendspershare', 'paymentsofdividendspreferredstock', 'capitalassetsales'}\n",
      "  warnings.warn(\"Did not find metrics {0}\".format(missing_metrics))\n"
     ]
    },
    {
     "name": "stdout",
     "output_type": "stream",
     "text": [
      "data saved to data/financials/SREV.csv\n",
      "1714: SREV complete\n"
     ]
    },
    {
     "name": "stderr",
     "output_type": "stream",
     "text": [
      "/home/carbine/miniconda3/envs/fleishco/lib/python3.7/site-packages/calcbench/api_client.py:269: UserWarning: Did not find metrics {'secureddebt', 'trustpreferredsecurities', 'paymentsforrepurchaseofcommonstock', 'paymentsofdividendscommonstock', 'researchanddevelopment', 'availableforsalesecurities', 'lineofcreditfacilityamountoutstanding', 'paymentsofdividendspreferredstock', 'paymentsofdividends', 'shortterminvestments', 'acquisitiondivestitures', 'unsecureddebt', 'mortgagedebt', 'stockrepurchasedduringperiodvalue', 'restrictedcashandinvestmentscurrent', 'paymentsofdividendsnoncontrollinginterest', 'termloan', 'totalinvestments', 'mediumtermnotes', 'longterminvestments', 'stockrepurchasedduringperiodshares', 'convertibledebt', 'commonstockdividendspershare'}\n",
      "  warnings.warn(\"Did not find metrics {0}\".format(missing_metrics))\n"
     ]
    },
    {
     "name": "stdout",
     "output_type": "stream",
     "text": [
      "data saved to data/financials/SARA.csv\n",
      "1715: SARA complete\n"
     ]
    },
    {
     "name": "stderr",
     "output_type": "stream",
     "text": [
      "/home/carbine/miniconda3/envs/fleishco/lib/python3.7/site-packages/calcbench/api_client.py:269: UserWarning: Did not find metrics {'operatingexpenseexitems', 'paymentsofdividendsnoncontrollinginterest', 'totalinvestments', 'mediumtermnotes', 'convertibledebt', 'trustpreferredsecurities', 'assetimpairment', 'unsecureddebt', 'depreciationandamortizationexpense', 'mortgagedebt', 'availableforsalesecurities', 'subordinateddebt', 'paymentsofdividendspreferredstock', 'restructuring', 'shortterminvestments'}\n",
      "  warnings.warn(\"Did not find metrics {0}\".format(missing_metrics))\n"
     ]
    },
    {
     "name": "stdout",
     "output_type": "stream",
     "text": [
      "data saved to data/financials/SSNC.csv\n",
      "1718: SSNC complete\n"
     ]
    },
    {
     "name": "stderr",
     "output_type": "stream",
     "text": [
      "/home/carbine/miniconda3/envs/fleishco/lib/python3.7/site-packages/calcbench/api_client.py:269: UserWarning: Did not find metrics {'restrictedcashandinvestmentscurrent', 'paymentsofdividendsnoncontrollinginterest', 'secureddebt', 'totalinvestments', 'mediumtermnotes', 'trustpreferredsecurities', 'longterminvestments', 'mortgagedebt', 'stockrepurchasedduringperiodshares', 'researchanddevelopment', 'availableforsalesecurities', 'subordinateddebt', 'paymentsofdividendspreferredstock', 'restructuring', 'capitalassetsales'}\n",
      "  warnings.warn(\"Did not find metrics {0}\".format(missing_metrics))\n"
     ]
    },
    {
     "name": "stdout",
     "output_type": "stream",
     "text": [
      "data saved to data/financials/STLD.csv\n",
      "1723: STLD complete\n"
     ]
    },
    {
     "name": "stderr",
     "output_type": "stream",
     "text": [
      "/home/carbine/miniconda3/envs/fleishco/lib/python3.7/site-packages/calcbench/api_client.py:269: UserWarning: Did not find metrics {'trustpreferredsecurities', 'paymentsforrepurchaseofcommonstock', 'paymentsofdividendscommonstock', 'researchanddevelopment', 'availableforsalesecurities', 'paymentsofdividendspreferredstock', 'shortterminvestments', 'mortgagedebt', 'stockrepurchasedduringperiodvalue', 'paymentsofdividendsnoncontrollinginterest', 'termloan', 'totalinvestments', 'mediumtermnotes', 'longterminvestments', 'subordinateddebt', 'restructuring', 'stockrepurchasedduringperiodshares', 'convertibledebt', 'commonstockdividendspershare'}\n",
      "  warnings.warn(\"Did not find metrics {0}\".format(missing_metrics))\n"
     ]
    },
    {
     "name": "stdout",
     "output_type": "stream",
     "text": [
      "data saved to data/financials/STON.csv\n",
      "1724: STON complete\n"
     ]
    },
    {
     "name": "stderr",
     "output_type": "stream",
     "text": [
      "/home/carbine/miniconda3/envs/fleishco/lib/python3.7/site-packages/calcbench/api_client.py:269: UserWarning: Did not find metrics {'incometaxespaid', 'secureddebt', 'trustpreferredsecurities', 'paymentsforrepurchaseofcommonstock', 'researchanddevelopment', 'currentlongtermdebt', 'paymentsofdividendspreferredstock', 'shortterminvestments', 'acquisitiondivestitures', 'stockrepurchasedduringperiodvalue', 'restrictedcashandinvestmentscurrent', 'paymentsofdividendsnoncontrollinginterest', 'totalinvestments', 'mediumtermnotes', 'longterminvestments', 'subordinateddebt', 'restructuring', 'stockrepurchasedduringperiodshares', 'convertibledebt', 'capitalassetsales'}\n",
      "  warnings.warn(\"Did not find metrics {0}\".format(missing_metrics))\n"
     ]
    },
    {
     "name": "stdout",
     "output_type": "stream",
     "text": [
      "data saved to data/financials/STOR.csv\n",
      "1725: STOR complete\n"
     ]
    },
    {
     "name": "stderr",
     "output_type": "stream",
     "text": [
      "/home/carbine/miniconda3/envs/fleishco/lib/python3.7/site-packages/calcbench/api_client.py:269: UserWarning: Did not find metrics {'paymentsofdividendsnoncontrollinginterest', 'totalinvestments', 'mediumtermnotes', 'trustpreferredsecurities', 'mortgagedebt', 'researchanddevelopment', 'subordinateddebt', 'currentlongtermdebt', 'paymentsofdividendspreferredstock', 'restructuring', 'capitalassetsales', 'shortterminvestments'}\n",
      "  warnings.warn(\"Did not find metrics {0}\".format(missing_metrics))\n"
     ]
    },
    {
     "name": "stdout",
     "output_type": "stream",
     "text": [
      "data saved to data/financials/STWD.csv\n",
      "1727: STWD complete\n"
     ]
    },
    {
     "name": "stderr",
     "output_type": "stream",
     "text": [
      "/home/carbine/miniconda3/envs/fleishco/lib/python3.7/site-packages/calcbench/api_client.py:269: UserWarning: Did not find metrics {'incometaxespaid', 'paymentsofdividendsnoncontrollinginterest', 'totalinvestments', 'mediumtermnotes', 'trustpreferredsecurities', 'unsecureddebt', 'longterminvestments', 'mortgagedebt', 'interestpaidnet', 'paymentsofdividendspreferredstock'}\n",
      "  warnings.warn(\"Did not find metrics {0}\".format(missing_metrics))\n"
     ]
    },
    {
     "name": "stdout",
     "output_type": "stream",
     "text": [
      "data saved to data/financials/STX.csv\n",
      "1728: STX complete\n"
     ]
    },
    {
     "name": "stderr",
     "output_type": "stream",
     "text": [
      "/home/carbine/miniconda3/envs/fleishco/lib/python3.7/site-packages/calcbench/api_client.py:269: UserWarning: Did not find metrics {'paymentsofdividendsnoncontrollinginterest', 'totalinvestments', 'mediumtermnotes', 'convertibledebt', 'trustpreferredsecurities', 'paymentsofdividendscommonstock', 'unsecureddebt', 'mortgagedebt', 'longterminvestments', 'stockrepurchasedduringperiodshares', 'researchanddevelopment', 'availableforsalesecurities', 'subordinateddebt', 'stockrepurchasedduringperiodvalue', 'paymentsofdividendspreferredstock', 'restructuring', 'shortterminvestments'}\n",
      "  warnings.warn(\"Did not find metrics {0}\".format(missing_metrics))\n"
     ]
    },
    {
     "name": "stdout",
     "output_type": "stream",
     "text": [
      "data saved to data/financials/TERP.csv\n",
      "1732: TERP complete\n"
     ]
    },
    {
     "name": "stderr",
     "output_type": "stream",
     "text": [
      "/home/carbine/miniconda3/envs/fleishco/lib/python3.7/site-packages/calcbench/api_client.py:269: UserWarning: Did not find metrics {'incometaxespaid', 'secureddebt', 'trustpreferredsecurities', 'paymentsofdividendscommonstock', 'researchanddevelopment', 'interestpaidnet', 'paymentsofdividendspreferredstock', 'paymentsofdividends', 'assetimpairment', 'unsecureddebt', 'mortgagedebt', 'restrictedcashandinvestmentscurrent', 'paymentsofdividendsnoncontrollinginterest', 'totalinvestments', 'mediumtermnotes', 'subordinateddebt', 'restructuring', 'convertibledebt', 'commonstockdividendspershare'}\n",
      "  warnings.warn(\"Did not find metrics {0}\".format(missing_metrics))\n"
     ]
    },
    {
     "name": "stdout",
     "output_type": "stream",
     "text": [
      "data saved to data/financials/SUSS.csv\n",
      "1734: SUSS complete\n"
     ]
    },
    {
     "name": "stderr",
     "output_type": "stream",
     "text": [
      "/home/carbine/miniconda3/envs/fleishco/lib/python3.7/site-packages/calcbench/api_client.py:269: UserWarning: Did not find metrics {'incometaxespaid', 'secureddebt', 'trustpreferredsecurities', 'paymentsforrepurchaseofcommonstock', 'paymentsofdividendscommonstock', 'sharesoutstandingendofperiod', 'avgdilutedsharesoutstanding', 'researchanddevelopment', 'interestpaidnet', 'availableforsalesecurities', 'lineofcreditfacilityamountoutstanding', 'currentlongtermdebt', 'paymentsofdividendspreferredstock', 'shortterminvestments', 'seniornotes', 'acquisitiondivestitures', 'assetimpairment', 'unsecureddebt', 'mortgagedebt', 'stockrepurchasedduringperiodvalue', 'restrictedcashandinvestmentscurrent', 'paymentsofdividendsnoncontrollinginterest', 'termloan', 'totalinvestments', 'mediumtermnotes', 'longterminvestments', 'subordinateddebt', 'avgsharesoutstandingbasic', 'operatingexpenses', 'earnings_release_date', 'ebitda', 'sharebasedcompensation', 'longtermdebt', 'totaldebt', 'stockrepurchasedduringperiodshares', 'incometaxes', 'restructuring', 'commonstockdividendspershare', 'convertibledebt'}\n",
      "  warnings.warn(\"Did not find metrics {0}\".format(missing_metrics))\n"
     ]
    },
    {
     "name": "stdout",
     "output_type": "stream",
     "text": [
      "data saved to data/financials/SVM.csv\n",
      "1735: SVM complete\n"
     ]
    },
    {
     "name": "stderr",
     "output_type": "stream",
     "text": [
      "/home/carbine/miniconda3/envs/fleishco/lib/python3.7/site-packages/calcbench/api_client.py:269: UserWarning: Did not find metrics {'paymentsofdividendsnoncontrollinginterest', 'totalinvestments', 'acquisitiondivestitures', 'mediumtermnotes', 'trustpreferredsecurities', 'paymentsforrepurchaseofcommonstock', 'paymentsofdividendscommonstock', 'mortgagedebt', 'researchanddevelopment', 'availableforsalesecurities', 'subordinateddebt', 'commonstockdividendspershare', 'convertibledebt', 'shortterminvestments'}\n",
      "  warnings.warn(\"Did not find metrics {0}\".format(missing_metrics))\n"
     ]
    },
    {
     "name": "stdout",
     "output_type": "stream",
     "text": [
      "data saved to data/financials/SWN.csv\n",
      "1738: SWN complete\n"
     ]
    },
    {
     "name": "stderr",
     "output_type": "stream",
     "text": [
      "/home/carbine/miniconda3/envs/fleishco/lib/python3.7/site-packages/calcbench/api_client.py:269: UserWarning: Did not find metrics {'operatingexpenseexitems', 'totalinvestments', 'convertibledebt', 'trustpreferredsecurities', 'paymentsforrepurchaseofcommonstock', 'assetimpairment', 'longterminvestments', 'mortgagedebt', 'stockrepurchasedduringperiodshares', 'researchanddevelopment', 'availableforsalesecurities', 'subordinateddebt', 'stockrepurchasedduringperiodvalue', 'paymentsofdividendspreferredstock', 'restructuring', 'capitalassetsales', 'shortterminvestments'}\n",
      "  warnings.warn(\"Did not find metrics {0}\".format(missing_metrics))\n"
     ]
    },
    {
     "name": "stdout",
     "output_type": "stream",
     "text": [
      "data saved to data/financials/SWX.csv\n",
      "1740: SWX complete\n"
     ]
    },
    {
     "name": "stderr",
     "output_type": "stream",
     "text": [
      "/home/carbine/miniconda3/envs/fleishco/lib/python3.7/site-packages/calcbench/api_client.py:269: UserWarning: Did not find metrics {'restrictedcashandinvestmentscurrent', 'totalinvestments', 'mediumtermnotes', 'convertibledebt', 'trustpreferredsecurities', 'paymentsofdividendscommonstock', 'unsecureddebt', 'mortgagedebt', 'researchanddevelopment', 'subordinateddebt', 'paymentsofdividendspreferredstock', 'restructuring', 'shortterminvestments'}\n",
      "  warnings.warn(\"Did not find metrics {0}\".format(missing_metrics))\n"
     ]
    },
    {
     "name": "stdout",
     "output_type": "stream",
     "text": [
      "data saved to data/financials/SXC.csv\n",
      "1741: SXC complete\n"
     ]
    },
    {
     "name": "stderr",
     "output_type": "stream",
     "text": [
      "/home/carbine/miniconda3/envs/fleishco/lib/python3.7/site-packages/calcbench/api_client.py:269: UserWarning: Did not find metrics {'restrictedcashandinvestmentscurrent', 'paymentsofdividendsnoncontrollinginterest', 'secureddebt', 'termloan', 'totalinvestments', 'mediumtermnotes', 'trustpreferredsecurities', 'paymentsofdividendscommonstock', 'unsecureddebt', 'mortgagedebt', 'stockrepurchasedduringperiodshares', 'interestpaidnet', 'subordinateddebt', 'commonstockdividendspershare', 'paymentsofdividendspreferredstock', 'paymentsofdividends', 'shortterminvestments'}\n",
      "  warnings.warn(\"Did not find metrics {0}\".format(missing_metrics))\n"
     ]
    },
    {
     "name": "stdout",
     "output_type": "stream",
     "text": [
      "data saved to data/financials/SYNA.csv\n",
      "1744: SYNA complete\n"
     ]
    },
    {
     "name": "stderr",
     "output_type": "stream",
     "text": [
      "/home/carbine/miniconda3/envs/fleishco/lib/python3.7/site-packages/calcbench/api_client.py:269: UserWarning: Did not find metrics {'operatingexpenseexitems', 'restrictedcashandinvestmentscurrent', 'paymentsofdividendsnoncontrollinginterest', 'secureddebt', 'termloan', 'totalinvestments', 'mediumtermnotes', 'convertibledebt', 'sgaexpense', 'trustpreferredsecurities', 'assetimpairment', 'unsecureddebt', 'mortgagedebt', 'depreciationandamortizationexpense', 'researchanddevelopment', 'subordinateddebt', 'paymentsofdividendspreferredstock', 'restructuring'}\n",
      "  warnings.warn(\"Did not find metrics {0}\".format(missing_metrics))\n"
     ]
    },
    {
     "name": "stdout",
     "output_type": "stream",
     "text": [
      "data saved to data/financials/SYY.csv\n",
      "1746: SYY complete\n"
     ]
    },
    {
     "name": "stderr",
     "output_type": "stream",
     "text": [
      "/home/carbine/miniconda3/envs/fleishco/lib/python3.7/site-packages/calcbench/api_client.py:269: UserWarning: Did not find metrics {'operatingexpenseexitems', 'paymentsofdividendsnoncontrollinginterest', 'totalinvestments', 'mediumtermnotes', 'trustpreferredsecurities', 'assetimpairment', 'paymentsofdividendscommonstock', 'depreciationandamortizationexpense', 'mortgagedebt', 'researchanddevelopment', 'restructuring', 'currentlongtermdebt', 'paymentsofdividendspreferredstock', 'convertibledebt', 'shortterminvestments'}\n",
      "  warnings.warn(\"Did not find metrics {0}\".format(missing_metrics))\n"
     ]
    },
    {
     "name": "stdout",
     "output_type": "stream",
     "text": [
      "data saved to data/financials/TOL.csv\n",
      "1750: TOL complete\n"
     ]
    },
    {
     "name": "stderr",
     "output_type": "stream",
     "text": [
      "/home/carbine/miniconda3/envs/fleishco/lib/python3.7/site-packages/calcbench/api_client.py:269: UserWarning: Did not find metrics {'incometaxespaid', 'capex', 'secureddebt', 'trustpreferredsecurities', 'paymentsforrepurchaseofcommonstock', 'paymentsofdividendscommonstock', 'sharesoutstandingendofperiod', 'researchanddevelopment', 'interestpaidnet', 'availableforsalesecurities', 'lineofcreditfacilityamountoutstanding', 'currentlongtermdebt', 'paymentsofdividendspreferredstock', 'paymentsofdividends', 'earningsbeforetaxes', 'seniornotes', 'acquisitiondivestitures', 'financingcashflow', 'unsecureddebt', 'mortgagedebt', 'operatingcashflow', 'stockrepurchasedduringperiodvalue', 'depreciationamortization', 'investingcashflow', 'paymentsofdividendsnoncontrollinginterest', 'termloan', 'capexgross', 'totalinvestments', 'mediumtermnotes', 'depreciationandamortizationexpense', 'subordinateddebt', 'operatingexpenses', 'operatingexpenseexitems', 'earnings_release_date', 'ebitda', 'sharebasedcompensation', 'longtermdebt', 'totaldebt', 'stockrepurchasedduringperiodshares', 'incometaxes', 'restructuring', 'commonstockdividendspershare', 'convertibledebt', 'capitalassetsales'}\n",
      "  warnings.warn(\"Did not find metrics {0}\".format(missing_metrics))\n"
     ]
    },
    {
     "name": "stdout",
     "output_type": "stream",
     "text": [
      "data saved to data/financials/TAL.csv\n",
      "1751: TAL complete\n"
     ]
    },
    {
     "name": "stderr",
     "output_type": "stream",
     "text": [
      "/home/carbine/miniconda3/envs/fleishco/lib/python3.7/site-packages/calcbench/api_client.py:269: UserWarning: Did not find metrics {'trustpreferredsecurities', 'paymentsforrepurchaseofcommonstock', 'paymentsofdividendscommonstock', 'availableforsalesecurities', 'paymentsofdividendspreferredstock', 'paymentsofdividends', 'shortterminvestments', 'assetimpairment', 'unsecureddebt', 'mortgagedebt', 'stockrepurchasedduringperiodvalue', 'restrictedcashandinvestmentscurrent', 'paymentsofdividendsnoncontrollinginterest', 'totalinvestments', 'mediumtermnotes', 'depreciationandamortizationexpense', 'subordinateddebt', 'operatingexpenseexitems', 'sharebasedcompensation', 'stockrepurchasedduringperiodshares', 'restructuring', 'commonstockdividendspershare', 'convertibledebt', 'capitalassetsales'}\n",
      "  warnings.warn(\"Did not find metrics {0}\".format(missing_metrics))\n"
     ]
    },
    {
     "name": "stdout",
     "output_type": "stream",
     "text": [
      "data saved to data/financials/TAM.csv\n",
      "1752: TAM complete\n"
     ]
    },
    {
     "name": "stderr",
     "output_type": "stream",
     "text": [
      "/home/carbine/miniconda3/envs/fleishco/lib/python3.7/site-packages/calcbench/api_client.py:269: UserWarning: Did not find metrics {'secureddebt', 'trustpreferredsecurities', 'paymentsforrepurchaseofcommonstock', 'paymentsofdividendscommonstock', 'researchanddevelopment', 'availableforsalesecurities', 'paymentsofdividendspreferredstock', 'paymentsofdividends', 'shortterminvestments', 'unsecureddebt', 'mortgagedebt', 'paymentsofdividendsnoncontrollinginterest', 'termloan', 'totalinvestments', 'mediumtermnotes', 'longterminvestments', 'subordinateddebt', 'convertibledebt', 'commonstockdividendspershare'}\n",
      "  warnings.warn(\"Did not find metrics {0}\".format(missing_metrics))\n"
     ]
    },
    {
     "name": "stdout",
     "output_type": "stream",
     "text": [
      "data saved to data/financials/TAST.csv\n",
      "1754: TAST complete\n"
     ]
    },
    {
     "name": "stderr",
     "output_type": "stream",
     "text": [
      "/home/carbine/miniconda3/envs/fleishco/lib/python3.7/site-packages/calcbench/api_client.py:269: UserWarning: Did not find metrics {'operatingexpenseexitems', 'restrictedcashandinvestmentscurrent', 'paymentsofdividendsnoncontrollinginterest', 'totalinvestments', 'mediumtermnotes', 'trustpreferredsecurities', 'assetimpairment', 'paymentsofdividendscommonstock', 'unsecureddebt', 'mortgagedebt', 'longterminvestments', 'availableforsalesecurities', 'restructuring', 'paymentsofdividendspreferredstock', 'convertibledebt', 'capitalassetsales', 'shortterminvestments'}\n",
      "  warnings.warn(\"Did not find metrics {0}\".format(missing_metrics))\n"
     ]
    },
    {
     "name": "stdout",
     "output_type": "stream",
     "text": [
      "data saved to data/financials/TDG.csv\n",
      "1760: TDG complete\n"
     ]
    },
    {
     "name": "stderr",
     "output_type": "stream",
     "text": [
      "/home/carbine/miniconda3/envs/fleishco/lib/python3.7/site-packages/calcbench/api_client.py:269: UserWarning: Did not find metrics {'incometaxespaid', 'secureddebt', 'totalinvestments', 'mediumtermnotes', 'convertibledebt', 'trustpreferredsecurities', 'mortgagedebt', 'researchanddevelopment', 'interestpaidnet', 'subordinateddebt', 'paymentsofdividendspreferredstock', 'restructuring', 'capitalassetsales'}\n",
      "  warnings.warn(\"Did not find metrics {0}\".format(missing_metrics))\n"
     ]
    },
    {
     "name": "stdout",
     "output_type": "stream",
     "text": [
      "data saved to data/financials/TDS.csv\n",
      "1761: TDS complete\n"
     ]
    },
    {
     "name": "stderr",
     "output_type": "stream",
     "text": [
      "/home/carbine/miniconda3/envs/fleishco/lib/python3.7/site-packages/calcbench/api_client.py:269: UserWarning: Did not find metrics {'incometaxespaid', 'restrictedcashandinvestmentscurrent', 'secureddebt', 'totalinvestments', 'mediumtermnotes', 'convertibledebt', 'trustpreferredsecurities', 'mortgagedebt', 'researchanddevelopment', 'interestpaidnet', 'subordinateddebt', 'paymentsofdividendspreferredstock', 'restructuring', 'capitalassetsales'}\n",
      "  warnings.warn(\"Did not find metrics {0}\".format(missing_metrics))\n"
     ]
    },
    {
     "name": "stdout",
     "output_type": "stream",
     "text": [
      "data saved to data/financials/USM.csv\n",
      "1762: USM complete\n"
     ]
    },
    {
     "name": "stderr",
     "output_type": "stream",
     "text": [
      "/home/carbine/miniconda3/envs/fleishco/lib/python3.7/site-packages/calcbench/api_client.py:269: UserWarning: Did not find metrics {'secureddebt', 'trustpreferredsecurities', 'paymentsofdividendscommonstock', 'interestpaidnet', 'availableforsalesecurities', 'lineofcreditfacilityamountoutstanding', 'paymentsofdividendspreferredstock', 'paymentsofdividends', 'shortterminvestments', 'interestexpense', 'seniornotes', 'assetimpairment', 'unsecureddebt', 'mortgagedebt', 'paymentsofdividendsnoncontrollinginterest', 'termloan', 'totalinvestments', 'mediumtermnotes', 'depreciationandamortizationexpense', 'subordinateddebt', 'operatingexpenseexitems', 'restructuring', 'commonstockdividendspershare', 'convertibledebt'}\n",
      "  warnings.warn(\"Did not find metrics {0}\".format(missing_metrics))\n"
     ]
    },
    {
     "name": "stdout",
     "output_type": "stream",
     "text": [
      "data saved to data/financials/TZOO.csv\n",
      "1763: TZOO complete\n"
     ]
    },
    {
     "name": "stderr",
     "output_type": "stream",
     "text": [
      "/home/carbine/miniconda3/envs/fleishco/lib/python3.7/site-packages/calcbench/api_client.py:269: UserWarning: Did not find metrics {'restrictedcashandinvestmentscurrent', 'paymentsofdividendsnoncontrollinginterest', 'totalinvestments', 'mediumtermnotes', 'trustpreferredsecurities', 'paymentsofdividendscommonstock', 'mortgagedebt', 'researchanddevelopment', 'availableforsalesecurities', 'subordinateddebt', 'paymentsofdividendspreferredstock', 'convertibledebt', 'shortterminvestments'}\n",
      "  warnings.warn(\"Did not find metrics {0}\".format(missing_metrics))\n"
     ]
    },
    {
     "name": "stdout",
     "output_type": "stream",
     "text": [
      "data saved to data/financials/TDW.csv\n",
      "1764: TDW complete\n"
     ]
    },
    {
     "name": "stderr",
     "output_type": "stream",
     "text": [
      "/home/carbine/miniconda3/envs/fleishco/lib/python3.7/site-packages/calcbench/api_client.py:269: UserWarning: Did not find metrics {'secureddebt', 'trustpreferredsecurities', 'paymentsofdividendscommonstock', 'researchanddevelopment', 'availableforsalesecurities', 'currentlongtermdebt', 'paymentsofdividendspreferredstock', 'paymentsofdividends', 'shortterminvestments', 'unsecureddebt', 'mortgagedebt', 'restrictedcashandinvestmentscurrent', 'paymentsofdividendsnoncontrollinginterest', 'totalinvestments', 'mediumtermnotes', 'depreciationandamortizationexpense', 'longterminvestments', 'subordinateddebt', 'commonstockdividendspershare'}\n",
      "  warnings.warn(\"Did not find metrics {0}\".format(missing_metrics))\n"
     ]
    },
    {
     "name": "stdout",
     "output_type": "stream",
     "text": [
      "data saved to data/financials/TECD.csv\n",
      "1765: TECD complete\n"
     ]
    },
    {
     "name": "stderr",
     "output_type": "stream",
     "text": [
      "/home/carbine/miniconda3/envs/fleishco/lib/python3.7/site-packages/calcbench/api_client.py:269: UserWarning: Did not find metrics {'totalinvestments', 'mediumtermnotes', 'trustpreferredsecurities', 'mortgagedebt', 'availableforsalesecurities', 'subordinateddebt', 'currentlongtermdebt', 'paymentsofdividendspreferredstock', 'convertibledebt', 'shortterminvestments'}\n",
      "  warnings.warn(\"Did not find metrics {0}\".format(missing_metrics))\n"
     ]
    },
    {
     "name": "stdout",
     "output_type": "stream",
     "text": [
      "data saved to data/financials/TEN.csv\n",
      "1769: TEN complete\n"
     ]
    },
    {
     "name": "stderr",
     "output_type": "stream",
     "text": [
      "/home/carbine/miniconda3/envs/fleishco/lib/python3.7/site-packages/calcbench/api_client.py:269: UserWarning: Did not find metrics {'restrictedcashandinvestmentscurrent', 'totalinvestments', 'mediumtermnotes', 'trustpreferredsecurities', 'unsecureddebt', 'mortgagedebt', 'restructuring', 'currentlongtermdebt', 'paymentsofdividendspreferredstock'}\n",
      "  warnings.warn(\"Did not find metrics {0}\".format(missing_metrics))\n"
     ]
    },
    {
     "name": "stdout",
     "output_type": "stream",
     "text": [
      "data saved to data/financials/TEX.csv\n",
      "1770: TEX complete\n"
     ]
    },
    {
     "name": "stderr",
     "output_type": "stream",
     "text": [
      "/home/carbine/miniconda3/envs/fleishco/lib/python3.7/site-packages/calcbench/api_client.py:269: UserWarning: Did not find metrics {'incometaxespaid', 'restrictedcashandinvestmentscurrent', 'paymentsofdividendsnoncontrollinginterest', 'secureddebt', 'termloan', 'totalinvestments', 'mediumtermnotes', 'trustpreferredsecurities', 'paymentsforrepurchaseofcommonstock', 'unsecureddebt', 'depreciationandamortizationexpense', 'mortgagedebt', 'interestpaidnet', 'stockrepurchasedduringperiodvalue', 'paymentsofdividendspreferredstock', 'capitalassetsales', 'shortterminvestments'}\n",
      "  warnings.warn(\"Did not find metrics {0}\".format(missing_metrics))\n"
     ]
    },
    {
     "name": "stdout",
     "output_type": "stream",
     "text": [
      "data saved to data/financials/TFX.csv\n",
      "1771: TFX complete\n"
     ]
    },
    {
     "name": "stderr",
     "output_type": "stream",
     "text": [
      "/home/carbine/miniconda3/envs/fleishco/lib/python3.7/site-packages/calcbench/api_client.py:269: UserWarning: Did not find metrics {'restrictedcashandinvestmentscurrent', 'paymentsofdividendsnoncontrollinginterest', 'totalinvestments', 'mediumtermnotes', 'trustpreferredsecurities', 'unsecureddebt', 'paymentsofdividendscommonstock', 'mortgagedebt', 'longterminvestments', 'paymentsofdividendspreferredstock', 'shortterminvestments'}\n",
      "  warnings.warn(\"Did not find metrics {0}\".format(missing_metrics))\n"
     ]
    },
    {
     "name": "stdout",
     "output_type": "stream",
     "text": [
      "data saved to data/financials/TGI.csv\n",
      "1773: TGI complete\n"
     ]
    },
    {
     "name": "stderr",
     "output_type": "stream",
     "text": [
      "/home/carbine/miniconda3/envs/fleishco/lib/python3.7/site-packages/calcbench/api_client.py:269: UserWarning: Did not find metrics {'restrictedcashandinvestmentscurrent', 'paymentsofdividendsnoncontrollinginterest', 'secureddebt', 'totalinvestments', 'mediumtermnotes', 'convertibledebt', 'trustpreferredsecurities', 'paymentsofdividendscommonstock', 'unsecureddebt', 'mortgagedebt', 'longterminvestments', 'subordinateddebt', 'paymentsofdividendspreferredstock', 'paymentsofdividends', 'restructuring'}\n",
      "  warnings.warn(\"Did not find metrics {0}\".format(missing_metrics))\n"
     ]
    },
    {
     "name": "stdout",
     "output_type": "stream",
     "text": [
      "data saved to data/financials/THS.csv\n",
      "1778: THS complete\n"
     ]
    },
    {
     "name": "stderr",
     "output_type": "stream",
     "text": [
      "/home/carbine/miniconda3/envs/fleishco/lib/python3.7/site-packages/calcbench/api_client.py:269: UserWarning: Did not find metrics {'incometaxespaid', 'secureddebt', 'trustpreferredsecurities', 'researchanddevelopment', 'interestpaidnet', 'availableforsalesecurities', 'paymentsofdividendspreferredstock', 'assetimpairment', 'mortgagedebt', 'restrictedcashandinvestmentscurrent', 'paymentsofdividendsnoncontrollinginterest', 'termloan', 'totalinvestments', 'mediumtermnotes', 'depreciationandamortizationexpense', 'longterminvestments', 'subordinateddebt', 'restructuring', 'convertibledebt', 'capitalassetsales'}\n",
      "  warnings.warn(\"Did not find metrics {0}\".format(missing_metrics))\n"
     ]
    },
    {
     "name": "stdout",
     "output_type": "stream",
     "text": [
      "data saved to data/financials/TIF.csv\n",
      "1781: TIF complete\n"
     ]
    },
    {
     "name": "stderr",
     "output_type": "stream",
     "text": [
      "/home/carbine/miniconda3/envs/fleishco/lib/python3.7/site-packages/calcbench/api_client.py:269: UserWarning: Did not find metrics {'secureddebt', 'sgaexpense', 'paymentsforrepurchaseofcommonstock', 'paymentsofdividendscommonstock', 'trustpreferredsecurities', 'researchanddevelopment', 'availableforsalesecurities', 'paymentsofdividendspreferredstock', 'paymentsofdividends', 'shortterminvestments', 'unsecureddebt', 'mortgagedebt', 'stockrepurchasedduringperiodvalue', 'restrictedcashandinvestmentscurrent', 'paymentsofdividendsnoncontrollinginterest', 'termloan', 'totalinvestments', 'mediumtermnotes', 'depreciationandamortizationexpense', 'longterminvestments', 'subordinateddebt', 'operatingexpenseexitems', 'stockrepurchasedduringperiodshares', 'commonstockdividendspershare'}\n",
      "  warnings.warn(\"Did not find metrics {0}\".format(missing_metrics))\n"
     ]
    },
    {
     "name": "stdout",
     "output_type": "stream",
     "text": [
      "data saved to data/financials/TITN.csv\n",
      "1782: TITN complete\n"
     ]
    },
    {
     "name": "stderr",
     "output_type": "stream",
     "text": [
      "/home/carbine/miniconda3/envs/fleishco/lib/python3.7/site-packages/calcbench/api_client.py:269: UserWarning: Did not find metrics {'incometaxespaid', 'secureddebt', 'trustpreferredsecurities', 'researchanddevelopment', 'interestpaidnet', 'availableforsalesecurities', 'paymentsofdividendspreferredstock', 'seniornotes', 'unsecureddebt', 'mortgagedebt', 'restrictedcashandinvestmentscurrent', 'paymentsofdividendsnoncontrollinginterest', 'termloan', 'totalinvestments', 'mediumtermnotes', 'depreciationandamortizationexpense', 'longterminvestments', 'subordinateddebt', 'restructuring', 'convertibledebt', 'capitalassetsales'}\n",
      "  warnings.warn(\"Did not find metrics {0}\".format(missing_metrics))\n"
     ]
    },
    {
     "name": "stdout",
     "output_type": "stream",
     "text": [
      "data saved to data/financials/TJX.csv\n",
      "1783: TJX complete\n"
     ]
    },
    {
     "name": "stderr",
     "output_type": "stream",
     "text": [
      "/home/carbine/miniconda3/envs/fleishco/lib/python3.7/site-packages/calcbench/api_client.py:269: UserWarning: Did not find metrics {'incometaxespaid', 'secureddebt', 'trustpreferredsecurities', 'paymentsforrepurchaseofcommonstock', 'researchanddevelopment', 'interestpaidnet', 'lineofcreditfacilityamountoutstanding', 'paymentsofdividendspreferredstock', 'shortterminvestments', 'seniornotes', 'assetimpairment', 'unsecureddebt', 'mortgagedebt', 'stockrepurchasedduringperiodvalue', 'restrictedcashandinvestmentscurrent', 'termloan', 'totalinvestments', 'mediumtermnotes', 'subordinateddebt', 'sharebasedcompensation', 'stockrepurchasedduringperiodshares', 'convertibledebt', 'capitalassetsales'}\n",
      "  warnings.warn(\"Did not find metrics {0}\".format(missing_metrics))\n"
     ]
    },
    {
     "name": "stdout",
     "output_type": "stream",
     "text": [
      "data saved to data/financials/TK.csv\n",
      "1784: TK complete\n"
     ]
    },
    {
     "name": "stderr",
     "output_type": "stream",
     "text": [
      "/home/carbine/miniconda3/envs/fleishco/lib/python3.7/site-packages/calcbench/api_client.py:269: UserWarning: Did not find metrics {'incometaxespaid', 'paymentsofdividendsnoncontrollinginterest', 'secureddebt', 'totalinvestments', 'trustpreferredsecurities', 'assetimpairment', 'depreciationandamortizationexpense', 'longterminvestments', 'mortgagedebt', 'stockrepurchasedduringperiodshares', 'interestpaidnet', 'availableforsalesecurities', 'subordinateddebt', 'paymentsofdividendspreferredstock', 'convertibledebt', 'shortterminvestments'}\n",
      "  warnings.warn(\"Did not find metrics {0}\".format(missing_metrics))\n"
     ]
    },
    {
     "name": "stdout",
     "output_type": "stream",
     "text": [
      "data saved to data/financials/TKR.csv\n",
      "1785: TKR complete\n"
     ]
    },
    {
     "name": "stderr",
     "output_type": "stream",
     "text": [
      "/home/carbine/miniconda3/envs/fleishco/lib/python3.7/site-packages/calcbench/api_client.py:269: UserWarning: Did not find metrics {'incometaxespaid', 'secureddebt', 'trustpreferredsecurities', 'paymentsforrepurchaseofcommonstock', 'paymentsofdividendscommonstock', 'researchanddevelopment', 'availableforsalesecurities', 'paymentsofdividendspreferredstock', 'shortterminvestments', 'unsecureddebt', 'mortgagedebt', 'stockrepurchasedduringperiodvalue', 'restrictedcashandinvestmentscurrent', 'paymentsofdividendsnoncontrollinginterest', 'termloan', 'totalinvestments', 'mediumtermnotes', 'subordinateddebt', 'stockrepurchasedduringperiodshares', 'incometaxes', 'restructuring', 'commonstockdividendspershare', 'convertibledebt'}\n",
      "  warnings.warn(\"Did not find metrics {0}\".format(missing_metrics))\n"
     ]
    },
    {
     "name": "stdout",
     "output_type": "stream",
     "text": [
      "data saved to data/financials/TLP.csv\n",
      "1786: TLP complete\n"
     ]
    },
    {
     "name": "stderr",
     "output_type": "stream",
     "text": [
      "/home/carbine/miniconda3/envs/fleishco/lib/python3.7/site-packages/calcbench/api_client.py:269: UserWarning: Did not find metrics {'incometaxespaid', 'trustpreferredsecurities', 'paymentsofdividendscommonstock', 'researchanddevelopment', 'interestpaidnet', 'availableforsalesecurities', 'paymentsofdividendspreferredstock', 'shortterminvestments', 'mortgagedebt', 'restrictedcashandinvestmentscurrent', 'paymentsofdividendsnoncontrollinginterest', 'totalinvestments', 'mediumtermnotes', 'longterminvestments', 'subordinateddebt', 'sharebasedcompensation', 'stockrepurchasedduringperiodshares', 'restructuring', 'commonstockdividendspershare', 'convertibledebt'}\n",
      "  warnings.warn(\"Did not find metrics {0}\".format(missing_metrics))\n"
     ]
    },
    {
     "name": "stdout",
     "output_type": "stream",
     "text": [
      "data saved to data/financials/TOY.csv\n",
      "1791: TOY complete\n"
     ]
    },
    {
     "name": "stderr",
     "output_type": "stream",
     "text": [
      "/home/carbine/miniconda3/envs/fleishco/lib/python3.7/site-packages/calcbench/api_client.py:269: UserWarning: Did not find metrics {'incometaxespaid', 'secureddebt', 'trustpreferredsecurities', 'paymentsofdividendscommonstock', 'researchanddevelopment', 'interestpaidnet', 'availableforsalesecurities', 'lineofcreditfacilityamountoutstanding', 'currentlongtermdebt', 'paymentsofdividendspreferredstock', 'paymentsofdividends', 'shortterminvestments', 'seniornotes', 'acquisitiondivestitures', 'assetimpairment', 'unsecureddebt', 'mortgagedebt', 'restrictedcashandinvestmentscurrent', 'paymentsofdividendsnoncontrollinginterest', 'termloan', 'totalinvestments', 'mediumtermnotes', 'subordinateddebt', 'operatingexpenseexitems', 'restructuring', 'commonstockdividendspershare', 'convertibledebt', 'capitalassetsales'}\n",
      "  warnings.warn(\"Did not find metrics {0}\".format(missing_metrics))\n"
     ]
    },
    {
     "name": "stdout",
     "output_type": "stream",
     "text": [
      "data saved to data/financials/TPCG.csv\n",
      "1793: TPCG complete\n"
     ]
    },
    {
     "name": "stderr",
     "output_type": "stream",
     "text": [
      "/home/carbine/miniconda3/envs/fleishco/lib/python3.7/site-packages/calcbench/api_client.py:269: UserWarning: Did not find metrics {'secureddebt', 'trustpreferredsecurities', 'paymentsofdividendscommonstock', 'researchanddevelopment', 'currentlongtermdebt', 'paymentsofdividendspreferredstock', 'paymentsofdividends', 'shortterminvestments', 'interestexpense', 'assetimpairment', 'ppe', 'restrictedcashandinvestmentscurrent', 'paymentsofdividendsnoncontrollinginterest', 'totalinvestments', 'mediumtermnotes', 'depreciationandamortizationexpense', 'subordinateddebt', 'convertibledebt', 'commonstockdividendspershare'}\n",
      "  warnings.warn(\"Did not find metrics {0}\".format(missing_metrics))\n"
     ]
    },
    {
     "name": "stdout",
     "output_type": "stream",
     "text": [
      "data saved to data/financials/TPH.csv\n",
      "1794: TPH complete\n"
     ]
    },
    {
     "name": "stderr",
     "output_type": "stream",
     "text": [
      "/home/carbine/miniconda3/envs/fleishco/lib/python3.7/site-packages/calcbench/api_client.py:269: UserWarning: Did not find metrics {'capex', 'secureddebt', 'trustpreferredsecurities', 'paymentsofdividendscommonstock', 'researchanddevelopment', 'availableforsalesecurities', 'paymentsofdividendspreferredstock', 'paymentsofdividends', 'shortterminvestments', 'acquisitiondivestitures', 'assetimpairment', 'mortgagedebt', 'ppe', 'paymentsofdividendsnoncontrollinginterest', 'termloan', 'capexgross', 'totalinvestments', 'mediumtermnotes', 'longterminvestments', 'subordinateddebt', 'operatingexpenseexitems', 'restructuring', 'commonstockdividendspershare', 'convertibledebt', 'capitalassetsales'}\n",
      "  warnings.warn(\"Did not find metrics {0}\".format(missing_metrics))\n"
     ]
    },
    {
     "name": "stdout",
     "output_type": "stream",
     "text": [
      "data saved to data/financials/TPRE.csv\n",
      "1795: TPRE complete\n"
     ]
    },
    {
     "name": "stderr",
     "output_type": "stream",
     "text": [
      "/home/carbine/miniconda3/envs/fleishco/lib/python3.7/site-packages/calcbench/api_client.py:269: UserWarning: Did not find metrics {'operatingexpenseexitems', 'restrictedcashandinvestmentscurrent', 'paymentsofdividendsnoncontrollinginterest', 'secureddebt', 'totalinvestments', 'mediumtermnotes', 'trustpreferredsecurities', 'assetimpairment', 'paymentsofdividendscommonstock', 'unsecureddebt', 'mortgagedebt', 'depreciationandamortizationexpense', 'stockrepurchasedduringperiodshares', 'stockrepurchasedduringperiodvalue', 'restructuring', 'commonstockdividendspershare', 'paymentsofdividendspreferredstock', 'paymentsofdividends'}\n",
      "  warnings.warn(\"Did not find metrics {0}\".format(missing_metrics))\n"
     ]
    },
    {
     "name": "stdout",
     "output_type": "stream",
     "text": [
      "data saved to data/financials/TRAK.csv\n",
      "1796: TRAK complete\n"
     ]
    },
    {
     "name": "stderr",
     "output_type": "stream",
     "text": [
      "/home/carbine/miniconda3/envs/fleishco/lib/python3.7/site-packages/calcbench/api_client.py:269: UserWarning: Did not find metrics {'secureddebt', 'trustpreferredsecurities', 'paymentsofdividendscommonstock', 'researchanddevelopment', 'lineofcreditfacilityamountoutstanding', 'currentlongtermdebt', 'unsecureddebt', 'mortgagedebt', 'restrictedcashandinvestmentscurrent', 'paymentsofdividendsnoncontrollinginterest', 'termloan', 'totalinvestments', 'mediumtermnotes', 'longterminvestments', 'subordinateddebt', 'operatingexpenseexitems', 'sharebasedcompensation', 'restructuring', 'commonstockdividendspershare', 'convertibledebt'}\n",
      "  warnings.warn(\"Did not find metrics {0}\".format(missing_metrics))\n"
     ]
    },
    {
     "name": "stdout",
     "output_type": "stream",
     "text": [
      "data saved to data/financials/Y.csv\n",
      "1797: Y complete\n"
     ]
    },
    {
     "name": "stderr",
     "output_type": "stream",
     "text": [
      "/home/carbine/miniconda3/envs/fleishco/lib/python3.7/site-packages/calcbench/api_client.py:269: UserWarning: Did not find metrics {'capex', 'secureddebt', 'sgaexpense', 'trustpreferredsecurities', 'currentliabilities', 'researchanddevelopment', 'lineofcreditfacilityamountoutstanding', 'currentlongtermdebt', 'paymentsofdividendspreferredstock', 'acquisitiondivestitures', 'unsecureddebt', 'mortgagedebt', 'ppe', 'stockrepurchasedduringperiodvalue', 'depreciationamortization', 'restrictedcashandinvestmentscurrent', 'paymentsofdividendsnoncontrollinginterest', 'termloan', 'capexgross', 'totalinvestments', 'mediumtermnotes', 'longterminvestments', 'subordinateddebt', 'operatingexpenseexitems', 'sharebasedcompensation', 'stockrepurchasedduringperiodshares', 'restructuring', 'convertibledebt', 'capitalassetsales'}\n",
      "  warnings.warn(\"Did not find metrics {0}\".format(missing_metrics))\n"
     ]
    },
    {
     "name": "stdout",
     "output_type": "stream",
     "text": [
      "data saved to data/financials/TRH.csv\n",
      "1798: TRH complete\n"
     ]
    },
    {
     "name": "stderr",
     "output_type": "stream",
     "text": [
      "/home/carbine/miniconda3/envs/fleishco/lib/python3.7/site-packages/calcbench/api_client.py:269: UserWarning: Did not find metrics {'restrictedcashandinvestmentscurrent', 'paymentsofdividendsnoncontrollinginterest', 'totalinvestments', 'acquisitiondivestitures', 'mediumtermnotes', 'trustpreferredsecurities', 'convertibledebt', 'unsecureddebt', 'longterminvestments', 'mortgagedebt', 'researchanddevelopment', 'availableforsalesecurities', 'subordinateddebt', 'paymentsofdividendspreferredstock', 'restructuring'}\n",
      "  warnings.warn(\"Did not find metrics {0}\".format(missing_metrics))\n"
     ]
    },
    {
     "name": "stdout",
     "output_type": "stream",
     "text": [
      "data saved to data/financials/TRK.csv\n",
      "1801: TRK complete\n"
     ]
    },
    {
     "name": "stderr",
     "output_type": "stream",
     "text": [
      "/home/carbine/miniconda3/envs/fleishco/lib/python3.7/site-packages/calcbench/api_client.py:269: UserWarning: Did not find metrics {'secureddebt', 'trustpreferredsecurities', 'paymentsforrepurchaseofcommonstock', 'paymentsofdividendscommonstock', 'researchanddevelopment', 'availableforsalesecurities', 'lineofcreditfacilityamountoutstanding', 'paymentsofdividendspreferredstock', 'paymentsofdividends', 'seniornotes', 'assetimpairment', 'unsecureddebt', 'mortgagedebt', 'stockrepurchasedduringperiodvalue', 'paymentsofdividendsnoncontrollinginterest', 'termloan', 'totalinvestments', 'mediumtermnotes', 'depreciationandamortizationexpense', 'longterminvestments', 'subordinateddebt', 'stockrepurchasedduringperiodshares', 'commonstockdividendspershare'}\n",
      "  warnings.warn(\"Did not find metrics {0}\".format(missing_metrics))\n"
     ]
    },
    {
     "name": "stdout",
     "output_type": "stream",
     "text": [
      "data saved to data/financials/TRLA.csv\n",
      "1802: TRLA complete\n"
     ]
    },
    {
     "name": "stderr",
     "output_type": "stream",
     "text": [
      "/home/carbine/miniconda3/envs/fleishco/lib/python3.7/site-packages/calcbench/api_client.py:269: UserWarning: Did not find metrics {'incometaxespaid', 'paymentsofdividendsnoncontrollinginterest', 'secureddebt', 'totalinvestments', 'mediumtermnotes', 'convertibledebt', 'trustpreferredsecurities', 'assetimpairment', 'paymentsofdividendscommonstock', 'longterminvestments', 'mortgagedebt', 'interestpaidnet', 'availableforsalesecurities', 'subordinateddebt', 'commonstockdividendspershare', 'paymentsofdividendspreferredstock', 'paymentsofdividends', 'capitalassetsales'}\n",
      "  warnings.warn(\"Did not find metrics {0}\".format(missing_metrics))\n"
     ]
    },
    {
     "name": "stdout",
     "output_type": "stream",
     "text": [
      "data saved to data/financials/TRMB.csv\n",
      "1803: TRMB complete\n"
     ]
    },
    {
     "name": "stderr",
     "output_type": "stream",
     "text": [
      "/home/carbine/miniconda3/envs/fleishco/lib/python3.7/site-packages/calcbench/api_client.py:269: UserWarning: Did not find metrics {'researchanddevelopment', 'lineofcreditfacilityamountoutstanding', 'currentlongtermdebt', 'shortterminvestments', 'seniornotes', 'assetimpairment', 'unsecureddebt', 'mortgagedebt', 'restrictedcashandinvestmentscurrent', 'paymentsofdividendsnoncontrollinginterest', 'termloan', 'totalinvestments', 'mediumtermnotes', 'depreciationandamortizationexpense', 'longterminvestments', 'operatingexpenseexitems', 'sharebasedcompensation', 'restructuring', 'convertibledebt'}\n",
      "  warnings.warn(\"Did not find metrics {0}\".format(missing_metrics))\n"
     ]
    },
    {
     "name": "stdout",
     "output_type": "stream",
     "text": [
      "data saved to data/financials/TRMK.csv\n",
      "1804: TRMK complete\n"
     ]
    },
    {
     "name": "stderr",
     "output_type": "stream",
     "text": [
      "/home/carbine/miniconda3/envs/fleishco/lib/python3.7/site-packages/calcbench/api_client.py:269: UserWarning: Did not find metrics {'incometaxespaid', 'totalinvestments', 'mediumtermnotes', 'trustpreferredsecurities', 'unsecureddebt', 'depreciationandamortizationexpense', 'mortgagedebt', 'longterminvestments', 'researchanddevelopment', 'interestpaidnet', 'restructuring', 'currentlongtermdebt', 'paymentsofdividendspreferredstock'}\n",
      "  warnings.warn(\"Did not find metrics {0}\".format(missing_metrics))\n"
     ]
    },
    {
     "name": "stdout",
     "output_type": "stream",
     "text": [
      "data saved to data/financials/TRN.csv\n",
      "1805: TRN complete\n"
     ]
    },
    {
     "name": "stderr",
     "output_type": "stream",
     "text": [
      "/home/carbine/miniconda3/envs/fleishco/lib/python3.7/site-packages/calcbench/api_client.py:269: UserWarning: Did not find metrics {'incometaxespaid', 'paymentsofdividendsnoncontrollinginterest', 'totalinvestments', 'mediumtermnotes', 'trustpreferredsecurities', 'paymentsofdividendscommonstock', 'unsecureddebt', 'mortgagedebt', 'depreciationandamortizationexpense', 'longterminvestments', 'interestpaidnet', 'subordinateddebt', 'paymentsofdividendspreferredstock', 'convertibledebt', 'shortterminvestments'}\n",
      "  warnings.warn(\"Did not find metrics {0}\".format(missing_metrics))\n"
     ]
    },
    {
     "name": "stdout",
     "output_type": "stream",
     "text": [
      "data saved to data/financials/TROX.csv\n",
      "1806: TROX complete\n"
     ]
    },
    {
     "name": "stderr",
     "output_type": "stream",
     "text": [
      "/home/carbine/miniconda3/envs/fleishco/lib/python3.7/site-packages/calcbench/api_client.py:269: UserWarning: Did not find metrics {'restrictedcashandinvestmentscurrent', 'totalinvestments', 'convertibledebt', 'trustpreferredsecurities', 'paymentsofdividendscommonstock', 'depreciationandamortizationexpense', 'mortgagedebt', 'longterminvestments', 'researchanddevelopment', 'availableforsalesecurities', 'subordinateddebt', 'commonstockdividendspershare', 'paymentsofdividendspreferredstock', 'paymentsofdividends', 'restructuring', 'capitalassetsales', 'shortterminvestments'}\n",
      "  warnings.warn(\"Did not find metrics {0}\".format(missing_metrics))\n"
     ]
    },
    {
     "name": "stdout",
     "output_type": "stream",
     "text": [
      "data saved to data/financials/TRS.csv\n",
      "1807: TRS complete\n"
     ]
    },
    {
     "name": "stderr",
     "output_type": "stream",
     "text": [
      "/home/carbine/miniconda3/envs/fleishco/lib/python3.7/site-packages/calcbench/api_client.py:269: UserWarning: Did not find metrics {'secureddebt', 'trustpreferredsecurities', 'paymentsforrepurchaseofcommonstock', 'paymentsofdividendscommonstock', 'lineofcreditfacilityamountoutstanding', 'currentlongtermdebt', 'paymentsofdividendspreferredstock', 'paymentsofdividends', 'shortterminvestments', 'acquisitiondivestitures', 'assetimpairment', 'unsecureddebt', 'mortgagedebt', 'stockrepurchasedduringperiodvalue', 'restrictedcashandinvestmentscurrent', 'paymentsofdividendsnoncontrollinginterest', 'termloan', 'totalinvestments', 'mediumtermnotes', 'longterminvestments', 'subordinateddebt', 'operatingexpenseexitems', 'stockrepurchasedduringperiodshares', 'restructuring', 'commonstockdividendspershare', 'capitalassetsales'}\n",
      "  warnings.warn(\"Did not find metrics {0}\".format(missing_metrics))\n"
     ]
    },
    {
     "name": "stdout",
     "output_type": "stream",
     "text": [
      "data saved to data/financials/TSRO.csv\n",
      "1810: TSRO complete\n"
     ]
    },
    {
     "name": "stderr",
     "output_type": "stream",
     "text": [
      "/home/carbine/miniconda3/envs/fleishco/lib/python3.7/site-packages/calcbench/api_client.py:269: UserWarning: Did not find metrics {'interestexpense', 'secureddebt', 'totalinvestments', 'mediumtermnotes', 'convertibledebt', 'trustpreferredsecurities', 'assetimpairment', 'depreciationandamortizationexpense', 'mortgagedebt', 'stockrepurchasedduringperiodshares', 'researchanddevelopment', 'availableforsalesecurities', 'subordinateddebt', 'paymentsofdividendspreferredstock', 'restructuring', 'shortterminvestments'}\n",
      "  warnings.warn(\"Did not find metrics {0}\".format(missing_metrics))\n"
     ]
    },
    {
     "name": "stdout",
     "output_type": "stream",
     "text": [
      "data saved to data/financials/TSS.csv\n",
      "1811: TSS complete\n"
     ]
    },
    {
     "name": "stderr",
     "output_type": "stream",
     "text": [
      "/home/carbine/miniconda3/envs/fleishco/lib/python3.7/site-packages/calcbench/api_client.py:269: UserWarning: Did not find metrics {'restrictedcashandinvestmentscurrent', 'paymentsofdividendsnoncontrollinginterest', 'secureddebt', 'totalinvestments', 'mediumtermnotes', 'trustpreferredsecurities', 'paymentsforrepurchaseofcommonstock', 'paymentsofdividendscommonstock', 'unsecureddebt', 'mortgagedebt', 'longterminvestments', 'stockrepurchasedduringperiodshares', 'stockrepurchasedduringperiodvalue', 'subordinateddebt', 'commonstockdividendspershare', 'paymentsofdividendspreferredstock', 'paymentsofdividends', 'restructuring'}\n",
      "  warnings.warn(\"Did not find metrics {0}\".format(missing_metrics))\n"
     ]
    },
    {
     "name": "stdout",
     "output_type": "stream",
     "text": [
      "data saved to data/financials/TSYS.csv\n",
      "1812: TSYS complete\n"
     ]
    },
    {
     "name": "stderr",
     "output_type": "stream",
     "text": [
      "/home/carbine/miniconda3/envs/fleishco/lib/python3.7/site-packages/calcbench/api_client.py:269: UserWarning: Did not find metrics {'incometaxespaid', 'secureddebt', 'trustpreferredsecurities', 'interestpaidnet', 'availableforsalesecurities', 'paymentsofdividendspreferredstock', 'shortterminvestments', 'assetimpairment', 'mortgagedebt', 'stockrepurchasedduringperiodvalue', 'restrictedcashandinvestmentscurrent', 'paymentsofdividendsnoncontrollinginterest', 'totalinvestments', 'mediumtermnotes', 'depreciationandamortizationexpense', 'longterminvestments', 'subordinateddebt', 'operatingexpenseexitems', 'restructuring', 'convertibledebt'}\n",
      "  warnings.warn(\"Did not find metrics {0}\".format(missing_metrics))\n"
     ]
    },
    {
     "name": "stdout",
     "output_type": "stream",
     "text": [
      "data saved to data/financials/TTC.csv\n",
      "1813: TTC complete\n"
     ]
    },
    {
     "name": "stderr",
     "output_type": "stream",
     "text": [
      "/home/carbine/miniconda3/envs/fleishco/lib/python3.7/site-packages/calcbench/api_client.py:269: UserWarning: Did not find metrics {'totalinvestments', 'mediumtermnotes', 'trustpreferredsecurities', 'paymentsforrepurchaseofcommonstock', 'paymentsofdividendscommonstock', 'unsecureddebt', 'mortgagedebt', 'longterminvestments', 'stockrepurchasedduringperiodshares', 'researchanddevelopment', 'stockrepurchasedduringperiodvalue', 'subordinateddebt', 'commonstockdividendspershare', 'paymentsofdividendspreferredstock', 'paymentsofdividends'}\n",
      "  warnings.warn(\"Did not find metrics {0}\".format(missing_metrics))\n"
     ]
    },
    {
     "name": "stdout",
     "output_type": "stream",
     "text": [
      "data saved to data/financials/TTMI.csv\n",
      "1814: TTMI complete\n"
     ]
    },
    {
     "name": "stderr",
     "output_type": "stream",
     "text": [
      "/home/carbine/miniconda3/envs/fleishco/lib/python3.7/site-packages/calcbench/api_client.py:269: UserWarning: Did not find metrics {'incometaxespaid', 'interestexpense', 'secureddebt', 'paymentsofdividendsnoncontrollinginterest', 'termloan', 'totalinvestments', 'mediumtermnotes', 'trustpreferredsecurities', 'assetimpairment', 'paymentsofdividendscommonstock', 'unsecureddebt', 'mortgagedebt', 'longterminvestments', 'availableforsalesecurities', 'subordinateddebt', 'commonstockdividendspershare', 'paymentsofdividendspreferredstock', 'paymentsofdividends'}\n",
      "  warnings.warn(\"Did not find metrics {0}\".format(missing_metrics))\n"
     ]
    },
    {
     "name": "stdout",
     "output_type": "stream",
     "text": [
      "data saved to data/financials/TTWO.csv\n",
      "1815: TTWO complete\n"
     ]
    },
    {
     "name": "stderr",
     "output_type": "stream",
     "text": [
      "/home/carbine/miniconda3/envs/fleishco/lib/python3.7/site-packages/calcbench/api_client.py:269: UserWarning: Did not find metrics {'incometaxespaid', 'secureddebt', 'trustpreferredsecurities', 'researchanddevelopment', 'interestpaidnet', 'availableforsalesecurities', 'paymentsofdividendspreferredstock', 'shortterminvestments', 'seniornotes', 'assetimpairment', 'unsecureddebt', 'mortgagedebt', 'restrictedcashandinvestmentscurrent', 'paymentsofdividendsnoncontrollinginterest', 'termloan', 'totalinvestments', 'mediumtermnotes', 'longterminvestments', 'subordinateddebt', 'restructuring', 'convertibledebt'}\n",
      "  warnings.warn(\"Did not find metrics {0}\".format(missing_metrics))\n"
     ]
    },
    {
     "name": "stdout",
     "output_type": "stream",
     "text": [
      "data saved to data/financials/TUC.csv\n",
      "1816: TUC complete\n"
     ]
    },
    {
     "name": "stderr",
     "output_type": "stream",
     "text": [
      "/home/carbine/miniconda3/envs/fleishco/lib/python3.7/site-packages/calcbench/api_client.py:269: UserWarning: Did not find metrics {'incometaxespaid', 'trustpreferredsecurities', 'paymentsofdividendscommonstock', 'interestpaidnet', 'availableforsalesecurities', 'currentlongtermdebt', 'paymentsofdividendspreferredstock', 'shortterminvestments', 'acquisitiondivestitures', 'unsecureddebt', 'mortgagedebt', 'restrictedcashandinvestmentscurrent', 'paymentsofdividendsnoncontrollinginterest', 'totalinvestments', 'mediumtermnotes', 'depreciationandamortizationexpense', 'longterminvestments', 'subordinateddebt', 'convertibledebt'}\n",
      "  warnings.warn(\"Did not find metrics {0}\".format(missing_metrics))\n"
     ]
    },
    {
     "name": "stdout",
     "output_type": "stream",
     "text": [
      "data saved to data/financials/TUP.csv\n",
      "1817: TUP complete\n"
     ]
    },
    {
     "name": "stderr",
     "output_type": "stream",
     "text": [
      "/home/carbine/miniconda3/envs/fleishco/lib/python3.7/site-packages/calcbench/api_client.py:269: UserWarning: Did not find metrics {'incometaxespaid', 'secureddebt', 'sgaexpense', 'trustpreferredsecurities', 'currentliabilities', 'researchanddevelopment', 'currentlongtermdebt', 'paymentsofdividendspreferredstock', 'unsecureddebt', 'mortgagedebt', 'restrictedcashandinvestmentscurrent', 'paymentsofdividendsnoncontrollinginterest', 'termloan', 'totalinvestments', 'mediumtermnotes', 'depreciationandamortizationexpense', 'sharebasedcompensation', 'restructuring', 'capitalassetsales'}\n",
      "  warnings.warn(\"Did not find metrics {0}\".format(missing_metrics))\n"
     ]
    },
    {
     "name": "stdout",
     "output_type": "stream",
     "text": [
      "data saved to data/financials/TWGP.csv\n",
      "1819: TWGP complete\n"
     ]
    },
    {
     "name": "stderr",
     "output_type": "stream",
     "text": [
      "/home/carbine/miniconda3/envs/fleishco/lib/python3.7/site-packages/calcbench/api_client.py:269: UserWarning: Did not find metrics {'capex', 'secureddebt', 'sgaexpense', 'trustpreferredsecurities', 'researchanddevelopment', 'shortterminvestments', 'seniornotes', 'assetimpairment', 'unsecureddebt', 'mortgagedebt', 'ppe', 'paymentsofdividendsnoncontrollinginterest', 'termloan', 'capexgross', 'totalinvestments', 'mediumtermnotes', 'depreciationandamortizationexpense', 'longterminvestments', 'subordinateddebt', 'capitalassetsales'}\n",
      "  warnings.warn(\"Did not find metrics {0}\".format(missing_metrics))\n"
     ]
    },
    {
     "name": "stdout",
     "output_type": "stream",
     "text": [
      "data saved to data/financials/TWO.csv\n",
      "1822: TWO complete\n"
     ]
    },
    {
     "name": "stderr",
     "output_type": "stream",
     "text": [
      "/home/carbine/miniconda3/envs/fleishco/lib/python3.7/site-packages/calcbench/api_client.py:269: UserWarning: Did not find metrics {'secureddebt', 'trustpreferredsecurities', 'paymentsofdividendscommonstock', 'researchanddevelopment', 'availableforsalesecurities', 'lineofcreditfacilityamountoutstanding', 'paymentsofdividendspreferredstock', 'paymentsofdividends', 'acquisitiondivestitures', 'assetimpairment', 'mortgagedebt', 'restrictedcashandinvestmentscurrent', 'paymentsofdividendsnoncontrollinginterest', 'totalinvestments', 'mediumtermnotes', 'subordinateddebt', 'operatingexpenseexitems', 'restructuring', 'commonstockdividendspershare', 'capitalassetsales'}\n",
      "  warnings.warn(\"Did not find metrics {0}\".format(missing_metrics))\n"
     ]
    },
    {
     "name": "stdout",
     "output_type": "stream",
     "text": [
      "data saved to data/financials/TWTC.csv\n",
      "1823: TWTC complete\n"
     ]
    },
    {
     "name": "stderr",
     "output_type": "stream",
     "text": [
      "/home/carbine/miniconda3/envs/fleishco/lib/python3.7/site-packages/calcbench/api_client.py:269: UserWarning: Did not find metrics {'incometaxespaid', 'secureddebt', 'trustpreferredsecurities', 'paymentsforrepurchaseofcommonstock', 'paymentsofdividendscommonstock', 'interestpaidnet', 'paymentsofdividendspreferredstock', 'paymentsofdividends', 'assetimpairment', 'unsecureddebt', 'mortgagedebt', 'stockrepurchasedduringperiodvalue', 'restrictedcashandinvestmentscurrent', 'paymentsofdividendsnoncontrollinginterest', 'termloan', 'totalinvestments', 'mediumtermnotes', 'depreciationandamortizationexpense', 'longterminvestments', 'subordinateddebt', 'operatingexpenseexitems', 'stockrepurchasedduringperiodshares', 'restructuring', 'commonstockdividendspershare'}\n",
      "  warnings.warn(\"Did not find metrics {0}\".format(missing_metrics))\n"
     ]
    },
    {
     "name": "stdout",
     "output_type": "stream",
     "text": [
      "data saved to data/financials/TWTR.csv\n",
      "1824: TWTR complete\n"
     ]
    },
    {
     "name": "stderr",
     "output_type": "stream",
     "text": [
      "/home/carbine/miniconda3/envs/fleishco/lib/python3.7/site-packages/calcbench/api_client.py:269: UserWarning: Did not find metrics {'secureddebt', 'trustpreferredsecurities', 'paymentsforrepurchaseofcommonstock', 'researchanddevelopment', 'paymentsofdividendspreferredstock', 'shortterminvestments', 'acquisitiondivestitures', 'assetimpairment', 'unsecureddebt', 'mortgagedebt', 'stockrepurchasedduringperiodvalue', 'restrictedcashandinvestmentscurrent', 'paymentsofdividendsnoncontrollinginterest', 'termloan', 'totalinvestments', 'mediumtermnotes', 'depreciationandamortizationexpense', 'longterminvestments', 'subordinateddebt', 'stockrepurchasedduringperiodshares', 'convertibledebt'}\n",
      "  warnings.warn(\"Did not find metrics {0}\".format(missing_metrics))\n"
     ]
    },
    {
     "name": "stdout",
     "output_type": "stream",
     "text": [
      "data saved to data/financials/TXI.csv\n",
      "1826: TXI complete\n"
     ]
    },
    {
     "name": "stderr",
     "output_type": "stream",
     "text": [
      "/home/carbine/miniconda3/envs/fleishco/lib/python3.7/site-packages/calcbench/api_client.py:269: UserWarning: Did not find metrics {'incometaxespaid', 'secureddebt', 'trustpreferredsecurities', 'paymentsofdividendscommonstock', 'interestpaidnet', 'currentlongtermdebt', 'paymentsofdividendspreferredstock', 'shortterminvestments', 'assetimpairment', 'unsecureddebt', 'mortgagedebt', 'restrictedcashandinvestmentscurrent', 'paymentsofdividendsnoncontrollinginterest', 'termloan', 'totalinvestments', 'depreciationandamortizationexpense', 'longterminvestments', 'subordinateddebt', 'sharebasedcompensation', 'capitalassetsales'}\n",
      "  warnings.warn(\"Did not find metrics {0}\".format(missing_metrics))\n"
     ]
    },
    {
     "name": "stdout",
     "output_type": "stream",
     "text": [
      "data saved to data/financials/TXT.csv\n",
      "1827: TXT complete\n"
     ]
    },
    {
     "name": "stderr",
     "output_type": "stream",
     "text": [
      "/home/carbine/miniconda3/envs/fleishco/lib/python3.7/site-packages/calcbench/api_client.py:269: UserWarning: Did not find metrics {'incometaxespaid', 'capex', 'secureddebt', 'trustpreferredsecurities', 'paymentsforrepurchaseofcommonstock', 'paymentsofdividendscommonstock', 'sharesoutstandingendofperiod', 'avgdilutedsharesoutstanding', 'researchanddevelopment', 'interestpaidnet', 'lineofcreditfacilityamountoutstanding', 'currentlongtermdebt', 'paymentsofdividendspreferredstock', 'paymentsofdividends', 'seniornotes', 'acquisitiondivestitures', 'assetimpairment', 'financingcashflow', 'unsecureddebt', 'mortgagedebt', 'ppe', 'operatingcashflow', 'stockrepurchasedduringperiodvalue', 'depreciationamortization', 'restrictedcashandinvestmentscurrent', 'investingcashflow', 'paymentsofdividendsnoncontrollinginterest', 'termloan', 'capexgross', 'totalinvestments', 'mediumtermnotes', 'subordinateddebt', 'avgsharesoutstandingbasic', 'sharebasedcompensation', 'stockrepurchasedduringperiodshares', 'incometaxes', 'restructuring', 'commonstockdividendspershare', 'convertibledebt', 'capitalassetsales'}\n",
      "  warnings.warn(\"Did not find metrics {0}\".format(missing_metrics))\n"
     ]
    },
    {
     "name": "stdout",
     "output_type": "stream",
     "text": [
      "data saved to data/financials/UBS.csv\n",
      "1829: UBS complete\n"
     ]
    },
    {
     "name": "stderr",
     "output_type": "stream",
     "text": [
      "/home/carbine/miniconda3/envs/fleishco/lib/python3.7/site-packages/calcbench/api_client.py:269: UserWarning: Did not find metrics {'restrictedcashandinvestmentscurrent', 'paymentsofdividendsnoncontrollinginterest', 'termloan', 'totalinvestments', 'mediumtermnotes', 'trustpreferredsecurities', 'unsecureddebt', 'longterminvestments', 'researchanddevelopment', 'restructuring', 'lineofcreditfacilityamountoutstanding', 'currentlongtermdebt', 'convertibledebt', 'shortterminvestments'}\n",
      "  warnings.warn(\"Did not find metrics {0}\".format(missing_metrics))\n"
     ]
    },
    {
     "name": "stdout",
     "output_type": "stream",
     "text": [
      "data saved to data/financials/UCBI.csv\n",
      "1831: UCBI complete\n"
     ]
    },
    {
     "name": "stderr",
     "output_type": "stream",
     "text": [
      "/home/carbine/miniconda3/envs/fleishco/lib/python3.7/site-packages/calcbench/api_client.py:269: UserWarning: Did not find metrics {'totalinvestments', 'trustpreferredsecurities', 'assetimpairment', 'stockrepurchasedduringperiodshares', 'researchanddevelopment', 'subordinateddebt', 'currentlongtermdebt', 'capitalassetsales', 'shortterminvestments'}\n",
      "  warnings.warn(\"Did not find metrics {0}\".format(missing_metrics))\n"
     ]
    },
    {
     "name": "stdout",
     "output_type": "stream",
     "text": [
      "data saved to data/financials/UDR.csv\n",
      "1832: UDR complete\n"
     ]
    },
    {
     "name": "stderr",
     "output_type": "stream",
     "text": [
      "/home/carbine/miniconda3/envs/fleishco/lib/python3.7/site-packages/calcbench/api_client.py:269: UserWarning: Did not find metrics {'incometaxespaid', 'secureddebt', 'totalinvestments', 'mediumtermnotes', 'convertibledebt', 'trustpreferredsecurities', 'unsecureddebt', 'longterminvestments', 'mortgagedebt', 'stockrepurchasedduringperiodshares', 'researchanddevelopment', 'interestpaidnet', 'availableforsalesecurities', 'subordinateddebt', 'paymentsofdividendspreferredstock', 'restructuring', 'capitalassetsales', 'shortterminvestments'}\n",
      "  warnings.warn(\"Did not find metrics {0}\".format(missing_metrics))\n"
     ]
    },
    {
     "name": "stdout",
     "output_type": "stream",
     "text": [
      "data saved to data/financials/UGI.csv\n",
      "1833: UGI complete\n"
     ]
    },
    {
     "name": "stderr",
     "output_type": "stream",
     "text": [
      "/home/carbine/miniconda3/envs/fleishco/lib/python3.7/site-packages/calcbench/api_client.py:269: UserWarning: Did not find metrics {'totalinvestments', 'mediumtermnotes', 'convertibledebt', 'trustpreferredsecurities', 'assetimpairment', 'paymentsofdividendscommonstock', 'longterminvestments', 'mortgagedebt', 'stockrepurchasedduringperiodshares', 'researchanddevelopment', 'subordinateddebt', 'paymentsofdividendspreferredstock', 'restructuring', 'shortterminvestments'}\n",
      "  warnings.warn(\"Did not find metrics {0}\".format(missing_metrics))\n"
     ]
    },
    {
     "name": "stdout",
     "output_type": "stream",
     "text": [
      "data saved to data/financials/UHS.csv\n",
      "1835: UHS complete\n"
     ]
    },
    {
     "name": "stderr",
     "output_type": "stream",
     "text": [
      "/home/carbine/miniconda3/envs/fleishco/lib/python3.7/site-packages/calcbench/api_client.py:269: UserWarning: Did not find metrics {'secureddebt', 'trustpreferredsecurities', 'paymentsofdividendscommonstock', 'researchanddevelopment', 'lineofcreditfacilityamountoutstanding', 'currentlongtermdebt', 'paymentsofdividendspreferredstock', 'unsecureddebt', 'mortgagedebt', 'stockrepurchasedduringperiodvalue', 'paymentsofdividendsnoncontrollinginterest', 'termloan', 'totalinvestments', 'mediumtermnotes', 'subordinateddebt', 'restructuring', 'operatingexpenseexitems', 'stockrepurchasedduringperiodshares', 'convertibledebt', 'capitalassetsales'}\n",
      "  warnings.warn(\"Did not find metrics {0}\".format(missing_metrics))\n"
     ]
    },
    {
     "name": "stdout",
     "output_type": "stream",
     "text": [
      "data saved to data/financials/UIHC.csv\n",
      "1836: UIHC complete\n"
     ]
    },
    {
     "name": "stderr",
     "output_type": "stream",
     "text": [
      "/home/carbine/miniconda3/envs/fleishco/lib/python3.7/site-packages/calcbench/api_client.py:269: UserWarning: Did not find metrics {'incometaxespaid', 'secureddebt', 'trustpreferredsecurities', 'paymentsforrepurchaseofcommonstock', 'researchanddevelopment', 'interestpaidnet', 'availableforsalesecurities', 'paymentsofdividendspreferredstock', 'shortterminvestments', 'assetimpairment', 'mortgagedebt', 'stockrepurchasedduringperiodvalue', 'paymentsofdividendsnoncontrollinginterest', 'termloan', 'totalinvestments', 'mediumtermnotes', 'subordinateddebt', 'sharebasedcompensation', 'stockrepurchasedduringperiodshares', 'restructuring', 'convertibledebt'}\n",
      "  warnings.warn(\"Did not find metrics {0}\".format(missing_metrics))\n"
     ]
    },
    {
     "name": "stdout",
     "output_type": "stream",
     "text": [
      "data saved to data/financials/UIL.csv\n",
      "1837: UIL complete\n"
     ]
    },
    {
     "name": "stderr",
     "output_type": "stream",
     "text": [
      "/home/carbine/miniconda3/envs/fleishco/lib/python3.7/site-packages/calcbench/api_client.py:269: UserWarning: Did not find metrics {'operatingexpenseexitems', 'restrictedcashandinvestmentscurrent', 'termloan', 'totalinvestments', 'acquisitiondivestitures', 'mediumtermnotes', 'trustpreferredsecurities', 'assetimpairment', 'paymentsofdividendscommonstock', 'unsecureddebt', 'mortgagedebt', 'depreciationandamortizationexpense', 'longterminvestments', 'availableforsalesecurities', 'subordinateddebt', 'commonstockdividendspershare', 'restructuring', 'shortterminvestments'}\n",
      "  warnings.warn(\"Did not find metrics {0}\".format(missing_metrics))\n"
     ]
    },
    {
     "name": "stdout",
     "output_type": "stream",
     "text": [
      "data saved to data/financials/UIS.csv\n",
      "1838: UIS complete\n"
     ]
    },
    {
     "name": "stderr",
     "output_type": "stream",
     "text": [
      "/home/carbine/miniconda3/envs/fleishco/lib/python3.7/site-packages/calcbench/api_client.py:269: UserWarning: Did not find metrics {'incometaxespaid', 'operatingexpenseexitems', 'restrictedcashandinvestmentscurrent', 'paymentsofdividendsnoncontrollinginterest', 'secureddebt', 'totalinvestments', 'mediumtermnotes', 'convertibledebt', 'trustpreferredsecurities', 'assetimpairment', 'mortgagedebt', 'researchanddevelopment', 'interestpaidnet', 'availableforsalesecurities', 'subordinateddebt', 'paymentsofdividendspreferredstock', 'restructuring'}\n",
      "  warnings.warn(\"Did not find metrics {0}\".format(missing_metrics))\n"
     ]
    },
    {
     "name": "stdout",
     "output_type": "stream",
     "text": [
      "data saved to data/financials/UNH.csv\n",
      "1840: UNH complete\n"
     ]
    },
    {
     "name": "stderr",
     "output_type": "stream",
     "text": [
      "/home/carbine/miniconda3/envs/fleishco/lib/python3.7/site-packages/calcbench/api_client.py:269: UserWarning: Did not find metrics {'incometaxespaid', 'secureddebt', 'trustpreferredsecurities', 'paymentsofdividendscommonstock', 'researchanddevelopment', 'interestpaidnet', 'currentlongtermdebt', 'paymentsofdividendspreferredstock', 'mortgagedebt', 'restrictedcashandinvestmentscurrent', 'paymentsofdividendsnoncontrollinginterest', 'termloan', 'totalinvestments', 'mediumtermnotes', 'subordinateddebt', 'restructuring', 'sharebasedcompensation', 'convertibledebt', 'capitalassetsales'}\n",
      "  warnings.warn(\"Did not find metrics {0}\".format(missing_metrics))\n"
     ]
    },
    {
     "name": "stdout",
     "output_type": "stream",
     "text": [
      "data saved to data/financials/UNM.csv\n",
      "1841: UNM complete\n"
     ]
    },
    {
     "name": "stderr",
     "output_type": "stream",
     "text": [
      "/home/carbine/miniconda3/envs/fleishco/lib/python3.7/site-packages/calcbench/api_client.py:269: UserWarning: Did not find metrics {'secureddebt', 'trustpreferredsecurities', 'researchanddevelopment', 'availableforsalesecurities', 'paymentsofdividendspreferredstock', 'seniornotes', 'acquisitiondivestitures', 'assetimpairment', 'mortgagedebt', 'restrictedcashandinvestmentscurrent', 'paymentsofdividendsnoncontrollinginterest', 'termloan', 'totalinvestments', 'mediumtermnotes', 'subordinateddebt', 'restructuring', 'operatingexpenseexitems', 'sharebasedcompensation', 'convertibledebt'}\n",
      "  warnings.warn(\"Did not find metrics {0}\".format(missing_metrics))\n"
     ]
    },
    {
     "name": "stdout",
     "output_type": "stream",
     "text": [
      "data saved to data/financials/UNP.csv\n",
      "1842: UNP complete\n"
     ]
    },
    {
     "name": "stderr",
     "output_type": "stream",
     "text": [
      "/home/carbine/miniconda3/envs/fleishco/lib/python3.7/site-packages/calcbench/api_client.py:269: UserWarning: Did not find metrics {'secureddebt', 'trustpreferredsecurities', 'paymentsforrepurchaseofcommonstock', 'paymentsofdividendscommonstock', 'researchanddevelopment', 'currentlongtermdebt', 'paymentsofdividendspreferredstock', 'paymentsofdividends', 'shortterminvestments', 'unsecureddebt', 'mortgagedebt', 'stockrepurchasedduringperiodvalue', 'paymentsofdividendsnoncontrollinginterest', 'termloan', 'totalinvestments', 'mediumtermnotes', 'longterminvestments', 'stockrepurchasedduringperiodshares', 'restructuring', 'commonstockdividendspershare', 'convertibledebt'}\n",
      "  warnings.warn(\"Did not find metrics {0}\".format(missing_metrics))\n"
     ]
    },
    {
     "name": "stdout",
     "output_type": "stream",
     "text": [
      "data saved to data/financials/UNT.csv\n",
      "1843: UNT complete\n"
     ]
    },
    {
     "name": "stderr",
     "output_type": "stream",
     "text": [
      "/home/carbine/miniconda3/envs/fleishco/lib/python3.7/site-packages/calcbench/api_client.py:269: UserWarning: Did not find metrics {'incometaxespaid', 'trustpreferredsecurities', 'paymentsofdividendscommonstock', 'researchanddevelopment', 'interestpaidnet', 'lineofcreditfacilityamountoutstanding', 'currentlongtermdebt', 'paymentsofdividendspreferredstock', 'assetimpairment', 'unsecureddebt', 'mortgagedebt', 'restrictedcashandinvestmentscurrent', 'paymentsofdividendsnoncontrollinginterest', 'termloan', 'totalinvestments', 'mediumtermnotes', 'longterminvestments', 'subordinateddebt', 'operatingexpenseexitems', 'restructuring', 'convertibledebt'}\n",
      "  warnings.warn(\"Did not find metrics {0}\".format(missing_metrics))\n"
     ]
    },
    {
     "name": "stdout",
     "output_type": "stream",
     "text": [
      "data saved to data/financials/UPS.csv\n",
      "1844: UPS complete\n"
     ]
    },
    {
     "name": "stderr",
     "output_type": "stream",
     "text": [
      "/home/carbine/miniconda3/envs/fleishco/lib/python3.7/site-packages/calcbench/api_client.py:269: UserWarning: Did not find metrics {'restrictedcashandinvestmentscurrent', 'paymentsofdividendsnoncontrollinginterest', 'totalinvestments', 'mediumtermnotes', 'trustpreferredsecurities', 'assetimpairment', 'paymentsofdividendscommonstock', 'unsecureddebt', 'mortgagedebt', 'longterminvestments', 'researchanddevelopment', 'availableforsalesecurities', 'commonstockdividendspershare', 'currentlongtermdebt', 'paymentsofdividendspreferredstock', 'paymentsofdividends', 'shortterminvestments'}\n",
      "  warnings.warn(\"Did not find metrics {0}\".format(missing_metrics))\n"
     ]
    },
    {
     "name": "stdout",
     "output_type": "stream",
     "text": [
      "data saved to data/financials/URI.csv\n",
      "1845: URI complete\n"
     ]
    },
    {
     "name": "stderr",
     "output_type": "stream",
     "text": [
      "/home/carbine/miniconda3/envs/fleishco/lib/python3.7/site-packages/calcbench/api_client.py:269: UserWarning: Did not find metrics {'restrictedcashandinvestmentscurrent', 'secureddebt', 'totalinvestments', 'mediumtermnotes', 'trustpreferredsecurities', 'unsecureddebt', 'depreciationandamortizationexpense', 'mortgagedebt', 'researchanddevelopment', 'availableforsalesecurities', 'subordinateddebt', 'paymentsofdividendspreferredstock', 'convertibledebt'}\n",
      "  warnings.warn(\"Did not find metrics {0}\".format(missing_metrics))\n"
     ]
    },
    {
     "name": "stdout",
     "output_type": "stream",
     "text": [
      "data saved to data/financials/URS.csv\n",
      "1846: URS complete\n"
     ]
    },
    {
     "name": "stderr",
     "output_type": "stream",
     "text": [
      "/home/carbine/miniconda3/envs/fleishco/lib/python3.7/site-packages/calcbench/api_client.py:269: UserWarning: Did not find metrics {'trustpreferredsecurities', 'paymentsforrepurchaseofcommonstock', 'paymentsofdividendscommonstock', 'researchanddevelopment', 'availableforsalesecurities', 'currentlongtermdebt', 'paymentsofdividendspreferredstock', 'shortterminvestments', 'unsecureddebt', 'mortgagedebt', 'stockrepurchasedduringperiodvalue', 'restrictedcashandinvestmentscurrent', 'paymentsofdividendsnoncontrollinginterest', 'termloan', 'totalinvestments', 'mediumtermnotes', 'longterminvestments', 'subordinateddebt', 'stockrepurchasedduringperiodshares', 'restructuring', 'commonstockdividendspershare', 'convertibledebt'}\n",
      "  warnings.warn(\"Did not find metrics {0}\".format(missing_metrics))\n"
     ]
    },
    {
     "name": "stdout",
     "output_type": "stream",
     "text": [
      "data saved to data/financials/USAC.csv\n",
      "1847: USAC complete\n"
     ]
    },
    {
     "name": "stderr",
     "output_type": "stream",
     "text": [
      "/home/carbine/miniconda3/envs/fleishco/lib/python3.7/site-packages/calcbench/api_client.py:269: UserWarning: Did not find metrics {'paymentsofdividendsnoncontrollinginterest', 'termloan', 'totalinvestments', 'mediumtermnotes', 'trustpreferredsecurities', 'paymentsofdividendscommonstock', 'longterminvestments', 'mortgagedebt', 'researchanddevelopment', 'subordinateddebt', 'commonstockdividendspershare', 'paymentsofdividendspreferredstock', 'paymentsofdividends', 'restructuring', 'shortterminvestments'}\n",
      "  warnings.warn(\"Did not find metrics {0}\".format(missing_metrics))\n"
     ]
    },
    {
     "name": "stdout",
     "output_type": "stream",
     "text": [
      "data saved to data/financials/USCR.csv\n",
      "1849: USCR complete\n"
     ]
    },
    {
     "name": "stderr",
     "output_type": "stream",
     "text": [
      "/home/carbine/miniconda3/envs/fleishco/lib/python3.7/site-packages/calcbench/api_client.py:269: UserWarning: Did not find metrics {'paymentsofdividendsnoncontrollinginterest', 'secureddebt', 'termloan', 'totalinvestments', 'mediumtermnotes', 'trustpreferredsecurities', 'unsecureddebt', 'paymentsofdividendscommonstock', 'mortgagedebt', 'depreciationandamortizationexpense', 'subordinateddebt', 'paymentsofdividendspreferredstock'}\n",
      "  warnings.warn(\"Did not find metrics {0}\".format(missing_metrics))\n"
     ]
    },
    {
     "name": "stdout",
     "output_type": "stream",
     "text": [
      "data saved to data/financials/USG.csv\n",
      "1850: USG complete\n"
     ]
    },
    {
     "name": "stderr",
     "output_type": "stream",
     "text": [
      "/home/carbine/miniconda3/envs/fleishco/lib/python3.7/site-packages/calcbench/api_client.py:269: UserWarning: Did not find metrics {'operatingexpenseexitems', 'restrictedcashandinvestmentscurrent', 'paymentsofdividendsnoncontrollinginterest', 'secureddebt', 'termloan', 'totalinvestments', 'mediumtermnotes', 'trustpreferredsecurities', 'paymentsofdividendscommonstock', 'unsecureddebt', 'mortgagedebt', 'depreciationandamortizationexpense', 'subordinateddebt', 'commonstockdividendspershare', 'paymentsofdividendspreferredstock', 'paymentsofdividends', 'restructuring'}\n",
      "  warnings.warn(\"Did not find metrics {0}\".format(missing_metrics))\n"
     ]
    },
    {
     "name": "stdout",
     "output_type": "stream",
     "text": [
      "data saved to data/financials/UTHR.csv\n",
      "1851: UTHR complete\n"
     ]
    },
    {
     "name": "stderr",
     "output_type": "stream",
     "text": [
      "/home/carbine/miniconda3/envs/fleishco/lib/python3.7/site-packages/calcbench/api_client.py:269: UserWarning: Did not find metrics {'operatingexpenseexitems', 'paymentsofdividendsnoncontrollinginterest', 'secureddebt', 'termloan', 'totalinvestments', 'mediumtermnotes', 'convertibledebt', 'trustpreferredsecurities', 'assetimpairment', 'paymentsofdividendscommonstock', 'unsecureddebt', 'mortgagedebt', 'researchanddevelopment', 'subordinateddebt', 'lineofcreditfacilityamountoutstanding', 'paymentsofdividendspreferredstock', 'restructuring'}\n",
      "  warnings.warn(\"Did not find metrics {0}\".format(missing_metrics))\n"
     ]
    },
    {
     "name": "stdout",
     "output_type": "stream",
     "text": [
      "data saved to data/financials/V.csv\n",
      "1853: V complete\n"
     ]
    },
    {
     "name": "stderr",
     "output_type": "stream",
     "text": [
      "/home/carbine/miniconda3/envs/fleishco/lib/python3.7/site-packages/calcbench/api_client.py:269: UserWarning: Did not find metrics {'incometaxespaid', 'secureddebt', 'trustpreferredsecurities', 'paymentsforrepurchaseofcommonstock', 'paymentsofdividendscommonstock', 'avgdilutedsharesoutstanding', 'interestpaidnet', 'availableforsalesecurities', 'lineofcreditfacilityamountoutstanding', 'currentlongtermdebt', 'paymentsofdividendspreferredstock', 'paymentsofdividends', 'shortterminvestments', 'seniornotes', 'acquisitiondivestitures', 'assetimpairment', 'unsecureddebt', 'mortgagedebt', 'stockrepurchasedduringperiodvalue', 'depreciationamortization', 'restrictedcashandinvestmentscurrent', 'paymentsofdividendsnoncontrollinginterest', 'termloan', 'totalinvestments', 'mediumtermnotes', 'depreciationandamortizationexpense', 'longterminvestments', 'subordinateddebt', 'avgsharesoutstandingbasic', 'operatingexpenseexitems', 'sharebasedcompensation', 'longtermdebt', 'totaldebt', 'stockrepurchasedduringperiodshares', 'incometaxes', 'restructuring', 'commonstockdividendspershare', 'convertibledebt', 'capitalassetsales'}\n",
      "  warnings.warn(\"Did not find metrics {0}\".format(missing_metrics))\n"
     ]
    },
    {
     "name": "stdout",
     "output_type": "stream",
     "text": [
      "data saved to data/financials/VBLT.csv\n",
      "1854: VBLT complete\n"
     ]
    },
    {
     "name": "stderr",
     "output_type": "stream",
     "text": [
      "/home/carbine/miniconda3/envs/fleishco/lib/python3.7/site-packages/calcbench/api_client.py:269: UserWarning: Did not find metrics {'restrictedcashandinvestmentscurrent', 'paymentsofdividendsnoncontrollinginterest', 'totalinvestments', 'mediumtermnotes', 'trustpreferredsecurities', 'unsecureddebt', 'longterminvestments', 'mortgagedebt', 'researchanddevelopment', 'availableforsalesecurities', 'subordinateddebt', 'stockrepurchasedduringperiodvalue', 'paymentsofdividendspreferredstock', 'restructuring', 'shortterminvestments'}\n",
      "  warnings.warn(\"Did not find metrics {0}\".format(missing_metrics))\n"
     ]
    },
    {
     "name": "stdout",
     "output_type": "stream",
     "text": [
      "data saved to data/financials/VCI.csv\n",
      "1855: VCI complete\n"
     ]
    },
    {
     "name": "stderr",
     "output_type": "stream",
     "text": [
      "/home/carbine/miniconda3/envs/fleishco/lib/python3.7/site-packages/calcbench/api_client.py:269: UserWarning: Did not find metrics {'commonstockdividendspershare', 'paymentsofdividendsnoncontrollinginterest', 'secureddebt', 'termloan', 'totalinvestments', 'mediumtermnotes', 'trustpreferredsecurities', 'paymentsofdividendscommonstock', 'unsecureddebt', 'longterminvestments', 'subordinateddebt', 'lineofcreditfacilityamountoutstanding', 'paymentsofdividendspreferredstock', 'paymentsofdividends'}\n",
      "  warnings.warn(\"Did not find metrics {0}\".format(missing_metrics))\n"
     ]
    },
    {
     "name": "stdout",
     "output_type": "stream",
     "text": [
      "data saved to data/financials/VECO.csv\n",
      "1856: VECO complete\n"
     ]
    },
    {
     "name": "stderr",
     "output_type": "stream",
     "text": [
      "/home/carbine/miniconda3/envs/fleishco/lib/python3.7/site-packages/calcbench/api_client.py:269: UserWarning: Did not find metrics {'incometaxespaid', 'secureddebt', 'trustpreferredsecurities', 'researchanddevelopment', 'interestpaidnet', 'paymentsofdividendspreferredstock', 'shortterminvestments', 'seniornotes', 'unsecureddebt', 'mortgagedebt', 'restrictedcashandinvestmentscurrent', 'paymentsofdividendsnoncontrollinginterest', 'termloan', 'totalinvestments', 'mediumtermnotes', 'depreciationandamortizationexpense', 'subordinateddebt', 'restructuring', 'convertibledebt', 'capitalassetsales'}\n",
      "  warnings.warn(\"Did not find metrics {0}\".format(missing_metrics))\n"
     ]
    },
    {
     "name": "stdout",
     "output_type": "stream",
     "text": [
      "data saved to data/financials/VFC.csv\n",
      "1858: VFC complete\n"
     ]
    },
    {
     "name": "stderr",
     "output_type": "stream",
     "text": [
      "/home/carbine/miniconda3/envs/fleishco/lib/python3.7/site-packages/calcbench/api_client.py:269: UserWarning: Did not find metrics {'termloan', 'totalinvestments', 'stockrepurchasedduringperiodvalue', 'mediumtermnotes', 'trustpreferredsecurities', 'paymentsforrepurchaseofcommonstock', 'paymentsofdividendscommonstock', 'assetimpairment', 'unsecureddebt', 'mortgagedebt', 'longterminvestments', 'stockrepurchasedduringperiodshares', 'availableforsalesecurities', 'commonstockdividendspershare', 'paymentsofdividendspreferredstock', 'shortterminvestments'}\n",
      "  warnings.warn(\"Did not find metrics {0}\".format(missing_metrics))\n"
     ]
    },
    {
     "name": "stdout",
     "output_type": "stream",
     "text": [
      "data saved to data/financials/VIAS.csv\n",
      "1860: VIAS complete\n"
     ]
    },
    {
     "name": "stderr",
     "output_type": "stream",
     "text": [
      "/home/carbine/miniconda3/envs/fleishco/lib/python3.7/site-packages/calcbench/api_client.py:269: UserWarning: Did not find metrics {'secureddebt', 'trustpreferredsecurities', 'paymentsforrepurchaseofcommonstock', 'paymentsofdividendscommonstock', 'researchanddevelopment', 'availableforsalesecurities', 'paymentsofdividendspreferredstock', 'shortterminvestments', 'acquisitiondivestitures', 'assetimpairment', 'unsecureddebt', 'mortgagedebt', 'stockrepurchasedduringperiodvalue', 'restrictedcashandinvestmentscurrent', 'paymentsofdividendsnoncontrollinginterest', 'termloan', 'totalinvestments', 'mediumtermnotes', 'longterminvestments', 'operatingexpenseexitems', 'sharebasedcompensation', 'stockrepurchasedduringperiodshares', 'restructuring', 'commonstockdividendspershare', 'convertibledebt'}\n",
      "  warnings.warn(\"Did not find metrics {0}\".format(missing_metrics))\n"
     ]
    },
    {
     "name": "stdout",
     "output_type": "stream",
     "text": [
      "data saved to data/financials/VLP.csv\n",
      "1862: VLP complete\n"
     ]
    },
    {
     "name": "stderr",
     "output_type": "stream",
     "text": [
      "/home/carbine/miniconda3/envs/fleishco/lib/python3.7/site-packages/calcbench/api_client.py:269: UserWarning: Did not find metrics {'paymentsofdividendsnoncontrollinginterest', 'seniornotes', 'totalinvestments', 'trustpreferredsecurities', 'longterminvestments', 'mortgagedebt', 'subordinateddebt', 'paymentsofdividendspreferredstock', 'convertibledebt'}\n",
      "  warnings.warn(\"Did not find metrics {0}\".format(missing_metrics))\n"
     ]
    },
    {
     "name": "stdout",
     "output_type": "stream",
     "text": [
      "data saved to data/financials/VMC.csv\n",
      "1864: VMC complete\n"
     ]
    },
    {
     "name": "stderr",
     "output_type": "stream",
     "text": [
      "/home/carbine/miniconda3/envs/fleishco/lib/python3.7/site-packages/calcbench/api_client.py:269: UserWarning: Did not find metrics {'paymentsofdividendsnoncontrollinginterest', 'termloan', 'totalinvestments', 'acquisitiondivestitures', 'mediumtermnotes', 'trustpreferredsecurities', 'assetimpairment', 'paymentsofdividendscommonstock', 'depreciationandamortizationexpense', 'mortgagedebt', 'longterminvestments', 'stockrepurchasedduringperiodshares', 'stockrepurchasedduringperiodvalue', 'subordinateddebt', 'commonstockdividendspershare', 'paymentsofdividendspreferredstock', 'paymentsofdividends', 'capitalassetsales'}\n",
      "  warnings.warn(\"Did not find metrics {0}\".format(missing_metrics))\n"
     ]
    },
    {
     "name": "stdout",
     "output_type": "stream",
     "text": [
      "data saved to data/financials/VMEM.csv\n",
      "1865: VMEM complete\n"
     ]
    },
    {
     "name": "stderr",
     "output_type": "stream",
     "text": [
      "/home/carbine/miniconda3/envs/fleishco/lib/python3.7/site-packages/calcbench/api_client.py:269: UserWarning: Did not find metrics {'totalinvestments', 'mediumtermnotes', 'trustpreferredsecurities', 'paymentsforrepurchaseofcommonstock', 'assetimpairment', 'stockrepurchasedduringperiodshares', 'researchanddevelopment', 'stockrepurchasedduringperiodvalue', 'subordinateddebt', 'currentlongtermdebt', 'restructuring'}\n",
      "  warnings.warn(\"Did not find metrics {0}\".format(missing_metrics))\n"
     ]
    },
    {
     "name": "stdout",
     "output_type": "stream",
     "text": [
      "data saved to data/financials/VNO.csv\n",
      "1867: VNO complete\n"
     ]
    },
    {
     "name": "stderr",
     "output_type": "stream",
     "text": [
      "/home/carbine/miniconda3/envs/fleishco/lib/python3.7/site-packages/calcbench/api_client.py:269: UserWarning: Did not find metrics {'incometaxespaid', 'restrictedcashandinvestmentscurrent', 'paymentsofdividendsnoncontrollinginterest', 'totalinvestments', 'mediumtermnotes', 'trustpreferredsecurities', 'unsecureddebt', 'longterminvestments', 'mortgagedebt', 'researchanddevelopment', 'convertibledebt', 'commonstockdividendspershare', 'shortterminvestments'}\n",
      "  warnings.warn(\"Did not find metrics {0}\".format(missing_metrics))\n"
     ]
    },
    {
     "name": "stdout",
     "output_type": "stream",
     "text": [
      "data saved to data/financials/VNR.csv\n",
      "1868: VNR complete\n"
     ]
    },
    {
     "name": "stderr",
     "output_type": "stream",
     "text": [
      "/home/carbine/miniconda3/envs/fleishco/lib/python3.7/site-packages/calcbench/api_client.py:269: UserWarning: Did not find metrics {'restrictedcashandinvestmentscurrent', 'paymentsofdividendsnoncontrollinginterest', 'secureddebt', 'termloan', 'totalinvestments', 'mediumtermnotes', 'trustpreferredsecurities', 'paymentsofdividendscommonstock', 'unsecureddebt', 'mortgagedebt', 'longterminvestments', 'subordinateddebt', 'commonstockdividendspershare', 'paymentsofdividendspreferredstock', 'paymentsofdividends', 'restructuring', 'capitalassetsales'}\n",
      "  warnings.warn(\"Did not find metrics {0}\".format(missing_metrics))\n"
     ]
    },
    {
     "name": "stdout",
     "output_type": "stream",
     "text": [
      "data saved to data/financials/VPHM.csv\n",
      "1870: VPHM complete\n"
     ]
    },
    {
     "name": "stderr",
     "output_type": "stream",
     "text": [
      "/home/carbine/miniconda3/envs/fleishco/lib/python3.7/site-packages/calcbench/api_client.py:269: UserWarning: Did not find metrics {'trustpreferredsecurities', 'paymentsforrepurchaseofcommonstock', 'researchanddevelopment', 'availableforsalesecurities', 'paymentsofdividendspreferredstock', 'shortterminvestments', 'acquisitiondivestitures', 'assetimpairment', 'unsecureddebt', 'mortgagedebt', 'stockrepurchasedduringperiodvalue', 'restrictedcashandinvestmentscurrent', 'paymentsofdividendsnoncontrollinginterest', 'totalinvestments', 'mediumtermnotes', 'longterminvestments', 'subordinateddebt', 'operatingexpenseexitems', 'stockrepurchasedduringperiodshares', 'restructuring', 'commonstockdividendspershare', 'convertibledebt'}\n",
      "  warnings.warn(\"Did not find metrics {0}\".format(missing_metrics))\n"
     ]
    },
    {
     "name": "stdout",
     "output_type": "stream",
     "text": [
      "data saved to data/financials/VQ.csv\n",
      "1871: VQ complete\n"
     ]
    },
    {
     "name": "stderr",
     "output_type": "stream",
     "text": [
      "/home/carbine/miniconda3/envs/fleishco/lib/python3.7/site-packages/calcbench/api_client.py:269: UserWarning: Did not find metrics {'operatingexpenseexitems', 'secureddebt', 'totalinvestments', 'trustpreferredsecurities', 'assetimpairment', 'paymentsofdividendscommonstock', 'unsecureddebt', 'mortgagedebt', 'longterminvestments', 'availableforsalesecurities', 'subordinateddebt', 'commonstockdividendspershare', 'paymentsofdividendspreferredstock', 'paymentsofdividends', 'restructuring', 'capitalassetsales'}\n",
      "  warnings.warn(\"Did not find metrics {0}\".format(missing_metrics))\n"
     ]
    },
    {
     "name": "stdout",
     "output_type": "stream",
     "text": [
      "data saved to data/financials/VRNT.csv\n",
      "1873: VRNT complete\n"
     ]
    },
    {
     "name": "stderr",
     "output_type": "stream",
     "text": [
      "/home/carbine/miniconda3/envs/fleishco/lib/python3.7/site-packages/calcbench/api_client.py:269: UserWarning: Did not find metrics {'incometaxespaid', 'restrictedcashandinvestmentscurrent', 'paymentsofdividendsnoncontrollinginterest', 'totalinvestments', 'convertibledebt', 'trustpreferredsecurities', 'paymentsofdividendscommonstock', 'longterminvestments', 'mortgagedebt', 'researchanddevelopment', 'subordinateddebt', 'commonstockdividendspershare', 'paymentsofdividendspreferredstock', 'paymentsofdividends', 'shortterminvestments'}\n",
      "  warnings.warn(\"Did not find metrics {0}\".format(missing_metrics))\n"
     ]
    },
    {
     "name": "stdout",
     "output_type": "stream",
     "text": [
      "data saved to data/financials/VRS.csv\n",
      "1874: VRS complete\n"
     ]
    },
    {
     "name": "stderr",
     "output_type": "stream",
     "text": [
      "/home/carbine/miniconda3/envs/fleishco/lib/python3.7/site-packages/calcbench/api_client.py:269: UserWarning: Did not find metrics {'restrictedcashandinvestmentscurrent', 'paymentsofdividendsnoncontrollinginterest', 'secureddebt', 'termloan', 'totalinvestments', 'mediumtermnotes', 'trustpreferredsecurities', 'assetimpairment', 'paymentsofdividendscommonstock', 'unsecureddebt', 'mortgagedebt', 'longterminvestments', 'restructuring', 'currentlongtermdebt', 'paymentsofdividendspreferredstock', 'convertibledebt', 'capitalassetsales'}\n",
      "  warnings.warn(\"Did not find metrics {0}\".format(missing_metrics))\n"
     ]
    },
    {
     "name": "stdout",
     "output_type": "stream",
     "text": [
      "data saved to data/financials/VRSK.csv\n",
      "1875: VRSK complete\n"
     ]
    },
    {
     "name": "stderr",
     "output_type": "stream",
     "text": [
      "/home/carbine/miniconda3/envs/fleishco/lib/python3.7/site-packages/calcbench/api_client.py:269: UserWarning: Did not find metrics {'restrictedcashandinvestmentscurrent', 'paymentsofdividendsnoncontrollinginterest', 'secureddebt', 'termloan', 'totalinvestments', 'mediumtermnotes', 'trustpreferredsecurities', 'assetimpairment', 'paymentsofdividendscommonstock', 'unsecureddebt', 'mortgagedebt', 'longterminvestments', 'subordinateddebt', 'lineofcreditfacilityamountoutstanding', 'paymentsofdividendspreferredstock'}\n",
      "  warnings.warn(\"Did not find metrics {0}\".format(missing_metrics))\n"
     ]
    },
    {
     "name": "stdout",
     "output_type": "stream",
     "text": [
      "data saved to data/financials/VRSN.csv\n",
      "1876: VRSN complete\n"
     ]
    },
    {
     "name": "stderr",
     "output_type": "stream",
     "text": [
      "/home/carbine/miniconda3/envs/fleishco/lib/python3.7/site-packages/calcbench/api_client.py:269: UserWarning: Did not find metrics {'paymentsofdividendsnoncontrollinginterest', 'totalinvestments', 'mediumtermnotes', 'trustpreferredsecurities', 'paymentsofdividendscommonstock', 'unsecureddebt', 'mortgagedebt', 'depreciationandamortizationexpense', 'commonstockdividendspershare', 'paymentsofdividendspreferredstock', 'paymentsofdividends', 'capitalassetsales'}\n",
      "  warnings.warn(\"Did not find metrics {0}\".format(missing_metrics))\n"
     ]
    },
    {
     "name": "stdout",
     "output_type": "stream",
     "text": [
      "data saved to data/financials/VRTX.csv\n",
      "1877: VRTX complete\n"
     ]
    },
    {
     "name": "stderr",
     "output_type": "stream",
     "text": [
      "/home/carbine/miniconda3/envs/fleishco/lib/python3.7/site-packages/calcbench/api_client.py:269: UserWarning: Did not find metrics {'secureddebt', 'trustpreferredsecurities', 'paymentsofdividendscommonstock', 'researchanddevelopment', 'availableforsalesecurities', 'paymentsofdividendspreferredstock', 'paymentsofdividends', 'shortterminvestments', 'unsecureddebt', 'mortgagedebt', 'restrictedcashandinvestmentscurrent', 'paymentsofdividendsnoncontrollinginterest', 'termloan', 'totalinvestments', 'mediumtermnotes', 'depreciationandamortizationexpense', 'longterminvestments', 'subordinateddebt', 'restructuring', 'commonstockdividendspershare', 'capitalassetsales'}\n",
      "  warnings.warn(\"Did not find metrics {0}\".format(missing_metrics))\n"
     ]
    },
    {
     "name": "stdout",
     "output_type": "stream",
     "text": [
      "data saved to data/financials/VSI.csv\n",
      "1878: VSI complete\n"
     ]
    },
    {
     "name": "stderr",
     "output_type": "stream",
     "text": [
      "/home/carbine/miniconda3/envs/fleishco/lib/python3.7/site-packages/calcbench/api_client.py:269: UserWarning: Did not find metrics {'secureddebt', 'trustpreferredsecurities', 'paymentsforrepurchaseofcommonstock', 'paymentsofdividendscommonstock', 'availableforsalesecurities', 'lineofcreditfacilityamountoutstanding', 'paymentsofdividendspreferredstock', 'paymentsofdividends', 'shortterminvestments', 'seniornotes', 'acquisitiondivestitures', 'assetimpairment', 'unsecureddebt', 'mortgagedebt', 'stockrepurchasedduringperiodvalue', 'paymentsofdividendsnoncontrollinginterest', 'totalinvestments', 'mediumtermnotes', 'longterminvestments', 'stockrepurchasedduringperiodshares', 'commonstockdividendspershare'}\n",
      "  warnings.warn(\"Did not find metrics {0}\".format(missing_metrics))\n"
     ]
    },
    {
     "name": "stdout",
     "output_type": "stream",
     "text": [
      "data saved to data/financials/VTSS.csv\n",
      "1879: VTSS complete\n"
     ]
    },
    {
     "name": "stderr",
     "output_type": "stream",
     "text": [
      "/home/carbine/miniconda3/envs/fleishco/lib/python3.7/site-packages/calcbench/api_client.py:269: UserWarning: Did not find metrics {'incometaxespaid', 'operatingexpenseexitems', 'paymentsofdividendsnoncontrollinginterest', 'secureddebt', 'totalinvestments', 'mediumtermnotes', 'convertibledebt', 'trustpreferredsecurities', 'assetimpairment', 'longterminvestments', 'mortgagedebt', 'interestpaidnet', 'availableforsalesecurities', 'subordinateddebt', 'paymentsofdividendspreferredstock', 'restructuring', 'shortterminvestments'}\n",
      "  warnings.warn(\"Did not find metrics {0}\".format(missing_metrics))\n"
     ]
    },
    {
     "name": "stdout",
     "output_type": "stream",
     "text": [
      "data saved to data/financials/WAB.csv\n",
      "1881: WAB complete\n"
     ]
    },
    {
     "name": "stderr",
     "output_type": "stream",
     "text": [
      "/home/carbine/miniconda3/envs/fleishco/lib/python3.7/site-packages/calcbench/api_client.py:269: UserWarning: Did not find metrics {'restrictedcashandinvestmentscurrent', 'paymentsofdividendsnoncontrollinginterest', 'secureddebt', 'seniornotes', 'termloan', 'totalinvestments', 'mediumtermnotes', 'paymentsofdividendscommonstock', 'unsecureddebt', 'mortgagedebt', 'longterminvestments', 'researchanddevelopment', 'restructuring', 'currentlongtermdebt', 'convertibledebt', 'shortterminvestments'}\n",
      "  warnings.warn(\"Did not find metrics {0}\".format(missing_metrics))\n"
     ]
    },
    {
     "name": "stdout",
     "output_type": "stream",
     "text": [
      "data saved to data/financials/WAL.csv\n",
      "1883: WAL complete\n"
     ]
    },
    {
     "name": "stderr",
     "output_type": "stream",
     "text": [
      "/home/carbine/miniconda3/envs/fleishco/lib/python3.7/site-packages/calcbench/api_client.py:269: UserWarning: Did not find metrics {'incometaxespaid', 'capex', 'secureddebt', 'trustpreferredsecurities', 'paymentsforrepurchaseofcommonstock', 'paymentsofdividendscommonstock', 'sharesoutstandingendofperiod', 'interestpaidnet', 'availableforsalesecurities', 'lineofcreditfacilityamountoutstanding', 'currentlongtermdebt', 'paymentsofdividendspreferredstock', 'paymentsofdividends', 'interestexpense', 'seniornotes', 'acquisitiondivestitures', 'assetimpairment', 'financingcashflow', 'unsecureddebt', 'mortgagedebt', 'operatingcashflow', 'stockrepurchasedduringperiodvalue', 'depreciationamortization', 'restrictedcashandinvestmentscurrent', 'investingcashflow', 'paymentsofdividendsnoncontrollinginterest', 'termloan', 'capexgross', 'totalinvestments', 'mediumtermnotes', 'depreciationandamortizationexpense', 'subordinateddebt', 'operatingexpenses', 'operatingexpenseexitems', 'earnings_release_date', 'ebitda', 'sharebasedcompensation', 'stockrepurchasedduringperiodshares', 'restructuring', 'commonstockdividendspershare', 'convertibledebt', 'capitalassetsales'}\n",
      "  warnings.warn(\"Did not find metrics {0}\".format(missing_metrics))\n"
     ]
    },
    {
     "name": "stdout",
     "output_type": "stream",
     "text": [
      "data saved to data/financials/WB.csv\n",
      "1884: WB complete\n"
     ]
    },
    {
     "name": "stderr",
     "output_type": "stream",
     "text": [
      "/home/carbine/miniconda3/envs/fleishco/lib/python3.7/site-packages/calcbench/api_client.py:269: UserWarning: Did not find metrics {'secureddebt', 'trustpreferredsecurities', 'paymentsofdividendscommonstock', 'researchanddevelopment', 'availableforsalesecurities', 'lineofcreditfacilityamountoutstanding', 'paymentsofdividendspreferredstock', 'paymentsofdividends', 'shortterminvestments', 'assetimpairment', 'mortgagedebt', 'restrictedcashandinvestmentscurrent', 'paymentsofdividendsnoncontrollinginterest', 'termloan', 'totalinvestments', 'mediumtermnotes', 'operatingexpenseexitems', 'restructuring', 'commonstockdividendspershare'}\n",
      "  warnings.warn(\"Did not find metrics {0}\".format(missing_metrics))\n"
     ]
    },
    {
     "name": "stdout",
     "output_type": "stream",
     "text": [
      "data saved to data/financials/WCC.csv\n",
      "1887: WCC complete\n"
     ]
    },
    {
     "name": "stderr",
     "output_type": "stream",
     "text": [
      "/home/carbine/miniconda3/envs/fleishco/lib/python3.7/site-packages/calcbench/api_client.py:269: UserWarning: Did not find metrics {'restrictedcashandinvestmentscurrent', 'paymentsofdividendsnoncontrollinginterest', 'totalinvestments', 'mediumtermnotes', 'convertibledebt', 'trustpreferredsecurities', 'paymentsforrepurchaseofcommonstock', 'paymentsofdividendscommonstock', 'assetimpairment', 'mortgagedebt', 'researchanddevelopment', 'availableforsalesecurities', 'restructuring', 'commonstockdividendspershare', 'paymentsofdividendspreferredstock', 'paymentsofdividends', 'capitalassetsales'}\n",
      "  warnings.warn(\"Did not find metrics {0}\".format(missing_metrics))\n"
     ]
    },
    {
     "name": "stdout",
     "output_type": "stream",
     "text": [
      "data saved to data/financials/WCG.csv\n",
      "1888: WCG complete\n"
     ]
    },
    {
     "name": "stderr",
     "output_type": "stream",
     "text": [
      "/home/carbine/miniconda3/envs/fleishco/lib/python3.7/site-packages/calcbench/api_client.py:269: UserWarning: Did not find metrics {'restrictedcashandinvestmentscurrent', 'paymentsofdividendsnoncontrollinginterest', 'totalinvestments', 'acquisitiondivestitures', 'mediumtermnotes', 'trustpreferredsecurities', 'paymentsofdividendscommonstock', 'unsecureddebt', 'mortgagedebt', 'longterminvestments', 'interestpaidnet', 'availableforsalesecurities', 'subordinateddebt', 'paymentsofdividendspreferredstock', 'convertibledebt', 'shortterminvestments'}\n",
      "  warnings.warn(\"Did not find metrics {0}\".format(missing_metrics))\n"
     ]
    },
    {
     "name": "stdout",
     "output_type": "stream",
     "text": [
      "data saved to data/financials/WCRX.csv\n",
      "1889: WCRX complete\n"
     ]
    },
    {
     "name": "stderr",
     "output_type": "stream",
     "text": [
      "/home/carbine/miniconda3/envs/fleishco/lib/python3.7/site-packages/calcbench/api_client.py:269: UserWarning: Did not find metrics {'secureddebt', 'trustpreferredsecurities', 'paymentsforrepurchaseofcommonstock', 'paymentsofdividendscommonstock', 'lineofcreditfacilityamountoutstanding', 'paymentsofdividendspreferredstock', 'paymentsofdividends', 'shortterminvestments', 'interestexpense', 'assetimpairment', 'unsecureddebt', 'mortgagedebt', 'stockrepurchasedduringperiodvalue', 'restrictedcashandinvestmentscurrent', 'paymentsofdividendsnoncontrollinginterest', 'termloan', 'totalinvestments', 'mediumtermnotes', 'depreciationandamortizationexpense', 'longterminvestments', 'subordinateddebt', 'operatingexpenseexitems', 'stockrepurchasedduringperiodshares', 'restructuring', 'commonstockdividendspershare', 'capitalassetsales'}\n",
      "  warnings.warn(\"Did not find metrics {0}\".format(missing_metrics))\n"
     ]
    },
    {
     "name": "stdout",
     "output_type": "stream",
     "text": [
      "data saved to data/financials/WDAY.csv\n",
      "1890: WDAY complete\n"
     ]
    },
    {
     "name": "stderr",
     "output_type": "stream",
     "text": [
      "/home/carbine/miniconda3/envs/fleishco/lib/python3.7/site-packages/calcbench/api_client.py:269: UserWarning: Did not find metrics {'incometaxespaid', 'secureddebt', 'trustpreferredsecurities', 'paymentsforrepurchaseofcommonstock', 'paymentsofdividendscommonstock', 'researchanddevelopment', 'interestpaidnet', 'shortterminvestments', 'unsecureddebt', 'mortgagedebt', 'stockrepurchasedduringperiodvalue', 'paymentsofdividendsnoncontrollinginterest', 'termloan', 'totalinvestments', 'mediumtermnotes', 'longterminvestments', 'stockrepurchasedduringperiodshares', 'restructuring', 'commonstockdividendspershare'}\n",
      "  warnings.warn(\"Did not find metrics {0}\".format(missing_metrics))\n"
     ]
    },
    {
     "name": "stdout",
     "output_type": "stream",
     "text": [
      "data saved to data/financials/WLL.csv\n",
      "1897: WLL complete\n"
     ]
    },
    {
     "name": "stderr",
     "output_type": "stream",
     "text": [
      "/home/carbine/miniconda3/envs/fleishco/lib/python3.7/site-packages/calcbench/api_client.py:269: UserWarning: Did not find metrics {'incometaxespaid', 'secureddebt', 'trustpreferredsecurities', 'paymentsforrepurchaseofcommonstock', 'paymentsofdividendscommonstock', 'researchanddevelopment', 'interestpaidnet', 'availableforsalesecurities', 'paymentsofdividendspreferredstock', 'shortterminvestments', 'assetimpairment', 'mortgagedebt', 'stockrepurchasedduringperiodvalue', 'restrictedcashandinvestmentscurrent', 'termloan', 'totalinvestments', 'mediumtermnotes', 'subordinateddebt', 'operatingexpenseexitems', 'sharebasedcompensation', 'stockrepurchasedduringperiodshares', 'restructuring', 'commonstockdividendspershare', 'convertibledebt'}\n",
      "  warnings.warn(\"Did not find metrics {0}\".format(missing_metrics))\n"
     ]
    },
    {
     "name": "stdout",
     "output_type": "stream",
     "text": [
      "data saved to data/financials/WPZ.csv\n",
      "1899: WPZ complete\n"
     ]
    },
    {
     "name": "stderr",
     "output_type": "stream",
     "text": [
      "/home/carbine/miniconda3/envs/fleishco/lib/python3.7/site-packages/calcbench/api_client.py:269: UserWarning: Did not find metrics {'trustpreferredsecurities', 'paymentsforrepurchaseofcommonstock', 'paymentsofdividendscommonstock', 'researchanddevelopment', 'availableforsalesecurities', 'paymentsofdividendspreferredstock', 'shortterminvestments', 'assetimpairment', 'mortgagedebt', 'stockrepurchasedduringperiodvalue', 'restrictedcashandinvestmentscurrent', 'paymentsofdividendsnoncontrollinginterest', 'totalinvestments', 'mediumtermnotes', 'longterminvestments', 'subordinateddebt', 'stockrepurchasedduringperiodshares', 'restructuring', 'commonstockdividendspershare', 'convertibledebt'}\n",
      "  warnings.warn(\"Did not find metrics {0}\".format(missing_metrics))\n"
     ]
    },
    {
     "name": "stdout",
     "output_type": "stream",
     "text": [
      "data saved to data/financials/WMG.csv\n",
      "1900: WMG complete\n"
     ]
    },
    {
     "name": "stderr",
     "output_type": "stream",
     "text": [
      "/home/carbine/miniconda3/envs/fleishco/lib/python3.7/site-packages/calcbench/api_client.py:269: UserWarning: Did not find metrics {'incometaxespaid', 'paymentsofdividendsnoncontrollinginterest', 'totalinvestments', 'mediumtermnotes', 'trustpreferredsecurities', 'paymentsforrepurchaseofcommonstock', 'paymentsofdividendscommonstock', 'longterminvestments', 'mortgagedebt', 'stockrepurchasedduringperiodshares', 'interestpaidnet', 'stockrepurchasedduringperiodvalue', 'subordinateddebt', 'commonstockdividendspershare', 'paymentsofdividendspreferredstock', 'paymentsofdividends'}\n",
      "  warnings.warn(\"Did not find metrics {0}\".format(missing_metrics))\n"
     ]
    },
    {
     "name": "stdout",
     "output_type": "stream",
     "text": [
      "data saved to data/financials/WMGI.csv\n",
      "1901: WMGI complete\n"
     ]
    },
    {
     "name": "stderr",
     "output_type": "stream",
     "text": [
      "/home/carbine/miniconda3/envs/fleishco/lib/python3.7/site-packages/calcbench/api_client.py:269: UserWarning: Did not find metrics {'secureddebt', 'trustpreferredsecurities', 'paymentsforrepurchaseofcommonstock', 'paymentsofdividendscommonstock', 'availableforsalesecurities', 'lineofcreditfacilityamountoutstanding', 'paymentsofdividendspreferredstock', 'paymentsofdividends', 'shortterminvestments', 'unsecureddebt', 'mortgagedebt', 'stockrepurchasedduringperiodvalue', 'restrictedcashandinvestmentscurrent', 'paymentsofdividendsnoncontrollinginterest', 'termloan', 'totalinvestments', 'mediumtermnotes', 'subordinateddebt', 'stockrepurchasedduringperiodshares', 'restructuring', 'commonstockdividendspershare'}\n",
      "  warnings.warn(\"Did not find metrics {0}\".format(missing_metrics))\n"
     ]
    },
    {
     "name": "stdout",
     "output_type": "stream",
     "text": [
      "data saved to data/financials/TRNX.csv\n",
      "1902: TRNX complete\n"
     ]
    },
    {
     "name": "stderr",
     "output_type": "stream",
     "text": [
      "/home/carbine/miniconda3/envs/fleishco/lib/python3.7/site-packages/calcbench/api_client.py:269: UserWarning: Did not find metrics {'incometaxespaid', 'secureddebt', 'trustpreferredsecurities', 'paymentsforrepurchaseofcommonstock', 'paymentsofdividendscommonstock', 'avgdilutedsharesoutstanding', 'researchanddevelopment', 'interestpaidnet', 'lineofcreditfacilityamountoutstanding', 'currentlongtermdebt', 'paymentsofdividendspreferredstock', 'paymentsofdividends', 'seniornotes', 'acquisitiondivestitures', 'assetimpairment', 'unsecureddebt', 'mortgagedebt', 'stockrepurchasedduringperiodvalue', 'restrictedcashandinvestmentscurrent', 'paymentsofdividendsnoncontrollinginterest', 'termloan', 'totalinvestments', 'mediumtermnotes', 'longterminvestments', 'subordinateddebt', 'avgsharesoutstandingbasic', 'sharebasedcompensation', 'stockrepurchasedduringperiodshares', 'incometaxes', 'convertibledebt', 'commonstockdividendspershare', 'capitalassetsales'}\n",
      "  warnings.warn(\"Did not find metrics {0}\".format(missing_metrics))\n"
     ]
    },
    {
     "name": "stdout",
     "output_type": "stream",
     "text": [
      "data saved to data/financials/USAS.csv\n",
      "1903: USAS complete\n"
     ]
    },
    {
     "name": "stderr",
     "output_type": "stream",
     "text": [
      "/home/carbine/miniconda3/envs/fleishco/lib/python3.7/site-packages/calcbench/api_client.py:269: UserWarning: Did not find metrics {'incometaxespaid', 'secureddebt', 'trustpreferredsecurities', 'paymentsofdividendscommonstock', 'researchanddevelopment', 'interestpaidnet', 'availableforsalesecurities', 'paymentsofdividendspreferredstock', 'shortterminvestments', 'seniornotes', 'assetimpairment', 'mortgagedebt', 'restrictedcashandinvestmentscurrent', 'termloan', 'totalinvestments', 'mediumtermnotes', 'depreciationandamortizationexpense', 'longterminvestments', 'subordinateddebt', 'operatingexpenseexitems', 'sharebasedcompensation', 'restructuring', 'convertibledebt'}\n",
      "  warnings.warn(\"Did not find metrics {0}\".format(missing_metrics))\n"
     ]
    },
    {
     "name": "stdout",
     "output_type": "stream",
     "text": [
      "data saved to data/financials/WMT.csv\n",
      "1904: WMT complete\n"
     ]
    },
    {
     "name": "stderr",
     "output_type": "stream",
     "text": [
      "/home/carbine/miniconda3/envs/fleishco/lib/python3.7/site-packages/calcbench/api_client.py:269: UserWarning: Did not find metrics {'restrictedcashandinvestmentscurrent', 'paymentsofdividendsnoncontrollinginterest', 'totalinvestments', 'mediumtermnotes', 'trustpreferredsecurities', 'paymentsforrepurchaseofcommonstock', 'paymentsofdividendscommonstock', 'longterminvestments', 'mortgagedebt', 'stockrepurchasedduringperiodshares', 'availableforsalesecurities', 'subordinateddebt', 'paymentsofdividendspreferredstock', 'restructuring', 'shortterminvestments'}\n",
      "  warnings.warn(\"Did not find metrics {0}\".format(missing_metrics))\n"
     ]
    },
    {
     "name": "stdout",
     "output_type": "stream",
     "text": [
      "data saved to data/financials/WNC.csv\n",
      "1905: WNC complete\n"
     ]
    },
    {
     "name": "stderr",
     "output_type": "stream",
     "text": [
      "/home/carbine/miniconda3/envs/fleishco/lib/python3.7/site-packages/calcbench/api_client.py:269: UserWarning: Did not find metrics {'paymentsofdividendsnoncontrollinginterest', 'totalinvestments', 'mediumtermnotes', 'trustpreferredsecurities', 'unsecureddebt', 'mortgagedebt', 'researchanddevelopment', 'availableforsalesecurities', 'subordinateddebt', 'paymentsofdividendspreferredstock', 'restructuring', 'shortterminvestments'}\n",
      "  warnings.warn(\"Did not find metrics {0}\".format(missing_metrics))\n"
     ]
    },
    {
     "name": "stdout",
     "output_type": "stream",
     "text": [
      "data saved to data/financials/WNR.csv\n",
      "1906: WNR complete\n"
     ]
    },
    {
     "name": "stderr",
     "output_type": "stream",
     "text": [
      "/home/carbine/miniconda3/envs/fleishco/lib/python3.7/site-packages/calcbench/api_client.py:269: UserWarning: Did not find metrics {'trustpreferredsecurities', 'paymentsofdividendscommonstock', 'researchanddevelopment', 'availableforsalesecurities', 'lineofcreditfacilityamountoutstanding', 'paymentsofdividendspreferredstock', 'paymentsofdividends', 'shortterminvestments', 'seniornotes', 'unsecureddebt', 'stockrepurchasedduringperiodvalue', 'paymentsofdividendsnoncontrollinginterest', 'totalinvestments', 'mediumtermnotes', 'restructuring', 'operatingexpenseexitems', 'stockrepurchasedduringperiodshares', 'convertibledebt', 'commonstockdividendspershare'}\n",
      "  warnings.warn(\"Did not find metrics {0}\".format(missing_metrics))\n"
     ]
    },
    {
     "name": "stdout",
     "output_type": "stream",
     "text": [
      "data saved to data/financials/WOLF.csv\n",
      "1907: WOLF complete\n"
     ]
    },
    {
     "name": "stderr",
     "output_type": "stream",
     "text": [
      "/home/carbine/miniconda3/envs/fleishco/lib/python3.7/site-packages/calcbench/api_client.py:269: UserWarning: Did not find metrics {'seniornotes', 'totalinvestments', 'acquisitiondivestitures', 'mediumtermnotes', 'trustpreferredsecurities', 'paymentsforrepurchaseofcommonstock', 'paymentsofdividendscommonstock', 'longterminvestments', 'stockrepurchasedduringperiodshares', 'convertibledebt', 'researchanddevelopment', 'stockrepurchasedduringperiodvalue', 'subordinateddebt', 'currentlongtermdebt', 'paymentsofdividendspreferredstock', 'restructuring', 'shortterminvestments'}\n",
      "  warnings.warn(\"Did not find metrics {0}\".format(missing_metrics))\n"
     ]
    },
    {
     "name": "stdout",
     "output_type": "stream",
     "text": [
      "data saved to data/financials/WRE.csv\n",
      "1914: WRE complete\n"
     ]
    },
    {
     "name": "stderr",
     "output_type": "stream",
     "text": [
      "/home/carbine/miniconda3/envs/fleishco/lib/python3.7/site-packages/calcbench/api_client.py:269: UserWarning: Did not find metrics {'trustpreferredsecurities', 'paymentsforrepurchaseofcommonstock', 'paymentsofdividendscommonstock', 'researchanddevelopment', 'availableforsalesecurities', 'paymentsofdividendspreferredstock', 'shortterminvestments', 'acquisitiondivestitures', 'unsecureddebt', 'mortgagedebt', 'stockrepurchasedduringperiodvalue', 'paymentsofdividendsnoncontrollinginterest', 'termloan', 'totalinvestments', 'mediumtermnotes', 'longterminvestments', 'subordinateddebt', 'stockrepurchasedduringperiodshares', 'commonstockdividendspershare', 'capitalassetsales'}\n",
      "  warnings.warn(\"Did not find metrics {0}\".format(missing_metrics))\n"
     ]
    },
    {
     "name": "stdout",
     "output_type": "stream",
     "text": [
      "data saved to data/financials/WRES.csv\n",
      "1915: WRES complete\n"
     ]
    },
    {
     "name": "stderr",
     "output_type": "stream",
     "text": [
      "/home/carbine/miniconda3/envs/fleishco/lib/python3.7/site-packages/calcbench/api_client.py:269: UserWarning: Did not find metrics {'restrictedcashandinvestmentscurrent', 'paymentsofdividendsnoncontrollinginterest', 'sharebasedcompensation', 'totalinvestments', 'trustpreferredsecurities', 'paymentsofdividendscommonstock', 'mortgagedebt', 'stockrepurchasedduringperiodshares', 'researchanddevelopment', 'subordinateddebt', 'currentlongtermdebt', 'paymentsofdividendspreferredstock', 'restructuring', 'shortterminvestments'}\n",
      "  warnings.warn(\"Did not find metrics {0}\".format(missing_metrics))\n"
     ]
    },
    {
     "name": "stdout",
     "output_type": "stream",
     "text": [
      "data saved to data/financials/WRI.csv\n",
      "1916: WRI complete\n"
     ]
    },
    {
     "name": "stderr",
     "output_type": "stream",
     "text": [
      "/home/carbine/miniconda3/envs/fleishco/lib/python3.7/site-packages/calcbench/api_client.py:269: UserWarning: Did not find metrics {'operatingexpenseexitems', 'paymentsofdividendsnoncontrollinginterest', 'totalinvestments', 'mediumtermnotes', 'trustpreferredsecurities', 'assetimpairment', 'unsecureddebt', 'longterminvestments', 'mortgagedebt', 'researchanddevelopment', 'availableforsalesecurities', 'convertibledebt', 'paymentsofdividendspreferredstock', 'shortterminvestments'}\n",
      "  warnings.warn(\"Did not find metrics {0}\".format(missing_metrics))\n"
     ]
    },
    {
     "name": "stdout",
     "output_type": "stream",
     "text": [
      "data saved to data/financials/WSTC.csv\n",
      "1917: WSTC complete\n"
     ]
    },
    {
     "name": "stderr",
     "output_type": "stream",
     "text": [
      "/home/carbine/miniconda3/envs/fleishco/lib/python3.7/site-packages/calcbench/api_client.py:269: UserWarning: Did not find metrics {'incometaxespaid', 'paymentsofdividendscommonstock', 'researchanddevelopment', 'interestpaidnet', 'currentlongtermdebt', 'paymentsofdividendspreferredstock', 'shortterminvestments', 'seniornotes', 'assetimpairment', 'mortgagedebt', 'restrictedcashandinvestmentscurrent', 'paymentsofdividendsnoncontrollinginterest', 'termloan', 'totalinvestments', 'mediumtermnotes', 'longterminvestments', 'operatingexpenseexitems', 'stockrepurchasedduringperiodshares', 'restructuring', 'convertibledebt', 'capitalassetsales'}\n",
      "  warnings.warn(\"Did not find metrics {0}\".format(missing_metrics))\n"
     ]
    },
    {
     "name": "stdout",
     "output_type": "stream",
     "text": [
      "data saved to data/financials/WTFC.csv\n",
      "1918: WTFC complete\n"
     ]
    },
    {
     "name": "stderr",
     "output_type": "stream",
     "text": [
      "/home/carbine/miniconda3/envs/fleishco/lib/python3.7/site-packages/calcbench/api_client.py:269: UserWarning: Did not find metrics {'trustpreferredsecurities', 'paymentsforrepurchaseofcommonstock', 'paymentsofdividendscommonstock', 'researchanddevelopment', 'interestpaidnet', 'availableforsalesecurities', 'paymentsofdividendspreferredstock', 'shortterminvestments', 'acquisitiondivestitures', 'mortgagedebt', 'stockrepurchasedduringperiodvalue', 'paymentsofdividendsnoncontrollinginterest', 'totalinvestments', 'mediumtermnotes', 'longterminvestments', 'subordinateddebt', 'restructuring', 'stockrepurchasedduringperiodshares', 'convertibledebt'}\n",
      "  warnings.warn(\"Did not find metrics {0}\".format(missing_metrics))\n"
     ]
    },
    {
     "name": "stdout",
     "output_type": "stream",
     "text": [
      "data saved to data/financials/WTI.csv\n",
      "1919: WTI complete\n"
     ]
    },
    {
     "name": "stderr",
     "output_type": "stream",
     "text": [
      "/home/carbine/miniconda3/envs/fleishco/lib/python3.7/site-packages/calcbench/api_client.py:269: UserWarning: Did not find metrics {'secureddebt', 'trustpreferredsecurities', 'paymentsforrepurchaseofcommonstock', 'paymentsofdividendscommonstock', 'researchanddevelopment', 'lineofcreditfacilityamountoutstanding', 'paymentsofdividendspreferredstock', 'acquisitiondivestitures', 'assetimpairment', 'unsecureddebt', 'mortgagedebt', 'stockrepurchasedduringperiodvalue', 'paymentsofdividendsnoncontrollinginterest', 'termloan', 'totalinvestments', 'mediumtermnotes', 'depreciationandamortizationexpense', 'operatingexpenseexitems', 'sharebasedcompensation', 'stockrepurchasedduringperiodshares', 'restructuring', 'commonstockdividendspershare', 'convertibledebt'}\n",
      "  warnings.warn(\"Did not find metrics {0}\".format(missing_metrics))\n"
     ]
    },
    {
     "name": "stdout",
     "output_type": "stream",
     "text": [
      "data saved to data/financials/FFC.csv\n",
      "1920: FFC complete\n"
     ]
    },
    {
     "name": "stderr",
     "output_type": "stream",
     "text": [
      "/home/carbine/miniconda3/envs/fleishco/lib/python3.7/site-packages/calcbench/api_client.py:269: UserWarning: Did not find metrics {'incometaxespaid', 'restrictedcashandinvestmentscurrent', 'paymentsofdividendsnoncontrollinginterest', 'totalinvestments', 'mediumtermnotes', 'trustpreferredsecurities', 'unsecureddebt', 'depreciationandamortizationexpense', 'mortgagedebt', 'longterminvestments', 'researchanddevelopment', 'interestpaidnet', 'availableforsalesecurities', 'subordinateddebt', 'paymentsofdividendspreferredstock', 'convertibledebt', 'shortterminvestments'}\n",
      "  warnings.warn(\"Did not find metrics {0}\".format(missing_metrics))\n"
     ]
    },
    {
     "name": "stdout",
     "output_type": "stream",
     "text": [
      "data saved to data/financials/WWW.csv\n",
      "1923: WWW complete\n"
     ]
    },
    {
     "name": "stderr",
     "output_type": "stream",
     "text": [
      "/home/carbine/miniconda3/envs/fleishco/lib/python3.7/site-packages/calcbench/api_client.py:269: UserWarning: Did not find metrics {'secureddebt', 'totalinvestments', 'acquisitiondivestitures', 'convertibledebt', 'trustpreferredsecurities', 'assetimpairment', 'paymentsofdividendscommonstock', 'unsecureddebt', 'mortgagedebt', 'researchanddevelopment', 'subordinateddebt', 'paymentsofdividendspreferredstock', 'restructuring'}\n",
      "  warnings.warn(\"Did not find metrics {0}\".format(missing_metrics))\n"
     ]
    },
    {
     "name": "stdout",
     "output_type": "stream",
     "text": [
      "data saved to data/financials/WYNN.csv\n",
      "1926: WYNN complete\n"
     ]
    },
    {
     "name": "stderr",
     "output_type": "stream",
     "text": [
      "/home/carbine/miniconda3/envs/fleishco/lib/python3.7/site-packages/calcbench/api_client.py:269: UserWarning: Did not find metrics {'paymentsofdividendsnoncontrollinginterest', 'totalinvestments', 'mediumtermnotes', 'trustpreferredsecurities', 'mortgagedebt', 'stockrepurchasedduringperiodshares', 'researchanddevelopment', 'availableforsalesecurities', 'subordinateddebt', 'paymentsofdividendspreferredstock', 'convertibledebt', 'shortterminvestments'}\n",
      "  warnings.warn(\"Did not find metrics {0}\".format(missing_metrics))\n"
     ]
    },
    {
     "name": "stdout",
     "output_type": "stream",
     "text": [
      "data saved to data/financials/XCO.csv\n",
      "1927: XCO complete\n"
     ]
    },
    {
     "name": "stderr",
     "output_type": "stream",
     "text": [
      "/home/carbine/miniconda3/envs/fleishco/lib/python3.7/site-packages/calcbench/api_client.py:269: UserWarning: Did not find metrics {'trustpreferredsecurities', 'paymentsforrepurchaseofcommonstock', 'paymentsofdividendscommonstock', 'researchanddevelopment', 'availableforsalesecurities', 'paymentsofdividendspreferredstock', 'paymentsofdividends', 'shortterminvestments', 'assetimpairment', 'unsecureddebt', 'mortgagedebt', 'stockrepurchasedduringperiodvalue', 'restrictedcashandinvestmentscurrent', 'paymentsofdividendsnoncontrollinginterest', 'totalinvestments', 'mediumtermnotes', 'depreciationandamortizationexpense', 'longterminvestments', 'stockrepurchasedduringperiodshares', 'commonstockdividendspershare'}\n",
      "  warnings.warn(\"Did not find metrics {0}\".format(missing_metrics))\n"
     ]
    },
    {
     "name": "stdout",
     "output_type": "stream",
     "text": [
      "data saved to data/financials/XIDE.csv\n",
      "1928: XIDE complete\n"
     ]
    },
    {
     "name": "stderr",
     "output_type": "stream",
     "text": [
      "/home/carbine/miniconda3/envs/fleishco/lib/python3.7/site-packages/calcbench/api_client.py:269: UserWarning: Did not find metrics {'restrictedcashandinvestmentscurrent', 'paymentsofdividendsnoncontrollinginterest', 'secureddebt', 'termloan', 'totalinvestments', 'mediumtermnotes', 'trustpreferredsecurities', 'unsecureddebt', 'mortgagedebt', 'paymentsofdividendspreferredstock', 'capitalassetsales'}\n",
      "  warnings.warn(\"Did not find metrics {0}\".format(missing_metrics))\n"
     ]
    },
    {
     "name": "stdout",
     "output_type": "stream",
     "text": [
      "data saved to data/financials/XLNX.csv\n",
      "1929: XLNX complete\n"
     ]
    },
    {
     "name": "stderr",
     "output_type": "stream",
     "text": [
      "/home/carbine/miniconda3/envs/fleishco/lib/python3.7/site-packages/calcbench/api_client.py:269: UserWarning: Did not find metrics {'incometaxespaid', 'secureddebt', 'trustpreferredsecurities', 'paymentsforrepurchaseofcommonstock', 'paymentsofdividendscommonstock', 'interestpaidnet', 'lineofcreditfacilityamountoutstanding', 'paymentsofdividendspreferredstock', 'paymentsofdividends', 'acquisitiondivestitures', 'assetimpairment', 'unsecureddebt', 'mortgagedebt', 'stockrepurchasedduringperiodvalue', 'paymentsofdividendsnoncontrollinginterest', 'termloan', 'totalinvestments', 'mediumtermnotes', 'depreciationandamortizationexpense', 'subordinateddebt', 'stockrepurchasedduringperiodshares', 'commonstockdividendspershare', 'capitalassetsales'}\n",
      "  warnings.warn(\"Did not find metrics {0}\".format(missing_metrics))\n"
     ]
    },
    {
     "name": "stdout",
     "output_type": "stream",
     "text": [
      "data saved to data/financials/XNPT.csv\n",
      "1930: XNPT complete\n"
     ]
    },
    {
     "name": "stderr",
     "output_type": "stream",
     "text": [
      "/home/carbine/miniconda3/envs/fleishco/lib/python3.7/site-packages/calcbench/api_client.py:269: UserWarning: Did not find metrics {'paymentsofdividendsnoncontrollinginterest', 'secureddebt', 'seniornotes', 'termloan', 'totalinvestments', 'mediumtermnotes', 'trustpreferredsecurities', 'paymentsforrepurchaseofcommonstock', 'paymentsofdividendscommonstock', 'unsecureddebt', 'mortgagedebt', 'stockrepurchasedduringperiodshares', 'stockrepurchasedduringperiodvalue', 'subordinateddebt', 'commonstockdividendspershare', 'paymentsofdividendspreferredstock', 'restructuring'}\n",
      "  warnings.warn(\"Did not find metrics {0}\".format(missing_metrics))\n"
     ]
    },
    {
     "name": "stdout",
     "output_type": "stream",
     "text": [
      "data saved to data/financials/XON.csv\n",
      "1931: XON complete\n"
     ]
    },
    {
     "name": "stderr",
     "output_type": "stream",
     "text": [
      "/home/carbine/miniconda3/envs/fleishco/lib/python3.7/site-packages/calcbench/api_client.py:269: UserWarning: Did not find metrics {'incometaxespaid', 'secureddebt', 'trustpreferredsecurities', 'paymentsforrepurchaseofcommonstock', 'paymentsofdividendscommonstock', 'avgdilutedsharesoutstanding', 'researchanddevelopment', 'interestpaidnet', 'availableforsalesecurities', 'lineofcreditfacilityamountoutstanding', 'paymentsofdividendspreferredstock', 'shortterminvestments', 'seniornotes', 'acquisitiondivestitures', 'assetimpairment', 'unsecureddebt', 'mortgagedebt', 'stockrepurchasedduringperiodvalue', 'restrictedcashandinvestmentscurrent', 'paymentsofdividendsnoncontrollinginterest', 'termloan', 'totalinvestments', 'mediumtermnotes', 'longterminvestments', 'subordinateddebt', 'avgsharesoutstandingbasic', 'operatingexpenseexitems', 'stockrepurchasedduringperiodshares', 'restructuring', 'convertibledebt'}\n",
      "  warnings.warn(\"Did not find metrics {0}\".format(missing_metrics))\n"
     ]
    },
    {
     "name": "stdout",
     "output_type": "stream",
     "text": [
      "data saved to data/financials/XTO.csv\n",
      "1932: XTO complete\n"
     ]
    },
    {
     "name": "stderr",
     "output_type": "stream",
     "text": [
      "/home/carbine/miniconda3/envs/fleishco/lib/python3.7/site-packages/calcbench/api_client.py:269: UserWarning: Did not find metrics {'incometaxespaid', 'restrictedcashandinvestmentscurrent', 'paymentsofdividendsnoncontrollinginterest', 'secureddebt', 'totalinvestments', 'mediumtermnotes', 'trustpreferredsecurities', 'paymentsofdividendscommonstock', 'depreciationandamortizationexpense', 'mortgagedebt', 'longterminvestments', 'stockrepurchasedduringperiodshares', 'interestpaidnet', 'availableforsalesecurities', 'subordinateddebt', 'paymentsofdividendspreferredstock', 'convertibledebt'}\n",
      "  warnings.warn(\"Did not find metrics {0}\".format(missing_metrics))\n"
     ]
    },
    {
     "name": "stdout",
     "output_type": "stream",
     "text": [
      "data saved to data/financials/XRAY.csv\n",
      "1933: XRAY complete\n"
     ]
    },
    {
     "name": "stderr",
     "output_type": "stream",
     "text": [
      "/home/carbine/miniconda3/envs/fleishco/lib/python3.7/site-packages/calcbench/api_client.py:269: UserWarning: Did not find metrics {'incometaxespaid', 'trustpreferredsecurities', 'paymentsforrepurchaseofcommonstock', 'paymentsofdividendscommonstock', 'interestpaidnet', 'availableforsalesecurities', 'paymentsofdividendspreferredstock', 'paymentsofdividends', 'shortterminvestments', 'assetimpairment', 'mortgagedebt', 'stockrepurchasedduringperiodvalue', 'paymentsofdividendsnoncontrollinginterest', 'totalinvestments', 'mediumtermnotes', 'depreciationandamortizationexpense', 'longterminvestments', 'subordinateddebt', 'stockrepurchasedduringperiodshares', 'convertibledebt', 'commonstockdividendspershare'}\n",
      "  warnings.warn(\"Did not find metrics {0}\".format(missing_metrics))\n"
     ]
    },
    {
     "name": "stdout",
     "output_type": "stream",
     "text": [
      "data saved to data/financials/XRM.csv\n",
      "1934: XRM complete\n"
     ]
    },
    {
     "name": "stderr",
     "output_type": "stream",
     "text": [
      "/home/carbine/miniconda3/envs/fleishco/lib/python3.7/site-packages/calcbench/api_client.py:269: UserWarning: Did not find metrics {'incometaxespaid', 'secureddebt', 'trustpreferredsecurities', 'paymentsforrepurchaseofcommonstock', 'paymentsofdividendscommonstock', 'interestpaidnet', 'lineofcreditfacilityamountoutstanding', 'paymentsofdividendspreferredstock', 'paymentsofdividends', 'seniornotes', 'acquisitiondivestitures', 'assetimpairment', 'unsecureddebt', 'mortgagedebt', 'stockrepurchasedduringperiodvalue', 'restrictedcashandinvestmentscurrent', 'paymentsofdividendsnoncontrollinginterest', 'termloan', 'totalinvestments', 'mediumtermnotes', 'depreciationandamortizationexpense', 'subordinateddebt', 'operatingexpenseexitems', 'longtermdebt', 'stockrepurchasedduringperiodshares', 'incometaxes', 'restructuring', 'commonstockdividendspershare', 'convertibledebt', 'capitalassetsales'}\n",
      "  warnings.warn(\"Did not find metrics {0}\".format(missing_metrics))\n"
     ]
    },
    {
     "name": "stdout",
     "output_type": "stream",
     "text": [
      "data saved to data/financials/CRTX.csv\n",
      "1936: CRTX complete\n"
     ]
    },
    {
     "name": "stderr",
     "output_type": "stream",
     "text": [
      "/home/carbine/miniconda3/envs/fleishco/lib/python3.7/site-packages/calcbench/api_client.py:269: UserWarning: Did not find metrics {'incometaxespaid', 'paymentsofdividendsnoncontrollinginterest', 'secureddebt', 'totalinvestments', 'mediumtermnotes', 'trustpreferredsecurities', 'assetimpairment', 'paymentsofdividendscommonstock', 'unsecureddebt', 'mortgagedebt', 'subordinateddebt', 'commonstockdividendspershare', 'paymentsofdividendspreferredstock', 'paymentsofdividends', 'capitalassetsales'}\n",
      "  warnings.warn(\"Did not find metrics {0}\".format(missing_metrics))\n"
     ]
    },
    {
     "name": "stdout",
     "output_type": "stream",
     "text": [
      "data saved to data/financials/XXIA.csv\n",
      "1937: XXIA complete\n"
     ]
    },
    {
     "name": "stderr",
     "output_type": "stream",
     "text": [
      "/home/carbine/miniconda3/envs/fleishco/lib/python3.7/site-packages/calcbench/api_client.py:269: UserWarning: Did not find metrics {'secureddebt', 'trustpreferredsecurities', 'researchanddevelopment', 'availableforsalesecurities', 'paymentsofdividendspreferredstock', 'shortterminvestments', 'acquisitiondivestitures', 'assetimpairment', 'unsecureddebt', 'mortgagedebt', 'paymentsofdividendsnoncontrollinginterest', 'termloan', 'totalinvestments', 'mediumtermnotes', 'longterminvestments', 'subordinateddebt', 'operatingexpenseexitems', 'sharebasedcompensation', 'restructuring', 'convertibledebt'}\n",
      "  warnings.warn(\"Did not find metrics {0}\".format(missing_metrics))\n"
     ]
    },
    {
     "name": "stdout",
     "output_type": "stream",
     "text": [
      "data saved to data/financials/YORW.csv\n",
      "1941: YORW complete\n"
     ]
    },
    {
     "name": "stderr",
     "output_type": "stream",
     "text": [
      "/home/carbine/miniconda3/envs/fleishco/lib/python3.7/site-packages/calcbench/api_client.py:269: UserWarning: Did not find metrics {'operatingexpenseexitems', 'restrictedcashandinvestmentscurrent', 'paymentsofdividendsnoncontrollinginterest', 'totalinvestments', 'convertibledebt', 'trustpreferredsecurities', 'assetimpairment', 'paymentsofdividendscommonstock', 'longterminvestments', 'mortgagedebt', 'researchanddevelopment', 'availableforsalesecurities', 'subordinateddebt', 'commonstockdividendspershare', 'paymentsofdividendspreferredstock', 'restructuring', 'capitalassetsales', 'shortterminvestments'}\n",
      "  warnings.warn(\"Did not find metrics {0}\".format(missing_metrics))\n"
     ]
    },
    {
     "name": "stdout",
     "output_type": "stream",
     "text": [
      "data saved to data/financials/ZAYO.csv\n",
      "1944: ZAYO complete\n"
     ]
    },
    {
     "name": "stderr",
     "output_type": "stream",
     "text": [
      "/home/carbine/miniconda3/envs/fleishco/lib/python3.7/site-packages/calcbench/api_client.py:269: UserWarning: Did not find metrics {'paymentsofdividendsnoncontrollinginterest', 'totalinvestments', 'mediumtermnotes', 'convertibledebt', 'trustpreferredsecurities', 'paymentsofdividendscommonstock', 'unsecureddebt', 'mortgagedebt', 'availableforsalesecurities', 'subordinateddebt', 'commonstockdividendspershare', 'paymentsofdividendspreferredstock', 'paymentsofdividends', 'capitalassetsales'}\n",
      "  warnings.warn(\"Did not find metrics {0}\".format(missing_metrics))\n"
     ]
    },
    {
     "name": "stdout",
     "output_type": "stream",
     "text": [
      "data saved to data/financials/ZBRA.csv\n",
      "1946: ZBRA complete\n"
     ]
    },
    {
     "name": "stderr",
     "output_type": "stream",
     "text": [
      "/home/carbine/miniconda3/envs/fleishco/lib/python3.7/site-packages/calcbench/api_client.py:269: UserWarning: Did not find metrics {'operatingexpenseexitems', 'restrictedcashandinvestmentscurrent', 'paymentsofdividendsnoncontrollinginterest', 'secureddebt', 'termloan', 'totalinvestments', 'trustpreferredsecurities', 'paymentsofdividendscommonstock', 'longterminvestments', 'mortgagedebt', 'researchanddevelopment', 'restructuring', 'lineofcreditfacilityamountoutstanding', 'currentlongtermdebt', 'paymentsofdividendspreferredstock', 'shortterminvestments'}\n",
      "  warnings.warn(\"Did not find metrics {0}\".format(missing_metrics))\n"
     ]
    },
    {
     "name": "stdout",
     "output_type": "stream",
     "text": [
      "data saved to data/financials/ZION.csv\n",
      "1948: ZION complete\n",
      "data saved to data/financials/QUIK.csv\n",
      "1949: QUIK complete\n"
     ]
    },
    {
     "name": "stderr",
     "output_type": "stream",
     "text": [
      "/home/carbine/miniconda3/envs/fleishco/lib/python3.7/site-packages/calcbench/api_client.py:269: UserWarning: Did not find metrics {'incometaxespaid', 'secureddebt', 'trustpreferredsecurities', 'paymentsforrepurchaseofcommonstock', 'paymentsofdividendscommonstock', 'interestpaidnet', 'paymentsofdividendspreferredstock', 'paymentsofdividends', 'seniornotes', 'assetimpairment', 'unsecureddebt', 'mortgagedebt', 'stockrepurchasedduringperiodvalue', 'restrictedcashandinvestmentscurrent', 'paymentsofdividendsnoncontrollinginterest', 'termloan', 'totalinvestments', 'mediumtermnotes', 'depreciationandamortizationexpense', 'longterminvestments', 'subordinateddebt', 'stockrepurchasedduringperiodshares', 'convertibledebt', 'commonstockdividendspershare'}\n",
      "  warnings.warn(\"Did not find metrics {0}\".format(missing_metrics))\n"
     ]
    }
   ],
   "source": [
    "# pull financials from calcbench\n",
    "cbh = CBH(save_dir='data/financials')\n",
    "finished = []\n",
    "for i in np.arange(3):\n",
    "    dfs = cbh.fetch_all(company_identifiers=[tickers[i]], start_year=2009,\n",
    "                       start_period=1, end_year=2019, end_period=4,\n",
    "                       period_type='quarterly')\n",
    "    for df in dfs:\n",
    "        print(f'{i}: {df.name} complete')\n",
    "        finished.append(df.name)"
   ]
  },
  {
   "cell_type": "code",
   "execution_count": 178,
   "metadata": {},
   "outputs": [
    {
     "data": {
      "text/plain": [
       "(1950,)"
      ]
     },
     "execution_count": 178,
     "metadata": {},
     "output_type": "execute_result"
    }
   ],
   "source": []
  },
  {
   "cell_type": "code",
   "execution_count": null,
   "metadata": {},
   "outputs": [],
   "source": []
  }
 ],
 "metadata": {
  "kernelspec": {
   "display_name": "Python 3",
   "language": "python",
   "name": "python3"
  },
  "language_info": {
   "codemirror_mode": {
    "name": "ipython",
    "version": 3
   },
   "file_extension": ".py",
   "mimetype": "text/x-python",
   "name": "python",
   "nbconvert_exporter": "python",
   "pygments_lexer": "ipython3",
   "version": "3.7.4"
  }
 },
 "nbformat": 4,
 "nbformat_minor": 4
}
