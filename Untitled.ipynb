{
 "cells": [
  {
   "cell_type": "code",
   "execution_count": 231,
   "metadata": {},
   "outputs": [
    {
     "name": "stdout",
     "output_type": "stream",
     "text": [
      "The autoreload extension is already loaded. To reload it, use:\n",
      "  %reload_ext autoreload\n"
     ]
    }
   ],
   "source": [
    "from os.path import join\n",
    "import pandas as pd\n",
    "import numpy as np\n",
    "import matplotlib.pyplot as plt\n",
    "\n",
    "%load_ext autoreload\n",
    "%autoreload 2\n",
    "\n",
    "%matplotlib inline"
   ]
  },
  {
   "cell_type": "code",
   "execution_count": 238,
   "metadata": {},
   "outputs": [],
   "source": [
    "def stacked_plot(sector_data, sector_names, title=None, ylabel=None,\n",
    "                 should_plot=False, savepath=None):\n",
    "    plt.clf()\n",
    "    fig, ax = plt.subplots()\n",
    "    \n",
    "    sector_count = len(sector_data)\n",
    "    margin = 0.1\n",
    "    width = 1/sector_count - margin\n",
    "    x = np.arange(sector_data[0].shape[0])\n",
    "    for i, df in enumerate(sector_data):\n",
    "        base = np.zeros(sector_data[0].shape[0])\n",
    "        for col in df.columns.values:\n",
    "            ax.bar(x+i*width, df[col], align='edge',\n",
    "                   bottom=base, width=width)\n",
    "            base += df[col].values\n",
    "\n",
    "    xcount = sector_data[0].shape[0]\n",
    "    ax.set_xticks(np.linspace(0.5-margin, xcount*(1-margin)-margin, xcount))\n",
    "    ax.set_xticklabels([])\n",
    "    \n",
    "    date_xlocs = np.linspace(0.5-margin, xcount*(1-margin)-margin, xcount)\n",
    "    y_min, y_max = ax.get_ylim()\n",
    "    date_yloc = y_min-(y_max-y_min)*0.15\n",
    "    for xloc, date_label in zip(date_xlocs, sector_data[0].index.values):\n",
    "        ax.text(xloc, date_yloc, date_label, ha='center')\n",
    "        \n",
    "    base_xlocs = np.linspace(width*0.5, xcount-1+width*0.5, xcount)\n",
    "    sector_yloc = y_min-(y_max-y_min)*0.05\n",
    "    sector_labels = zip(*[sector_names for _ in range(xcount)])\n",
    "    for i, labels in enumerate(sector_labels):\n",
    "        sector_xlocs = base_xlocs+i*width\n",
    "        for xloc, label in zip(sector_xlocs, labels):\n",
    "            ax.text(xloc, sector_yloc, label, ha='center')\n",
    "    \n",
    "    if ylabel is not None:\n",
    "        ax.set_ylabel(ylabel)\n",
    "    if title is not None:\n",
    "        ax.set_title(title)\n",
    "    \n",
    "    plt.tight_layout()\n",
    "    \n",
    "    if should_plot:\n",
    "        plt.show()\n",
    "    if savepath is not None:\n",
    "        plt.savefig(savepath)\n",
    "        \n",
    "def line_chart(df, df_bands, highlight_bounds, title=None,\n",
    "               xlabel=None, ylabel=None, should_plot=False,\n",
    "               savepath=None):\n",
    "    plt.clf()\n",
    "    fig, ax = plt.subplots()\n",
    "    df_lower, df_upper = df-df_bands, df+df_bands\n",
    "    for col in df.columns.values:\n",
    "        ax.plot(df.index.values, df[col].values)\n",
    "        ax.fill_between(df.index, df_lower[col],\n",
    "                        df_upper[col], alpha=0.2)\n",
    "    \n",
    "    val_bounds, test_bounds = highlight_bounds\n",
    "    ax.axvspan(*val_bounds, alpha=0.1, color='y')\n",
    "    ax.axvspan(*test_bounds, alpha=0.1, color='g')\n",
    "\n",
    "    y_min, y_max = ax.get_ylim()\n",
    "    y_loc = y_min+(y_max-y_min)/10\n",
    "    for i, xval in enumerate(df.index.values):\n",
    "        if xval == val_bounds[0]:\n",
    "            ax.text(i/2, y_loc, 'train',\n",
    "                    horizontalalignment='center')\n",
    "            ax.text(i+0.5, y_loc, 'validation',\n",
    "                   horizontalalignment='center')\n",
    "        elif xval == test_bounds[0]:\n",
    "            ax.text(i+0.5, y_loc, 'test',\n",
    "                   horizontalalignment='center')\n",
    "    \n",
    "    if xlabel is not None:\n",
    "        ax.set_xlabel(xlabel)\n",
    "    if ylabel is not None:\n",
    "        ax.set_ylabel(ylabel)\n",
    "    if title is not None:\n",
    "        ax.set_title(title)\n",
    "    \n",
    "    plt.tight_layout()\n",
    "    \n",
    "    if should_plot:\n",
    "        plt.show()\n",
    "    if savepath is not None:\n",
    "        plt.savefig(savepath)"
   ]
  },
  {
   "cell_type": "code",
   "execution_count": 239,
   "metadata": {},
   "outputs": [],
   "source": [
    "dts = pd.date_range(end='2019-12-31', periods=5, freq='Y')\n",
    "dts = dts.map(lambda x: x.strftime('%Y-%m-%d')).values\n",
    "df_tech_txs = pd.DataFrame({\n",
    "    'AAPL': [10, 10, 10, 10, 10],\n",
    "    'INTC': [10, 7, 9, 8, 10],\n",
    "    'MU': [0, 7, 10, 10, 10]\n",
    "}, index=dts)\n",
    "df_re_txs = pd.DataFrame({\n",
    "    'VNO': [7, 6, 10, 6, 10],\n",
    "    'CLDT': [10, 7, 9, 8, 10],\n",
    "}, index=dts)\n",
    "sector_data = [df_tech_txs, df_re_txs]\n",
    "\n",
    "df_mu = pd.DataFrame({\n",
    "    'train': [3.1, 2.9, 3.2, 3.05, 2.7],\n",
    "}, index=dts)\n",
    "\n",
    "df_sigma = pd.DataFrame({\n",
    "    'train': [0.2, 0.4, 0.3, 0.34, 0.21],\n",
    "}, index=dts)\n",
    "\n",
    "dataset_bounds = [dts[-3:-1], dts[-2:]]"
   ]
  },
  {
   "cell_type": "code",
   "execution_count": 214,
   "metadata": {},
   "outputs": [
    {
     "data": {
      "text/plain": [
       "<Figure size 432x288 with 0 Axes>"
      ]
     },
     "metadata": {},
     "output_type": "display_data"
    },
    {
     "data": {
      "image/png": "[encoded data removed]",
      "text/plain": [
       "<Figure size 432x288 with 1 Axes>"
      ]
     },
     "metadata": {
      "needs_background": "light"
     },
     "output_type": "display_data"
    }
   ],
   "source": [
    "stacked_plot(sector_data, sector_names=['tech', 're'],\n",
    "             title='Transactions By Issuer',\n",
    "             ylabel='Transaction Count', should_plot=True)"
   ]
  },
  {
   "cell_type": "code",
   "execution_count": 240,
   "metadata": {},
   "outputs": [
    {
     "data": {
      "text/plain": [
       "<Figure size 432x288 with 0 Axes>"
      ]
     },
     "metadata": {},
     "output_type": "display_data"
    },
    {
     "data": {
      "image/png": "[encoded data removed]",
      "text/plain": [
       "<Figure size 432x288 with 1 Axes>"
      ]
     },
     "metadata": {
      "needs_background": "light"
     },
     "output_type": "display_data"
    }
   ],
   "source": [
    "line_chart(df_mu, df_sigma, highlight_bounds=dataset_bounds,\n",
    "           title='Dataset Statistics', xlabel='Period',\n",
    "           ylabel='Yield To Worst ($\\mu \\pm \\sigma$)', should_plot=True)"
   ]
  },
  {
   "cell_type": "code",
   "execution_count": 223,
   "metadata": {},
   "outputs": [
    {
     "data": {
      "text/html": [
       "<div>\n",
       "<style scoped>\n",
       "    .dataframe tbody tr th:only-of-type {\n",
       "        vertical-align: middle;\n",
       "    }\n",
       "\n",
       "    .dataframe tbody tr th {\n",
       "        vertical-align: top;\n",
       "    }\n",
       "\n",
       "    .dataframe thead th {\n",
       "        text-align: right;\n",
       "    }\n",
       "</style>\n",
       "<table border=\"1\" class=\"dataframe\">\n",
       "  <thead>\n",
       "    <tr style=\"text-align: right;\">\n",
       "      <th></th>\n",
       "      <th>mean</th>\n",
       "      <th>std</th>\n",
       "    </tr>\n",
       "  </thead>\n",
       "  <tbody>\n",
       "    <tr>\n",
       "      <th>a</th>\n",
       "      <td>0</td>\n",
       "      <td>0</td>\n",
       "    </tr>\n",
       "    <tr>\n",
       "      <th>b</th>\n",
       "      <td>0</td>\n",
       "      <td>0</td>\n",
       "    </tr>\n",
       "    <tr>\n",
       "      <th>c</th>\n",
       "      <td>0</td>\n",
       "      <td>0</td>\n",
       "    </tr>\n",
       "    <tr>\n",
       "      <th>d</th>\n",
       "      <td>0</td>\n",
       "      <td>0</td>\n",
       "    </tr>\n",
       "  </tbody>\n",
       "</table>\n",
       "</div>"
      ],
      "text/plain": [
       "   mean  std\n",
       "a     0    0\n",
       "b     0    0\n",
       "c     0    0\n",
       "d     0    0"
      ]
     },
     "execution_count": 223,
     "metadata": {},
     "output_type": "execute_result"
    }
   ],
   "source": [
    "x = np.zeros((4,2), dtype=np.integer)\n",
    "df = pd.DataFrame(x, columns=['mean', 'std'], index=['a', 'b', 'c', 'd'])\n",
    "df"
   ]
  },
  {
   "cell_type": "code",
   "execution_count": 254,
   "metadata": {},
   "outputs": [
    {
     "data": {
      "text/plain": [
       "2015-12-31    1.000000\n",
       "2016-12-31    1.428571\n",
       "2017-12-31    1.111111\n",
       "2018-12-31    1.250000\n",
       "2019-12-31    1.000000\n",
       "dtype: float64"
      ]
     },
     "execution_count": 254,
     "metadata": {},
     "output_type": "execute_result"
    }
   ],
   "source": [
    "df_tech_txs.sum(axis=1)+df_tech_txs.sum(axis=1)\n",
    "df_tech_txs['AAPL'] = 10\n",
    "df_tech_txs.AAPL / df_tech_txs.INTC"
   ]
  }
 ],
 "metadata": {
  "kernelspec": {
   "display_name": "Python 3",
   "language": "python",
   "name": "python3"
  },
  "language_info": {
   "codemirror_mode": {
    "name": "ipython",
    "version": 3
   },
   "file_extension": ".py",
   "mimetype": "text/x-python",
   "name": "python",
   "nbconvert_exporter": "python",
   "pygments_lexer": "ipython3",
   "version": "3.7.6"
  }
 },
 "nbformat": 4,
 "nbformat_minor": 4
}
